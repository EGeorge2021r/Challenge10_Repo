{
 "cells": [
  {
   "cell_type": "markdown",
   "metadata": {},
   "source": [
    "# Module 10 Application\n",
    "\n",
    "## Challenge: Crypto Clustering\n",
    "\n",
    "In this Challenge, you’ll combine your financial Python programming skills with the new unsupervised learning skills that you acquired in this module.\n",
    "\n",
    "The CSV file provided for this challenge contains price change data of cryptocurrencies in different periods.\n",
    "\n",
    "The steps for this challenge are broken out into the following sections:\n",
    "\n",
    "* Import the Data (provided in the starter code)\n",
    "* Prepare the Data (provided in the starter code)\n",
    "* Find the Best Value for `k` Using the Original Data\n",
    "* Cluster Cryptocurrencies with K-means Using the Original Data\n",
    "* Optimize Clusters with Principal Component Analysis\n",
    "* Find the Best Value for `k` Using the PCA Data\n",
    "* Cluster the Cryptocurrencies with K-means Using the PCA Data\n",
    "* Visualize and Compare the Results"
   ]
  },
  {
   "cell_type": "markdown",
   "metadata": {},
   "source": [
    "### Import the Data\n",
    "\n",
    "This section imports the data into a new DataFrame. It follows these steps:\n",
    "\n",
    "1. Read  the “crypto_market_data.csv” file from the Resources folder into a DataFrame, and use `index_col=\"coin_id\"` to set the cryptocurrency name as the index. Review the DataFrame.\n",
    "\n",
    "2. Generate the summary statistics, and use HvPlot to visualize your data to observe what your DataFrame contains.\n",
    "\n",
    "\n",
    "> **Rewind:** The [Pandas`describe()`function](https://pandas.pydata.org/pandas-docs/stable/reference/api/pandas.DataFrame.describe.html) generates summary statistics for a DataFrame. "
   ]
  },
  {
   "cell_type": "code",
   "execution_count": 367,
   "metadata": {},
   "outputs": [],
   "source": [
    "# Import required libraries and dependencies\n",
    "import pandas as pd\n",
    "import hvplot.pandas\n",
    "from path import Path\n",
    "from sklearn.cluster import KMeans\n",
    "from sklearn.decomposition import PCA\n",
    "from sklearn.preprocessing import StandardScaler"
   ]
  },
  {
   "cell_type": "code",
   "execution_count": 368,
   "metadata": {},
   "outputs": [
    {
     "data": {
      "text/html": [
       "<div>\n",
       "<style scoped>\n",
       "    .dataframe tbody tr th:only-of-type {\n",
       "        vertical-align: middle;\n",
       "    }\n",
       "\n",
       "    .dataframe tbody tr th {\n",
       "        vertical-align: top;\n",
       "    }\n",
       "\n",
       "    .dataframe thead th {\n",
       "        text-align: right;\n",
       "    }\n",
       "</style>\n",
       "<table border=\"1\" class=\"dataframe\">\n",
       "  <thead>\n",
       "    <tr style=\"text-align: right;\">\n",
       "      <th></th>\n",
       "      <th>price_change_percentage_24h</th>\n",
       "      <th>price_change_percentage_7d</th>\n",
       "      <th>price_change_percentage_14d</th>\n",
       "      <th>price_change_percentage_30d</th>\n",
       "      <th>price_change_percentage_60d</th>\n",
       "      <th>price_change_percentage_200d</th>\n",
       "      <th>price_change_percentage_1y</th>\n",
       "    </tr>\n",
       "    <tr>\n",
       "      <th>coin_id</th>\n",
       "      <th></th>\n",
       "      <th></th>\n",
       "      <th></th>\n",
       "      <th></th>\n",
       "      <th></th>\n",
       "      <th></th>\n",
       "      <th></th>\n",
       "    </tr>\n",
       "  </thead>\n",
       "  <tbody>\n",
       "    <tr>\n",
       "      <th>bitcoin</th>\n",
       "      <td>1.08388</td>\n",
       "      <td>7.60278</td>\n",
       "      <td>6.57509</td>\n",
       "      <td>7.67258</td>\n",
       "      <td>-3.25185</td>\n",
       "      <td>83.51840</td>\n",
       "      <td>37.51761</td>\n",
       "    </tr>\n",
       "    <tr>\n",
       "      <th>ethereum</th>\n",
       "      <td>0.22392</td>\n",
       "      <td>10.38134</td>\n",
       "      <td>4.80849</td>\n",
       "      <td>0.13169</td>\n",
       "      <td>-12.88890</td>\n",
       "      <td>186.77418</td>\n",
       "      <td>101.96023</td>\n",
       "    </tr>\n",
       "    <tr>\n",
       "      <th>tether</th>\n",
       "      <td>-0.21173</td>\n",
       "      <td>0.04935</td>\n",
       "      <td>0.00640</td>\n",
       "      <td>-0.04237</td>\n",
       "      <td>0.28037</td>\n",
       "      <td>-0.00542</td>\n",
       "      <td>0.01954</td>\n",
       "    </tr>\n",
       "    <tr>\n",
       "      <th>ripple</th>\n",
       "      <td>-0.37819</td>\n",
       "      <td>-0.60926</td>\n",
       "      <td>2.24984</td>\n",
       "      <td>0.23455</td>\n",
       "      <td>-17.55245</td>\n",
       "      <td>39.53888</td>\n",
       "      <td>-16.60193</td>\n",
       "    </tr>\n",
       "    <tr>\n",
       "      <th>bitcoin-cash</th>\n",
       "      <td>2.90585</td>\n",
       "      <td>17.09717</td>\n",
       "      <td>14.75334</td>\n",
       "      <td>15.74903</td>\n",
       "      <td>-13.71793</td>\n",
       "      <td>21.66042</td>\n",
       "      <td>14.49384</td>\n",
       "    </tr>\n",
       "    <tr>\n",
       "      <th>binancecoin</th>\n",
       "      <td>2.10423</td>\n",
       "      <td>12.85511</td>\n",
       "      <td>6.80688</td>\n",
       "      <td>0.05865</td>\n",
       "      <td>36.33486</td>\n",
       "      <td>155.61937</td>\n",
       "      <td>69.69195</td>\n",
       "    </tr>\n",
       "    <tr>\n",
       "      <th>chainlink</th>\n",
       "      <td>-0.23935</td>\n",
       "      <td>20.69459</td>\n",
       "      <td>9.30098</td>\n",
       "      <td>-11.21747</td>\n",
       "      <td>-43.69522</td>\n",
       "      <td>403.22917</td>\n",
       "      <td>325.13186</td>\n",
       "    </tr>\n",
       "    <tr>\n",
       "      <th>cardano</th>\n",
       "      <td>0.00322</td>\n",
       "      <td>13.99302</td>\n",
       "      <td>5.55476</td>\n",
       "      <td>10.10553</td>\n",
       "      <td>-22.84776</td>\n",
       "      <td>264.51418</td>\n",
       "      <td>156.09756</td>\n",
       "    </tr>\n",
       "    <tr>\n",
       "      <th>litecoin</th>\n",
       "      <td>-0.06341</td>\n",
       "      <td>6.60221</td>\n",
       "      <td>7.28931</td>\n",
       "      <td>1.21662</td>\n",
       "      <td>-17.23960</td>\n",
       "      <td>27.49919</td>\n",
       "      <td>-12.66408</td>\n",
       "    </tr>\n",
       "    <tr>\n",
       "      <th>bitcoin-cash-sv</th>\n",
       "      <td>0.92530</td>\n",
       "      <td>3.29641</td>\n",
       "      <td>-1.86656</td>\n",
       "      <td>2.88926</td>\n",
       "      <td>-24.87434</td>\n",
       "      <td>7.42562</td>\n",
       "      <td>93.73082</td>\n",
       "    </tr>\n",
       "  </tbody>\n",
       "</table>\n",
       "</div>"
      ],
      "text/plain": [
       "                 price_change_percentage_24h  price_change_percentage_7d  \\\n",
       "coin_id                                                                    \n",
       "bitcoin                              1.08388                     7.60278   \n",
       "ethereum                             0.22392                    10.38134   \n",
       "tether                              -0.21173                     0.04935   \n",
       "ripple                              -0.37819                    -0.60926   \n",
       "bitcoin-cash                         2.90585                    17.09717   \n",
       "binancecoin                          2.10423                    12.85511   \n",
       "chainlink                           -0.23935                    20.69459   \n",
       "cardano                              0.00322                    13.99302   \n",
       "litecoin                            -0.06341                     6.60221   \n",
       "bitcoin-cash-sv                      0.92530                     3.29641   \n",
       "\n",
       "                 price_change_percentage_14d  price_change_percentage_30d  \\\n",
       "coin_id                                                                     \n",
       "bitcoin                              6.57509                      7.67258   \n",
       "ethereum                             4.80849                      0.13169   \n",
       "tether                               0.00640                     -0.04237   \n",
       "ripple                               2.24984                      0.23455   \n",
       "bitcoin-cash                        14.75334                     15.74903   \n",
       "binancecoin                          6.80688                      0.05865   \n",
       "chainlink                            9.30098                    -11.21747   \n",
       "cardano                              5.55476                     10.10553   \n",
       "litecoin                             7.28931                      1.21662   \n",
       "bitcoin-cash-sv                     -1.86656                      2.88926   \n",
       "\n",
       "                 price_change_percentage_60d  price_change_percentage_200d  \\\n",
       "coin_id                                                                      \n",
       "bitcoin                             -3.25185                      83.51840   \n",
       "ethereum                           -12.88890                     186.77418   \n",
       "tether                               0.28037                      -0.00542   \n",
       "ripple                             -17.55245                      39.53888   \n",
       "bitcoin-cash                       -13.71793                      21.66042   \n",
       "binancecoin                         36.33486                     155.61937   \n",
       "chainlink                          -43.69522                     403.22917   \n",
       "cardano                            -22.84776                     264.51418   \n",
       "litecoin                           -17.23960                      27.49919   \n",
       "bitcoin-cash-sv                    -24.87434                       7.42562   \n",
       "\n",
       "                 price_change_percentage_1y  \n",
       "coin_id                                      \n",
       "bitcoin                            37.51761  \n",
       "ethereum                          101.96023  \n",
       "tether                              0.01954  \n",
       "ripple                            -16.60193  \n",
       "bitcoin-cash                       14.49384  \n",
       "binancecoin                        69.69195  \n",
       "chainlink                         325.13186  \n",
       "cardano                           156.09756  \n",
       "litecoin                          -12.66408  \n",
       "bitcoin-cash-sv                    93.73082  "
      ]
     },
     "execution_count": 368,
     "metadata": {},
     "output_type": "execute_result"
    }
   ],
   "source": [
    "# Load the data into a Pandas DataFrame\n",
    "df_market_data = pd.read_csv(\n",
    "    Path(\"Resources/crypto_market_data.csv\"),\n",
    "    index_col=\"coin_id\")\n",
    "\n",
    "# Display sample data\n",
    "df_market_data.head(10)"
   ]
  },
  {
   "cell_type": "code",
   "execution_count": 369,
   "metadata": {},
   "outputs": [
    {
     "data": {
      "text/html": [
       "<div>\n",
       "<style scoped>\n",
       "    .dataframe tbody tr th:only-of-type {\n",
       "        vertical-align: middle;\n",
       "    }\n",
       "\n",
       "    .dataframe tbody tr th {\n",
       "        vertical-align: top;\n",
       "    }\n",
       "\n",
       "    .dataframe thead th {\n",
       "        text-align: right;\n",
       "    }\n",
       "</style>\n",
       "<table border=\"1\" class=\"dataframe\">\n",
       "  <thead>\n",
       "    <tr style=\"text-align: right;\">\n",
       "      <th></th>\n",
       "      <th>price_change_percentage_24h</th>\n",
       "      <th>price_change_percentage_7d</th>\n",
       "      <th>price_change_percentage_14d</th>\n",
       "      <th>price_change_percentage_30d</th>\n",
       "      <th>price_change_percentage_60d</th>\n",
       "      <th>price_change_percentage_200d</th>\n",
       "      <th>price_change_percentage_1y</th>\n",
       "    </tr>\n",
       "  </thead>\n",
       "  <tbody>\n",
       "    <tr>\n",
       "      <th>count</th>\n",
       "      <td>41.000000</td>\n",
       "      <td>41.000000</td>\n",
       "      <td>41.000000</td>\n",
       "      <td>41.000000</td>\n",
       "      <td>41.000000</td>\n",
       "      <td>41.000000</td>\n",
       "      <td>41.000000</td>\n",
       "    </tr>\n",
       "    <tr>\n",
       "      <th>mean</th>\n",
       "      <td>-0.269686</td>\n",
       "      <td>4.497147</td>\n",
       "      <td>0.185787</td>\n",
       "      <td>1.545693</td>\n",
       "      <td>-0.094119</td>\n",
       "      <td>236.537432</td>\n",
       "      <td>347.667956</td>\n",
       "    </tr>\n",
       "    <tr>\n",
       "      <th>std</th>\n",
       "      <td>2.694793</td>\n",
       "      <td>6.375218</td>\n",
       "      <td>8.376939</td>\n",
       "      <td>26.344218</td>\n",
       "      <td>47.365803</td>\n",
       "      <td>435.225304</td>\n",
       "      <td>1247.842884</td>\n",
       "    </tr>\n",
       "    <tr>\n",
       "      <th>min</th>\n",
       "      <td>-13.527860</td>\n",
       "      <td>-6.094560</td>\n",
       "      <td>-18.158900</td>\n",
       "      <td>-34.705480</td>\n",
       "      <td>-44.822480</td>\n",
       "      <td>-0.392100</td>\n",
       "      <td>-17.567530</td>\n",
       "    </tr>\n",
       "    <tr>\n",
       "      <th>25%</th>\n",
       "      <td>-0.608970</td>\n",
       "      <td>0.047260</td>\n",
       "      <td>-5.026620</td>\n",
       "      <td>-10.438470</td>\n",
       "      <td>-25.907990</td>\n",
       "      <td>21.660420</td>\n",
       "      <td>0.406170</td>\n",
       "    </tr>\n",
       "    <tr>\n",
       "      <th>50%</th>\n",
       "      <td>-0.063410</td>\n",
       "      <td>3.296410</td>\n",
       "      <td>0.109740</td>\n",
       "      <td>-0.042370</td>\n",
       "      <td>-7.544550</td>\n",
       "      <td>83.905200</td>\n",
       "      <td>69.691950</td>\n",
       "    </tr>\n",
       "    <tr>\n",
       "      <th>75%</th>\n",
       "      <td>0.612090</td>\n",
       "      <td>7.602780</td>\n",
       "      <td>5.510740</td>\n",
       "      <td>4.578130</td>\n",
       "      <td>0.657260</td>\n",
       "      <td>216.177610</td>\n",
       "      <td>168.372510</td>\n",
       "    </tr>\n",
       "    <tr>\n",
       "      <th>max</th>\n",
       "      <td>4.840330</td>\n",
       "      <td>20.694590</td>\n",
       "      <td>24.239190</td>\n",
       "      <td>140.795700</td>\n",
       "      <td>223.064370</td>\n",
       "      <td>2227.927820</td>\n",
       "      <td>7852.089700</td>\n",
       "    </tr>\n",
       "  </tbody>\n",
       "</table>\n",
       "</div>"
      ],
      "text/plain": [
       "       price_change_percentage_24h  price_change_percentage_7d  \\\n",
       "count                    41.000000                   41.000000   \n",
       "mean                     -0.269686                    4.497147   \n",
       "std                       2.694793                    6.375218   \n",
       "min                     -13.527860                   -6.094560   \n",
       "25%                      -0.608970                    0.047260   \n",
       "50%                      -0.063410                    3.296410   \n",
       "75%                       0.612090                    7.602780   \n",
       "max                       4.840330                   20.694590   \n",
       "\n",
       "       price_change_percentage_14d  price_change_percentage_30d  \\\n",
       "count                    41.000000                    41.000000   \n",
       "mean                      0.185787                     1.545693   \n",
       "std                       8.376939                    26.344218   \n",
       "min                     -18.158900                   -34.705480   \n",
       "25%                      -5.026620                   -10.438470   \n",
       "50%                       0.109740                    -0.042370   \n",
       "75%                       5.510740                     4.578130   \n",
       "max                      24.239190                   140.795700   \n",
       "\n",
       "       price_change_percentage_60d  price_change_percentage_200d  \\\n",
       "count                    41.000000                     41.000000   \n",
       "mean                     -0.094119                    236.537432   \n",
       "std                      47.365803                    435.225304   \n",
       "min                     -44.822480                     -0.392100   \n",
       "25%                     -25.907990                     21.660420   \n",
       "50%                      -7.544550                     83.905200   \n",
       "75%                       0.657260                    216.177610   \n",
       "max                     223.064370                   2227.927820   \n",
       "\n",
       "       price_change_percentage_1y  \n",
       "count                   41.000000  \n",
       "mean                   347.667956  \n",
       "std                   1247.842884  \n",
       "min                    -17.567530  \n",
       "25%                      0.406170  \n",
       "50%                     69.691950  \n",
       "75%                    168.372510  \n",
       "max                   7852.089700  "
      ]
     },
     "execution_count": 369,
     "metadata": {},
     "output_type": "execute_result"
    }
   ],
   "source": [
    "# Generate summary statistics\n",
    "df_market_data.describe()"
   ]
  },
  {
   "cell_type": "code",
   "execution_count": 370,
   "metadata": {},
   "outputs": [
    {
     "data": {},
     "metadata": {},
     "output_type": "display_data"
    },
    {
     "data": {
      "application/vnd.holoviews_exec.v0+json": "",
      "text/html": [
       "<div id='17233'>\n",
       "\n",
       "\n",
       "\n",
       "\n",
       "\n",
       "  <div class=\"bk-root\" id=\"78d1cf83-b6aa-45ff-bc8c-c044875e3774\" data-root-id=\"17233\"></div>\n",
       "</div>\n",
       "<script type=\"application/javascript\">(function(root) {\n",
       "  function embed_document(root) {\n",
       "    var docs_json = {\"03964ddf-69f6-4fa2-9568-3ec51a1fda2b\":{\"defs\":[{\"extends\":null,\"module\":null,\"name\":\"ReactiveHTML1\",\"overrides\":[],\"properties\":[]},{\"extends\":null,\"module\":null,\"name\":\"FlexBox1\",\"overrides\":[],\"properties\":[{\"default\":\"flex-start\",\"kind\":null,\"name\":\"align_content\"},{\"default\":\"flex-start\",\"kind\":null,\"name\":\"align_items\"},{\"default\":\"row\",\"kind\":null,\"name\":\"flex_direction\"},{\"default\":\"wrap\",\"kind\":null,\"name\":\"flex_wrap\"},{\"default\":\"flex-start\",\"kind\":null,\"name\":\"justify_content\"}]},{\"extends\":null,\"module\":null,\"name\":\"TemplateActions1\",\"overrides\":[],\"properties\":[{\"default\":0,\"kind\":null,\"name\":\"open_modal\"},{\"default\":0,\"kind\":null,\"name\":\"close_modal\"}]},{\"extends\":null,\"module\":null,\"name\":\"MaterialTemplateActions1\",\"overrides\":[],\"properties\":[{\"default\":0,\"kind\":null,\"name\":\"open_modal\"},{\"default\":0,\"kind\":null,\"name\":\"close_modal\"}]}],\"roots\":{\"references\":[{\"attributes\":{},\"id\":\"17274\",\"type\":\"CategoricalTickFormatter\"},{\"attributes\":{\"line_alpha\":0.1,\"line_color\":\"#6d904f\",\"line_width\":2,\"x\":{\"field\":\"coin_id\"},\"y\":{\"field\":\"value\"}},\"id\":\"17350\",\"type\":\"Line\"},{\"attributes\":{},\"id\":\"17251\",\"type\":\"LinearScale\"},{\"attributes\":{\"data_source\":{\"id\":\"17300\"},\"glyph\":{\"id\":\"17303\"},\"hover_glyph\":null,\"muted_glyph\":{\"id\":\"17305\"},\"nonselection_glyph\":{\"id\":\"17304\"},\"selection_glyph\":{\"id\":\"17321\"},\"view\":{\"id\":\"17307\"}},\"id\":\"17306\",\"type\":\"GlyphRenderer\"},{\"attributes\":{\"data_source\":{\"id\":\"17346\"},\"glyph\":{\"id\":\"17349\"},\"hover_glyph\":null,\"muted_glyph\":{\"id\":\"17351\"},\"nonselection_glyph\":{\"id\":\"17350\"},\"selection_glyph\":{\"id\":\"17371\"},\"view\":{\"id\":\"17353\"}},\"id\":\"17352\",\"type\":\"GlyphRenderer\"},{\"attributes\":{\"source\":{\"id\":\"17372\"}},\"id\":\"17379\",\"type\":\"CDSView\"},{\"attributes\":{\"axis\":{\"id\":\"17256\"},\"dimension\":1,\"grid_line_color\":null,\"ticker\":null},\"id\":\"17259\",\"type\":\"Grid\"},{\"attributes\":{\"data\":{\"Variable\":[\"price_change_percentage_14d\",\"price_change_percentage_14d\",\"price_change_percentage_14d\",\"price_change_percentage_14d\",\"price_change_percentage_14d\",\"price_change_percentage_14d\",\"price_change_percentage_14d\",\"price_change_percentage_14d\",\"price_change_percentage_14d\",\"price_change_percentage_14d\",\"price_change_percentage_14d\",\"price_change_percentage_14d\",\"price_change_percentage_14d\",\"price_change_percentage_14d\",\"price_change_percentage_14d\",\"price_change_percentage_14d\",\"price_change_percentage_14d\",\"price_change_percentage_14d\",\"price_change_percentage_14d\",\"price_change_percentage_14d\",\"price_change_percentage_14d\",\"price_change_percentage_14d\",\"price_change_percentage_14d\",\"price_change_percentage_14d\",\"price_change_percentage_14d\",\"price_change_percentage_14d\",\"price_change_percentage_14d\",\"price_change_percentage_14d\",\"price_change_percentage_14d\",\"price_change_percentage_14d\",\"price_change_percentage_14d\",\"price_change_percentage_14d\",\"price_change_percentage_14d\",\"price_change_percentage_14d\",\"price_change_percentage_14d\",\"price_change_percentage_14d\",\"price_change_percentage_14d\",\"price_change_percentage_14d\",\"price_change_percentage_14d\",\"price_change_percentage_14d\",\"price_change_percentage_14d\"],\"coin_id\":[\"bitcoin\",\"ethereum\",\"tether\",\"ripple\",\"bitcoin-cash\",\"binancecoin\",\"chainlink\",\"cardano\",\"litecoin\",\"bitcoin-cash-sv\",\"crypto-com-chain\",\"usd-coin\",\"eos\",\"monero\",\"tron\",\"tezos\",\"okb\",\"stellar\",\"cosmos\",\"cdai\",\"neo\",\"wrapped-bitcoin\",\"leo-token\",\"huobi-token\",\"nem\",\"binance-usd\",\"iota\",\"vechain\",\"zcash\",\"theta-token\",\"dash\",\"ethereum-classic\",\"ethlend\",\"maker\",\"havven\",\"omisego\",\"celsius-degree-token\",\"ontology\",\"ftx-token\",\"true-usd\",\"digibyte\"],\"value\":{\"__ndarray__\":\"zQaZZORMGkB5knTN5DsTQC1DHOviNno/ctwpHaz/AUCLic3HtYEtQJgvL8A+OhtACoDxDBqaIkAOhGQBEzgWQICfceFAKB1AIVnABG7d/b8xsfm4NhQhwGtI3GPpQ3e/pfeNrz0z8j8ao3VUNWkyQBUA4xk0dPY/VIzzN6GQAkCXrfVFQhsUwKpla32RUPG/Qgkzbf8KFkDPg7uzdtvFP8MN+PwwsiPAYFlpUgo6GkB3+GuyRh0cwM2v5gDBHN0/jliLTwEwBUDWrZ6T3jeuP7pOIy2VNw7Am1Wfq60oMsAJM23/yioXQJfK2xFOSxrAQE0tW+uL4D9OucK7XET0v0SLbOf7mSPA/pqsUQ/R978vaYzWUZUqwDtT6LzGbirAvodLjjs9OEByUMJM2x8lwJ30vvG1Z8q/ZCMQr+sXvD+7D0BqE0cdwA==\",\"dtype\":\"float64\",\"order\":\"little\",\"shape\":[41]}},\"selected\":{\"id\":\"17323\"},\"selection_policy\":{\"id\":\"17342\"}},\"id\":\"17322\",\"type\":\"ColumnDataSource\"},{\"attributes\":{\"line_alpha\":0.2,\"line_color\":\"#17becf\",\"line_width\":2,\"x\":{\"field\":\"coin_id\"},\"y\":{\"field\":\"value\"}},\"id\":\"17405\",\"type\":\"Line\"},{\"attributes\":{\"line_color\":\"#30a2da\",\"line_width\":2,\"x\":{\"field\":\"coin_id\"},\"y\":{\"field\":\"value\"}},\"id\":\"17282\",\"type\":\"Line\"},{\"attributes\":{\"source\":{\"id\":\"17322\"}},\"id\":\"17329\",\"type\":\"CDSView\"},{\"attributes\":{\"line_color\":\"#e5ae38\",\"line_width\":2,\"x\":{\"field\":\"coin_id\"},\"y\":{\"field\":\"value\"}},\"id\":\"17345\",\"type\":\"Line\"},{\"attributes\":{},\"id\":\"17401\",\"type\":\"Selection\"},{\"attributes\":{\"line_alpha\":0.1,\"line_color\":\"#fc4f30\",\"line_width\":2,\"x\":{\"field\":\"coin_id\"},\"y\":{\"field\":\"value\"}},\"id\":\"17304\",\"type\":\"Line\"},{\"attributes\":{\"data\":{\"Variable\":[\"price_change_percentage_1y\",\"price_change_percentage_1y\",\"price_change_percentage_1y\",\"price_change_percentage_1y\",\"price_change_percentage_1y\",\"price_change_percentage_1y\",\"price_change_percentage_1y\",\"price_change_percentage_1y\",\"price_change_percentage_1y\",\"price_change_percentage_1y\",\"price_change_percentage_1y\",\"price_change_percentage_1y\",\"price_change_percentage_1y\",\"price_change_percentage_1y\",\"price_change_percentage_1y\",\"price_change_percentage_1y\",\"price_change_percentage_1y\",\"price_change_percentage_1y\",\"price_change_percentage_1y\",\"price_change_percentage_1y\",\"price_change_percentage_1y\",\"price_change_percentage_1y\",\"price_change_percentage_1y\",\"price_change_percentage_1y\",\"price_change_percentage_1y\",\"price_change_percentage_1y\",\"price_change_percentage_1y\",\"price_change_percentage_1y\",\"price_change_percentage_1y\",\"price_change_percentage_1y\",\"price_change_percentage_1y\",\"price_change_percentage_1y\",\"price_change_percentage_1y\",\"price_change_percentage_1y\",\"price_change_percentage_1y\",\"price_change_percentage_1y\",\"price_change_percentage_1y\",\"price_change_percentage_1y\",\"price_change_percentage_1y\",\"price_change_percentage_1y\",\"price_change_percentage_1y\"],\"coin_id\":[\"bitcoin\",\"ethereum\",\"tether\",\"ripple\",\"bitcoin-cash\",\"binancecoin\",\"chainlink\",\"cardano\",\"litecoin\",\"bitcoin-cash-sv\",\"crypto-com-chain\",\"usd-coin\",\"eos\",\"monero\",\"tron\",\"tezos\",\"okb\",\"stellar\",\"cosmos\",\"cdai\",\"neo\",\"wrapped-bitcoin\",\"leo-token\",\"huobi-token\",\"nem\",\"binance-usd\",\"iota\",\"vechain\",\"zcash\",\"theta-token\",\"dash\",\"ethereum-classic\",\"ethlend\",\"maker\",\"havven\",\"omisego\",\"celsius-degree-token\",\"ontology\",\"ftx-token\",\"true-usd\",\"digibyte\"],\"value\":{\"__ndarray__\":\"kQpjC0HCQkDWqIdodH1ZQN/42jNLApQ/NXugFRiaMMDN6bKY2PwsQOcdp+hIbFFAaTo7GRxSdEC6LCY2H4NjQPnaM0sCVCnA0NA/wcVuV0CQvd798RBzQL4wmSoYlci/t39lpUmRMcDovMYuUaFhQEPKT6p9nk1A6PaSxmiAYUBdUN8yp75hQMzuycNCnStAw7ZFmQ2cVEAHsTOFzmvSvx/0bFZ9aWBAhhvw+WHEQkAN/RNcrAA1QN8Vwf9WkjhAS7A4nPkWaUAVUn5S7dPBPzUk7rH04Q/AIsMq3shbaUBf0hito7hUQPyMCwcC64VAzsKedvirA8Dwoq8gzTgmQHRGlPYWrL5Ayk+qfTpOJUDfiVkvRjaFQEfJq3MMC3RAnFCIgONmn0CsVib8Uk8pwNttF5rrC2VAyXGndLD+2T/ZfFwbKgxnQA==\",\"dtype\":\"float64\",\"order\":\"little\",\"shape\":[41]}},\"selected\":{\"id\":\"17431\"},\"selection_policy\":{\"id\":\"17458\"}},\"id\":\"17430\",\"type\":\"ColumnDataSource\"},{\"attributes\":{\"line_color\":\"#8b8b8b\",\"line_width\":2,\"x\":{\"field\":\"coin_id\"},\"y\":{\"field\":\"value\"}},\"id\":\"17399\",\"type\":\"Line\"},{\"attributes\":{\"label\":{\"value\":\"price_change_percentage_1y\"},\"renderers\":[{\"id\":\"17436\"}]},\"id\":\"17460\",\"type\":\"LegendItem\"},{\"attributes\":{\"line_alpha\":0.2,\"line_color\":\"#fc4f30\",\"line_width\":2,\"x\":{\"field\":\"coin_id\"},\"y\":{\"field\":\"value\"}},\"id\":\"17305\",\"type\":\"Line\"},{\"attributes\":{},\"id\":\"17295\",\"type\":\"UnionRenderers\"},{\"attributes\":{},\"id\":\"17373\",\"type\":\"Selection\"},{\"attributes\":{\"data\":{\"Variable\":[\"price_change_percentage_200d\",\"price_change_percentage_200d\",\"price_change_percentage_200d\",\"price_change_percentage_200d\",\"price_change_percentage_200d\",\"price_change_percentage_200d\",\"price_change_percentage_200d\",\"price_change_percentage_200d\",\"price_change_percentage_200d\",\"price_change_percentage_200d\",\"price_change_percentage_200d\",\"price_change_percentage_200d\",\"price_change_percentage_200d\",\"price_change_percentage_200d\",\"price_change_percentage_200d\",\"price_change_percentage_200d\",\"price_change_percentage_200d\",\"price_change_percentage_200d\",\"price_change_percentage_200d\",\"price_change_percentage_200d\",\"price_change_percentage_200d\",\"price_change_percentage_200d\",\"price_change_percentage_200d\",\"price_change_percentage_200d\",\"price_change_percentage_200d\",\"price_change_percentage_200d\",\"price_change_percentage_200d\",\"price_change_percentage_200d\",\"price_change_percentage_200d\",\"price_change_percentage_200d\",\"price_change_percentage_200d\",\"price_change_percentage_200d\",\"price_change_percentage_200d\",\"price_change_percentage_200d\",\"price_change_percentage_200d\",\"price_change_percentage_200d\",\"price_change_percentage_200d\",\"price_change_percentage_200d\",\"price_change_percentage_200d\",\"price_change_percentage_200d\",\"price_change_percentage_200d\"],\"coin_id\":[\"bitcoin\",\"ethereum\",\"tether\",\"ripple\",\"bitcoin-cash\",\"binancecoin\",\"chainlink\",\"cardano\",\"litecoin\",\"bitcoin-cash-sv\",\"crypto-com-chain\",\"usd-coin\",\"eos\",\"monero\",\"tron\",\"tezos\",\"okb\",\"stellar\",\"cosmos\",\"cdai\",\"neo\",\"wrapped-bitcoin\",\"leo-token\",\"huobi-token\",\"nem\",\"binance-usd\",\"iota\",\"vechain\",\"zcash\",\"theta-token\",\"dash\",\"ethereum-classic\",\"ethlend\",\"maker\",\"havven\",\"omisego\",\"celsius-degree-token\",\"ontology\",\"ftx-token\",\"true-usd\",\"digibyte\"],\"value\":{\"__ndarray__\":\"xY8xdy3hVED0piIVxlhnQBe86CtIM3a/9zsUBfrEQ0DTn/1IEak1QPTDCOHRc2NAl3MprqozeUAexM4UOohwQIB9dOrKfztAFhiyutWzHUCN7iB2plZsQIQqNXugFcS/ZHWr56QPMkALe9rhrzBlQH+8V61MnGBA5nlwd9a2RUARHm0csfpDQC+Lic3HJ1VAkj8YeO4/Z0AOvjCZKhjZv2vUQzS61GNAtRX7y+75VEC5GW7A52cwQAPso1NXHkVAKa4q+64Fa0A7NgLxun65P+TaUDHOwVdAyM1wAz7bcEAFwHgGDaNeQH3Qs1k1lYtAOUVHcvnvGEANGvonuMgkQCYZOQvbZ6FAGD4ipkSiVED5MeauZXeDQHi0ccQaSoJAC170FcTYmEB1PGagMmJLQC2yne+nvkxAndfYJaq3tr9R9wFIbSl+QA==\",\"dtype\":\"float64\",\"order\":\"little\",\"shape\":[41]}},\"selected\":{\"id\":\"17401\"},\"selection_policy\":{\"id\":\"17426\"}},\"id\":\"17400\",\"type\":\"ColumnDataSource\"},{\"attributes\":{},\"id\":\"17262\",\"type\":\"WheelZoomTool\"},{\"attributes\":{\"active_multi\":null,\"tools\":[{\"id\":\"17237\"},{\"id\":\"17260\"},{\"id\":\"17261\"},{\"id\":\"17262\"},{\"id\":\"17263\"},{\"id\":\"17264\"}]},\"id\":\"17266\",\"type\":\"Toolbar\"},{\"attributes\":{\"line_color\":\"#fc4f30\",\"line_width\":2,\"x\":{\"field\":\"coin_id\"},\"y\":{\"field\":\"value\"}},\"id\":\"17303\",\"type\":\"Line\"},{\"attributes\":{\"line_alpha\":0.2,\"line_color\":\"#9467bd\",\"line_width\":2,\"x\":{\"field\":\"coin_id\"},\"y\":{\"field\":\"value\"}},\"id\":\"17435\",\"type\":\"Line\"},{\"attributes\":{\"overlay\":{\"id\":\"17265\"}},\"id\":\"17263\",\"type\":\"BoxZoomTool\"},{\"attributes\":{},\"id\":\"17260\",\"type\":\"SaveTool\"},{\"attributes\":{},\"id\":\"17261\",\"type\":\"PanTool\"},{\"attributes\":{},\"id\":\"17264\",\"type\":\"ResetTool\"},{\"attributes\":{\"line_color\":\"#17becf\",\"line_width\":2,\"x\":{\"field\":\"coin_id\"},\"y\":{\"field\":\"value\"}},\"id\":\"17403\",\"type\":\"Line\"},{\"attributes\":{\"line_alpha\":0.1,\"line_color\":\"#8b8b8b\",\"line_width\":2,\"x\":{\"field\":\"coin_id\"},\"y\":{\"field\":\"value\"}},\"id\":\"17376\",\"type\":\"Line\"},{\"attributes\":{\"line_color\":\"#9467bd\",\"line_width\":2,\"x\":{\"field\":\"coin_id\"},\"y\":{\"field\":\"value\"}},\"id\":\"17461\",\"type\":\"Line\"},{\"attributes\":{},\"id\":\"17431\",\"type\":\"Selection\"},{\"attributes\":{\"label\":{\"value\":\"price_change_percentage_24h\"},\"renderers\":[{\"id\":\"17285\"}]},\"id\":\"17298\",\"type\":\"LegendItem\"},{\"attributes\":{\"label\":{\"value\":\"price_change_percentage_30d\"},\"renderers\":[{\"id\":\"17352\"}]},\"id\":\"17370\",\"type\":\"LegendItem\"},{\"attributes\":{\"source\":{\"id\":\"17430\"}},\"id\":\"17437\",\"type\":\"CDSView\"},{\"attributes\":{\"line_color\":\"#9467bd\",\"line_width\":2,\"x\":{\"field\":\"coin_id\"},\"y\":{\"field\":\"value\"}},\"id\":\"17433\",\"type\":\"Line\"},{\"attributes\":{},\"id\":\"17280\",\"type\":\"Selection\"},{\"attributes\":{\"data_source\":{\"id\":\"17430\"},\"glyph\":{\"id\":\"17433\"},\"hover_glyph\":null,\"muted_glyph\":{\"id\":\"17435\"},\"nonselection_glyph\":{\"id\":\"17434\"},\"selection_glyph\":{\"id\":\"17461\"},\"view\":{\"id\":\"17437\"}},\"id\":\"17436\",\"type\":\"GlyphRenderer\"},{\"attributes\":{},\"id\":\"17301\",\"type\":\"Selection\"},{\"attributes\":{\"data\":{\"Variable\":[\"price_change_percentage_7d\",\"price_change_percentage_7d\",\"price_change_percentage_7d\",\"price_change_percentage_7d\",\"price_change_percentage_7d\",\"price_change_percentage_7d\",\"price_change_percentage_7d\",\"price_change_percentage_7d\",\"price_change_percentage_7d\",\"price_change_percentage_7d\",\"price_change_percentage_7d\",\"price_change_percentage_7d\",\"price_change_percentage_7d\",\"price_change_percentage_7d\",\"price_change_percentage_7d\",\"price_change_percentage_7d\",\"price_change_percentage_7d\",\"price_change_percentage_7d\",\"price_change_percentage_7d\",\"price_change_percentage_7d\",\"price_change_percentage_7d\",\"price_change_percentage_7d\",\"price_change_percentage_7d\",\"price_change_percentage_7d\",\"price_change_percentage_7d\",\"price_change_percentage_7d\",\"price_change_percentage_7d\",\"price_change_percentage_7d\",\"price_change_percentage_7d\",\"price_change_percentage_7d\",\"price_change_percentage_7d\",\"price_change_percentage_7d\",\"price_change_percentage_7d\",\"price_change_percentage_7d\",\"price_change_percentage_7d\",\"price_change_percentage_7d\",\"price_change_percentage_7d\",\"price_change_percentage_7d\",\"price_change_percentage_7d\",\"price_change_percentage_7d\",\"price_change_percentage_7d\"],\"coin_id\":[\"bitcoin\",\"ethereum\",\"tether\",\"ripple\",\"bitcoin-cash\",\"binancecoin\",\"chainlink\",\"cardano\",\"litecoin\",\"bitcoin-cash-sv\",\"crypto-com-chain\",\"usd-coin\",\"eos\",\"monero\",\"tron\",\"tezos\",\"okb\",\"stellar\",\"cosmos\",\"cdai\",\"neo\",\"wrapped-bitcoin\",\"leo-token\",\"huobi-token\",\"nem\",\"binance-usd\",\"iota\",\"vechain\",\"zcash\",\"theta-token\",\"dash\",\"ethereum-classic\",\"ethlend\",\"maker\",\"havven\",\"omisego\",\"celsius-degree-token\",\"ontology\",\"ftx-token\",\"true-usd\",\"digibyte\"],\"value\":{\"__ndarray__\":\"RbsKKT9pHkAzUBn/PsMkQL99HThnRKk/yVnY0w5/47/+JhQi4BgxQBL3WPrQtSlA7yB2ptCxNEA/jBAebfwrQPFL/bypaBpArKjBNAxfCkByv0NRoK8WwPlJtU/HY76/lPsdigL99L+n6Egu/5EvQE1KQbeX9BBA0m9fB87pIUBlU67wLjcSwKbtX1lpkgBAZwqd19gVMEBcIEHxY8ytP3wnZr0YigNAOh4zUBmfHUD3Hi457pT1vzNQGf8+4/k/kQ96Nqs+6781Y9F0djKoP2dEaW/wRRhAgXhdv2A3/L/8GHPXErIkQP8JLlbUYBjAVU0QdR9gFEDRlnMprmoIQGCrBIvD2RBAAiuHFtlOIECbG9MTllgRQKhXyjLEURtAqn06HjNQ4z+UvDrHgGzzvwltOZfiahxAsD2zJEBNxT8yj/zBwHPlPw==\",\"dtype\":\"float64\",\"order\":\"little\",\"shape\":[41]}},\"selected\":{\"id\":\"17301\"},\"selection_policy\":{\"id\":\"17318\"}},\"id\":\"17300\",\"type\":\"ColumnDataSource\"},{\"attributes\":{\"data\":{\"Variable\":[\"price_change_percentage_30d\",\"price_change_percentage_30d\",\"price_change_percentage_30d\",\"price_change_percentage_30d\",\"price_change_percentage_30d\",\"price_change_percentage_30d\",\"price_change_percentage_30d\",\"price_change_percentage_30d\",\"price_change_percentage_30d\",\"price_change_percentage_30d\",\"price_change_percentage_30d\",\"price_change_percentage_30d\",\"price_change_percentage_30d\",\"price_change_percentage_30d\",\"price_change_percentage_30d\",\"price_change_percentage_30d\",\"price_change_percentage_30d\",\"price_change_percentage_30d\",\"price_change_percentage_30d\",\"price_change_percentage_30d\",\"price_change_percentage_30d\",\"price_change_percentage_30d\",\"price_change_percentage_30d\",\"price_change_percentage_30d\",\"price_change_percentage_30d\",\"price_change_percentage_30d\",\"price_change_percentage_30d\",\"price_change_percentage_30d\",\"price_change_percentage_30d\",\"price_change_percentage_30d\",\"price_change_percentage_30d\",\"price_change_percentage_30d\",\"price_change_percentage_30d\",\"price_change_percentage_30d\",\"price_change_percentage_30d\",\"price_change_percentage_30d\",\"price_change_percentage_30d\",\"price_change_percentage_30d\",\"price_change_percentage_30d\",\"price_change_percentage_30d\",\"price_change_percentage_30d\"],\"coin_id\":[\"bitcoin\",\"ethereum\",\"tether\",\"ripple\",\"bitcoin-cash\",\"binancecoin\",\"chainlink\",\"cardano\",\"litecoin\",\"bitcoin-cash-sv\",\"crypto-com-chain\",\"usd-coin\",\"eos\",\"monero\",\"tron\",\"tezos\",\"okb\",\"stellar\",\"cosmos\",\"cdai\",\"neo\",\"wrapped-bitcoin\",\"leo-token\",\"huobi-token\",\"nem\",\"binance-usd\",\"iota\",\"vechain\",\"zcash\",\"theta-token\",\"dash\",\"ethereum-classic\",\"ethlend\",\"maker\",\"havven\",\"omisego\",\"celsius-degree-token\",\"ontology\",\"ftx-token\",\"true-usd\",\"digibyte\"],\"value\":{\"__ndarray__\":\"VMa/z7iwHkAl6ZrJN9vAP/28qUiFsaW/L26jAbwFzj8dcjPcgH8vQPMf0m9fB64/5bhTOlhvJsBnfjUHCDYkQGWNeohGd/M/sCDNWDQdB0Cmft5UpHIxwJgvL8A+OsW/t0WZDTKJEsDeVKTC2HpDQEzD8BExNSnAjWK5pdVALMDjjcwjf+AkwIrIsIo3QiDAjliLTwFQEkAWpBmLpnMBwE3WqIdo9DXAVG8NbJWAHUAnMQisHJoIQGA8g4b+CQrACcTr+gU7DcCPpQ9dUN+SP80Bgjl6nBDA9S1zuixWLMBC7Eyh83odQEku/yH9bj9AtTf4wmQqH8Am/FI/byoHQNjYJaq3/j3A9GxWfa62MECdRloqb9c0wF4R/G8lOyLArK3YX3aZYUC1/SsrTVpBwP/PYb68ICXAFR3J5T+knz+ndLD+z4EqQA==\",\"dtype\":\"float64\",\"order\":\"little\",\"shape\":[41]}},\"selected\":{\"id\":\"17347\"},\"selection_policy\":{\"id\":\"17368\"}},\"id\":\"17346\",\"type\":\"ColumnDataSource\"},{\"attributes\":{\"bottom_units\":\"screen\",\"fill_alpha\":0.5,\"fill_color\":\"lightgrey\",\"left_units\":\"screen\",\"level\":\"overlay\",\"line_alpha\":1.0,\"line_color\":\"black\",\"line_dash\":[4,4],\"line_width\":2,\"right_units\":\"screen\",\"syncable\":false,\"top_units\":\"screen\"},\"id\":\"17265\",\"type\":\"BoxAnnotation\"},{\"attributes\":{\"axis_label\":\"\",\"formatter\":{\"id\":\"17277\"},\"major_label_policy\":{\"id\":\"17278\"},\"ticker\":{\"id\":\"17257\"}},\"id\":\"17256\",\"type\":\"LinearAxis\"},{\"attributes\":{\"line_alpha\":0.2,\"line_color\":\"#6d904f\",\"line_width\":2,\"x\":{\"field\":\"coin_id\"},\"y\":{\"field\":\"value\"}},\"id\":\"17351\",\"type\":\"Line\"},{\"attributes\":{\"line_color\":\"#30a2da\",\"line_width\":2,\"x\":{\"field\":\"coin_id\"},\"y\":{\"field\":\"value\"}},\"id\":\"17299\",\"type\":\"Line\"},{\"attributes\":{\"data_source\":{\"id\":\"17400\"},\"glyph\":{\"id\":\"17403\"},\"hover_glyph\":null,\"muted_glyph\":{\"id\":\"17405\"},\"nonselection_glyph\":{\"id\":\"17404\"},\"selection_glyph\":{\"id\":\"17429\"},\"view\":{\"id\":\"17407\"}},\"id\":\"17406\",\"type\":\"GlyphRenderer\"},{\"attributes\":{},\"id\":\"17396\",\"type\":\"UnionRenderers\"},{\"attributes\":{\"source\":{\"id\":\"17400\"}},\"id\":\"17407\",\"type\":\"CDSView\"},{\"attributes\":{\"click_policy\":\"mute\",\"items\":[{\"id\":\"17298\"},{\"id\":\"17320\"},{\"id\":\"17344\"},{\"id\":\"17370\"},{\"id\":\"17398\"},{\"id\":\"17428\"},{\"id\":\"17460\"}],\"location\":[0,0],\"title\":\"Variable\"},\"id\":\"17297\",\"type\":\"Legend\"},{\"attributes\":{\"line_color\":\"#8b8b8b\",\"line_width\":2,\"x\":{\"field\":\"coin_id\"},\"y\":{\"field\":\"value\"}},\"id\":\"17375\",\"type\":\"Line\"},{\"attributes\":{\"line_color\":\"#fc4f30\",\"line_width\":2,\"x\":{\"field\":\"coin_id\"},\"y\":{\"field\":\"value\"}},\"id\":\"17321\",\"type\":\"Line\"},{\"attributes\":{\"data\":{\"Variable\":[\"price_change_percentage_24h\",\"price_change_percentage_24h\",\"price_change_percentage_24h\",\"price_change_percentage_24h\",\"price_change_percentage_24h\",\"price_change_percentage_24h\",\"price_change_percentage_24h\",\"price_change_percentage_24h\",\"price_change_percentage_24h\",\"price_change_percentage_24h\",\"price_change_percentage_24h\",\"price_change_percentage_24h\",\"price_change_percentage_24h\",\"price_change_percentage_24h\",\"price_change_percentage_24h\",\"price_change_percentage_24h\",\"price_change_percentage_24h\",\"price_change_percentage_24h\",\"price_change_percentage_24h\",\"price_change_percentage_24h\",\"price_change_percentage_24h\",\"price_change_percentage_24h\",\"price_change_percentage_24h\",\"price_change_percentage_24h\",\"price_change_percentage_24h\",\"price_change_percentage_24h\",\"price_change_percentage_24h\",\"price_change_percentage_24h\",\"price_change_percentage_24h\",\"price_change_percentage_24h\",\"price_change_percentage_24h\",\"price_change_percentage_24h\",\"price_change_percentage_24h\",\"price_change_percentage_24h\",\"price_change_percentage_24h\",\"price_change_percentage_24h\",\"price_change_percentage_24h\",\"price_change_percentage_24h\",\"price_change_percentage_24h\",\"price_change_percentage_24h\",\"price_change_percentage_24h\"],\"coin_id\":[\"bitcoin\",\"ethereum\",\"tether\",\"ripple\",\"bitcoin-cash\",\"binancecoin\",\"chainlink\",\"cardano\",\"litecoin\",\"bitcoin-cash-sv\",\"crypto-com-chain\",\"usd-coin\",\"eos\",\"monero\",\"tron\",\"tezos\",\"okb\",\"stellar\",\"cosmos\",\"cdai\",\"neo\",\"wrapped-bitcoin\",\"leo-token\",\"huobi-token\",\"nem\",\"binance-usd\",\"iota\",\"vechain\",\"zcash\",\"theta-token\",\"dash\",\"ethereum-classic\",\"ethlend\",\"maker\",\"havven\",\"omisego\",\"celsius-degree-token\",\"ontology\",\"ftx-token\",\"true-usd\",\"digibyte\"],\"value\":{\"__ndarray__\":\"nZ0MjpJX8T8MzXUaaanMP5mByvj3Gcu/wCZr1EM02L8ep+hILj8HQL0Yyol21QBAwhcmUwWjzr//CS5W1GBqP7JGPUSjO7C/QKTfvg6c7T8urYbEPZbjPzeJQWDl0Ma/1pC4x9KHwj87NgLxun7bP90HILWJk7M/JjYf14aK5b83iUFg5dAFwG3i5H6HIvC/5nlwd9Zu7r9i83FtqBjLP+iHEcKjjd8/M9yAzw+j8T/fGtgqweLAv+RmuAGfH9q/UdobfGEy678D7KNTVz67v8YzaOif4No/teBFX0Ga9D8G2Eenrnzjvx+duvJZPhLAoMN8eQH28L+cxCCwcmjdv667eapDDivAX5hMFYxK479EUaBP5EkQwAZkr3d/XBNA0JuKVBgbBEDqBDQRNrz1vxo09E9wseo/tI6qJoi6r79qMA3DR8QHQA==\",\"dtype\":\"float64\",\"order\":\"little\",\"shape\":[41]}},\"selected\":{\"id\":\"17280\"},\"selection_policy\":{\"id\":\"17295\"}},\"id\":\"17279\",\"type\":\"ColumnDataSource\"},{\"attributes\":{\"line_color\":\"#17becf\",\"line_width\":2,\"x\":{\"field\":\"coin_id\"},\"y\":{\"field\":\"value\"}},\"id\":\"17429\",\"type\":\"Line\"},{\"attributes\":{},\"id\":\"17278\",\"type\":\"AllLabels\"},{\"attributes\":{\"source\":{\"id\":\"17300\"}},\"id\":\"17307\",\"type\":\"CDSView\"},{\"attributes\":{},\"id\":\"17368\",\"type\":\"UnionRenderers\"},{\"attributes\":{\"end\":8641.780918,\"reset_end\":8641.780918,\"reset_start\":-834.5136980000001,\"start\":-834.5136980000001,\"tags\":[[[\"value\",\"value\",null]]]},\"id\":\"17236\",\"type\":\"Range1d\"},{\"attributes\":{\"source\":{\"id\":\"17279\"}},\"id\":\"17286\",\"type\":\"CDSView\"},{\"attributes\":{},\"id\":\"17277\",\"type\":\"BasicTickFormatter\"},{\"attributes\":{},\"id\":\"17249\",\"type\":\"CategoricalScale\"},{\"attributes\":{\"line_alpha\":0.1,\"line_color\":\"#17becf\",\"line_width\":2,\"x\":{\"field\":\"coin_id\"},\"y\":{\"field\":\"value\"}},\"id\":\"17404\",\"type\":\"Line\"},{\"attributes\":{\"line_alpha\":0.2,\"line_color\":\"#e5ae38\",\"line_width\":2,\"x\":{\"field\":\"coin_id\"},\"y\":{\"field\":\"value\"}},\"id\":\"17327\",\"type\":\"Line\"},{\"attributes\":{\"line_color\":\"#6d904f\",\"line_width\":2,\"x\":{\"field\":\"coin_id\"},\"y\":{\"field\":\"value\"}},\"id\":\"17349\",\"type\":\"Line\"},{\"attributes\":{},\"id\":\"17342\",\"type\":\"UnionRenderers\"},{\"attributes\":{\"factors\":[\"bitcoin\",\"ethereum\",\"tether\",\"ripple\",\"bitcoin-cash\",\"binancecoin\",\"chainlink\",\"cardano\",\"litecoin\",\"bitcoin-cash-sv\",\"crypto-com-chain\",\"usd-coin\",\"eos\",\"monero\",\"tron\",\"tezos\",\"okb\",\"stellar\",\"cosmos\",\"cdai\",\"neo\",\"wrapped-bitcoin\",\"leo-token\",\"huobi-token\",\"nem\",\"binance-usd\",\"iota\",\"vechain\",\"zcash\",\"theta-token\",\"dash\",\"ethereum-classic\",\"ethlend\",\"maker\",\"havven\",\"omisego\",\"celsius-degree-token\",\"ontology\",\"ftx-token\",\"true-usd\",\"digibyte\"],\"tags\":[[[\"coin_id\",\"coin_id\",null]]]},\"id\":\"17235\",\"type\":\"FactorRange\"},{\"attributes\":{},\"id\":\"17458\",\"type\":\"UnionRenderers\"},{\"attributes\":{\"below\":[{\"id\":\"17253\"}],\"center\":[{\"id\":\"17255\"},{\"id\":\"17259\"}],\"height\":400,\"left\":[{\"id\":\"17256\"}],\"margin\":[5,5,5,5],\"min_border_bottom\":10,\"min_border_left\":10,\"min_border_right\":10,\"min_border_top\":10,\"renderers\":[{\"id\":\"17285\"},{\"id\":\"17306\"},{\"id\":\"17328\"},{\"id\":\"17352\"},{\"id\":\"17378\"},{\"id\":\"17406\"},{\"id\":\"17436\"}],\"right\":[{\"id\":\"17297\"}],\"sizing_mode\":\"fixed\",\"title\":{\"id\":\"17245\"},\"toolbar\":{\"id\":\"17266\"},\"width\":800,\"x_range\":{\"id\":\"17235\"},\"x_scale\":{\"id\":\"17249\"},\"y_range\":{\"id\":\"17236\"},\"y_scale\":{\"id\":\"17251\"}},\"id\":\"17244\",\"subtype\":\"Figure\",\"type\":\"Plot\"},{\"attributes\":{},\"id\":\"17254\",\"type\":\"CategoricalTicker\"},{\"attributes\":{\"source\":{\"id\":\"17346\"}},\"id\":\"17353\",\"type\":\"CDSView\"},{\"attributes\":{\"line_color\":\"#6d904f\",\"line_width\":2,\"x\":{\"field\":\"coin_id\"},\"y\":{\"field\":\"value\"}},\"id\":\"17371\",\"type\":\"Line\"},{\"attributes\":{},\"id\":\"17347\",\"type\":\"Selection\"},{\"attributes\":{\"label\":{\"value\":\"price_change_percentage_60d\"},\"renderers\":[{\"id\":\"17378\"}]},\"id\":\"17398\",\"type\":\"LegendItem\"},{\"attributes\":{\"label\":{\"value\":\"price_change_percentage_14d\"},\"renderers\":[{\"id\":\"17328\"}]},\"id\":\"17344\",\"type\":\"LegendItem\"},{\"attributes\":{\"axis_label\":\"coin_id\",\"formatter\":{\"id\":\"17274\"},\"major_label_orientation\":1.5707963267948966,\"major_label_policy\":{\"id\":\"17275\"},\"ticker\":{\"id\":\"17254\"}},\"id\":\"17253\",\"type\":\"CategoricalAxis\"},{\"attributes\":{\"line_color\":\"#e5ae38\",\"line_width\":2,\"x\":{\"field\":\"coin_id\"},\"y\":{\"field\":\"value\"}},\"id\":\"17325\",\"type\":\"Line\"},{\"attributes\":{\"data_source\":{\"id\":\"17372\"},\"glyph\":{\"id\":\"17375\"},\"hover_glyph\":null,\"muted_glyph\":{\"id\":\"17377\"},\"nonselection_glyph\":{\"id\":\"17376\"},\"selection_glyph\":{\"id\":\"17399\"},\"view\":{\"id\":\"17379\"}},\"id\":\"17378\",\"type\":\"GlyphRenderer\"},{\"attributes\":{\"line_alpha\":0.1,\"line_color\":\"#30a2da\",\"line_width\":2,\"x\":{\"field\":\"coin_id\"},\"y\":{\"field\":\"value\"}},\"id\":\"17283\",\"type\":\"Line\"},{\"attributes\":{\"margin\":[5,5,5,5],\"name\":\"HSpacer35729\",\"sizing_mode\":\"stretch_width\"},\"id\":\"17660\",\"type\":\"Spacer\"},{\"attributes\":{},\"id\":\"17323\",\"type\":\"Selection\"},{\"attributes\":{},\"id\":\"17426\",\"type\":\"UnionRenderers\"},{\"attributes\":{\"callback\":null,\"renderers\":[{\"id\":\"17285\"},{\"id\":\"17306\"},{\"id\":\"17328\"},{\"id\":\"17352\"},{\"id\":\"17378\"},{\"id\":\"17406\"},{\"id\":\"17436\"}],\"tags\":[\"hv_created\"],\"tooltips\":[[\"Variable\",\"@{Variable}\"],[\"coin_id\",\"@{coin_id}\"],[\"value\",\"@{value}\"]]},\"id\":\"17237\",\"type\":\"HoverTool\"},{\"attributes\":{\"children\":[{\"id\":\"17234\"},{\"id\":\"17244\"},{\"id\":\"17660\"}],\"margin\":[0,0,0,0],\"name\":\"Row35724\",\"tags\":[\"embedded\"]},\"id\":\"17233\",\"type\":\"Row\"},{\"attributes\":{\"data\":{\"Variable\":[\"price_change_percentage_60d\",\"price_change_percentage_60d\",\"price_change_percentage_60d\",\"price_change_percentage_60d\",\"price_change_percentage_60d\",\"price_change_percentage_60d\",\"price_change_percentage_60d\",\"price_change_percentage_60d\",\"price_change_percentage_60d\",\"price_change_percentage_60d\",\"price_change_percentage_60d\",\"price_change_percentage_60d\",\"price_change_percentage_60d\",\"price_change_percentage_60d\",\"price_change_percentage_60d\",\"price_change_percentage_60d\",\"price_change_percentage_60d\",\"price_change_percentage_60d\",\"price_change_percentage_60d\",\"price_change_percentage_60d\",\"price_change_percentage_60d\",\"price_change_percentage_60d\",\"price_change_percentage_60d\",\"price_change_percentage_60d\",\"price_change_percentage_60d\",\"price_change_percentage_60d\",\"price_change_percentage_60d\",\"price_change_percentage_60d\",\"price_change_percentage_60d\",\"price_change_percentage_60d\",\"price_change_percentage_60d\",\"price_change_percentage_60d\",\"price_change_percentage_60d\",\"price_change_percentage_60d\",\"price_change_percentage_60d\",\"price_change_percentage_60d\",\"price_change_percentage_60d\",\"price_change_percentage_60d\",\"price_change_percentage_60d\",\"price_change_percentage_60d\",\"price_change_percentage_60d\"],\"coin_id\":[\"bitcoin\",\"ethereum\",\"tether\",\"ripple\",\"bitcoin-cash\",\"binancecoin\",\"chainlink\",\"cardano\",\"litecoin\",\"bitcoin-cash-sv\",\"crypto-com-chain\",\"usd-coin\",\"eos\",\"monero\",\"tron\",\"tezos\",\"okb\",\"stellar\",\"cosmos\",\"cdai\",\"neo\",\"wrapped-bitcoin\",\"leo-token\",\"huobi-token\",\"nem\",\"binance-usd\",\"iota\",\"vechain\",\"zcash\",\"theta-token\",\"dash\",\"ethereum-classic\",\"ethlend\",\"maker\",\"havven\",\"omisego\",\"celsius-degree-token\",\"ontology\",\"ftx-token\",\"true-usd\",\"digibyte\"],\"value\":{\"__ndarray__\":\"FvvL7skDCsAs1JrmHccpwKjjMQOV8dE/2qz6XG2NMcBzol2FlG8rwIleRrHcKkJAN8MN+PzYRcBi26LMBtk2wCEf9GxWPTHAq5UJv9TfOMBg5dAi23kwwDygbMoV3qU/l631RUIrPsDNzMzMzNxEQJm7lpAPGhZAms5OBkdpRsBKe4MvTKYGwEsfuqC+zT7APL1SliHOHMC4AZ8fRgjlP9L7xteeCStAFqQZi6azDMCvJeSDni0ewDeOWItPQQvAXvQVpBm3VEDaOGItPgW4PwpLPKBsQkHAaw4QzNHPRcAJM23/yoo0wBmQvd79AVRAfa62Yn85OsBVGFsIcug5wLCsNCkFHQFA529CIQKeMsA0uoPYmbZDwPKwUGua0VNA/pqsUQ/ia0Ao8iTpmllAwFuxv+yenBdAmrFoOjsZ0D8s1JrmHRc/wA==\",\"dtype\":\"float64\",\"order\":\"little\",\"shape\":[41]}},\"selected\":{\"id\":\"17373\"},\"selection_policy\":{\"id\":\"17396\"}},\"id\":\"17372\",\"type\":\"ColumnDataSource\"},{\"attributes\":{\"text_color\":\"black\",\"text_font_size\":\"12pt\"},\"id\":\"17245\",\"type\":\"Title\"},{\"attributes\":{\"axis\":{\"id\":\"17253\"},\"grid_line_color\":null,\"ticker\":null},\"id\":\"17255\",\"type\":\"Grid\"},{\"attributes\":{\"margin\":[5,5,5,5],\"name\":\"HSpacer35728\",\"sizing_mode\":\"stretch_width\"},\"id\":\"17234\",\"type\":\"Spacer\"},{\"attributes\":{\"line_alpha\":0.2,\"line_color\":\"#30a2da\",\"line_width\":2,\"x\":{\"field\":\"coin_id\"},\"y\":{\"field\":\"value\"}},\"id\":\"17284\",\"type\":\"Line\"},{\"attributes\":{\"data_source\":{\"id\":\"17322\"},\"glyph\":{\"id\":\"17325\"},\"hover_glyph\":null,\"muted_glyph\":{\"id\":\"17327\"},\"nonselection_glyph\":{\"id\":\"17326\"},\"selection_glyph\":{\"id\":\"17345\"},\"view\":{\"id\":\"17329\"}},\"id\":\"17328\",\"type\":\"GlyphRenderer\"},{\"attributes\":{\"label\":{\"value\":\"price_change_percentage_200d\"},\"renderers\":[{\"id\":\"17406\"}]},\"id\":\"17428\",\"type\":\"LegendItem\"},{\"attributes\":{\"line_alpha\":0.1,\"line_color\":\"#9467bd\",\"line_width\":2,\"x\":{\"field\":\"coin_id\"},\"y\":{\"field\":\"value\"}},\"id\":\"17434\",\"type\":\"Line\"},{\"attributes\":{\"data_source\":{\"id\":\"17279\"},\"glyph\":{\"id\":\"17282\"},\"hover_glyph\":null,\"muted_glyph\":{\"id\":\"17284\"},\"nonselection_glyph\":{\"id\":\"17283\"},\"selection_glyph\":{\"id\":\"17299\"},\"view\":{\"id\":\"17286\"}},\"id\":\"17285\",\"type\":\"GlyphRenderer\"},{\"attributes\":{\"line_alpha\":0.1,\"line_color\":\"#e5ae38\",\"line_width\":2,\"x\":{\"field\":\"coin_id\"},\"y\":{\"field\":\"value\"}},\"id\":\"17326\",\"type\":\"Line\"},{\"attributes\":{},\"id\":\"17318\",\"type\":\"UnionRenderers\"},{\"attributes\":{},\"id\":\"17257\",\"type\":\"BasicTicker\"},{\"attributes\":{\"line_alpha\":0.2,\"line_color\":\"#8b8b8b\",\"line_width\":2,\"x\":{\"field\":\"coin_id\"},\"y\":{\"field\":\"value\"}},\"id\":\"17377\",\"type\":\"Line\"},{\"attributes\":{},\"id\":\"17275\",\"type\":\"AllLabels\"},{\"attributes\":{\"label\":{\"value\":\"price_change_percentage_7d\"},\"renderers\":[{\"id\":\"17306\"}]},\"id\":\"17320\",\"type\":\"LegendItem\"}],\"root_ids\":[\"17233\"]},\"title\":\"Bokeh Application\",\"version\":\"2.3.2\"}};\n",
       "    var render_items = [{\"docid\":\"03964ddf-69f6-4fa2-9568-3ec51a1fda2b\",\"root_ids\":[\"17233\"],\"roots\":{\"17233\":\"78d1cf83-b6aa-45ff-bc8c-c044875e3774\"}}];\n",
       "    root.Bokeh.embed.embed_items_notebook(docs_json, render_items);\n",
       "  }\n",
       "  if (root.Bokeh !== undefined && root.Bokeh.Panel !== undefined) {\n",
       "    embed_document(root);\n",
       "  } else {\n",
       "    var attempts = 0;\n",
       "    var timer = setInterval(function(root) {\n",
       "      if (root.Bokeh !== undefined && root.Bokeh.Panel !== undefined) {\n",
       "        clearInterval(timer);\n",
       "        embed_document(root);\n",
       "      } else if (document.readyState == \"complete\") {\n",
       "        attempts++;\n",
       "        if (attempts > 200) {\n",
       "          clearInterval(timer);\n",
       "          console.log(\"Bokeh: ERROR: Unable to run BokehJS code because BokehJS library is missing\");\n",
       "        }\n",
       "      }\n",
       "    }, 25, root)\n",
       "  }\n",
       "})(window);</script>"
      ],
      "text/plain": [
       ":NdOverlay   [Variable]\n",
       "   :Curve   [coin_id]   (value)"
      ]
     },
     "execution_count": 370,
     "metadata": {
      "application/vnd.holoviews_exec.v0+json": {
       "id": "17233"
      }
     },
     "output_type": "execute_result"
    }
   ],
   "source": [
    "# Plot your data to see what's in your DataFrame\n",
    "df_market_data.hvplot.line(\n",
    "    width=800,\n",
    "    height=400,\n",
    "    rot=90\n",
    ")"
   ]
  },
  {
   "cell_type": "markdown",
   "metadata": {},
   "source": [
    "---"
   ]
  },
  {
   "cell_type": "markdown",
   "metadata": {},
   "source": [
    "### Prepare the Data\n",
    "\n",
    "This section prepares the data before running the K-Means algorithm. It follows these steps:\n",
    "\n",
    "1. Use the `StandardScaler` module from scikit-learn to normalize the CSV file data. This will require you to utilize the `fit_transform` function.\n",
    "\n",
    "2. Create a DataFrame that contains the scaled data. Be sure to set the `coin_id` index from the original DataFrame as the index for the new DataFrame. Review the resulting DataFrame.\n"
   ]
  },
  {
   "cell_type": "code",
   "execution_count": 371,
   "metadata": {},
   "outputs": [],
   "source": [
    "# Use the `StandardScaler()` module from scikit-learn to normalize the data from the CSV file\n",
    "scaled_data = StandardScaler().fit_transform(df_market_data)"
   ]
  },
  {
   "cell_type": "code",
   "execution_count": 372,
   "metadata": {},
   "outputs": [
    {
     "data": {
      "text/html": [
       "<div>\n",
       "<style scoped>\n",
       "    .dataframe tbody tr th:only-of-type {\n",
       "        vertical-align: middle;\n",
       "    }\n",
       "\n",
       "    .dataframe tbody tr th {\n",
       "        vertical-align: top;\n",
       "    }\n",
       "\n",
       "    .dataframe thead th {\n",
       "        text-align: right;\n",
       "    }\n",
       "</style>\n",
       "<table border=\"1\" class=\"dataframe\">\n",
       "  <thead>\n",
       "    <tr style=\"text-align: right;\">\n",
       "      <th></th>\n",
       "      <th>price_change_percentage_24h</th>\n",
       "      <th>price_change_percentage_7d</th>\n",
       "      <th>price_change_percentage_14d</th>\n",
       "      <th>price_change_percentage_30d</th>\n",
       "      <th>price_change_percentage_60d</th>\n",
       "      <th>price_change_percentage_200d</th>\n",
       "      <th>price_change_percentage_1y</th>\n",
       "    </tr>\n",
       "    <tr>\n",
       "      <th>coin_id</th>\n",
       "      <th></th>\n",
       "      <th></th>\n",
       "      <th></th>\n",
       "      <th></th>\n",
       "      <th></th>\n",
       "      <th></th>\n",
       "      <th></th>\n",
       "    </tr>\n",
       "  </thead>\n",
       "  <tbody>\n",
       "    <tr>\n",
       "      <th>bitcoin</th>\n",
       "      <td>0.508529</td>\n",
       "      <td>0.493193</td>\n",
       "      <td>0.772200</td>\n",
       "      <td>0.235460</td>\n",
       "      <td>-0.067495</td>\n",
       "      <td>-0.355953</td>\n",
       "      <td>-0.251637</td>\n",
       "    </tr>\n",
       "    <tr>\n",
       "      <th>ethereum</th>\n",
       "      <td>0.185446</td>\n",
       "      <td>0.934445</td>\n",
       "      <td>0.558692</td>\n",
       "      <td>-0.054341</td>\n",
       "      <td>-0.273483</td>\n",
       "      <td>-0.115759</td>\n",
       "      <td>-0.199352</td>\n",
       "    </tr>\n",
       "    <tr>\n",
       "      <th>tether</th>\n",
       "      <td>0.021774</td>\n",
       "      <td>-0.706337</td>\n",
       "      <td>-0.021680</td>\n",
       "      <td>-0.061030</td>\n",
       "      <td>0.008005</td>\n",
       "      <td>-0.550247</td>\n",
       "      <td>-0.282061</td>\n",
       "    </tr>\n",
       "    <tr>\n",
       "      <th>ripple</th>\n",
       "      <td>-0.040764</td>\n",
       "      <td>-0.810928</td>\n",
       "      <td>0.249458</td>\n",
       "      <td>-0.050388</td>\n",
       "      <td>-0.373164</td>\n",
       "      <td>-0.458259</td>\n",
       "      <td>-0.295546</td>\n",
       "    </tr>\n",
       "    <tr>\n",
       "      <th>bitcoin-cash</th>\n",
       "      <td>1.193036</td>\n",
       "      <td>2.000959</td>\n",
       "      <td>1.760610</td>\n",
       "      <td>0.545842</td>\n",
       "      <td>-0.291203</td>\n",
       "      <td>-0.499848</td>\n",
       "      <td>-0.270317</td>\n",
       "    </tr>\n",
       "  </tbody>\n",
       "</table>\n",
       "</div>"
      ],
      "text/plain": [
       "              price_change_percentage_24h  price_change_percentage_7d  \\\n",
       "coin_id                                                                 \n",
       "bitcoin                          0.508529                    0.493193   \n",
       "ethereum                         0.185446                    0.934445   \n",
       "tether                           0.021774                   -0.706337   \n",
       "ripple                          -0.040764                   -0.810928   \n",
       "bitcoin-cash                     1.193036                    2.000959   \n",
       "\n",
       "              price_change_percentage_14d  price_change_percentage_30d  \\\n",
       "coin_id                                                                  \n",
       "bitcoin                          0.772200                     0.235460   \n",
       "ethereum                         0.558692                    -0.054341   \n",
       "tether                          -0.021680                    -0.061030   \n",
       "ripple                           0.249458                    -0.050388   \n",
       "bitcoin-cash                     1.760610                     0.545842   \n",
       "\n",
       "              price_change_percentage_60d  price_change_percentage_200d  \\\n",
       "coin_id                                                                   \n",
       "bitcoin                         -0.067495                     -0.355953   \n",
       "ethereum                        -0.273483                     -0.115759   \n",
       "tether                           0.008005                     -0.550247   \n",
       "ripple                          -0.373164                     -0.458259   \n",
       "bitcoin-cash                    -0.291203                     -0.499848   \n",
       "\n",
       "              price_change_percentage_1y  \n",
       "coin_id                                   \n",
       "bitcoin                        -0.251637  \n",
       "ethereum                       -0.199352  \n",
       "tether                         -0.282061  \n",
       "ripple                         -0.295546  \n",
       "bitcoin-cash                   -0.270317  "
      ]
     },
     "execution_count": 372,
     "metadata": {},
     "output_type": "execute_result"
    }
   ],
   "source": [
    "# Create a DataFrame with the scaled data\n",
    "df_market_data_scaled = pd.DataFrame(\n",
    "    scaled_data,\n",
    "    columns=df_market_data.columns\n",
    ")\n",
    "\n",
    "# Copy the crypto names from the original data\n",
    "df_market_data_scaled[\"coin_id\"] = df_market_data.index\n",
    "\n",
    "# Set the coinid column as index\n",
    "df_market_data_scaled = df_market_data_scaled.set_index(\"coin_id\")\n",
    "\n",
    "# Display sample data\n",
    "df_market_data_scaled.head()"
   ]
  },
  {
   "cell_type": "markdown",
   "metadata": {},
   "source": [
    "---"
   ]
  },
  {
   "cell_type": "markdown",
   "metadata": {},
   "source": [
    "### Find the Best Value for k Using the Original Data\n",
    "\n",
    "In this section, you will use the elbow method to find the best value for `k`.\n",
    "\n",
    "1. Code the elbow method algorithm to find the best value for `k`. Use a range from 1 to 11. \n",
    "\n",
    "2. Plot a line chart with all the inertia values computed with the different values of `k` to visually identify the optimal value for `k`.\n",
    "\n",
    "3. Answer the following question: What is the best value for `k`?"
   ]
  },
  {
   "cell_type": "code",
   "execution_count": 373,
   "metadata": {},
   "outputs": [],
   "source": [
    "# Create a list with the number of k-values to try\n",
    "# Use a range from 1 to 11\n",
    "k = list(range(1, 11))"
   ]
  },
  {
   "cell_type": "code",
   "execution_count": 374,
   "metadata": {},
   "outputs": [],
   "source": [
    "# Create an empy list to store the inertia values\n",
    "inertia = []"
   ]
  },
  {
   "cell_type": "code",
   "execution_count": 375,
   "metadata": {},
   "outputs": [
    {
     "name": "stderr",
     "output_type": "stream",
     "text": [
      "C:\\Users\\egeor\\anaconda3\\envs\\pyviz\\lib\\site-packages\\sklearn\\cluster\\_kmeans.py:1040: UserWarning: KMeans is known to have a memory leak on Windows with MKL, when there are less chunks than available threads. You can avoid it by setting the environment variable OMP_NUM_THREADS=1.\n",
      "  \"KMeans is known to have a memory leak on Windows \"\n"
     ]
    }
   ],
   "source": [
    "# Create a for loop to compute the inertia with each possible value of k\n",
    "# Inside the loop:\n",
    "for i in k:\n",
    "    \n",
    "# 1. Create a KMeans model using the loop counter for the n_clusters\n",
    "    model = KMeans(n_clusters=i, random_state=0)\n",
    "    \n",
    "# 2. Fit the model to the data using `df_market_data_scaled`\n",
    "    model.fit(df_market_data_scaled)\n",
    "    \n",
    "# 3. Append the model.inertia_ to the inertia list\n",
    "    inertia.append(model.inertia_)"
   ]
  },
  {
   "cell_type": "code",
   "execution_count": 376,
   "metadata": {},
   "outputs": [],
   "source": [
    "# Create a dictionary with the data to plot the Elbow curve\n",
    "elbow_data = {\n",
    "    \"k\": k,\n",
    "    \"inertia\": inertia\n",
    "}\n",
    "\n",
    "# Create a DataFrame with the data to plot the elbow curve\n",
    "df1_elbow = pd.DataFrame(elbow_data)\n"
   ]
  },
  {
   "cell_type": "code",
   "execution_count": 377,
   "metadata": {},
   "outputs": [
    {
     "data": {},
     "metadata": {},
     "output_type": "display_data"
    },
    {
     "data": {
      "application/vnd.holoviews_exec.v0+json": "",
      "text/html": [
       "<div id='17772'>\n",
       "\n",
       "\n",
       "\n",
       "\n",
       "\n",
       "  <div class=\"bk-root\" id=\"90f925f3-33b4-40c9-a559-a9b165070210\" data-root-id=\"17772\"></div>\n",
       "</div>\n",
       "<script type=\"application/javascript\">(function(root) {\n",
       "  function embed_document(root) {\n",
       "    var docs_json = {\"bf883595-88eb-46ff-8533-5b4d94957fa4\":{\"defs\":[{\"extends\":null,\"module\":null,\"name\":\"ReactiveHTML1\",\"overrides\":[],\"properties\":[]},{\"extends\":null,\"module\":null,\"name\":\"FlexBox1\",\"overrides\":[],\"properties\":[{\"default\":\"flex-start\",\"kind\":null,\"name\":\"align_content\"},{\"default\":\"flex-start\",\"kind\":null,\"name\":\"align_items\"},{\"default\":\"row\",\"kind\":null,\"name\":\"flex_direction\"},{\"default\":\"wrap\",\"kind\":null,\"name\":\"flex_wrap\"},{\"default\":\"flex-start\",\"kind\":null,\"name\":\"justify_content\"}]},{\"extends\":null,\"module\":null,\"name\":\"TemplateActions1\",\"overrides\":[],\"properties\":[{\"default\":0,\"kind\":null,\"name\":\"open_modal\"},{\"default\":0,\"kind\":null,\"name\":\"close_modal\"}]},{\"extends\":null,\"module\":null,\"name\":\"MaterialTemplateActions1\",\"overrides\":[],\"properties\":[{\"default\":0,\"kind\":null,\"name\":\"open_modal\"},{\"default\":0,\"kind\":null,\"name\":\"close_modal\"}]}],\"roots\":{\"references\":[{\"attributes\":{\"data_source\":{\"id\":\"17807\"},\"glyph\":{\"id\":\"17810\"},\"hover_glyph\":null,\"muted_glyph\":{\"id\":\"17812\"},\"nonselection_glyph\":{\"id\":\"17811\"},\"selection_glyph\":{\"id\":\"17815\"},\"view\":{\"id\":\"17814\"}},\"id\":\"17813\",\"type\":\"GlyphRenderer\"},{\"attributes\":{\"ticks\":[1,2,3,4,5,6,7,8,9,10]},\"id\":\"17816\",\"type\":\"FixedTicker\"},{\"attributes\":{\"line_alpha\":0.1,\"line_color\":\"#30a2da\",\"line_width\":2,\"x\":{\"field\":\"k\"},\"y\":{\"field\":\"inertia\"}},\"id\":\"17811\",\"type\":\"Line\"},{\"attributes\":{\"children\":[{\"id\":\"17773\"},{\"id\":\"17777\"},{\"id\":\"17843\"}],\"margin\":[0,0,0,0],\"name\":\"Row36840\",\"tags\":[\"embedded\"]},\"id\":\"17772\",\"type\":\"Row\"},{\"attributes\":{},\"id\":\"17798\",\"type\":\"ResetTool\"},{\"attributes\":{},\"id\":\"17794\",\"type\":\"SaveTool\"},{\"attributes\":{\"axis_label\":\"inertia\",\"formatter\":{\"id\":\"17823\"},\"major_label_policy\":{\"id\":\"17824\"},\"ticker\":{\"id\":\"17791\"}},\"id\":\"17790\",\"type\":\"LinearAxis\"},{\"attributes\":{\"source\":{\"id\":\"17807\"}},\"id\":\"17814\",\"type\":\"CDSView\"},{\"attributes\":{\"end\":10.0,\"reset_end\":10.0,\"reset_start\":1.0,\"start\":1.0,\"tags\":[[[\"k\",\"k\",null]]]},\"id\":\"17774\",\"type\":\"Range1d\"},{\"attributes\":{\"line_color\":\"#30a2da\",\"line_width\":2,\"x\":{\"field\":\"k\"},\"y\":{\"field\":\"inertia\"}},\"id\":\"17810\",\"type\":\"Line\"},{\"attributes\":{\"data\":{\"inertia\":{\"__ndarray__\":\"AAAAAADwcUByhzI6P3poQOCRvNowzF5AF+6ulG/BU0BnEQsuWlNQQOXqC/e6cUpAiCebkxT1RUBu++EeLsJCQMB0IF8cPkBAineL7Q85PEA=\",\"dtype\":\"float64\",\"order\":\"little\",\"shape\":[10]},\"k\":[1,2,3,4,5,6,7,8,9,10]},\"selected\":{\"id\":\"17808\"},\"selection_policy\":{\"id\":\"17832\"}},\"id\":\"17807\",\"type\":\"ColumnDataSource\"},{\"attributes\":{\"text\":\"Elbow Curve\",\"text_color\":\"black\",\"text_font_size\":\"12pt\"},\"id\":\"17778\",\"type\":\"Title\"},{\"attributes\":{\"below\":[{\"id\":\"17786\"}],\"center\":[{\"id\":\"17789\"},{\"id\":\"17793\"}],\"height\":300,\"left\":[{\"id\":\"17790\"}],\"margin\":[5,5,5,5],\"min_border_bottom\":10,\"min_border_left\":10,\"min_border_right\":10,\"min_border_top\":10,\"renderers\":[{\"id\":\"17813\"}],\"sizing_mode\":\"fixed\",\"title\":{\"id\":\"17778\"},\"toolbar\":{\"id\":\"17800\"},\"width\":700,\"x_range\":{\"id\":\"17774\"},\"x_scale\":{\"id\":\"17782\"},\"y_range\":{\"id\":\"17775\"},\"y_scale\":{\"id\":\"17784\"}},\"id\":\"17777\",\"subtype\":\"Figure\",\"type\":\"Plot\"},{\"attributes\":{},\"id\":\"17819\",\"type\":\"AllLabels\"},{\"attributes\":{},\"id\":\"17782\",\"type\":\"LinearScale\"},{\"attributes\":{\"callback\":null,\"renderers\":[{\"id\":\"17813\"}],\"tags\":[\"hv_created\"],\"tooltips\":[[\"k\",\"@{k}\"],[\"inertia\",\"@{inertia}\"]]},\"id\":\"17776\",\"type\":\"HoverTool\"},{\"attributes\":{},\"id\":\"17795\",\"type\":\"PanTool\"},{\"attributes\":{\"overlay\":{\"id\":\"17799\"}},\"id\":\"17797\",\"type\":\"BoxZoomTool\"},{\"attributes\":{\"axis\":{\"id\":\"17786\"},\"grid_line_color\":null,\"ticker\":null},\"id\":\"17789\",\"type\":\"Grid\"},{\"attributes\":{},\"id\":\"17818\",\"type\":\"BasicTickFormatter\"},{\"attributes\":{\"end\":312.8777100709391,\"reset_end\":312.8777100709391,\"reset_start\":2.345189219669823,\"start\":2.345189219669823,\"tags\":[[[\"inertia\",\"inertia\",null]]]},\"id\":\"17775\",\"type\":\"Range1d\"},{\"attributes\":{\"margin\":[5,5,5,5],\"name\":\"HSpacer36844\",\"sizing_mode\":\"stretch_width\"},\"id\":\"17773\",\"type\":\"Spacer\"},{\"attributes\":{},\"id\":\"17796\",\"type\":\"WheelZoomTool\"},{\"attributes\":{},\"id\":\"17824\",\"type\":\"AllLabels\"},{\"attributes\":{\"line_alpha\":0.2,\"line_color\":\"#30a2da\",\"line_width\":2,\"x\":{\"field\":\"k\"},\"y\":{\"field\":\"inertia\"}},\"id\":\"17812\",\"type\":\"Line\"},{\"attributes\":{\"bottom_units\":\"screen\",\"fill_alpha\":0.5,\"fill_color\":\"lightgrey\",\"left_units\":\"screen\",\"level\":\"overlay\",\"line_alpha\":1.0,\"line_color\":\"black\",\"line_dash\":[4,4],\"line_width\":2,\"right_units\":\"screen\",\"syncable\":false,\"top_units\":\"screen\"},\"id\":\"17799\",\"type\":\"BoxAnnotation\"},{\"attributes\":{},\"id\":\"17808\",\"type\":\"Selection\"},{\"attributes\":{\"axis_label\":\"k\",\"formatter\":{\"id\":\"17818\"},\"major_label_policy\":{\"id\":\"17819\"},\"ticker\":{\"id\":\"17816\"}},\"id\":\"17786\",\"type\":\"LinearAxis\"},{\"attributes\":{\"active_multi\":null,\"tools\":[{\"id\":\"17776\"},{\"id\":\"17794\"},{\"id\":\"17795\"},{\"id\":\"17796\"},{\"id\":\"17797\"},{\"id\":\"17798\"}]},\"id\":\"17800\",\"type\":\"Toolbar\"},{\"attributes\":{\"axis\":{\"id\":\"17790\"},\"dimension\":1,\"grid_line_color\":null,\"ticker\":null},\"id\":\"17793\",\"type\":\"Grid\"},{\"attributes\":{},\"id\":\"17823\",\"type\":\"BasicTickFormatter\"},{\"attributes\":{\"line_color\":\"#30a2da\",\"line_width\":2,\"x\":{\"field\":\"k\"},\"y\":{\"field\":\"inertia\"}},\"id\":\"17815\",\"type\":\"Line\"},{\"attributes\":{},\"id\":\"17832\",\"type\":\"UnionRenderers\"},{\"attributes\":{\"margin\":[5,5,5,5],\"name\":\"HSpacer36845\",\"sizing_mode\":\"stretch_width\"},\"id\":\"17843\",\"type\":\"Spacer\"},{\"attributes\":{},\"id\":\"17791\",\"type\":\"BasicTicker\"},{\"attributes\":{},\"id\":\"17784\",\"type\":\"LinearScale\"}],\"root_ids\":[\"17772\"]},\"title\":\"Bokeh Application\",\"version\":\"2.3.2\"}};\n",
       "    var render_items = [{\"docid\":\"bf883595-88eb-46ff-8533-5b4d94957fa4\",\"root_ids\":[\"17772\"],\"roots\":{\"17772\":\"90f925f3-33b4-40c9-a559-a9b165070210\"}}];\n",
       "    root.Bokeh.embed.embed_items_notebook(docs_json, render_items);\n",
       "  }\n",
       "  if (root.Bokeh !== undefined && root.Bokeh.Panel !== undefined) {\n",
       "    embed_document(root);\n",
       "  } else {\n",
       "    var attempts = 0;\n",
       "    var timer = setInterval(function(root) {\n",
       "      if (root.Bokeh !== undefined && root.Bokeh.Panel !== undefined) {\n",
       "        clearInterval(timer);\n",
       "        embed_document(root);\n",
       "      } else if (document.readyState == \"complete\") {\n",
       "        attempts++;\n",
       "        if (attempts > 200) {\n",
       "          clearInterval(timer);\n",
       "          console.log(\"Bokeh: ERROR: Unable to run BokehJS code because BokehJS library is missing\");\n",
       "        }\n",
       "      }\n",
       "    }, 25, root)\n",
       "  }\n",
       "})(window);</script>"
      ],
      "text/plain": [
       ":Curve   [k]   (inertia)"
      ]
     },
     "execution_count": 377,
     "metadata": {
      "application/vnd.holoviews_exec.v0+json": {
       "id": "17772"
      }
     },
     "output_type": "execute_result"
    }
   ],
   "source": [
    "# Plot a line chart with all the inertia values computed with \n",
    "# the different values of k to visually identify the optimal value for k.\n",
    "# Plot the elbow curve\n",
    "df1_elbow.hvplot.line(x=\"k\", y=\"inertia\", title=\"Elbow Curve\", xticks=k)"
   ]
  },
  {
   "cell_type": "markdown",
   "metadata": {},
   "source": [
    "#### Answer the following question: What is the best value for k?\n",
    "**Question:** What is the best value for `k`?\n",
    "\n",
    "**Answer:** The best value of k=4 as this is where the curve flattens out like an elbow"
   ]
  },
  {
   "cell_type": "markdown",
   "metadata": {},
   "source": [
    "---"
   ]
  },
  {
   "cell_type": "markdown",
   "metadata": {},
   "source": [
    "### Cluster Cryptocurrencies with K-means Using the Original Data\n",
    "\n",
    "In this section, you will use the K-Means algorithm with the best value for `k` found in the previous section to cluster the cryptocurrencies according to the price changes of cryptocurrencies provided.\n",
    "\n",
    "1. Initialize the K-Means model with four clusters using the best value for `k`. \n",
    "\n",
    "2. Fit the K-Means model using the original data.\n",
    "\n",
    "3. Predict the clusters to group the cryptocurrencies using the original data. View the resulting array of cluster values.\n",
    "\n",
    "4. Create a copy of the original data and add a new column with the predicted clusters.\n",
    "\n",
    "5. Create a scatter plot using hvPlot by setting `x=\"price_change_percentage_24h\"` and `y=\"price_change_percentage_7d\"`. Color the graph points with the labels found using K-Means and add the crypto name in the `hover_cols` parameter to identify the cryptocurrency represented by each data point."
   ]
  },
  {
   "cell_type": "code",
   "execution_count": 378,
   "metadata": {},
   "outputs": [],
   "source": [
    "# Initialize the K-Means model using the best value for k\n",
    "model_k4 = KMeans(n_clusters=4)"
   ]
  },
  {
   "cell_type": "code",
   "execution_count": 379,
   "metadata": {},
   "outputs": [
    {
     "data": {
      "text/plain": [
       "KMeans(n_clusters=4)"
      ]
     },
     "execution_count": 379,
     "metadata": {},
     "output_type": "execute_result"
    }
   ],
   "source": [
    "# Fit the K-Means model using the scaled data\n",
    "model_k4.fit(df_market_data_scaled)"
   ]
  },
  {
   "cell_type": "code",
   "execution_count": 380,
   "metadata": {},
   "outputs": [
    {
     "data": {
      "text/plain": [
       "array([0, 0, 3, 3, 0, 0, 0, 0, 0, 3, 3, 3, 3, 0, 3, 0, 3, 3, 0, 3, 3, 0,\n",
       "       3, 3, 3, 3, 3, 3, 0, 3, 3, 3, 1, 0, 3, 3, 2, 3, 3, 3, 3])"
      ]
     },
     "execution_count": 380,
     "metadata": {},
     "output_type": "execute_result"
    }
   ],
   "source": [
    "# Predict the clusters to group the cryptocurrencies using the scaled data\n",
    "cryptocurrencies_clusters_k4 = model_k4.predict(df_market_data_scaled)\n",
    "\n",
    "# View the resulting array of cluster values.\n",
    "cryptocurrencies_clusters_k4"
   ]
  },
  {
   "cell_type": "code",
   "execution_count": 381,
   "metadata": {},
   "outputs": [],
   "source": [
    "# Create a copy of the DataFrame\n",
    "df_market_data_scaled_predictions = df_market_data_scaled.copy()\n",
    "\n"
   ]
  },
  {
   "cell_type": "code",
   "execution_count": 382,
   "metadata": {},
   "outputs": [
    {
     "data": {
      "text/html": [
       "<div>\n",
       "<style scoped>\n",
       "    .dataframe tbody tr th:only-of-type {\n",
       "        vertical-align: middle;\n",
       "    }\n",
       "\n",
       "    .dataframe tbody tr th {\n",
       "        vertical-align: top;\n",
       "    }\n",
       "\n",
       "    .dataframe thead th {\n",
       "        text-align: right;\n",
       "    }\n",
       "</style>\n",
       "<table border=\"1\" class=\"dataframe\">\n",
       "  <thead>\n",
       "    <tr style=\"text-align: right;\">\n",
       "      <th></th>\n",
       "      <th>price_change_percentage_24h</th>\n",
       "      <th>price_change_percentage_7d</th>\n",
       "      <th>price_change_percentage_14d</th>\n",
       "      <th>price_change_percentage_30d</th>\n",
       "      <th>price_change_percentage_60d</th>\n",
       "      <th>price_change_percentage_200d</th>\n",
       "      <th>price_change_percentage_1y</th>\n",
       "      <th>cryptocurrencies clusters (k=4)</th>\n",
       "    </tr>\n",
       "    <tr>\n",
       "      <th>coin_id</th>\n",
       "      <th></th>\n",
       "      <th></th>\n",
       "      <th></th>\n",
       "      <th></th>\n",
       "      <th></th>\n",
       "      <th></th>\n",
       "      <th></th>\n",
       "      <th></th>\n",
       "    </tr>\n",
       "  </thead>\n",
       "  <tbody>\n",
       "    <tr>\n",
       "      <th>bitcoin</th>\n",
       "      <td>0.508529</td>\n",
       "      <td>0.493193</td>\n",
       "      <td>0.772200</td>\n",
       "      <td>0.235460</td>\n",
       "      <td>-0.067495</td>\n",
       "      <td>-0.355953</td>\n",
       "      <td>-0.251637</td>\n",
       "      <td>0</td>\n",
       "    </tr>\n",
       "    <tr>\n",
       "      <th>ethereum</th>\n",
       "      <td>0.185446</td>\n",
       "      <td>0.934445</td>\n",
       "      <td>0.558692</td>\n",
       "      <td>-0.054341</td>\n",
       "      <td>-0.273483</td>\n",
       "      <td>-0.115759</td>\n",
       "      <td>-0.199352</td>\n",
       "      <td>0</td>\n",
       "    </tr>\n",
       "    <tr>\n",
       "      <th>tether</th>\n",
       "      <td>0.021774</td>\n",
       "      <td>-0.706337</td>\n",
       "      <td>-0.021680</td>\n",
       "      <td>-0.061030</td>\n",
       "      <td>0.008005</td>\n",
       "      <td>-0.550247</td>\n",
       "      <td>-0.282061</td>\n",
       "      <td>3</td>\n",
       "    </tr>\n",
       "    <tr>\n",
       "      <th>ripple</th>\n",
       "      <td>-0.040764</td>\n",
       "      <td>-0.810928</td>\n",
       "      <td>0.249458</td>\n",
       "      <td>-0.050388</td>\n",
       "      <td>-0.373164</td>\n",
       "      <td>-0.458259</td>\n",
       "      <td>-0.295546</td>\n",
       "      <td>3</td>\n",
       "    </tr>\n",
       "    <tr>\n",
       "      <th>bitcoin-cash</th>\n",
       "      <td>1.193036</td>\n",
       "      <td>2.000959</td>\n",
       "      <td>1.760610</td>\n",
       "      <td>0.545842</td>\n",
       "      <td>-0.291203</td>\n",
       "      <td>-0.499848</td>\n",
       "      <td>-0.270317</td>\n",
       "      <td>0</td>\n",
       "    </tr>\n",
       "  </tbody>\n",
       "</table>\n",
       "</div>"
      ],
      "text/plain": [
       "              price_change_percentage_24h  price_change_percentage_7d  \\\n",
       "coin_id                                                                 \n",
       "bitcoin                          0.508529                    0.493193   \n",
       "ethereum                         0.185446                    0.934445   \n",
       "tether                           0.021774                   -0.706337   \n",
       "ripple                          -0.040764                   -0.810928   \n",
       "bitcoin-cash                     1.193036                    2.000959   \n",
       "\n",
       "              price_change_percentage_14d  price_change_percentage_30d  \\\n",
       "coin_id                                                                  \n",
       "bitcoin                          0.772200                     0.235460   \n",
       "ethereum                         0.558692                    -0.054341   \n",
       "tether                          -0.021680                    -0.061030   \n",
       "ripple                           0.249458                    -0.050388   \n",
       "bitcoin-cash                     1.760610                     0.545842   \n",
       "\n",
       "              price_change_percentage_60d  price_change_percentage_200d  \\\n",
       "coin_id                                                                   \n",
       "bitcoin                         -0.067495                     -0.355953   \n",
       "ethereum                        -0.273483                     -0.115759   \n",
       "tether                           0.008005                     -0.550247   \n",
       "ripple                          -0.373164                     -0.458259   \n",
       "bitcoin-cash                    -0.291203                     -0.499848   \n",
       "\n",
       "              price_change_percentage_1y  cryptocurrencies clusters (k=4)  \n",
       "coin_id                                                                    \n",
       "bitcoin                        -0.251637                                0  \n",
       "ethereum                       -0.199352                                0  \n",
       "tether                         -0.282061                                3  \n",
       "ripple                         -0.295546                                3  \n",
       "bitcoin-cash                   -0.270317                                0  "
      ]
     },
     "execution_count": 382,
     "metadata": {},
     "output_type": "execute_result"
    }
   ],
   "source": [
    "# Add a new column to the DataFrame with the predicted clusters\n",
    "df_market_data_scaled_predictions[\"cryptocurrencies clusters (k=4)\"] = cryptocurrencies_clusters_k4\n",
    "\n",
    "# Display sample data\n",
    "df_market_data_scaled_predictions.head()"
   ]
  },
  {
   "cell_type": "code",
   "execution_count": 383,
   "metadata": {},
   "outputs": [
    {
     "data": {},
     "metadata": {},
     "output_type": "display_data"
    },
    {
     "data": {
      "application/vnd.holoviews_exec.v0+json": "",
      "text/html": [
       "<div id='17890'>\n",
       "\n",
       "\n",
       "\n",
       "\n",
       "\n",
       "  <div class=\"bk-root\" id=\"65a44708-f6cf-48e5-9290-f4ba4e361464\" data-root-id=\"17890\"></div>\n",
       "</div>\n",
       "<script type=\"application/javascript\">(function(root) {\n",
       "  function embed_document(root) {\n",
       "    var docs_json = {\"e41a43f5-5022-407c-a3bd-7cc76662ca9a\":{\"defs\":[{\"extends\":null,\"module\":null,\"name\":\"ReactiveHTML1\",\"overrides\":[],\"properties\":[]},{\"extends\":null,\"module\":null,\"name\":\"FlexBox1\",\"overrides\":[],\"properties\":[{\"default\":\"flex-start\",\"kind\":null,\"name\":\"align_content\"},{\"default\":\"flex-start\",\"kind\":null,\"name\":\"align_items\"},{\"default\":\"row\",\"kind\":null,\"name\":\"flex_direction\"},{\"default\":\"wrap\",\"kind\":null,\"name\":\"flex_wrap\"},{\"default\":\"flex-start\",\"kind\":null,\"name\":\"justify_content\"}]},{\"extends\":null,\"module\":null,\"name\":\"TemplateActions1\",\"overrides\":[],\"properties\":[{\"default\":0,\"kind\":null,\"name\":\"open_modal\"},{\"default\":0,\"kind\":null,\"name\":\"close_modal\"}]},{\"extends\":null,\"module\":null,\"name\":\"MaterialTemplateActions1\",\"overrides\":[],\"properties\":[{\"default\":0,\"kind\":null,\"name\":\"open_modal\"},{\"default\":0,\"kind\":null,\"name\":\"close_modal\"}]}],\"roots\":{\"references\":[{\"attributes\":{},\"id\":\"17912\",\"type\":\"BasicTicker\"},{\"attributes\":{\"angle\":{\"value\":0.0},\"fill_alpha\":{\"value\":1.0},\"fill_color\":{\"value\":\"#6d904f\"},\"hatch_alpha\":{\"value\":1.0},\"hatch_color\":{\"value\":\"black\"},\"hatch_scale\":{\"value\":12.0},\"hatch_weight\":{\"value\":1.0},\"line_alpha\":{\"value\":1.0},\"line_cap\":{\"value\":\"butt\"},\"line_color\":{\"value\":\"#6d904f\"},\"line_dash\":{\"value\":[]},\"line_dash_offset\":{\"value\":0},\"line_join\":{\"value\":\"bevel\"},\"line_width\":{\"value\":1},\"marker\":{\"value\":\"circle\"},\"size\":{\"value\":5.477225575051661},\"x\":{\"field\":\"price_change_percentage_24h\"},\"y\":{\"field\":\"price_change_percentage_7d\"}},\"id\":\"18026\",\"type\":\"Scatter\"},{\"attributes\":{\"end\":2.997678656273595,\"reset_end\":2.997678656273595,\"reset_start\":-2.107454305728652,\"start\":-2.107454305728652,\"tags\":[[[\"price_change_percentage_7d\",\"price_change_percentage_7d\",null]]]},\"id\":\"17893\",\"type\":\"Range1d\"},{\"attributes\":{\"data_source\":{\"id\":\"18001\"},\"glyph\":{\"id\":\"18004\"},\"hover_glyph\":null,\"muted_glyph\":{\"id\":\"18006\"},\"nonselection_glyph\":{\"id\":\"18005\"},\"selection_glyph\":{\"id\":\"18026\"},\"view\":{\"id\":\"18008\"}},\"id\":\"18007\",\"type\":\"GlyphRenderer\"},{\"attributes\":{},\"id\":\"17933\",\"type\":\"AllLabels\"},{\"attributes\":{\"angle\":{\"value\":0.0},\"fill_alpha\":{\"value\":1.0},\"fill_color\":{\"value\":\"#e5ae38\"},\"hatch_alpha\":{\"value\":1.0},\"hatch_color\":{\"value\":\"black\"},\"hatch_scale\":{\"value\":12.0},\"hatch_weight\":{\"value\":1.0},\"line_alpha\":{\"value\":1.0},\"line_cap\":{\"value\":\"butt\"},\"line_color\":{\"value\":\"#e5ae38\"},\"line_dash\":{\"value\":[]},\"line_dash_offset\":{\"value\":0},\"line_join\":{\"value\":\"bevel\"},\"line_width\":{\"value\":1},\"marker\":{\"value\":\"circle\"},\"size\":{\"value\":5.477225575051661},\"x\":{\"field\":\"price_change_percentage_24h\"},\"y\":{\"field\":\"price_change_percentage_7d\"}},\"id\":\"18000\",\"type\":\"Scatter\"},{\"attributes\":{\"data_source\":{\"id\":\"17934\"},\"glyph\":{\"id\":\"17937\"},\"hover_glyph\":null,\"muted_glyph\":{\"id\":\"17939\"},\"nonselection_glyph\":{\"id\":\"17938\"},\"selection_glyph\":{\"id\":\"17954\"},\"view\":{\"id\":\"17941\"}},\"id\":\"17940\",\"type\":\"GlyphRenderer\"},{\"attributes\":{},\"id\":\"17903\",\"type\":\"LinearScale\"},{\"attributes\":{},\"id\":\"17973\",\"type\":\"UnionRenderers\"},{\"attributes\":{},\"id\":\"17956\",\"type\":\"Selection\"},{\"attributes\":{\"angle\":{\"value\":0.0},\"fill_alpha\":{\"value\":1.0},\"fill_color\":{\"value\":\"#fc4f30\"},\"hatch_alpha\":{\"value\":1.0},\"hatch_color\":{\"value\":\"black\"},\"hatch_scale\":{\"value\":12.0},\"hatch_weight\":{\"value\":1.0},\"line_alpha\":{\"value\":1.0},\"line_cap\":{\"value\":\"butt\"},\"line_color\":{\"value\":\"#fc4f30\"},\"line_dash\":{\"value\":[]},\"line_dash_offset\":{\"value\":0},\"line_join\":{\"value\":\"bevel\"},\"line_width\":{\"value\":1},\"marker\":{\"value\":\"circle\"},\"size\":{\"value\":5.477225575051661},\"x\":{\"field\":\"price_change_percentage_24h\"},\"y\":{\"field\":\"price_change_percentage_7d\"}},\"id\":\"17976\",\"type\":\"Scatter\"},{\"attributes\":{\"axis\":{\"id\":\"17907\"},\"grid_line_color\":null,\"ticker\":null},\"id\":\"17910\",\"type\":\"Grid\"},{\"attributes\":{\"fill_color\":{\"value\":\"#fc4f30\"},\"line_color\":{\"value\":\"#fc4f30\"},\"size\":{\"value\":5.477225575051661},\"x\":{\"field\":\"price_change_percentage_24h\"},\"y\":{\"field\":\"price_change_percentage_7d\"}},\"id\":\"17958\",\"type\":\"Scatter\"},{\"attributes\":{\"label\":{\"value\":\"2\"},\"renderers\":[{\"id\":\"17983\"}]},\"id\":\"17999\",\"type\":\"LegendItem\"},{\"attributes\":{\"below\":[{\"id\":\"17907\"}],\"center\":[{\"id\":\"17910\"},{\"id\":\"17914\"}],\"height\":300,\"left\":[{\"id\":\"17911\"}],\"margin\":[5,5,5,5],\"min_border_bottom\":10,\"min_border_left\":10,\"min_border_right\":10,\"min_border_top\":10,\"renderers\":[{\"id\":\"17940\"},{\"id\":\"17961\"},{\"id\":\"17983\"},{\"id\":\"18007\"}],\"right\":[{\"id\":\"17952\"}],\"sizing_mode\":\"fixed\",\"title\":{\"id\":\"17899\"},\"toolbar\":{\"id\":\"17921\"},\"width\":700,\"x_range\":{\"id\":\"17892\"},\"x_scale\":{\"id\":\"17903\"},\"y_range\":{\"id\":\"17893\"},\"y_scale\":{\"id\":\"17905\"}},\"id\":\"17898\",\"subtype\":\"Figure\",\"type\":\"Plot\"},{\"attributes\":{},\"id\":\"17915\",\"type\":\"SaveTool\"},{\"attributes\":{\"angle\":{\"value\":0.0},\"fill_alpha\":{\"value\":1.0},\"fill_color\":{\"value\":\"#30a2da\"},\"hatch_alpha\":{\"value\":1.0},\"hatch_color\":{\"value\":\"black\"},\"hatch_scale\":{\"value\":12.0},\"hatch_weight\":{\"value\":1.0},\"line_alpha\":{\"value\":1.0},\"line_cap\":{\"value\":\"butt\"},\"line_color\":{\"value\":\"#30a2da\"},\"line_dash\":{\"value\":[]},\"line_dash_offset\":{\"value\":0},\"line_join\":{\"value\":\"bevel\"},\"line_width\":{\"value\":1},\"marker\":{\"value\":\"circle\"},\"size\":{\"value\":5.477225575051661},\"x\":{\"field\":\"price_change_percentage_24h\"},\"y\":{\"field\":\"price_change_percentage_7d\"}},\"id\":\"17954\",\"type\":\"Scatter\"},{\"attributes\":{\"data_source\":{\"id\":\"17955\"},\"glyph\":{\"id\":\"17958\"},\"hover_glyph\":null,\"muted_glyph\":{\"id\":\"17960\"},\"nonselection_glyph\":{\"id\":\"17959\"},\"selection_glyph\":{\"id\":\"17976\"},\"view\":{\"id\":\"17962\"}},\"id\":\"17961\",\"type\":\"GlyphRenderer\"},{\"attributes\":{\"callback\":null,\"renderers\":[{\"id\":\"17940\"},{\"id\":\"17961\"},{\"id\":\"17983\"},{\"id\":\"18007\"}],\"tags\":[\"hv_created\"],\"tooltips\":[[\"cryptocurrencies clusters (k=4)\",\"@{cryptocurrencies_clusters_left_parenthesis_k_equals_4_right_parenthesis}\"],[\"price_change_percentage_24h\",\"@{price_change_percentage_24h}\"],[\"price_change_percentage_7d\",\"@{price_change_percentage_7d}\"]]},\"id\":\"17894\",\"type\":\"HoverTool\"},{\"attributes\":{},\"id\":\"17930\",\"type\":\"AllLabels\"},{\"attributes\":{\"source\":{\"id\":\"17934\"}},\"id\":\"17941\",\"type\":\"CDSView\"},{\"attributes\":{\"data\":{\"cryptocurrencies_clusters_left_parenthesis_k_equals_4_right_parenthesis\":[0,0,0,0,0,0,0,0,0,0,0,0,0],\"price_change_percentage_24h\":{\"__ndarray__\":\"DdlqYN9F4D86azDosLzHPzALIwCtFvM/9w6McDSK7D/VDHOpb1eHPzMEvaFkP7o/Sds39trWsz9Epj8/c9DQP4xAeNEVZ8O/qq8st/Fh0L8FWWk3mH7gP6wo083aUMC//ACFOIMFwL8=\",\"dtype\":\"float64\",\"order\":\"little\",\"shape\":[13]},\"price_change_percentage_7d\":{\"__ndarray__\":\"U1k8q3mQ3z9yoPpI+ebtPzAB2dP2AQBAgmkOMZk89T8FNulI+JMEQCZRaSLGIPg/84wjaB1l1T8rMp3jf678P2VmURqKqeY/XK6ZksNx/T9DfMqy1o7dPyTPDB1Xu+0/srW7TleV4j8=\",\"dtype\":\"float64\",\"order\":\"little\",\"shape\":[13]}},\"selected\":{\"id\":\"17935\"},\"selection_policy\":{\"id\":\"17950\"}},\"id\":\"17934\",\"type\":\"ColumnDataSource\"},{\"attributes\":{\"fill_color\":{\"value\":\"#e5ae38\"},\"line_color\":{\"value\":\"#e5ae38\"},\"size\":{\"value\":5.477225575051661},\"x\":{\"field\":\"price_change_percentage_24h\"},\"y\":{\"field\":\"price_change_percentage_7d\"}},\"id\":\"17980\",\"type\":\"Scatter\"},{\"attributes\":{\"bottom_units\":\"screen\",\"fill_alpha\":0.5,\"fill_color\":\"lightgrey\",\"left_units\":\"screen\",\"level\":\"overlay\",\"line_alpha\":1.0,\"line_color\":\"black\",\"line_dash\":[4,4],\"line_width\":2,\"right_units\":\"screen\",\"syncable\":false,\"top_units\":\"screen\"},\"id\":\"17920\",\"type\":\"BoxAnnotation\"},{\"attributes\":{},\"id\":\"17997\",\"type\":\"UnionRenderers\"},{\"attributes\":{\"margin\":[5,5,5,5],\"name\":\"HSpacer37098\",\"sizing_mode\":\"stretch_width\"},\"id\":\"17891\",\"type\":\"Spacer\"},{\"attributes\":{\"text_color\":\"black\",\"text_font_size\":\"12pt\"},\"id\":\"17899\",\"type\":\"Title\"},{\"attributes\":{\"fill_alpha\":{\"value\":0.1},\"fill_color\":{\"value\":\"#fc4f30\"},\"line_alpha\":{\"value\":0.1},\"line_color\":{\"value\":\"#fc4f30\"},\"size\":{\"value\":5.477225575051661},\"x\":{\"field\":\"price_change_percentage_24h\"},\"y\":{\"field\":\"price_change_percentage_7d\"}},\"id\":\"17959\",\"type\":\"Scatter\"},{\"attributes\":{},\"id\":\"17919\",\"type\":\"ResetTool\"},{\"attributes\":{\"fill_alpha\":{\"value\":0.2},\"fill_color\":{\"value\":\"#fc4f30\"},\"line_alpha\":{\"value\":0.2},\"line_color\":{\"value\":\"#fc4f30\"},\"size\":{\"value\":5.477225575051661},\"x\":{\"field\":\"price_change_percentage_24h\"},\"y\":{\"field\":\"price_change_percentage_7d\"}},\"id\":\"17960\",\"type\":\"Scatter\"},{\"attributes\":{\"end\":2.2155632386560065,\"reset_end\":2.2155632386560065,\"reset_start\":-5.276792781891412,\"start\":-5.276792781891412,\"tags\":[[[\"price_change_percentage_24h\",\"price_change_percentage_24h\",null]]]},\"id\":\"17892\",\"type\":\"Range1d\"},{\"attributes\":{\"axis_label\":\"price_change_percentage_24h\",\"formatter\":{\"id\":\"17929\"},\"major_label_policy\":{\"id\":\"17930\"},\"ticker\":{\"id\":\"17908\"}},\"id\":\"17907\",\"type\":\"LinearAxis\"},{\"attributes\":{\"data\":{\"cryptocurrencies_clusters_left_parenthesis_k_equals_4_right_parenthesis\":[1],\"price_change_percentage_24h\":{\"__ndarray__\":\"3WeHPpbsE8A=\",\"dtype\":\"float64\",\"order\":\"little\",\"shape\":[1]},\"price_change_percentage_7d\":{\"__ndarray__\":\"dIWi2pshp78=\",\"dtype\":\"float64\",\"order\":\"little\",\"shape\":[1]}},\"selected\":{\"id\":\"17956\"},\"selection_policy\":{\"id\":\"17973\"}},\"id\":\"17955\",\"type\":\"ColumnDataSource\"},{\"attributes\":{\"source\":{\"id\":\"17977\"}},\"id\":\"17984\",\"type\":\"CDSView\"},{\"attributes\":{\"overlay\":{\"id\":\"17920\"}},\"id\":\"17918\",\"type\":\"BoxZoomTool\"},{\"attributes\":{\"children\":[{\"id\":\"17891\"},{\"id\":\"17898\"},{\"id\":\"18171\"}],\"margin\":[0,0,0,0],\"name\":\"Row37094\",\"tags\":[\"embedded\"]},\"id\":\"17890\",\"type\":\"Row\"},{\"attributes\":{},\"id\":\"17908\",\"type\":\"BasicTicker\"},{\"attributes\":{\"fill_color\":{\"value\":\"#30a2da\"},\"line_color\":{\"value\":\"#30a2da\"},\"size\":{\"value\":5.477225575051661},\"x\":{\"field\":\"price_change_percentage_24h\"},\"y\":{\"field\":\"price_change_percentage_7d\"}},\"id\":\"17937\",\"type\":\"Scatter\"},{\"attributes\":{\"active_multi\":null,\"tools\":[{\"id\":\"17894\"},{\"id\":\"17915\"},{\"id\":\"17916\"},{\"id\":\"17917\"},{\"id\":\"17918\"},{\"id\":\"17919\"}]},\"id\":\"17921\",\"type\":\"Toolbar\"},{\"attributes\":{\"fill_alpha\":{\"value\":0.1},\"fill_color\":{\"value\":\"#e5ae38\"},\"line_alpha\":{\"value\":0.1},\"line_color\":{\"value\":\"#e5ae38\"},\"size\":{\"value\":5.477225575051661},\"x\":{\"field\":\"price_change_percentage_24h\"},\"y\":{\"field\":\"price_change_percentage_7d\"}},\"id\":\"17981\",\"type\":\"Scatter\"},{\"attributes\":{\"source\":{\"id\":\"18001\"}},\"id\":\"18008\",\"type\":\"CDSView\"},{\"attributes\":{},\"id\":\"17978\",\"type\":\"Selection\"},{\"attributes\":{},\"id\":\"17905\",\"type\":\"LinearScale\"},{\"attributes\":{\"data_source\":{\"id\":\"17977\"},\"glyph\":{\"id\":\"17980\"},\"hover_glyph\":null,\"muted_glyph\":{\"id\":\"17982\"},\"nonselection_glyph\":{\"id\":\"17981\"},\"selection_glyph\":{\"id\":\"18000\"},\"view\":{\"id\":\"17984\"}},\"id\":\"17983\",\"type\":\"GlyphRenderer\"},{\"attributes\":{\"click_policy\":\"mute\",\"items\":[{\"id\":\"17953\"},{\"id\":\"17975\"},{\"id\":\"17999\"},{\"id\":\"18025\"}],\"location\":[0,0],\"title\":\"cryptocurrencies clusters (k=4)\"},\"id\":\"17952\",\"type\":\"Legend\"},{\"attributes\":{\"axis\":{\"id\":\"17911\"},\"dimension\":1,\"grid_line_color\":null,\"ticker\":null},\"id\":\"17914\",\"type\":\"Grid\"},{\"attributes\":{\"data\":{\"cryptocurrencies_clusters_left_parenthesis_k_equals_4_right_parenthesis\":[2],\"price_change_percentage_24h\":{\"__ndarray__\":\"VLqXBn668D8=\",\"dtype\":\"float64\",\"order\":\"little\",\"shape\":[1]},\"price_change_percentage_7d\":{\"__ndarray__\":\"Nv03JFjJ478=\",\"dtype\":\"float64\",\"order\":\"little\",\"shape\":[1]}},\"selected\":{\"id\":\"17978\"},\"selection_policy\":{\"id\":\"17997\"}},\"id\":\"17977\",\"type\":\"ColumnDataSource\"},{\"attributes\":{\"fill_alpha\":{\"value\":0.2},\"fill_color\":{\"value\":\"#6d904f\"},\"line_alpha\":{\"value\":0.2},\"line_color\":{\"value\":\"#6d904f\"},\"size\":{\"value\":5.477225575051661},\"x\":{\"field\":\"price_change_percentage_24h\"},\"y\":{\"field\":\"price_change_percentage_7d\"}},\"id\":\"18006\",\"type\":\"Scatter\"},{\"attributes\":{},\"id\":\"17932\",\"type\":\"BasicTickFormatter\"},{\"attributes\":{\"axis_label\":\"price_change_percentage_7d\",\"formatter\":{\"id\":\"17932\"},\"major_label_policy\":{\"id\":\"17933\"},\"ticker\":{\"id\":\"17912\"}},\"id\":\"17911\",\"type\":\"LinearAxis\"},{\"attributes\":{},\"id\":\"17950\",\"type\":\"UnionRenderers\"},{\"attributes\":{\"margin\":[5,5,5,5],\"name\":\"HSpacer37099\",\"sizing_mode\":\"stretch_width\"},\"id\":\"18171\",\"type\":\"Spacer\"},{\"attributes\":{},\"id\":\"17916\",\"type\":\"PanTool\"},{\"attributes\":{\"data\":{\"cryptocurrencies_clusters_left_parenthesis_k_equals_4_right_parenthesis\":[3,3,3,3,3,3,3,3,3,3,3,3,3,3,3,3,3,3,3,3,3,3,3,3,3,3],\"price_change_percentage_24h\":{\"__ndarray__\":\"mCJF1OlLlj/mJRG3Ed+kv1qZGRifu9w//rJXHrAz1T/yMTqenpahPx9kk3dK7sM/GTRehHalwD90fnl54Irtv9XPDahDw9G/+VOWQSEmxz+kpbukw1bSP6eM4M4OgKo/BcMOj9+jqr/Chq6S5ebLv2h3TIfCZ68/weEQ8QyV0D/KmZTmC7niP1YH9WGFy/m/N7JuVBEB07/EU4GAhEGyv8Ocf0hw2/a/lrPBJY23/j/IKcQzxy3av5WrmDyeito/Bf22eE/6sz9Y362Ir3rzPw==\",\"dtype\":\"float64\",\"order\":\"little\",\"shape\":[26]},\"price_change_percentage_7d\":{\"__ndarray__\":\"bZSIvk+a5r9RujxqH/Ppvw2U7adXaMi/d+r7VGbW+b9EGSx/8nTnv4rfBo4Lhe2/BEBwXEEApb8Udj8VbP/2vySelkVDp9i/7SZvVsyO5r8uu+JVH+LUvziN+gRMte2/o2qlez1D3b/CtPLKIS7rvyYjaswHnea/US6joeTvzz/dRmuCvtDvv/9TV66U6fq/ZWX+mWVCuD8GJ0pHuV/Nv8nIE2ZWH5q/TTxj/me11z+Htdvf1gXtv2Avihmzf9o/e31xtwIC5r/STlu6Y3Ljvw==\",\"dtype\":\"float64\",\"order\":\"little\",\"shape\":[26]}},\"selected\":{\"id\":\"18002\"},\"selection_policy\":{\"id\":\"18023\"}},\"id\":\"18001\",\"type\":\"ColumnDataSource\"},{\"attributes\":{\"fill_color\":{\"value\":\"#6d904f\"},\"line_color\":{\"value\":\"#6d904f\"},\"size\":{\"value\":5.477225575051661},\"x\":{\"field\":\"price_change_percentage_24h\"},\"y\":{\"field\":\"price_change_percentage_7d\"}},\"id\":\"18004\",\"type\":\"Scatter\"},{\"attributes\":{\"label\":{\"value\":\"1\"},\"renderers\":[{\"id\":\"17961\"}]},\"id\":\"17975\",\"type\":\"LegendItem\"},{\"attributes\":{},\"id\":\"17929\",\"type\":\"BasicTickFormatter\"},{\"attributes\":{\"fill_alpha\":{\"value\":0.1},\"fill_color\":{\"value\":\"#30a2da\"},\"line_alpha\":{\"value\":0.1},\"line_color\":{\"value\":\"#30a2da\"},\"size\":{\"value\":5.477225575051661},\"x\":{\"field\":\"price_change_percentage_24h\"},\"y\":{\"field\":\"price_change_percentage_7d\"}},\"id\":\"17938\",\"type\":\"Scatter\"},{\"attributes\":{},\"id\":\"17935\",\"type\":\"Selection\"},{\"attributes\":{},\"id\":\"17917\",\"type\":\"WheelZoomTool\"},{\"attributes\":{\"fill_alpha\":{\"value\":0.2},\"fill_color\":{\"value\":\"#e5ae38\"},\"line_alpha\":{\"value\":0.2},\"line_color\":{\"value\":\"#e5ae38\"},\"size\":{\"value\":5.477225575051661},\"x\":{\"field\":\"price_change_percentage_24h\"},\"y\":{\"field\":\"price_change_percentage_7d\"}},\"id\":\"17982\",\"type\":\"Scatter\"},{\"attributes\":{},\"id\":\"18002\",\"type\":\"Selection\"},{\"attributes\":{\"source\":{\"id\":\"17955\"}},\"id\":\"17962\",\"type\":\"CDSView\"},{\"attributes\":{\"label\":{\"value\":\"3\"},\"renderers\":[{\"id\":\"18007\"}]},\"id\":\"18025\",\"type\":\"LegendItem\"},{\"attributes\":{\"fill_alpha\":{\"value\":0.2},\"fill_color\":{\"value\":\"#30a2da\"},\"line_alpha\":{\"value\":0.2},\"line_color\":{\"value\":\"#30a2da\"},\"size\":{\"value\":5.477225575051661},\"x\":{\"field\":\"price_change_percentage_24h\"},\"y\":{\"field\":\"price_change_percentage_7d\"}},\"id\":\"17939\",\"type\":\"Scatter\"},{\"attributes\":{\"fill_alpha\":{\"value\":0.1},\"fill_color\":{\"value\":\"#6d904f\"},\"line_alpha\":{\"value\":0.1},\"line_color\":{\"value\":\"#6d904f\"},\"size\":{\"value\":5.477225575051661},\"x\":{\"field\":\"price_change_percentage_24h\"},\"y\":{\"field\":\"price_change_percentage_7d\"}},\"id\":\"18005\",\"type\":\"Scatter\"},{\"attributes\":{},\"id\":\"18023\",\"type\":\"UnionRenderers\"},{\"attributes\":{\"label\":{\"value\":\"0\"},\"renderers\":[{\"id\":\"17940\"}]},\"id\":\"17953\",\"type\":\"LegendItem\"}],\"root_ids\":[\"17890\"]},\"title\":\"Bokeh Application\",\"version\":\"2.3.2\"}};\n",
       "    var render_items = [{\"docid\":\"e41a43f5-5022-407c-a3bd-7cc76662ca9a\",\"root_ids\":[\"17890\"],\"roots\":{\"17890\":\"65a44708-f6cf-48e5-9290-f4ba4e361464\"}}];\n",
       "    root.Bokeh.embed.embed_items_notebook(docs_json, render_items);\n",
       "  }\n",
       "  if (root.Bokeh !== undefined && root.Bokeh.Panel !== undefined) {\n",
       "    embed_document(root);\n",
       "  } else {\n",
       "    var attempts = 0;\n",
       "    var timer = setInterval(function(root) {\n",
       "      if (root.Bokeh !== undefined && root.Bokeh.Panel !== undefined) {\n",
       "        clearInterval(timer);\n",
       "        embed_document(root);\n",
       "      } else if (document.readyState == \"complete\") {\n",
       "        attempts++;\n",
       "        if (attempts > 200) {\n",
       "          clearInterval(timer);\n",
       "          console.log(\"Bokeh: ERROR: Unable to run BokehJS code because BokehJS library is missing\");\n",
       "        }\n",
       "      }\n",
       "    }, 25, root)\n",
       "  }\n",
       "})(window);</script>"
      ],
      "text/plain": [
       ":NdOverlay   [cryptocurrencies clusters (k=4)]\n",
       "   :Scatter   [price_change_percentage_24h]   (price_change_percentage_7d)"
      ]
     },
     "execution_count": 383,
     "metadata": {
      "application/vnd.holoviews_exec.v0+json": {
       "id": "17890"
      }
     },
     "output_type": "execute_result"
    }
   ],
   "source": [
    "# Create a scatter plot using hvPlot by setting \n",
    "# `x=\"price_change_percentage_24h\"` and `y=\"price_change_percentage_7d\"`. \n",
    "# Color the graph points with the labels found using K-Means and \n",
    "# add the crypto name in the `hover_cols` parameter to identify \n",
    "# the cryptocurrency represented by each data point.\n",
    "df_market_data_scaled_predictions.hvplot.scatter(x=\"price_change_percentage_24h\", y=\"price_change_percentage_7d\", by=\"cryptocurrencies clusters (k=4)\")"
   ]
  },
  {
   "cell_type": "markdown",
   "metadata": {},
   "source": [
    "---"
   ]
  },
  {
   "cell_type": "markdown",
   "metadata": {},
   "source": [
    "### Optimize Clusters with Principal Component Analysis\n",
    "\n",
    "In this section, you will perform a principal component analysis (PCA) and reduce the features to three principal components.\n",
    "\n",
    "1. Create a PCA model instance and set `n_components=3`.\n",
    "\n",
    "2. Use the PCA model to reduce to three principal components. View the first five rows of the DataFrame. \n",
    "\n",
    "3. Retrieve the explained variance to determine how much information can be attributed to each principal component.\n",
    "\n",
    "4. Answer the following question: What is the total explained variance of the three principal components?\n",
    "\n",
    "5. Create a new DataFrame with the PCA data. Be sure to set the `coin_id` index from the original DataFrame as the index for the new DataFrame. Review the resulting DataFrame."
   ]
  },
  {
   "cell_type": "code",
   "execution_count": 384,
   "metadata": {},
   "outputs": [],
   "source": [
    "# Create a PCA model instance and set `n_components=3`.\n",
    "pca = PCA(n_components=3)"
   ]
  },
  {
   "cell_type": "code",
   "execution_count": 385,
   "metadata": {},
   "outputs": [],
   "source": [
    "# Use the PCA model with `fit_transform` to reduce to \n",
    "# three principal components.\n",
    "# Reduce from five to two features using PCA\n",
    "#market_data_scaled_pca_data = pca.fit_transform(df_market_data_scaled)\n",
    "\n",
    "\n",
    "# View the first five rows of the DataFrame. \n",
    "#market_data_scaled_pca_data[:5]\n"
   ]
  },
  {
   "cell_type": "code",
   "execution_count": 386,
   "metadata": {},
   "outputs": [],
   "source": [
    "# Retrieve the explained variance to determine how much information \n",
    "# can be attributed to each principal component.\n",
    "#pca.explained_variance_ratio_"
   ]
  },
  {
   "cell_type": "code",
   "execution_count": 387,
   "metadata": {},
   "outputs": [
    {
     "data": {
      "text/plain": [
       "array([[-341.80096268,  -51.36677548,   12.52547089],\n",
       "       [-249.42046633,   24.11754777,  -14.23146597],\n",
       "       [-402.61472077, -118.71073742,   24.83839662],\n",
       "       [-406.75243715,  -79.48728629,    1.56633057],\n",
       "       [-382.42994789, -103.43195906,   16.75307273]])"
      ]
     },
     "execution_count": 387,
     "metadata": {},
     "output_type": "execute_result"
    }
   ],
   "source": [
    "# Use the PCA model with `fit_transform` to reduce to \n",
    "# three principal components.\n",
    "# Reduce from five to two features using PCA\n",
    "df_market_data_pca_data = pca.fit_transform(df_market_data)\n",
    "\n",
    "\n",
    "# View the first five rows of the DataFrame. \n",
    "df_market_data_pca_data[:5]"
   ]
  },
  {
   "cell_type": "code",
   "execution_count": 388,
   "metadata": {},
   "outputs": [
    {
     "data": {
      "text/plain": [
       "array([9.76037313e-01, 2.30282949e-02, 7.48308214e-04])"
      ]
     },
     "execution_count": 388,
     "metadata": {},
     "output_type": "execute_result"
    }
   ],
   "source": [
    "# Retrieve the explained variance to determine how much information \n",
    "# can be attributed to each principal component.\n",
    "pca.explained_variance_ratio_"
   ]
  },
  {
   "cell_type": "markdown",
   "metadata": {},
   "source": [
    "#### Answer the following question: What is the total explained variance of the three principal components?\n",
    "\n",
    "**Question:** What is the total explained variance of the three principal components?\n",
    "\n",
    "**Answer:** The total explained variance of the three components are 9.76037313e-01, 2.30282949e-02 and 7.48308214e-04"
   ]
  },
  {
   "cell_type": "code",
   "execution_count": 389,
   "metadata": {},
   "outputs": [
    {
     "data": {
      "text/html": [
       "<div>\n",
       "<style scoped>\n",
       "    .dataframe tbody tr th:only-of-type {\n",
       "        vertical-align: middle;\n",
       "    }\n",
       "\n",
       "    .dataframe tbody tr th {\n",
       "        vertical-align: top;\n",
       "    }\n",
       "\n",
       "    .dataframe thead th {\n",
       "        text-align: right;\n",
       "    }\n",
       "</style>\n",
       "<table border=\"1\" class=\"dataframe\">\n",
       "  <thead>\n",
       "    <tr style=\"text-align: right;\">\n",
       "      <th></th>\n",
       "      <th>PCI</th>\n",
       "      <th>PC2</th>\n",
       "      <th>PC3</th>\n",
       "    </tr>\n",
       "    <tr>\n",
       "      <th>coin_id</th>\n",
       "      <th></th>\n",
       "      <th></th>\n",
       "      <th></th>\n",
       "    </tr>\n",
       "  </thead>\n",
       "  <tbody>\n",
       "    <tr>\n",
       "      <th>bitcoin</th>\n",
       "      <td>-341.800963</td>\n",
       "      <td>-51.366775</td>\n",
       "      <td>12.525471</td>\n",
       "    </tr>\n",
       "    <tr>\n",
       "      <th>ethereum</th>\n",
       "      <td>-249.420466</td>\n",
       "      <td>24.117548</td>\n",
       "      <td>-14.231466</td>\n",
       "    </tr>\n",
       "    <tr>\n",
       "      <th>tether</th>\n",
       "      <td>-402.614721</td>\n",
       "      <td>-118.710737</td>\n",
       "      <td>24.838397</td>\n",
       "    </tr>\n",
       "    <tr>\n",
       "      <th>ripple</th>\n",
       "      <td>-406.752437</td>\n",
       "      <td>-79.487286</td>\n",
       "      <td>1.566331</td>\n",
       "    </tr>\n",
       "    <tr>\n",
       "      <th>bitcoin-cash</th>\n",
       "      <td>-382.429948</td>\n",
       "      <td>-103.431959</td>\n",
       "      <td>16.753073</td>\n",
       "    </tr>\n",
       "  </tbody>\n",
       "</table>\n",
       "</div>"
      ],
      "text/plain": [
       "                     PCI         PC2        PC3\n",
       "coin_id                                        \n",
       "bitcoin      -341.800963  -51.366775  12.525471\n",
       "ethereum     -249.420466   24.117548 -14.231466\n",
       "tether       -402.614721 -118.710737  24.838397\n",
       "ripple       -406.752437  -79.487286   1.566331\n",
       "bitcoin-cash -382.429948 -103.431959  16.753073"
      ]
     },
     "execution_count": 389,
     "metadata": {},
     "output_type": "execute_result"
    }
   ],
   "source": [
    "# Create a new DataFrame with the PCA data.\n",
    "# Note: The code for this step is provided for you\n",
    "\n",
    "# Creating a DataFrame with the PCA data\n",
    "pca_df = pd.DataFrame(df_market_data_pca_data, \n",
    "\n",
    "# Copy the crypto names from the original data and Set the coinid column as index\n",
    "index =  df_market_data_scaled_predictions.index, columns =['PCI', 'PC2', 'PC3'])\n",
    "\n",
    "# Display sample data\n",
    "pca_df.head()"
   ]
  },
  {
   "cell_type": "code",
   "execution_count": 390,
   "metadata": {},
   "outputs": [],
   "source": [
    "# Create a PCA model instance and set `n_components=3`.\n",
    "pca = PCA(n_components=2)"
   ]
  },
  {
   "cell_type": "code",
   "execution_count": 391,
   "metadata": {},
   "outputs": [
    {
     "data": {
      "text/plain": [
       "array([[-341.80096268,  -51.36677548],\n",
       "       [-249.42046633,   24.11754777],\n",
       "       [-402.61472077, -118.71073742],\n",
       "       [-406.75243715,  -79.48728629],\n",
       "       [-382.42994789, -103.43195906]])"
      ]
     },
     "execution_count": 391,
     "metadata": {},
     "output_type": "execute_result"
    }
   ],
   "source": [
    "# Use the PCA model with `fit_transform` to reduce to \n",
    "# three principal components.\n",
    "# Reduce from five to two features using PCA\n",
    "pca_df = pca.fit_transform(df_market_data_pca_data)\n",
    "\n",
    "\n",
    "# View the first five rows of the DataFrame. \n",
    "pca_df[:5]"
   ]
  },
  {
   "cell_type": "code",
   "execution_count": 392,
   "metadata": {},
   "outputs": [
    {
     "data": {
      "text/html": [
       "<div>\n",
       "<style scoped>\n",
       "    .dataframe tbody tr th:only-of-type {\n",
       "        vertical-align: middle;\n",
       "    }\n",
       "\n",
       "    .dataframe tbody tr th {\n",
       "        vertical-align: top;\n",
       "    }\n",
       "\n",
       "    .dataframe thead th {\n",
       "        text-align: right;\n",
       "    }\n",
       "</style>\n",
       "<table border=\"1\" class=\"dataframe\">\n",
       "  <thead>\n",
       "    <tr style=\"text-align: right;\">\n",
       "      <th></th>\n",
       "      <th>PCI</th>\n",
       "      <th>PC2</th>\n",
       "    </tr>\n",
       "    <tr>\n",
       "      <th>coin_id</th>\n",
       "      <th></th>\n",
       "      <th></th>\n",
       "    </tr>\n",
       "  </thead>\n",
       "  <tbody>\n",
       "    <tr>\n",
       "      <th>bitcoin</th>\n",
       "      <td>-341.800963</td>\n",
       "      <td>-51.366775</td>\n",
       "    </tr>\n",
       "    <tr>\n",
       "      <th>ethereum</th>\n",
       "      <td>-249.420466</td>\n",
       "      <td>24.117548</td>\n",
       "    </tr>\n",
       "    <tr>\n",
       "      <th>tether</th>\n",
       "      <td>-402.614721</td>\n",
       "      <td>-118.710737</td>\n",
       "    </tr>\n",
       "    <tr>\n",
       "      <th>ripple</th>\n",
       "      <td>-406.752437</td>\n",
       "      <td>-79.487286</td>\n",
       "    </tr>\n",
       "    <tr>\n",
       "      <th>bitcoin-cash</th>\n",
       "      <td>-382.429948</td>\n",
       "      <td>-103.431959</td>\n",
       "    </tr>\n",
       "  </tbody>\n",
       "</table>\n",
       "</div>"
      ],
      "text/plain": [
       "                     PCI         PC2\n",
       "coin_id                             \n",
       "bitcoin      -341.800963  -51.366775\n",
       "ethereum     -249.420466   24.117548\n",
       "tether       -402.614721 -118.710737\n",
       "ripple       -406.752437  -79.487286\n",
       "bitcoin-cash -382.429948 -103.431959"
      ]
     },
     "execution_count": 392,
     "metadata": {},
     "output_type": "execute_result"
    }
   ],
   "source": [
    "# Create a new DataFrame with the PCA data.\n",
    "# Note: The code for this step is provided for you\n",
    "\n",
    "# Creating a DataFrame with the PCA data\n",
    "pca1_df = pd.DataFrame(pca_df, \n",
    "\n",
    "# Copy the crypto names from the original data and Set the coinid column as index\n",
    "index =  df_market_data_scaled_predictions.index, columns =['PCI', 'PC2'])\n",
    "\n",
    "# Display sample data\n",
    "pca1_df.head()"
   ]
  },
  {
   "cell_type": "markdown",
   "metadata": {},
   "source": [
    "---"
   ]
  },
  {
   "cell_type": "markdown",
   "metadata": {},
   "source": [
    "### Find the Best Value for k Using the PCA Data\n",
    "\n",
    "In this section, you will use the elbow method to find the best value for `k` using the PCA data.\n",
    "\n",
    "1. Code the elbow method algorithm and use the PCA data to find the best value for `k`. Use a range from 1 to 11. \n",
    "\n",
    "2. Plot a line chart with all the inertia values computed with the different values of `k` to visually identify the optimal value for `k`.\n",
    "\n",
    "3. Answer the following questions: What is the best value for k when using the PCA data? Does it differ from the best k value found using the original data?"
   ]
  },
  {
   "cell_type": "code",
   "execution_count": 393,
   "metadata": {},
   "outputs": [],
   "source": [
    "# Create a list with the number of k-values to try\n",
    "# Use a range from 1 to 11\n",
    "\n",
    "k = list(range(1, 11))"
   ]
  },
  {
   "cell_type": "code",
   "execution_count": 394,
   "metadata": {},
   "outputs": [],
   "source": [
    "# Create an empy list to store the inertia values\n",
    "inertia = []"
   ]
  },
  {
   "cell_type": "code",
   "execution_count": 395,
   "metadata": {},
   "outputs": [
    {
     "name": "stderr",
     "output_type": "stream",
     "text": [
      "C:\\Users\\egeor\\anaconda3\\envs\\pyviz\\lib\\site-packages\\sklearn\\cluster\\_kmeans.py:1040: UserWarning: KMeans is known to have a memory leak on Windows with MKL, when there are less chunks than available threads. You can avoid it by setting the environment variable OMP_NUM_THREADS=1.\n",
      "  \"KMeans is known to have a memory leak on Windows \"\n"
     ]
    }
   ],
   "source": [
    "# Create a for loop to compute the inertia with each possible value of k\n",
    "# Inside the loop:\n",
    "for i in k:\n",
    "    \n",
    "# 1. Create a KMeans model using the loop counter for the n_clusters\n",
    "    model = KMeans(n_clusters=i, random_state=0)\n",
    "    \n",
    "# 2. Fit the model to the data using `df_market_data_scaled`\n",
    "    model.fit(pca1_df)\n",
    "    \n",
    "# 3. Append the model.inertia_ to the inertia list\n",
    "    inertia.append(model.inertia_)"
   ]
  },
  {
   "cell_type": "code",
   "execution_count": 396,
   "metadata": {},
   "outputs": [],
   "source": [
    "# Create a dictionary with the data to plot the Elbow curve\n",
    "elbow_pca1_df = {\n",
    "    \"k\": k,\n",
    "    \"inertia\": inertia\n",
    "}\n",
    "\n",
    "# Create a DataFrame with the data to plot the elbow curve\n",
    "df2_elbow= pd.DataFrame(elbow_pca1_df)\n"
   ]
  },
  {
   "cell_type": "code",
   "execution_count": 397,
   "metadata": {},
   "outputs": [
    {
     "data": {},
     "metadata": {},
     "output_type": "display_data"
    },
    {
     "data": {
      "application/vnd.holoviews_exec.v0+json": "",
      "text/html": [
       "<div id='18253'>\n",
       "\n",
       "\n",
       "\n",
       "\n",
       "\n",
       "  <div class=\"bk-root\" id=\"381075ec-44f7-4987-9848-c7862e7d5c76\" data-root-id=\"18253\"></div>\n",
       "</div>\n",
       "<script type=\"application/javascript\">(function(root) {\n",
       "  function embed_document(root) {\n",
       "    var docs_json = {\"7138ba3e-2f83-4ef2-9127-2a4c8f84d8f7\":{\"defs\":[{\"extends\":null,\"module\":null,\"name\":\"ReactiveHTML1\",\"overrides\":[],\"properties\":[]},{\"extends\":null,\"module\":null,\"name\":\"FlexBox1\",\"overrides\":[],\"properties\":[{\"default\":\"flex-start\",\"kind\":null,\"name\":\"align_content\"},{\"default\":\"flex-start\",\"kind\":null,\"name\":\"align_items\"},{\"default\":\"row\",\"kind\":null,\"name\":\"flex_direction\"},{\"default\":\"wrap\",\"kind\":null,\"name\":\"flex_wrap\"},{\"default\":\"flex-start\",\"kind\":null,\"name\":\"justify_content\"}]},{\"extends\":null,\"module\":null,\"name\":\"TemplateActions1\",\"overrides\":[],\"properties\":[{\"default\":0,\"kind\":null,\"name\":\"open_modal\"},{\"default\":0,\"kind\":null,\"name\":\"close_modal\"}]},{\"extends\":null,\"module\":null,\"name\":\"MaterialTemplateActions1\",\"overrides\":[],\"properties\":[{\"default\":0,\"kind\":null,\"name\":\"open_modal\"},{\"default\":0,\"kind\":null,\"name\":\"close_modal\"}]}],\"roots\":{\"references\":[{\"attributes\":{\"margin\":[5,5,5,5],\"name\":\"HSpacer37787\",\"sizing_mode\":\"stretch_width\"},\"id\":\"18254\",\"type\":\"Spacer\"},{\"attributes\":{},\"id\":\"18305\",\"type\":\"AllLabels\"},{\"attributes\":{\"callback\":null,\"renderers\":[{\"id\":\"18294\"}],\"tags\":[\"hv_created\"],\"tooltips\":[[\"k\",\"@{k}\"],[\"inertia\",\"@{inertia}\"]]},\"id\":\"18257\",\"type\":\"HoverTool\"},{\"attributes\":{},\"id\":\"18277\",\"type\":\"WheelZoomTool\"},{\"attributes\":{\"source\":{\"id\":\"18288\"}},\"id\":\"18295\",\"type\":\"CDSView\"},{\"attributes\":{\"line_color\":\"#30a2da\",\"line_width\":2,\"x\":{\"field\":\"k\"},\"y\":{\"field\":\"inertia\"}},\"id\":\"18296\",\"type\":\"Line\"},{\"attributes\":{\"axis_label\":\"inertia\",\"formatter\":{\"id\":\"18304\"},\"major_label_policy\":{\"id\":\"18305\"},\"ticker\":{\"id\":\"18272\"}},\"id\":\"18271\",\"type\":\"LinearAxis\"},{\"attributes\":{\"data_source\":{\"id\":\"18288\"},\"glyph\":{\"id\":\"18291\"},\"hover_glyph\":null,\"muted_glyph\":{\"id\":\"18293\"},\"nonselection_glyph\":{\"id\":\"18292\"},\"selection_glyph\":{\"id\":\"18296\"},\"view\":{\"id\":\"18295\"}},\"id\":\"18294\",\"type\":\"GlyphRenderer\"},{\"attributes\":{\"data\":{\"inertia\":{\"__ndarray__\":\"9gbxFnerkEHQGmpqcwFfQSRhnleLXUNBzZEg7QVCKEGoePI7njEYQbyZ54GzIAxBCB13YiHMA0GlV47K+BT+QE7xLoytqfRAbDPfMBcA8EA=\",\"dtype\":\"float64\",\"order\":\"little\",\"shape\":[10]},\"k\":[1,2,3,4,5,6,7,8,9,10]},\"selected\":{\"id\":\"18289\"},\"selection_policy\":{\"id\":\"18313\"}},\"id\":\"18288\",\"type\":\"ColumnDataSource\"},{\"attributes\":{\"children\":[{\"id\":\"18254\"},{\"id\":\"18258\"},{\"id\":\"18324\"}],\"margin\":[0,0,0,0],\"name\":\"Row37783\",\"tags\":[\"embedded\"]},\"id\":\"18253\",\"type\":\"Row\"},{\"attributes\":{},\"id\":\"18300\",\"type\":\"AllLabels\"},{\"attributes\":{},\"id\":\"18289\",\"type\":\"Selection\"},{\"attributes\":{},\"id\":\"18272\",\"type\":\"BasicTicker\"},{\"attributes\":{\"end\":10.0,\"reset_end\":10.0,\"reset_start\":1.0,\"start\":1.0,\"tags\":[[[\"k\",\"k\",null]]]},\"id\":\"18255\",\"type\":\"Range1d\"},{\"attributes\":{\"line_alpha\":0.1,\"line_color\":\"#30a2da\",\"line_width\":2,\"x\":{\"field\":\"k\"},\"y\":{\"field\":\"inertia\"}},\"id\":\"18292\",\"type\":\"Line\"},{\"attributes\":{\"line_alpha\":0.2,\"line_color\":\"#30a2da\",\"line_width\":2,\"x\":{\"field\":\"k\"},\"y\":{\"field\":\"inertia\"}},\"id\":\"18293\",\"type\":\"Line\"},{\"attributes\":{},\"id\":\"18313\",\"type\":\"UnionRenderers\"},{\"attributes\":{\"below\":[{\"id\":\"18267\"}],\"center\":[{\"id\":\"18270\"},{\"id\":\"18274\"}],\"height\":300,\"left\":[{\"id\":\"18271\"}],\"margin\":[5,5,5,5],\"min_border_bottom\":10,\"min_border_left\":10,\"min_border_right\":10,\"min_border_top\":10,\"renderers\":[{\"id\":\"18294\"}],\"sizing_mode\":\"fixed\",\"title\":{\"id\":\"18259\"},\"toolbar\":{\"id\":\"18281\"},\"width\":700,\"x_range\":{\"id\":\"18255\"},\"x_scale\":{\"id\":\"18263\"},\"y_range\":{\"id\":\"18256\"},\"y_scale\":{\"id\":\"18265\"}},\"id\":\"18258\",\"subtype\":\"Figure\",\"type\":\"Plot\"},{\"attributes\":{},\"id\":\"18265\",\"type\":\"LinearScale\"},{\"attributes\":{\"text\":\"Elbow Curve\",\"text_color\":\"black\",\"text_font_size\":\"12pt\"},\"id\":\"18259\",\"type\":\"Title\"},{\"attributes\":{\"axis\":{\"id\":\"18267\"},\"grid_line_color\":null,\"ticker\":null},\"id\":\"18270\",\"type\":\"Grid\"},{\"attributes\":{},\"id\":\"18279\",\"type\":\"ResetTool\"},{\"attributes\":{\"axis_label\":\"k\",\"formatter\":{\"id\":\"18299\"},\"major_label_policy\":{\"id\":\"18300\"},\"ticker\":{\"id\":\"18297\"}},\"id\":\"18267\",\"type\":\"LinearAxis\"},{\"attributes\":{},\"id\":\"18299\",\"type\":\"BasicTickFormatter\"},{\"attributes\":{\"ticks\":[1,2,3,4,5,6,7,8,9,10]},\"id\":\"18297\",\"type\":\"FixedTicker\"},{\"attributes\":{\"margin\":[5,5,5,5],\"name\":\"HSpacer37788\",\"sizing_mode\":\"stretch_width\"},\"id\":\"18324\",\"type\":\"Spacer\"},{\"attributes\":{\"overlay\":{\"id\":\"18280\"}},\"id\":\"18278\",\"type\":\"BoxZoomTool\"},{\"attributes\":{},\"id\":\"18304\",\"type\":\"BasicTickFormatter\"},{\"attributes\":{\"axis\":{\"id\":\"18271\"},\"dimension\":1,\"grid_line_color\":null,\"ticker\":null},\"id\":\"18274\",\"type\":\"Grid\"},{\"attributes\":{\"line_color\":\"#30a2da\",\"line_width\":2,\"x\":{\"field\":\"k\"},\"y\":{\"field\":\"inertia\"}},\"id\":\"18291\",\"type\":\"Line\"},{\"attributes\":{},\"id\":\"18276\",\"type\":\"PanTool\"},{\"attributes\":{\"bottom_units\":\"screen\",\"fill_alpha\":0.5,\"fill_color\":\"lightgrey\",\"left_units\":\"screen\",\"level\":\"overlay\",\"line_alpha\":1.0,\"line_color\":\"black\",\"line_dash\":[4,4],\"line_width\":2,\"right_units\":\"screen\",\"syncable\":false,\"top_units\":\"screen\"},\"id\":\"18280\",\"type\":\"BoxAnnotation\"},{\"attributes\":{\"active_multi\":null,\"tools\":[{\"id\":\"18257\"},{\"id\":\"18275\"},{\"id\":\"18276\"},{\"id\":\"18277\"},{\"id\":\"18278\"},{\"id\":\"18279\"}]},\"id\":\"18281\",\"type\":\"Toolbar\"},{\"attributes\":{},\"id\":\"18263\",\"type\":\"LinearScale\"},{\"attributes\":{},\"id\":\"18275\",\"type\":\"SaveTool\"},{\"attributes\":{\"end\":76903410.96397276,\"reset_end\":76903410.96397276,\"reset_start\":-6919723.779163039,\"start\":-6919723.779163039,\"tags\":[[[\"inertia\",\"inertia\",null]]]},\"id\":\"18256\",\"type\":\"Range1d\"}],\"root_ids\":[\"18253\"]},\"title\":\"Bokeh Application\",\"version\":\"2.3.2\"}};\n",
       "    var render_items = [{\"docid\":\"7138ba3e-2f83-4ef2-9127-2a4c8f84d8f7\",\"root_ids\":[\"18253\"],\"roots\":{\"18253\":\"381075ec-44f7-4987-9848-c7862e7d5c76\"}}];\n",
       "    root.Bokeh.embed.embed_items_notebook(docs_json, render_items);\n",
       "  }\n",
       "  if (root.Bokeh !== undefined && root.Bokeh.Panel !== undefined) {\n",
       "    embed_document(root);\n",
       "  } else {\n",
       "    var attempts = 0;\n",
       "    var timer = setInterval(function(root) {\n",
       "      if (root.Bokeh !== undefined && root.Bokeh.Panel !== undefined) {\n",
       "        clearInterval(timer);\n",
       "        embed_document(root);\n",
       "      } else if (document.readyState == \"complete\") {\n",
       "        attempts++;\n",
       "        if (attempts > 200) {\n",
       "          clearInterval(timer);\n",
       "          console.log(\"Bokeh: ERROR: Unable to run BokehJS code because BokehJS library is missing\");\n",
       "        }\n",
       "      }\n",
       "    }, 25, root)\n",
       "  }\n",
       "})(window);</script>"
      ],
      "text/plain": [
       ":Curve   [k]   (inertia)"
      ]
     },
     "execution_count": 397,
     "metadata": {
      "application/vnd.holoviews_exec.v0+json": {
       "id": "18253"
      }
     },
     "output_type": "execute_result"
    }
   ],
   "source": [
    "# Plot a line chart with all the inertia values computed with \n",
    "# the different values of k to visually identify the optimal value for k.\n",
    "df2_elbow.hvplot.line(x=\"k\", y=\"inertia\", title=\"Elbow Curve\", xticks=k)"
   ]
  },
  {
   "cell_type": "markdown",
   "metadata": {},
   "source": [
    "#### Answer the following questions: What is the best value for k when using the PCA data? Does it differ from the best k value found using the original data?\n",
    "* **Question:** What is the best value for `k` when using the PCA data?\n",
    "\n",
    "  * **Answer:** The best value of k=3 as this is where the curve flattens out like an elbow\n",
    "\n",
    "\n",
    "* **Question:** Does it differ from the best k value found using the original data?\n",
    "\n",
    "  * **Answer:** Yes it differs, the original k value was 4"
   ]
  },
  {
   "cell_type": "markdown",
   "metadata": {},
   "source": [
    "---"
   ]
  },
  {
   "cell_type": "markdown",
   "metadata": {},
   "source": [
    "### Cluster Cryptocurrencies with K-means Using the PCA Data\n",
    "\n",
    "In this section, you will use the PCA data and the K-Means algorithm with the best value for `k` found in the previous section to cluster the cryptocurrencies according to the principal components.\n",
    "\n",
    "1. Initialize the K-Means model with four clusters using the best value for `k`. \n",
    "\n",
    "2. Fit the K-Means model using the PCA data.\n",
    "\n",
    "3. Predict the clusters to group the cryptocurrencies using the PCA data. View the resulting array of cluster values.\n",
    "\n",
    "4. Add a new column to the DataFrame with the PCA data to store the predicted clusters.\n",
    "\n",
    "5. Create a scatter plot using hvPlot by setting `x=\"price_change_percentage_24h\"` and `y=\"price_change_percentage_7d\"`. Color the graph points with the labels found using K-Means and add the crypto name in the `hover_cols` parameter to identify the cryptocurrency represented by each data point."
   ]
  },
  {
   "cell_type": "code",
   "execution_count": 398,
   "metadata": {},
   "outputs": [],
   "source": [
    "# Initialize the K-Means model using the best value for k\n",
    "model_k3 = KMeans(n_clusters=3)"
   ]
  },
  {
   "cell_type": "code",
   "execution_count": 399,
   "metadata": {},
   "outputs": [
    {
     "data": {
      "text/plain": [
       "KMeans(n_clusters=3)"
      ]
     },
     "execution_count": 399,
     "metadata": {},
     "output_type": "execute_result"
    }
   ],
   "source": [
    "# Fit the K-Means model using the PCA data\n",
    "model_k3.fit(pca1_df)"
   ]
  },
  {
   "cell_type": "code",
   "execution_count": 400,
   "metadata": {},
   "outputs": [
    {
     "data": {
      "text/plain": [
       "array([0, 0, 0, 0, 0, 0, 0, 0, 0, 0, 0, 0, 0, 0, 0, 0, 0, 0, 0, 0, 0, 0,\n",
       "       0, 0, 0, 0, 0, 0, 0, 0, 0, 0, 1, 0, 0, 0, 2, 0, 0, 0, 0])"
      ]
     },
     "execution_count": 400,
     "metadata": {},
     "output_type": "execute_result"
    }
   ],
   "source": [
    "# Predict the clusters to group the cryptocurrencies using the PCA data\n",
    "cryptocurrencies_clusters_k3 = model_k3.predict(pca1_df)\n",
    "\n",
    "# View the resulting array of cluster values.\n",
    "cryptocurrencies_clusters_k3"
   ]
  },
  {
   "cell_type": "code",
   "execution_count": 401,
   "metadata": {},
   "outputs": [
    {
     "data": {
      "text/html": [
       "<div>\n",
       "<style scoped>\n",
       "    .dataframe tbody tr th:only-of-type {\n",
       "        vertical-align: middle;\n",
       "    }\n",
       "\n",
       "    .dataframe tbody tr th {\n",
       "        vertical-align: top;\n",
       "    }\n",
       "\n",
       "    .dataframe thead th {\n",
       "        text-align: right;\n",
       "    }\n",
       "</style>\n",
       "<table border=\"1\" class=\"dataframe\">\n",
       "  <thead>\n",
       "    <tr style=\"text-align: right;\">\n",
       "      <th></th>\n",
       "      <th>PCI</th>\n",
       "      <th>PC2</th>\n",
       "      <th>cryptocurrencies clusters (k=3)</th>\n",
       "    </tr>\n",
       "    <tr>\n",
       "      <th>coin_id</th>\n",
       "      <th></th>\n",
       "      <th></th>\n",
       "      <th></th>\n",
       "    </tr>\n",
       "  </thead>\n",
       "  <tbody>\n",
       "    <tr>\n",
       "      <th>bitcoin</th>\n",
       "      <td>-341.800963</td>\n",
       "      <td>-51.366775</td>\n",
       "      <td>0</td>\n",
       "    </tr>\n",
       "    <tr>\n",
       "      <th>ethereum</th>\n",
       "      <td>-249.420466</td>\n",
       "      <td>24.117548</td>\n",
       "      <td>0</td>\n",
       "    </tr>\n",
       "    <tr>\n",
       "      <th>tether</th>\n",
       "      <td>-402.614721</td>\n",
       "      <td>-118.710737</td>\n",
       "      <td>0</td>\n",
       "    </tr>\n",
       "    <tr>\n",
       "      <th>ripple</th>\n",
       "      <td>-406.752437</td>\n",
       "      <td>-79.487286</td>\n",
       "      <td>0</td>\n",
       "    </tr>\n",
       "    <tr>\n",
       "      <th>bitcoin-cash</th>\n",
       "      <td>-382.429948</td>\n",
       "      <td>-103.431959</td>\n",
       "      <td>0</td>\n",
       "    </tr>\n",
       "  </tbody>\n",
       "</table>\n",
       "</div>"
      ],
      "text/plain": [
       "                     PCI         PC2  cryptocurrencies clusters (k=3)\n",
       "coin_id                                                              \n",
       "bitcoin      -341.800963  -51.366775                                0\n",
       "ethereum     -249.420466   24.117548                                0\n",
       "tether       -402.614721 -118.710737                                0\n",
       "ripple       -406.752437  -79.487286                                0\n",
       "bitcoin-cash -382.429948 -103.431959                                0"
      ]
     },
     "execution_count": 401,
     "metadata": {},
     "output_type": "execute_result"
    }
   ],
   "source": [
    "# Create a copy of the DataFrame with the PCA data\n",
    "crypto_df = pca1_df.copy()\n",
    "\n",
    "# Add a new column to the DataFrame with the predicted clusters\n",
    "crypto_df[\"cryptocurrencies clusters (k=3)\"] = cryptocurrencies_clusters_k3\n",
    "\n",
    "# Display sample data\n",
    "crypto_df.head()\n"
   ]
  },
  {
   "cell_type": "code",
   "execution_count": 402,
   "metadata": {},
   "outputs": [
    {
     "data": {},
     "metadata": {},
     "output_type": "display_data"
    },
    {
     "data": {
      "application/vnd.holoviews_exec.v0+json": "",
      "text/html": [
       "<div id='18371'>\n",
       "\n",
       "\n",
       "\n",
       "\n",
       "\n",
       "  <div class=\"bk-root\" id=\"9fc37ecf-235e-438d-b940-dece85604a1b\" data-root-id=\"18371\"></div>\n",
       "</div>\n",
       "<script type=\"application/javascript\">(function(root) {\n",
       "  function embed_document(root) {\n",
       "    var docs_json = {\"ffe629bb-19bb-4b0e-95a3-6965933f9821\":{\"defs\":[{\"extends\":null,\"module\":null,\"name\":\"ReactiveHTML1\",\"overrides\":[],\"properties\":[]},{\"extends\":null,\"module\":null,\"name\":\"FlexBox1\",\"overrides\":[],\"properties\":[{\"default\":\"flex-start\",\"kind\":null,\"name\":\"align_content\"},{\"default\":\"flex-start\",\"kind\":null,\"name\":\"align_items\"},{\"default\":\"row\",\"kind\":null,\"name\":\"flex_direction\"},{\"default\":\"wrap\",\"kind\":null,\"name\":\"flex_wrap\"},{\"default\":\"flex-start\",\"kind\":null,\"name\":\"justify_content\"}]},{\"extends\":null,\"module\":null,\"name\":\"TemplateActions1\",\"overrides\":[],\"properties\":[{\"default\":0,\"kind\":null,\"name\":\"open_modal\"},{\"default\":0,\"kind\":null,\"name\":\"close_modal\"}]},{\"extends\":null,\"module\":null,\"name\":\"MaterialTemplateActions1\",\"overrides\":[],\"properties\":[{\"default\":0,\"kind\":null,\"name\":\"open_modal\"},{\"default\":0,\"kind\":null,\"name\":\"close_modal\"}]}],\"roots\":{\"references\":[{\"attributes\":{},\"id\":\"18399\",\"type\":\"ResetTool\"},{\"attributes\":{\"children\":[{\"id\":\"18372\"},{\"id\":\"18378\"},{\"id\":\"18607\"}],\"margin\":[0,0,0,0],\"name\":\"Row38013\",\"tags\":[\"embedded\"]},\"id\":\"18371\",\"type\":\"Row\"},{\"attributes\":{\"axis\":{\"id\":\"18387\"},\"grid_line_color\":null,\"ticker\":null},\"id\":\"18390\",\"type\":\"Grid\"},{\"attributes\":{\"fill_color\":{\"value\":\"#fc4f30\"},\"line_color\":{\"value\":\"#fc4f30\"},\"size\":{\"value\":5.477225575051661},\"x\":{\"field\":\"PC2\"},\"y\":{\"field\":\"PCI\"}},\"id\":\"18438\",\"type\":\"Scatter\"},{\"attributes\":{},\"id\":\"18415\",\"type\":\"Selection\"},{\"attributes\":{\"below\":[{\"id\":\"18387\"}],\"center\":[{\"id\":\"18390\"},{\"id\":\"18394\"}],\"height\":300,\"left\":[{\"id\":\"18391\"}],\"margin\":[5,5,5,5],\"min_border_bottom\":10,\"min_border_left\":10,\"min_border_right\":10,\"min_border_top\":10,\"renderers\":[{\"id\":\"18420\"},{\"id\":\"18441\"},{\"id\":\"18463\"}],\"right\":[{\"id\":\"18432\"}],\"sizing_mode\":\"fixed\",\"title\":{\"id\":\"18379\"},\"toolbar\":{\"id\":\"18401\"},\"width\":700,\"x_range\":{\"id\":\"18373\"},\"x_scale\":{\"id\":\"18383\"},\"y_range\":{\"id\":\"18374\"},\"y_scale\":{\"id\":\"18385\"}},\"id\":\"18378\",\"subtype\":\"Figure\",\"type\":\"Plot\"},{\"attributes\":{\"fill_alpha\":{\"value\":0.2},\"fill_color\":{\"value\":\"#fc4f30\"},\"line_alpha\":{\"value\":0.2},\"line_color\":{\"value\":\"#fc4f30\"},\"size\":{\"value\":5.477225575051661},\"x\":{\"field\":\"PC2\"},\"y\":{\"field\":\"PCI\"}},\"id\":\"18440\",\"type\":\"Scatter\"},{\"attributes\":{\"data_source\":{\"id\":\"18457\"},\"glyph\":{\"id\":\"18460\"},\"hover_glyph\":null,\"muted_glyph\":{\"id\":\"18462\"},\"nonselection_glyph\":{\"id\":\"18461\"},\"selection_glyph\":{\"id\":\"18480\"},\"view\":{\"id\":\"18464\"}},\"id\":\"18463\",\"type\":\"GlyphRenderer\"},{\"attributes\":{\"active_multi\":null,\"tools\":[{\"id\":\"18375\"},{\"id\":\"18395\"},{\"id\":\"18396\"},{\"id\":\"18397\"},{\"id\":\"18398\"},{\"id\":\"18399\"}]},\"id\":\"18401\",\"type\":\"Toolbar\"},{\"attributes\":{\"end\":8572.78000025518,\"reset_end\":8572.78000025518,\"reset_start\":-1231.239611225351,\"start\":-1231.239611225351,\"tags\":[[[\"PCI\",\"PCI\",null]]]},\"id\":\"18374\",\"type\":\"Range1d\"},{\"attributes\":{\"margin\":[5,5,5,5],\"name\":\"HSpacer38017\",\"sizing_mode\":\"stretch_width\"},\"id\":\"18372\",\"type\":\"Spacer\"},{\"attributes\":{},\"id\":\"18388\",\"type\":\"BasicTicker\"},{\"attributes\":{\"axis_label\":\"PC2\",\"formatter\":{\"id\":\"18409\"},\"major_label_policy\":{\"id\":\"18410\"},\"ticker\":{\"id\":\"18388\"}},\"id\":\"18387\",\"type\":\"LinearAxis\"},{\"attributes\":{\"end\":874.636777483805,\"reset_end\":874.636777483805,\"reset_start\":-412.79187149190795,\"start\":-412.79187149190795,\"tags\":[[[\"PC2\",\"PC2\",null]]]},\"id\":\"18373\",\"type\":\"Range1d\"},{\"attributes\":{},\"id\":\"18383\",\"type\":\"LinearScale\"},{\"attributes\":{\"axis_label\":\"PCI\",\"formatter\":{\"id\":\"18412\"},\"major_label_policy\":{\"id\":\"18413\"},\"ticker\":{\"id\":\"18392\"}},\"id\":\"18391\",\"type\":\"LinearAxis\"},{\"attributes\":{},\"id\":\"18453\",\"type\":\"UnionRenderers\"},{\"attributes\":{},\"id\":\"18385\",\"type\":\"LinearScale\"},{\"attributes\":{},\"id\":\"18396\",\"type\":\"PanTool\"},{\"attributes\":{},\"id\":\"18413\",\"type\":\"AllLabels\"},{\"attributes\":{\"fill_alpha\":{\"value\":0.2},\"fill_color\":{\"value\":\"#30a2da\"},\"line_alpha\":{\"value\":0.2},\"line_color\":{\"value\":\"#30a2da\"},\"size\":{\"value\":5.477225575051661},\"x\":{\"field\":\"PC2\"},\"y\":{\"field\":\"PCI\"}},\"id\":\"18419\",\"type\":\"Scatter\"},{\"attributes\":{},\"id\":\"18458\",\"type\":\"Selection\"},{\"attributes\":{},\"id\":\"18395\",\"type\":\"SaveTool\"},{\"attributes\":{\"data\":{\"PC2\":{\"__ndarray__\":\"p6iMrYm+iUA=\",\"dtype\":\"float64\",\"order\":\"little\",\"shape\":[1]},\"PCI\":{\"__ndarray__\":\"oiIlf0gnn0A=\",\"dtype\":\"float64\",\"order\":\"little\",\"shape\":[1]},\"cryptocurrencies_clusters_left_parenthesis_k_equals_3_right_parenthesis\":[2]},\"selected\":{\"id\":\"18458\"},\"selection_policy\":{\"id\":\"18477\"}},\"id\":\"18457\",\"type\":\"ColumnDataSource\"},{\"attributes\":{},\"id\":\"18436\",\"type\":\"Selection\"},{\"attributes\":{\"axis\":{\"id\":\"18391\"},\"dimension\":1,\"grid_line_color\":null,\"ticker\":null},\"id\":\"18394\",\"type\":\"Grid\"},{\"attributes\":{\"callback\":null,\"renderers\":[{\"id\":\"18420\"},{\"id\":\"18441\"},{\"id\":\"18463\"}],\"tags\":[\"hv_created\"],\"tooltips\":[[\"cryptocurrencies clusters (k=3)\",\"@{cryptocurrencies_clusters_left_parenthesis_k_equals_3_right_parenthesis}\"],[\"PC2\",\"@{PC2}\"],[\"PCI\",\"@{PCI}\"]]},\"id\":\"18375\",\"type\":\"HoverTool\"},{\"attributes\":{\"source\":{\"id\":\"18457\"}},\"id\":\"18464\",\"type\":\"CDSView\"},{\"attributes\":{\"bottom_units\":\"screen\",\"fill_alpha\":0.5,\"fill_color\":\"lightgrey\",\"left_units\":\"screen\",\"level\":\"overlay\",\"line_alpha\":1.0,\"line_color\":\"black\",\"line_dash\":[4,4],\"line_width\":2,\"right_units\":\"screen\",\"syncable\":false,\"top_units\":\"screen\"},\"id\":\"18400\",\"type\":\"BoxAnnotation\"},{\"attributes\":{},\"id\":\"18477\",\"type\":\"UnionRenderers\"},{\"attributes\":{\"angle\":{\"value\":0.0},\"fill_alpha\":{\"value\":1.0},\"fill_color\":{\"value\":\"#e5ae38\"},\"hatch_alpha\":{\"value\":1.0},\"hatch_color\":{\"value\":\"black\"},\"hatch_scale\":{\"value\":12.0},\"hatch_weight\":{\"value\":1.0},\"line_alpha\":{\"value\":1.0},\"line_cap\":{\"value\":\"butt\"},\"line_color\":{\"value\":\"#e5ae38\"},\"line_dash\":{\"value\":[]},\"line_dash_offset\":{\"value\":0},\"line_join\":{\"value\":\"bevel\"},\"line_width\":{\"value\":1},\"marker\":{\"value\":\"circle\"},\"size\":{\"value\":5.477225575051661},\"x\":{\"field\":\"PC2\"},\"y\":{\"field\":\"PCI\"}},\"id\":\"18480\",\"type\":\"Scatter\"},{\"attributes\":{\"click_policy\":\"mute\",\"items\":[{\"id\":\"18433\"},{\"id\":\"18455\"},{\"id\":\"18479\"}],\"location\":[0,0],\"title\":\"cryptocurrencies clusters (k=3)\"},\"id\":\"18432\",\"type\":\"Legend\"},{\"attributes\":{},\"id\":\"18410\",\"type\":\"AllLabels\"},{\"attributes\":{\"fill_alpha\":{\"value\":0.1},\"fill_color\":{\"value\":\"#30a2da\"},\"line_alpha\":{\"value\":0.1},\"line_color\":{\"value\":\"#30a2da\"},\"size\":{\"value\":5.477225575051661},\"x\":{\"field\":\"PC2\"},\"y\":{\"field\":\"PCI\"}},\"id\":\"18418\",\"type\":\"Scatter\"},{\"attributes\":{\"fill_color\":{\"value\":\"#30a2da\"},\"line_color\":{\"value\":\"#30a2da\"},\"size\":{\"value\":5.477225575051661},\"x\":{\"field\":\"PC2\"},\"y\":{\"field\":\"PCI\"}},\"id\":\"18417\",\"type\":\"Scatter\"},{\"attributes\":{\"data_source\":{\"id\":\"18414\"},\"glyph\":{\"id\":\"18417\"},\"hover_glyph\":null,\"muted_glyph\":{\"id\":\"18419\"},\"nonselection_glyph\":{\"id\":\"18418\"},\"selection_glyph\":{\"id\":\"18434\"},\"view\":{\"id\":\"18421\"}},\"id\":\"18420\",\"type\":\"GlyphRenderer\"},{\"attributes\":{\"fill_color\":{\"value\":\"#e5ae38\"},\"line_color\":{\"value\":\"#e5ae38\"},\"size\":{\"value\":5.477225575051661},\"x\":{\"field\":\"PC2\"},\"y\":{\"field\":\"PCI\"}},\"id\":\"18460\",\"type\":\"Scatter\"},{\"attributes\":{},\"id\":\"18412\",\"type\":\"BasicTickFormatter\"},{\"attributes\":{\"data_source\":{\"id\":\"18435\"},\"glyph\":{\"id\":\"18438\"},\"hover_glyph\":null,\"muted_glyph\":{\"id\":\"18440\"},\"nonselection_glyph\":{\"id\":\"18439\"},\"selection_glyph\":{\"id\":\"18456\"},\"view\":{\"id\":\"18442\"}},\"id\":\"18441\",\"type\":\"GlyphRenderer\"},{\"attributes\":{\"label\":{\"value\":\"0\"},\"renderers\":[{\"id\":\"18420\"}]},\"id\":\"18433\",\"type\":\"LegendItem\"},{\"attributes\":{\"label\":{\"value\":\"1\"},\"renderers\":[{\"id\":\"18441\"}]},\"id\":\"18455\",\"type\":\"LegendItem\"},{\"attributes\":{\"fill_alpha\":{\"value\":0.2},\"fill_color\":{\"value\":\"#e5ae38\"},\"line_alpha\":{\"value\":0.2},\"line_color\":{\"value\":\"#e5ae38\"},\"size\":{\"value\":5.477225575051661},\"x\":{\"field\":\"PC2\"},\"y\":{\"field\":\"PCI\"}},\"id\":\"18462\",\"type\":\"Scatter\"},{\"attributes\":{\"source\":{\"id\":\"18435\"}},\"id\":\"18442\",\"type\":\"CDSView\"},{\"attributes\":{},\"id\":\"18430\",\"type\":\"UnionRenderers\"},{\"attributes\":{\"angle\":{\"value\":0.0},\"fill_alpha\":{\"value\":1.0},\"fill_color\":{\"value\":\"#30a2da\"},\"hatch_alpha\":{\"value\":1.0},\"hatch_color\":{\"value\":\"black\"},\"hatch_scale\":{\"value\":12.0},\"hatch_weight\":{\"value\":1.0},\"line_alpha\":{\"value\":1.0},\"line_cap\":{\"value\":\"butt\"},\"line_color\":{\"value\":\"#30a2da\"},\"line_dash\":{\"value\":[]},\"line_dash_offset\":{\"value\":0},\"line_join\":{\"value\":\"bevel\"},\"line_width\":{\"value\":1},\"marker\":{\"value\":\"circle\"},\"size\":{\"value\":5.477225575051661},\"x\":{\"field\":\"PC2\"},\"y\":{\"field\":\"PCI\"}},\"id\":\"18434\",\"type\":\"Scatter\"},{\"attributes\":{\"angle\":{\"value\":0.0},\"fill_alpha\":{\"value\":1.0},\"fill_color\":{\"value\":\"#fc4f30\"},\"hatch_alpha\":{\"value\":1.0},\"hatch_color\":{\"value\":\"black\"},\"hatch_scale\":{\"value\":12.0},\"hatch_weight\":{\"value\":1.0},\"line_alpha\":{\"value\":1.0},\"line_cap\":{\"value\":\"butt\"},\"line_color\":{\"value\":\"#fc4f30\"},\"line_dash\":{\"value\":[]},\"line_dash_offset\":{\"value\":0},\"line_join\":{\"value\":\"bevel\"},\"line_width\":{\"value\":1},\"marker\":{\"value\":\"circle\"},\"size\":{\"value\":5.477225575051661},\"x\":{\"field\":\"PC2\"},\"y\":{\"field\":\"PCI\"}},\"id\":\"18456\",\"type\":\"Scatter\"},{\"attributes\":{\"fill_alpha\":{\"value\":0.1},\"fill_color\":{\"value\":\"#e5ae38\"},\"line_alpha\":{\"value\":0.1},\"line_color\":{\"value\":\"#e5ae38\"},\"size\":{\"value\":5.477225575051661},\"x\":{\"field\":\"PC2\"},\"y\":{\"field\":\"PCI\"}},\"id\":\"18461\",\"type\":\"Scatter\"},{\"attributes\":{\"text_color\":\"black\",\"text_font_size\":\"12pt\"},\"id\":\"18379\",\"type\":\"Title\"},{\"attributes\":{\"overlay\":{\"id\":\"18400\"}},\"id\":\"18398\",\"type\":\"BoxZoomTool\"},{\"attributes\":{\"fill_alpha\":{\"value\":0.1},\"fill_color\":{\"value\":\"#fc4f30\"},\"line_alpha\":{\"value\":0.1},\"line_color\":{\"value\":\"#fc4f30\"},\"size\":{\"value\":5.477225575051661},\"x\":{\"field\":\"PC2\"},\"y\":{\"field\":\"PCI\"}},\"id\":\"18439\",\"type\":\"Scatter\"},{\"attributes\":{\"label\":{\"value\":\"2\"},\"renderers\":[{\"id\":\"18463\"}]},\"id\":\"18479\",\"type\":\"LegendItem\"},{\"attributes\":{},\"id\":\"18392\",\"type\":\"BasicTicker\"},{\"attributes\":{},\"id\":\"18409\",\"type\":\"BasicTickFormatter\"},{\"attributes\":{\"source\":{\"id\":\"18414\"}},\"id\":\"18421\",\"type\":\"CDSView\"},{\"attributes\":{},\"id\":\"18397\",\"type\":\"WheelZoomTool\"},{\"attributes\":{\"data\":{\"PC2\":{\"__ndarray__\":\"0u29f/KuScAPiWCcFx44QM2HzLh8rV3AwzTRsi/fU8CHBaE3pdtZwNQYwfMHkyhA2Lu4qJ1fY0BQYUVllQ9UQAsNtSQd8lbAr9C8lyHpYcCeD/E0Sinsv7yCz3mltV3ADAJEsDZxWcCwooVQ1vwgQNsQBd/n5yfAYtyAXsn5X8CZljNVETNfwGIpjT4XjUjAjk4YhF93PkA/t/Oi5sZdwHUsXAVwmyHArHbMtkiLScDeweKqu6NbwPobY3BV0FXAxPWrkxGbQkANlJ+P9apdwJ5RXEYyKUHAHNz0YjlrUEAQIT6OfQM/wJW3Y3P3IIBANed+I61AXcCjRLam7AldwKIcEaQPAkfAo3qEMnH3b0AZoeFCeah1QNXnSFwn/FHAnyi0teWyXMBjIkUCo7ldwNnMWC3BM3FA\",\"dtype\":\"float64\",\"order\":\"little\",\"shape\":[39]},\"PCI\":{\"__ndarray__\":\"s5c+vtBcdcDdm891dC1vwA7EceXVKXnA8ZiK+wlsecDi5AkR4eZ3wFFN0RQAEnLAQoTercImPED9rpl2otBlwD5ZYT/QaXnA4rX8p4Rzc8BlmDz3t99FwLAwWfDTLXnAhCXnwM7jecB+j3qFMRprwBaJkcEmI3PAMfwByFUHcMAVf5E/XOhvwGdydiFTxXbA3hvEiILDcMAiVIM4YDB5wP+zQTgutWzAl/X0NsFadcCskFVqvZt3wKEeH2rG6HbAkR5dmqQxYsAMlkw7iCd5wKif9a1Wo3fA7Y3ZIkMRYMDjjm1aWu9xwFClBTz+oIBAINBVHog1ecBf7+gxP1J4wJtOR2pq/XbAKbuEl9f3ekC5KbtJxepTQDnxA2Mj6XjAgtgGi5YXbMAByrn0VyR5wG0lLNgDiFTA\",\"dtype\":\"float64\",\"order\":\"little\",\"shape\":[39]},\"cryptocurrencies_clusters_left_parenthesis_k_equals_3_right_parenthesis\":[0,0,0,0,0,0,0,0,0,0,0,0,0,0,0,0,0,0,0,0,0,0,0,0,0,0,0,0,0,0,0,0,0,0,0,0,0,0,0]},\"selected\":{\"id\":\"18415\"},\"selection_policy\":{\"id\":\"18430\"}},\"id\":\"18414\",\"type\":\"ColumnDataSource\"},{\"attributes\":{\"margin\":[5,5,5,5],\"name\":\"HSpacer38018\",\"sizing_mode\":\"stretch_width\"},\"id\":\"18607\",\"type\":\"Spacer\"},{\"attributes\":{\"data\":{\"PC2\":{\"__ndarray__\":\"Bxv0no6fdsA=\",\"dtype\":\"float64\",\"order\":\"little\",\"shape\":[1]},\"PCI\":{\"__ndarray__\":\"lOz9QsdLvkA=\",\"dtype\":\"float64\",\"order\":\"little\",\"shape\":[1]},\"cryptocurrencies_clusters_left_parenthesis_k_equals_3_right_parenthesis\":[1]},\"selected\":{\"id\":\"18436\"},\"selection_policy\":{\"id\":\"18453\"}},\"id\":\"18435\",\"type\":\"ColumnDataSource\"}],\"root_ids\":[\"18371\"]},\"title\":\"Bokeh Application\",\"version\":\"2.3.2\"}};\n",
       "    var render_items = [{\"docid\":\"ffe629bb-19bb-4b0e-95a3-6965933f9821\",\"root_ids\":[\"18371\"],\"roots\":{\"18371\":\"9fc37ecf-235e-438d-b940-dece85604a1b\"}}];\n",
       "    root.Bokeh.embed.embed_items_notebook(docs_json, render_items);\n",
       "  }\n",
       "  if (root.Bokeh !== undefined && root.Bokeh.Panel !== undefined) {\n",
       "    embed_document(root);\n",
       "  } else {\n",
       "    var attempts = 0;\n",
       "    var timer = setInterval(function(root) {\n",
       "      if (root.Bokeh !== undefined && root.Bokeh.Panel !== undefined) {\n",
       "        clearInterval(timer);\n",
       "        embed_document(root);\n",
       "      } else if (document.readyState == \"complete\") {\n",
       "        attempts++;\n",
       "        if (attempts > 200) {\n",
       "          clearInterval(timer);\n",
       "          console.log(\"Bokeh: ERROR: Unable to run BokehJS code because BokehJS library is missing\");\n",
       "        }\n",
       "      }\n",
       "    }, 25, root)\n",
       "  }\n",
       "})(window);</script>"
      ],
      "text/plain": [
       ":NdOverlay   [cryptocurrencies clusters (k=3)]\n",
       "   :Scatter   [PC2]   (PCI)"
      ]
     },
     "execution_count": 402,
     "metadata": {
      "application/vnd.holoviews_exec.v0+json": {
       "id": "18371"
      }
     },
     "output_type": "execute_result"
    }
   ],
   "source": [
    "# Create a scatter plot using hvPlot by setting \n",
    "# `x=\"price_change_percentage_24h\"` and `y=\"price_change_percentage_7d\"`. \n",
    "# Color the graph points with the labels found using K-Means and \n",
    "# add the crypto name in the `hover_cols` parameter to identify \n",
    "# the cryptocurrency represented by each data point.\n",
    "crypto_df.hvplot.scatter(x=\"PC2\", y=\"PCI\", by=\"cryptocurrencies clusters (k=3)\", s=30)"
   ]
  },
  {
   "cell_type": "markdown",
   "metadata": {},
   "source": [
    "---"
   ]
  },
  {
   "cell_type": "markdown",
   "metadata": {},
   "source": [
    "### Visualize and Compare the Results\n",
    "\n",
    "In this section, you will visually analyze the cluster analysis results by contrasting the outcome with and without using the optimization techniques.\n",
    "\n",
    "1. Create a composite plot using hvPlot and the plus (`+`) operator to contrast the Elbow Curve that you created to find the best value for `k` with the original and the PCA data.\n",
    "\n",
    "2. Create a composite plot using hvPlot and the plus (`+`) operator to contrast the cryptocurrencies clusters using the original and the PCA data.\n",
    "\n",
    "3. Answer the following question: After visually analyzing the cluster analysis results, what is the impact of using fewer features to cluster the data using K-Means?\n",
    "\n",
    "> **Rewind:** Back in Lesson 3 of Module 6, you learned how to create composite plots. You can look at that lesson to review how to make these plots; also, you can check [the hvPlot documentation](https://holoviz.org/tutorial/Composing_Plots.html)."
   ]
  },
  {
   "cell_type": "code",
   "execution_count": 403,
   "metadata": {},
   "outputs": [
    {
     "data": {},
     "metadata": {},
     "output_type": "display_data"
    },
    {
     "data": {
      "application/vnd.holoviews_exec.v0+json": "",
      "text/html": [
       "<div id='18679'>\n",
       "\n",
       "\n",
       "\n",
       "\n",
       "\n",
       "  <div class=\"bk-root\" id=\"89f87021-2e6e-45d6-9e27-b390a7c9a180\" data-root-id=\"18679\"></div>\n",
       "</div>\n",
       "<script type=\"application/javascript\">(function(root) {\n",
       "  function embed_document(root) {\n",
       "    var docs_json = {\"dd7034f5-9ecf-4599-9ce4-fe10c21fe81d\":{\"defs\":[{\"extends\":null,\"module\":null,\"name\":\"ReactiveHTML1\",\"overrides\":[],\"properties\":[]},{\"extends\":null,\"module\":null,\"name\":\"FlexBox1\",\"overrides\":[],\"properties\":[{\"default\":\"flex-start\",\"kind\":null,\"name\":\"align_content\"},{\"default\":\"flex-start\",\"kind\":null,\"name\":\"align_items\"},{\"default\":\"row\",\"kind\":null,\"name\":\"flex_direction\"},{\"default\":\"wrap\",\"kind\":null,\"name\":\"flex_wrap\"},{\"default\":\"flex-start\",\"kind\":null,\"name\":\"justify_content\"}]},{\"extends\":null,\"module\":null,\"name\":\"TemplateActions1\",\"overrides\":[],\"properties\":[{\"default\":0,\"kind\":null,\"name\":\"open_modal\"},{\"default\":0,\"kind\":null,\"name\":\"close_modal\"}]},{\"extends\":null,\"module\":null,\"name\":\"MaterialTemplateActions1\",\"overrides\":[],\"properties\":[{\"default\":0,\"kind\":null,\"name\":\"open_modal\"},{\"default\":0,\"kind\":null,\"name\":\"close_modal\"}]}],\"roots\":{\"references\":[{\"attributes\":{\"margin\":[5,5,5,5],\"name\":\"HSpacer38649\",\"sizing_mode\":\"stretch_width\"},\"id\":\"18680\",\"type\":\"Spacer\"},{\"attributes\":{\"line_alpha\":0.1,\"line_color\":\"DarkBlue\",\"line_width\":2,\"x\":{\"field\":\"k\"},\"y\":{\"field\":\"inertia\"}},\"id\":\"18725\",\"type\":\"Line\"},{\"attributes\":{\"line_color\":\"DarkGreen\",\"line_width\":2,\"x\":{\"field\":\"k\"},\"y\":{\"field\":\"inertia\"}},\"id\":\"18733\",\"type\":\"Line\"},{\"attributes\":{\"line_alpha\":0.2,\"line_color\":\"DarkBlue\",\"line_width\":2,\"x\":{\"field\":\"k\"},\"y\":{\"field\":\"inertia\"}},\"id\":\"18726\",\"type\":\"Line\"},{\"attributes\":{},\"id\":\"18719\",\"type\":\"BasicTickFormatter\"},{\"attributes\":{},\"id\":\"18692\",\"type\":\"LinearScale\"},{\"attributes\":{\"axis\":{\"id\":\"18694\"},\"grid_line_color\":null,\"ticker\":null},\"id\":\"18697\",\"type\":\"Grid\"},{\"attributes\":{},\"id\":\"18703\",\"type\":\"PanTool\"},{\"attributes\":{\"axis\":{\"id\":\"18698\"},\"dimension\":1,\"grid_line_color\":null,\"ticker\":null},\"id\":\"18701\",\"type\":\"Grid\"},{\"attributes\":{\"end\":76909961.886626,\"reset_end\":76909961.886626,\"reset_start\":-6991783.9283485925,\"start\":-6991783.9283485925,\"tags\":[[[\"inertia\",\"inertia\",null]]]},\"id\":\"18682\",\"type\":\"Range1d\"},{\"attributes\":{\"text\":\"Elbow Curve\",\"text_color\":\"black\",\"text_font_size\":\"12pt\"},\"id\":\"18686\",\"type\":\"Title\"},{\"attributes\":{\"active_multi\":null,\"tools\":[{\"id\":\"18683\"},{\"id\":\"18702\"},{\"id\":\"18703\"},{\"id\":\"18704\"},{\"id\":\"18705\"},{\"id\":\"18706\"}]},\"id\":\"18708\",\"type\":\"Toolbar\"},{\"attributes\":{\"data_source\":{\"id\":\"18730\"},\"glyph\":{\"id\":\"18733\"},\"hover_glyph\":null,\"muted_glyph\":{\"id\":\"18735\"},\"nonselection_glyph\":{\"id\":\"18734\"},\"selection_glyph\":{\"id\":\"18738\"},\"view\":{\"id\":\"18737\"}},\"id\":\"18736\",\"type\":\"GlyphRenderer\"},{\"attributes\":{},\"id\":\"18695\",\"type\":\"BasicTicker\"},{\"attributes\":{\"line_alpha\":0.2,\"line_color\":\"DarkGreen\",\"line_width\":2,\"x\":{\"field\":\"k\"},\"y\":{\"field\":\"inertia\"}},\"id\":\"18735\",\"type\":\"Line\"},{\"attributes\":{},\"id\":\"18722\",\"type\":\"Selection\"},{\"attributes\":{\"axis_label\":\"k\",\"formatter\":{\"id\":\"18716\"},\"major_label_policy\":{\"id\":\"18717\"},\"ticker\":{\"id\":\"18695\"}},\"id\":\"18694\",\"type\":\"LinearAxis\"},{\"attributes\":{\"overlay\":{\"id\":\"18707\"}},\"id\":\"18705\",\"type\":\"BoxZoomTool\"},{\"attributes\":{\"line_color\":\"DarkBlue\",\"line_width\":2,\"x\":{\"field\":\"k\"},\"y\":{\"field\":\"inertia\"}},\"id\":\"18729\",\"type\":\"Line\"},{\"attributes\":{\"source\":{\"id\":\"18730\"}},\"id\":\"18737\",\"type\":\"CDSView\"},{\"attributes\":{\"source\":{\"id\":\"18721\"}},\"id\":\"18728\",\"type\":\"CDSView\"},{\"attributes\":{\"children\":[{\"id\":\"18680\"},{\"id\":\"18685\"},{\"id\":\"18847\"}],\"margin\":[0,0,0,0],\"name\":\"Row38645\",\"tags\":[\"embedded\"]},\"id\":\"18679\",\"type\":\"Row\"},{\"attributes\":{\"line_color\":\"DarkGreen\",\"line_width\":2,\"x\":{\"field\":\"k\"},\"y\":{\"field\":\"inertia\"}},\"id\":\"18738\",\"type\":\"Line\"},{\"attributes\":{},\"id\":\"18749\",\"type\":\"UnionRenderers\"},{\"attributes\":{\"data_source\":{\"id\":\"18721\"},\"glyph\":{\"id\":\"18724\"},\"hover_glyph\":null,\"muted_glyph\":{\"id\":\"18726\"},\"nonselection_glyph\":{\"id\":\"18725\"},\"selection_glyph\":{\"id\":\"18729\"},\"view\":{\"id\":\"18728\"}},\"id\":\"18727\",\"type\":\"GlyphRenderer\"},{\"attributes\":{},\"id\":\"18699\",\"type\":\"BasicTicker\"},{\"attributes\":{},\"id\":\"18717\",\"type\":\"AllLabels\"},{\"attributes\":{\"line_color\":\"DarkBlue\",\"line_width\":2,\"x\":{\"field\":\"k\"},\"y\":{\"field\":\"inertia\"}},\"id\":\"18724\",\"type\":\"Line\"},{\"attributes\":{\"data\":{\"inertia\":{\"__ndarray__\":\"AAAAAADwcUByhzI6P3poQOCRvNowzF5AF+6ulG/BU0BnEQsuWlNQQOXqC/e6cUpAiCebkxT1RUBu++EeLsJCQMB0IF8cPkBAineL7Q85PEA=\",\"dtype\":\"float64\",\"order\":\"little\",\"shape\":[10]},\"k\":[1,2,3,4,5,6,7,8,9,10]},\"selected\":{\"id\":\"18722\"},\"selection_policy\":{\"id\":\"18747\"}},\"id\":\"18721\",\"type\":\"ColumnDataSource\"},{\"attributes\":{\"end\":10.0,\"reset_end\":10.0,\"reset_start\":1.0,\"start\":1.0,\"tags\":[[[\"k\",\"k\",null]]]},\"id\":\"18681\",\"type\":\"Range1d\"},{\"attributes\":{\"axis_label\":\"inertia\",\"formatter\":{\"id\":\"18719\"},\"major_label_policy\":{\"id\":\"18720\"},\"ticker\":{\"id\":\"18699\"}},\"id\":\"18698\",\"type\":\"LinearAxis\"},{\"attributes\":{},\"id\":\"18690\",\"type\":\"LinearScale\"},{\"attributes\":{},\"id\":\"18720\",\"type\":\"AllLabels\"},{\"attributes\":{},\"id\":\"18747\",\"type\":\"UnionRenderers\"},{\"attributes\":{\"bottom_units\":\"screen\",\"fill_alpha\":0.5,\"fill_color\":\"lightgrey\",\"left_units\":\"screen\",\"level\":\"overlay\",\"line_alpha\":1.0,\"line_color\":\"black\",\"line_dash\":[4,4],\"line_width\":2,\"right_units\":\"screen\",\"syncable\":false,\"top_units\":\"screen\"},\"id\":\"18707\",\"type\":\"BoxAnnotation\"},{\"attributes\":{\"margin\":[5,5,5,5],\"name\":\"HSpacer38650\",\"sizing_mode\":\"stretch_width\"},\"id\":\"18847\",\"type\":\"Spacer\"},{\"attributes\":{\"data\":{\"inertia\":{\"__ndarray__\":\"9gbxFnerkEHQGmpqcwFfQSRhnleLXUNBzZEg7QVCKEGoePI7njEYQbyZ54GzIAxBCB13YiHMA0GlV47K+BT+QE7xLoytqfRAbDPfMBcA8EA=\",\"dtype\":\"float64\",\"order\":\"little\",\"shape\":[10]},\"k\":[1,2,3,4,5,6,7,8,9,10]},\"selected\":{\"id\":\"18731\"},\"selection_policy\":{\"id\":\"18749\"}},\"id\":\"18730\",\"type\":\"ColumnDataSource\"},{\"attributes\":{\"below\":[{\"id\":\"18694\"}],\"center\":[{\"id\":\"18697\"},{\"id\":\"18701\"}],\"height\":300,\"left\":[{\"id\":\"18698\"}],\"margin\":[5,5,5,5],\"min_border_bottom\":10,\"min_border_left\":10,\"min_border_right\":10,\"min_border_top\":10,\"renderers\":[{\"id\":\"18727\"},{\"id\":\"18736\"}],\"sizing_mode\":\"fixed\",\"title\":{\"id\":\"18686\"},\"toolbar\":{\"id\":\"18708\"},\"width\":700,\"x_range\":{\"id\":\"18681\"},\"x_scale\":{\"id\":\"18690\"},\"y_range\":{\"id\":\"18682\"},\"y_scale\":{\"id\":\"18692\"}},\"id\":\"18685\",\"subtype\":\"Figure\",\"type\":\"Plot\"},{\"attributes\":{\"line_alpha\":0.1,\"line_color\":\"DarkGreen\",\"line_width\":2,\"x\":{\"field\":\"k\"},\"y\":{\"field\":\"inertia\"}},\"id\":\"18734\",\"type\":\"Line\"},{\"attributes\":{\"callback\":null,\"renderers\":[{\"id\":\"18727\"},{\"id\":\"18736\"}],\"tags\":[\"hv_created\"],\"tooltips\":[[\"k\",\"@{k}\"],[\"inertia\",\"@{inertia}\"]]},\"id\":\"18683\",\"type\":\"HoverTool\"},{\"attributes\":{},\"id\":\"18702\",\"type\":\"SaveTool\"},{\"attributes\":{},\"id\":\"18704\",\"type\":\"WheelZoomTool\"},{\"attributes\":{},\"id\":\"18706\",\"type\":\"ResetTool\"},{\"attributes\":{},\"id\":\"18716\",\"type\":\"BasicTickFormatter\"},{\"attributes\":{},\"id\":\"18731\",\"type\":\"Selection\"}],\"root_ids\":[\"18679\"]},\"title\":\"Bokeh Application\",\"version\":\"2.3.2\"}};\n",
       "    var render_items = [{\"docid\":\"dd7034f5-9ecf-4599-9ce4-fe10c21fe81d\",\"root_ids\":[\"18679\"],\"roots\":{\"18679\":\"89f87021-2e6e-45d6-9e27-b390a7c9a180\"}}];\n",
       "    root.Bokeh.embed.embed_items_notebook(docs_json, render_items);\n",
       "  }\n",
       "  if (root.Bokeh !== undefined && root.Bokeh.Panel !== undefined) {\n",
       "    embed_document(root);\n",
       "  } else {\n",
       "    var attempts = 0;\n",
       "    var timer = setInterval(function(root) {\n",
       "      if (root.Bokeh !== undefined && root.Bokeh.Panel !== undefined) {\n",
       "        clearInterval(timer);\n",
       "        embed_document(root);\n",
       "      } else if (document.readyState == \"complete\") {\n",
       "        attempts++;\n",
       "        if (attempts > 200) {\n",
       "          clearInterval(timer);\n",
       "          console.log(\"Bokeh: ERROR: Unable to run BokehJS code because BokehJS library is missing\");\n",
       "        }\n",
       "      }\n",
       "    }, 25, root)\n",
       "  }\n",
       "})(window);</script>"
      ],
      "text/plain": [
       ":Overlay\n",
       "   .Curve.I  :Curve   [k]   (inertia)\n",
       "   .Curve.II :Curve   [k]   (inertia)"
      ]
     },
     "execution_count": 403,
     "metadata": {
      "application/vnd.holoviews_exec.v0+json": {
       "id": "18679"
      }
     },
     "output_type": "execute_result"
    }
   ],
   "source": [
    "Create a composite plot using hvPlot and the plus (*) operator to contrast the Elbow Curve that you created to find the best value for k with the original and the PCA data\n",
    "plot1 = df1_elbow.hvplot.line(x=\"k\", y=\"inertia\", title=\"Elbow Curve\", color='DarkBlue')#, xticks=k)\n",
    "plot2 = df2_elbow.hvplot.line(x=\"k\", y=\"inertia\", title=\"Elbow Curve\", color='DarkGreen')#, xticks=k)\n",
    "plot1 * plot2"
   ]
  },
  {
   "cell_type": "code",
   "execution_count": 404,
   "metadata": {},
   "outputs": [
    {
     "data": {},
     "metadata": {},
     "output_type": "display_data"
    },
    {
     "data": {
      "application/vnd.holoviews_exec.v0+json": "",
      "text/html": [
       "<div id='18909'>\n",
       "\n",
       "\n",
       "\n",
       "\n",
       "\n",
       "  <div class=\"bk-root\" id=\"3ae92a3b-0371-4442-96ed-bd0c3c8882f3\" data-root-id=\"18909\"></div>\n",
       "</div>\n",
       "<script type=\"application/javascript\">(function(root) {\n",
       "  function embed_document(root) {\n",
       "    var docs_json = {\"81182a69-a760-4826-807f-e800ab0f56e5\":{\"defs\":[{\"extends\":null,\"module\":null,\"name\":\"ReactiveHTML1\",\"overrides\":[],\"properties\":[]},{\"extends\":null,\"module\":null,\"name\":\"FlexBox1\",\"overrides\":[],\"properties\":[{\"default\":\"flex-start\",\"kind\":null,\"name\":\"align_content\"},{\"default\":\"flex-start\",\"kind\":null,\"name\":\"align_items\"},{\"default\":\"row\",\"kind\":null,\"name\":\"flex_direction\"},{\"default\":\"wrap\",\"kind\":null,\"name\":\"flex_wrap\"},{\"default\":\"flex-start\",\"kind\":null,\"name\":\"justify_content\"}]},{\"extends\":null,\"module\":null,\"name\":\"TemplateActions1\",\"overrides\":[],\"properties\":[{\"default\":0,\"kind\":null,\"name\":\"open_modal\"},{\"default\":0,\"kind\":null,\"name\":\"close_modal\"}]},{\"extends\":null,\"module\":null,\"name\":\"MaterialTemplateActions1\",\"overrides\":[],\"properties\":[{\"default\":0,\"kind\":null,\"name\":\"open_modal\"},{\"default\":0,\"kind\":null,\"name\":\"close_modal\"}]}],\"roots\":{\"references\":[{\"attributes\":{},\"id\":\"18981\",\"type\":\"ResetTool\"},{\"attributes\":{\"line_alpha\":0.2,\"line_color\":\"DarkGreen\",\"line_width\":2,\"x\":{\"field\":\"k\"},\"y\":{\"field\":\"inertia\"}},\"id\":\"18995\",\"type\":\"Line\"},{\"attributes\":{},\"id\":\"18965\",\"type\":\"LinearScale\"},{\"attributes\":{},\"id\":\"19013\",\"type\":\"UnionRenderers\"},{\"attributes\":{\"children\":[[{\"id\":\"18914\"},0,0],[{\"id\":\"18960\"},0,1]]},\"id\":\"19027\",\"type\":\"GridBox\"},{\"attributes\":{\"line_color\":\"DarkGreen\",\"line_width\":2,\"x\":{\"field\":\"k\"},\"y\":{\"field\":\"inertia\"}},\"id\":\"18998\",\"type\":\"Line\"},{\"attributes\":{},\"id\":\"18933\",\"type\":\"WheelZoomTool\"},{\"attributes\":{\"overlay\":{\"id\":\"18936\"}},\"id\":\"18934\",\"type\":\"BoxZoomTool\"},{\"attributes\":{\"bottom_units\":\"screen\",\"fill_alpha\":0.5,\"fill_color\":\"lightgrey\",\"left_units\":\"screen\",\"level\":\"overlay\",\"line_alpha\":1.0,\"line_color\":\"black\",\"line_dash\":[4,4],\"line_width\":2,\"right_units\":\"screen\",\"syncable\":false,\"top_units\":\"screen\"},\"id\":\"18936\",\"type\":\"BoxAnnotation\"},{\"attributes\":{\"overlay\":{\"id\":\"18982\"}},\"id\":\"18980\",\"type\":\"BoxZoomTool\"},{\"attributes\":{\"end\":76909961.886626,\"reset_end\":76909961.886626,\"reset_start\":-6991783.9283485925,\"start\":-6991783.9283485925,\"tags\":[[[\"inertia\",\"inertia\",null]]]},\"id\":\"18912\",\"type\":\"Range1d\"},{\"attributes\":{\"bottom_units\":\"screen\",\"fill_alpha\":0.5,\"fill_color\":\"lightgrey\",\"left_units\":\"screen\",\"level\":\"overlay\",\"line_alpha\":1.0,\"line_color\":\"black\",\"line_dash\":[4,4],\"line_width\":2,\"right_units\":\"screen\",\"syncable\":false,\"top_units\":\"screen\"},\"id\":\"18982\",\"type\":\"BoxAnnotation\"},{\"attributes\":{},\"id\":\"18979\",\"type\":\"WheelZoomTool\"},{\"attributes\":{},\"id\":\"18945\",\"type\":\"Selection\"},{\"attributes\":{},\"id\":\"18967\",\"type\":\"LinearScale\"},{\"attributes\":{\"data\":{\"inertia\":{\"__ndarray__\":\"AAAAAADwcUByhzI6P3poQOCRvNowzF5AF+6ulG/BU0BnEQsuWlNQQOXqC/e6cUpAiCebkxT1RUBu++EeLsJCQMB0IF8cPkBAineL7Q85PEA=\",\"dtype\":\"float64\",\"order\":\"little\",\"shape\":[10]},\"k\":[1,2,3,4,5,6,7,8,9,10]},\"selected\":{\"id\":\"18945\"},\"selection_policy\":{\"id\":\"19013\"}},\"id\":\"18944\",\"type\":\"ColumnDataSource\"},{\"attributes\":{},\"id\":\"19001\",\"type\":\"AllLabels\"},{\"attributes\":{\"axis\":{\"id\":\"18973\"},\"dimension\":1,\"grid_line_color\":null,\"ticker\":null},\"id\":\"18976\",\"type\":\"Grid\"},{\"attributes\":{\"children\":[{\"id\":\"19029\"},{\"id\":\"19027\"}]},\"id\":\"19030\",\"type\":\"Column\"},{\"attributes\":{},\"id\":\"18958\",\"type\":\"AllLabels\"},{\"attributes\":{\"active_multi\":null,\"tools\":[{\"id\":\"18959\"},{\"id\":\"18977\"},{\"id\":\"18978\"},{\"id\":\"18979\"},{\"id\":\"18980\"},{\"id\":\"18981\"}]},\"id\":\"18983\",\"type\":\"Toolbar\"},{\"attributes\":{},\"id\":\"18924\",\"type\":\"BasicTicker\"},{\"attributes\":{},\"id\":\"19000\",\"type\":\"BasicTickFormatter\"},{\"attributes\":{\"children\":[{\"id\":\"18910\"},{\"id\":\"19030\"},{\"id\":\"19211\"}],\"margin\":[0,0,0,0],\"name\":\"Row39125\",\"tags\":[\"embedded\"]},\"id\":\"18909\",\"type\":\"Row\"},{\"attributes\":{\"data_source\":{\"id\":\"18944\"},\"glyph\":{\"id\":\"18947\"},\"hover_glyph\":null,\"muted_glyph\":{\"id\":\"18949\"},\"nonselection_glyph\":{\"id\":\"18948\"},\"selection_glyph\":{\"id\":\"18952\"},\"view\":{\"id\":\"18951\"}},\"id\":\"18950\",\"type\":\"GlyphRenderer\"},{\"attributes\":{\"margin\":[5,5,5,5],\"name\":\"HSpacer39130\",\"sizing_mode\":\"stretch_width\"},\"id\":\"19211\",\"type\":\"Spacer\"},{\"attributes\":{},\"id\":\"18957\",\"type\":\"BasicTickFormatter\"},{\"attributes\":{},\"id\":\"18954\",\"type\":\"BasicTickFormatter\"},{\"attributes\":{\"end\":10.0,\"reset_end\":10.0,\"reset_start\":1.0,\"start\":1.0,\"tags\":[[[\"k\",\"k\",null]]]},\"id\":\"18911\",\"type\":\"Range1d\"},{\"attributes\":{\"axis_label\":\"k\",\"formatter\":{\"id\":\"18954\"},\"major_label_policy\":{\"id\":\"18955\"},\"ticker\":{\"id\":\"18924\"}},\"id\":\"18923\",\"type\":\"LinearAxis\"},{\"attributes\":{\"margin\":[5,5,5,5],\"name\":\"HSpacer39129\",\"sizing_mode\":\"stretch_width\"},\"id\":\"18910\",\"type\":\"Spacer\"},{\"attributes\":{\"below\":[{\"id\":\"18969\"}],\"center\":[{\"id\":\"18972\"},{\"id\":\"18976\"}],\"height\":300,\"left\":[{\"id\":\"18973\"}],\"margin\":null,\"min_border_bottom\":10,\"min_border_left\":10,\"min_border_right\":10,\"min_border_top\":10,\"renderers\":[{\"id\":\"18996\"}],\"sizing_mode\":\"fixed\",\"title\":{\"id\":\"18961\"},\"toolbar\":{\"id\":\"18983\"},\"toolbar_location\":null,\"width\":700,\"x_range\":{\"id\":\"18911\"},\"x_scale\":{\"id\":\"18965\"},\"y_range\":{\"id\":\"18912\"},\"y_scale\":{\"id\":\"18967\"}},\"id\":\"18960\",\"subtype\":\"Figure\",\"type\":\"Plot\"},{\"attributes\":{},\"id\":\"18974\",\"type\":\"BasicTicker\"},{\"attributes\":{},\"id\":\"18921\",\"type\":\"LinearScale\"},{\"attributes\":{\"toolbar\":{\"id\":\"19028\"},\"toolbar_location\":\"above\"},\"id\":\"19029\",\"type\":\"ToolbarBox\"},{\"attributes\":{\"axis_label\":\"inertia\",\"formatter\":{\"id\":\"19003\"},\"major_label_policy\":{\"id\":\"19004\"},\"ticker\":{\"id\":\"18974\"}},\"id\":\"18973\",\"type\":\"LinearAxis\"},{\"attributes\":{},\"id\":\"19003\",\"type\":\"BasicTickFormatter\"},{\"attributes\":{},\"id\":\"18919\",\"type\":\"LinearScale\"},{\"attributes\":{\"axis\":{\"id\":\"18969\"},\"grid_line_color\":null,\"ticker\":null},\"id\":\"18972\",\"type\":\"Grid\"},{\"attributes\":{\"line_color\":\"DarkBlue\",\"line_width\":2,\"x\":{\"field\":\"k\"},\"y\":{\"field\":\"inertia\"}},\"id\":\"18947\",\"type\":\"Line\"},{\"attributes\":{\"callback\":null,\"renderers\":[{\"id\":\"18950\"}],\"tags\":[\"hv_created\"],\"tooltips\":[[\"k\",\"@{k}\"],[\"inertia\",\"@{inertia}\"]]},\"id\":\"18913\",\"type\":\"HoverTool\"},{\"attributes\":{},\"id\":\"18970\",\"type\":\"BasicTicker\"},{\"attributes\":{},\"id\":\"18932\",\"type\":\"PanTool\"},{\"attributes\":{\"line_color\":\"DarkGreen\",\"line_width\":2,\"x\":{\"field\":\"k\"},\"y\":{\"field\":\"inertia\"}},\"id\":\"18993\",\"type\":\"Line\"},{\"attributes\":{\"source\":{\"id\":\"18944\"}},\"id\":\"18951\",\"type\":\"CDSView\"},{\"attributes\":{\"below\":[{\"id\":\"18923\"}],\"center\":[{\"id\":\"18926\"},{\"id\":\"18930\"}],\"height\":300,\"left\":[{\"id\":\"18927\"}],\"margin\":null,\"min_border_bottom\":10,\"min_border_left\":10,\"min_border_right\":10,\"min_border_top\":10,\"renderers\":[{\"id\":\"18950\"}],\"sizing_mode\":\"fixed\",\"title\":{\"id\":\"18915\"},\"toolbar\":{\"id\":\"18937\"},\"toolbar_location\":null,\"width\":700,\"x_range\":{\"id\":\"18911\"},\"x_scale\":{\"id\":\"18919\"},\"y_range\":{\"id\":\"18912\"},\"y_scale\":{\"id\":\"18921\"}},\"id\":\"18914\",\"subtype\":\"Figure\",\"type\":\"Plot\"},{\"attributes\":{},\"id\":\"18955\",\"type\":\"AllLabels\"},{\"attributes\":{\"data_source\":{\"id\":\"18990\"},\"glyph\":{\"id\":\"18993\"},\"hover_glyph\":null,\"muted_glyph\":{\"id\":\"18995\"},\"nonselection_glyph\":{\"id\":\"18994\"},\"selection_glyph\":{\"id\":\"18998\"},\"view\":{\"id\":\"18997\"}},\"id\":\"18996\",\"type\":\"GlyphRenderer\"},{\"attributes\":{\"axis\":{\"id\":\"18923\"},\"grid_line_color\":null,\"ticker\":null},\"id\":\"18926\",\"type\":\"Grid\"},{\"attributes\":{},\"id\":\"18977\",\"type\":\"SaveTool\"},{\"attributes\":{\"text\":\"Elbow Curve\",\"text_color\":\"black\",\"text_font_size\":\"12pt\"},\"id\":\"18915\",\"type\":\"Title\"},{\"attributes\":{\"data\":{\"inertia\":{\"__ndarray__\":\"9gbxFnerkEHQGmpqcwFfQSRhnleLXUNBzZEg7QVCKEGoePI7njEYQbyZ54GzIAxBCB13YiHMA0GlV47K+BT+QE7xLoytqfRAbDPfMBcA8EA=\",\"dtype\":\"float64\",\"order\":\"little\",\"shape\":[10]},\"k\":[1,2,3,4,5,6,7,8,9,10]},\"selected\":{\"id\":\"18991\"},\"selection_policy\":{\"id\":\"19024\"}},\"id\":\"18990\",\"type\":\"ColumnDataSource\"},{\"attributes\":{\"axis_label\":\"inertia\",\"formatter\":{\"id\":\"18957\"},\"major_label_policy\":{\"id\":\"18958\"},\"ticker\":{\"id\":\"18928\"}},\"id\":\"18927\",\"type\":\"LinearAxis\"},{\"attributes\":{},\"id\":\"18935\",\"type\":\"ResetTool\"},{\"attributes\":{\"text\":\"Elbow Curve\",\"text_color\":\"black\",\"text_font_size\":\"12pt\"},\"id\":\"18961\",\"type\":\"Title\"},{\"attributes\":{},\"id\":\"18931\",\"type\":\"SaveTool\"},{\"attributes\":{\"line_alpha\":0.1,\"line_color\":\"DarkBlue\",\"line_width\":2,\"x\":{\"field\":\"k\"},\"y\":{\"field\":\"inertia\"}},\"id\":\"18948\",\"type\":\"Line\"},{\"attributes\":{},\"id\":\"19004\",\"type\":\"AllLabels\"},{\"attributes\":{\"toolbars\":[{\"id\":\"18937\"},{\"id\":\"18983\"}],\"tools\":[{\"id\":\"18913\"},{\"id\":\"18931\"},{\"id\":\"18932\"},{\"id\":\"18933\"},{\"id\":\"18934\"},{\"id\":\"18935\"},{\"id\":\"18959\"},{\"id\":\"18977\"},{\"id\":\"18978\"},{\"id\":\"18979\"},{\"id\":\"18980\"},{\"id\":\"18981\"}]},\"id\":\"19028\",\"type\":\"ProxyToolbar\"},{\"attributes\":{},\"id\":\"19024\",\"type\":\"UnionRenderers\"},{\"attributes\":{\"line_alpha\":0.1,\"line_color\":\"DarkGreen\",\"line_width\":2,\"x\":{\"field\":\"k\"},\"y\":{\"field\":\"inertia\"}},\"id\":\"18994\",\"type\":\"Line\"},{\"attributes\":{},\"id\":\"18928\",\"type\":\"BasicTicker\"},{\"attributes\":{\"axis\":{\"id\":\"18927\"},\"dimension\":1,\"grid_line_color\":null,\"ticker\":null},\"id\":\"18930\",\"type\":\"Grid\"},{\"attributes\":{\"source\":{\"id\":\"18990\"}},\"id\":\"18997\",\"type\":\"CDSView\"},{\"attributes\":{\"active_multi\":null,\"tools\":[{\"id\":\"18913\"},{\"id\":\"18931\"},{\"id\":\"18932\"},{\"id\":\"18933\"},{\"id\":\"18934\"},{\"id\":\"18935\"}]},\"id\":\"18937\",\"type\":\"Toolbar\"},{\"attributes\":{\"callback\":null,\"renderers\":[{\"id\":\"18996\"}],\"tags\":[\"hv_created\"],\"tooltips\":[[\"k\",\"@{k}\"],[\"inertia\",\"@{inertia}\"]]},\"id\":\"18959\",\"type\":\"HoverTool\"},{\"attributes\":{},\"id\":\"18978\",\"type\":\"PanTool\"},{\"attributes\":{\"line_alpha\":0.2,\"line_color\":\"DarkBlue\",\"line_width\":2,\"x\":{\"field\":\"k\"},\"y\":{\"field\":\"inertia\"}},\"id\":\"18949\",\"type\":\"Line\"},{\"attributes\":{\"axis_label\":\"k\",\"formatter\":{\"id\":\"19000\"},\"major_label_policy\":{\"id\":\"19001\"},\"ticker\":{\"id\":\"18970\"}},\"id\":\"18969\",\"type\":\"LinearAxis\"},{\"attributes\":{},\"id\":\"18991\",\"type\":\"Selection\"},{\"attributes\":{\"line_color\":\"DarkBlue\",\"line_width\":2,\"x\":{\"field\":\"k\"},\"y\":{\"field\":\"inertia\"}},\"id\":\"18952\",\"type\":\"Line\"}],\"root_ids\":[\"18909\"]},\"title\":\"Bokeh Application\",\"version\":\"2.3.2\"}};\n",
       "    var render_items = [{\"docid\":\"81182a69-a760-4826-807f-e800ab0f56e5\",\"root_ids\":[\"18909\"],\"roots\":{\"18909\":\"3ae92a3b-0371-4442-96ed-bd0c3c8882f3\"}}];\n",
       "    root.Bokeh.embed.embed_items_notebook(docs_json, render_items);\n",
       "  }\n",
       "  if (root.Bokeh !== undefined && root.Bokeh.Panel !== undefined) {\n",
       "    embed_document(root);\n",
       "  } else {\n",
       "    var attempts = 0;\n",
       "    var timer = setInterval(function(root) {\n",
       "      if (root.Bokeh !== undefined && root.Bokeh.Panel !== undefined) {\n",
       "        clearInterval(timer);\n",
       "        embed_document(root);\n",
       "      } else if (document.readyState == \"complete\") {\n",
       "        attempts++;\n",
       "        if (attempts > 200) {\n",
       "          clearInterval(timer);\n",
       "          console.log(\"Bokeh: ERROR: Unable to run BokehJS code because BokehJS library is missing\");\n",
       "        }\n",
       "      }\n",
       "    }, 25, root)\n",
       "  }\n",
       "})(window);</script>"
      ],
      "text/plain": [
       ":Layout\n",
       "   .Curve.I  :Curve   [k]   (inertia)\n",
       "   .Curve.II :Curve   [k]   (inertia)"
      ]
     },
     "execution_count": 404,
     "metadata": {
      "application/vnd.holoviews_exec.v0+json": {
       "id": "18909"
      }
     },
     "output_type": "execute_result"
    }
   ],
   "source": [
    "Create a composite plot using hvPlot and the plus (+) operator to contrast the Elbow Curve that you created to find the best value for k with the original and the PCA data\n",
    "plot1 = df1_elbow.hvplot.line(x=\"k\", y=\"inertia\", title=\"Elbow Curve\", color='DarkBlue')#, xticks=k)\n",
    "plot2 = df2_elbow.hvplot.line(x=\"k\", y=\"inertia\", title=\"Elbow Curve\", color='DarkGreen')#, xticks=k)\n",
    "plot1 + plot2"
   ]
  },
  {
   "cell_type": "code",
   "execution_count": 405,
   "metadata": {},
   "outputs": [
    {
     "data": {},
     "metadata": {},
     "output_type": "display_data"
    },
    {
     "data": {
      "application/vnd.holoviews_exec.v0+json": "",
      "text/html": [
       "<div id='19313'>\n",
       "\n",
       "\n",
       "\n",
       "\n",
       "\n",
       "  <div class=\"bk-root\" id=\"af56f7a4-0934-4fa0-8f85-4f2168e82027\" data-root-id=\"19313\"></div>\n",
       "</div>\n",
       "<script type=\"application/javascript\">(function(root) {\n",
       "  function embed_document(root) {\n",
       "    var docs_json = {\"d5a52083-f4d0-4d82-975c-bdb9f530d86c\":{\"defs\":[{\"extends\":null,\"module\":null,\"name\":\"ReactiveHTML1\",\"overrides\":[],\"properties\":[]},{\"extends\":null,\"module\":null,\"name\":\"FlexBox1\",\"overrides\":[],\"properties\":[{\"default\":\"flex-start\",\"kind\":null,\"name\":\"align_content\"},{\"default\":\"flex-start\",\"kind\":null,\"name\":\"align_items\"},{\"default\":\"row\",\"kind\":null,\"name\":\"flex_direction\"},{\"default\":\"wrap\",\"kind\":null,\"name\":\"flex_wrap\"},{\"default\":\"flex-start\",\"kind\":null,\"name\":\"justify_content\"}]},{\"extends\":null,\"module\":null,\"name\":\"TemplateActions1\",\"overrides\":[],\"properties\":[{\"default\":0,\"kind\":null,\"name\":\"open_modal\"},{\"default\":0,\"kind\":null,\"name\":\"close_modal\"}]},{\"extends\":null,\"module\":null,\"name\":\"MaterialTemplateActions1\",\"overrides\":[],\"properties\":[{\"default\":0,\"kind\":null,\"name\":\"open_modal\"},{\"default\":0,\"kind\":null,\"name\":\"close_modal\"}]}],\"roots\":{\"references\":[{\"attributes\":{\"active_multi\":null,\"tools\":[{\"id\":\"19317\"},{\"id\":\"19321\"},{\"id\":\"19341\"},{\"id\":\"19342\"},{\"id\":\"19343\"},{\"id\":\"19344\"},{\"id\":\"19345\"}]},\"id\":\"19347\",\"type\":\"Toolbar\"},{\"attributes\":{\"overlay\":{\"id\":\"19346\"}},\"id\":\"19344\",\"type\":\"BoxZoomTool\"},{\"attributes\":{},\"id\":\"19623\",\"type\":\"Selection\"},{\"attributes\":{\"axis\":{\"id\":\"19333\"},\"grid_line_color\":null,\"ticker\":null},\"id\":\"19336\",\"type\":\"Grid\"},{\"attributes\":{\"data_source\":{\"id\":\"19622\"},\"glyph\":{\"id\":\"19625\"},\"hover_glyph\":null,\"muted_glyph\":{\"id\":\"19627\"},\"nonselection_glyph\":{\"id\":\"19626\"},\"selection_glyph\":{\"id\":\"19652\"},\"view\":{\"id\":\"19629\"}},\"id\":\"19628\",\"type\":\"GlyphRenderer\"},{\"attributes\":{\"fill_alpha\":{\"value\":0.2},\"fill_color\":{\"value\":\"DarkBlue\"},\"line_alpha\":{\"value\":0.2},\"line_color\":{\"value\":\"DarkBlue\"},\"size\":{\"value\":5.477225575051661},\"x\":{\"field\":\"price_change_percentage_24h\"},\"y\":{\"field\":\"price_change_percentage_7d\"}},\"id\":\"19409\",\"type\":\"Scatter\"},{\"attributes\":{},\"id\":\"19345\",\"type\":\"ResetTool\"},{\"attributes\":{\"angle\":{\"value\":0.0},\"fill_alpha\":{\"value\":1.0},\"fill_color\":{\"value\":\"DarkGreen\"},\"hatch_alpha\":{\"value\":1.0},\"hatch_color\":{\"value\":\"black\"},\"hatch_scale\":{\"value\":12.0},\"hatch_weight\":{\"value\":1.0},\"line_alpha\":{\"value\":1.0},\"line_cap\":{\"value\":\"butt\"},\"line_color\":{\"value\":\"DarkGreen\"},\"line_dash\":{\"value\":[]},\"line_dash_offset\":{\"value\":0},\"line_join\":{\"value\":\"bevel\"},\"line_width\":{\"value\":1},\"marker\":{\"value\":\"circle\"},\"size\":{\"value\":5.477225575051661},\"x\":{\"field\":\"PC2\"},\"y\":{\"field\":\"PCI\"}},\"id\":\"19592\",\"type\":\"Scatter\"},{\"attributes\":{\"axis_label\":\"price_change_percentage_24h\",\"formatter\":{\"id\":\"19356\"},\"major_label_policy\":{\"id\":\"19357\"},\"ticker\":{\"id\":\"19334\"}},\"id\":\"19333\",\"type\":\"LinearAxis\"},{\"attributes\":{},\"id\":\"19429\",\"type\":\"Selection\"},{\"attributes\":{\"fill_alpha\":{\"value\":0.2},\"fill_color\":{\"value\":\"DarkBlue\"},\"line_alpha\":{\"value\":0.2},\"line_color\":{\"value\":\"DarkBlue\"},\"size\":{\"value\":5.477225575051661},\"x\":{\"field\":\"price_change_percentage_24h\"},\"y\":{\"field\":\"price_change_percentage_7d\"}},\"id\":\"19387\",\"type\":\"Scatter\"},{\"attributes\":{},\"id\":\"19331\",\"type\":\"LinearScale\"},{\"attributes\":{},\"id\":\"19377\",\"type\":\"UnionRenderers\"},{\"attributes\":{},\"id\":\"19383\",\"type\":\"Selection\"},{\"attributes\":{\"data\":{\"PC2\":{\"__ndarray__\":\"Bxv0no6fdsA=\",\"dtype\":\"float64\",\"order\":\"little\",\"shape\":[1]},\"PCI\":{\"__ndarray__\":\"lOz9QsdLvkA=\",\"dtype\":\"float64\",\"order\":\"little\",\"shape\":[1]},\"cryptocurrencies_clusters_left_parenthesis_k_equals_3_right_parenthesis\":[1]},\"selected\":{\"id\":\"19594\"},\"selection_policy\":{\"id\":\"19619\"}},\"id\":\"19593\",\"type\":\"ColumnDataSource\"},{\"attributes\":{},\"id\":\"19567\",\"type\":\"Selection\"},{\"attributes\":{\"fill_color\":{\"value\":\"DarkGreen\"},\"line_color\":{\"value\":\"DarkGreen\"},\"size\":{\"value\":5.477225575051661},\"x\":{\"field\":\"PC2\"},\"y\":{\"field\":\"PCI\"}},\"id\":\"19596\",\"type\":\"Scatter\"},{\"attributes\":{\"angle\":{\"value\":0.0},\"fill_alpha\":{\"value\":1.0},\"fill_color\":{\"value\":\"DarkGreen\"},\"hatch_alpha\":{\"value\":1.0},\"hatch_color\":{\"value\":\"black\"},\"hatch_scale\":{\"value\":12.0},\"hatch_weight\":{\"value\":1.0},\"line_alpha\":{\"value\":1.0},\"line_cap\":{\"value\":\"butt\"},\"line_color\":{\"value\":\"DarkGreen\"},\"line_dash\":{\"value\":[]},\"line_dash_offset\":{\"value\":0},\"line_join\":{\"value\":\"bevel\"},\"line_width\":{\"value\":1},\"marker\":{\"value\":\"circle\"},\"size\":{\"value\":5.477225575051661},\"x\":{\"field\":\"PC2\"},\"y\":{\"field\":\"PCI\"}},\"id\":\"19652\",\"type\":\"Scatter\"},{\"attributes\":{\"label\":{\"value\":\"1\"},\"renderers\":[{\"id\":\"19388\"},{\"id\":\"19599\"}]},\"id\":\"19402\",\"type\":\"LegendItem\"},{\"attributes\":{},\"id\":\"19329\",\"type\":\"LinearScale\"},{\"attributes\":{},\"id\":\"19450\",\"type\":\"UnionRenderers\"},{\"attributes\":{\"source\":{\"id\":\"19566\"}},\"id\":\"19573\",\"type\":\"CDSView\"},{\"attributes\":{},\"id\":\"19424\",\"type\":\"UnionRenderers\"},{\"attributes\":{\"data_source\":{\"id\":\"19361\"},\"glyph\":{\"id\":\"19364\"},\"hover_glyph\":null,\"muted_glyph\":{\"id\":\"19366\"},\"nonselection_glyph\":{\"id\":\"19365\"},\"selection_glyph\":{\"id\":\"19381\"},\"view\":{\"id\":\"19368\"}},\"id\":\"19367\",\"type\":\"GlyphRenderer\"},{\"attributes\":{},\"id\":\"19359\",\"type\":\"BasicTickFormatter\"},{\"attributes\":{\"data_source\":{\"id\":\"19566\"},\"glyph\":{\"id\":\"19569\"},\"hover_glyph\":null,\"muted_glyph\":{\"id\":\"19571\"},\"nonselection_glyph\":{\"id\":\"19570\"},\"selection_glyph\":{\"id\":\"19592\"},\"view\":{\"id\":\"19573\"}},\"id\":\"19572\",\"type\":\"GlyphRenderer\"},{\"attributes\":{\"fill_color\":{\"value\":\"DarkGreen\"},\"line_color\":{\"value\":\"DarkGreen\"},\"size\":{\"value\":5.477225575051661},\"x\":{\"field\":\"PC2\"},\"y\":{\"field\":\"PCI\"}},\"id\":\"19625\",\"type\":\"Scatter\"},{\"attributes\":{},\"id\":\"19405\",\"type\":\"Selection\"},{\"attributes\":{\"below\":[{\"id\":\"19333\"}],\"center\":[{\"id\":\"19336\"},{\"id\":\"19340\"}],\"height\":300,\"left\":[{\"id\":\"19337\"}],\"margin\":[5,5,5,5],\"min_border_bottom\":10,\"min_border_left\":10,\"min_border_right\":10,\"min_border_top\":10,\"renderers\":[{\"id\":\"19367\"},{\"id\":\"19388\"},{\"id\":\"19410\"},{\"id\":\"19434\"},{\"id\":\"19572\"},{\"id\":\"19599\"},{\"id\":\"19628\"}],\"right\":[{\"id\":\"19379\"}],\"sizing_mode\":\"fixed\",\"title\":{\"id\":\"19325\"},\"toolbar\":{\"id\":\"19347\"},\"width\":700,\"x_range\":{\"id\":\"19315\"},\"x_scale\":{\"id\":\"19329\"},\"y_range\":{\"id\":\"19316\"},\"y_scale\":{\"id\":\"19331\"}},\"id\":\"19324\",\"subtype\":\"Figure\",\"type\":\"Plot\"},{\"attributes\":{},\"id\":\"19343\",\"type\":\"WheelZoomTool\"},{\"attributes\":{\"angle\":{\"value\":0.0},\"fill_alpha\":{\"value\":1.0},\"fill_color\":{\"value\":\"DarkBlue\"},\"hatch_alpha\":{\"value\":1.0},\"hatch_color\":{\"value\":\"black\"},\"hatch_scale\":{\"value\":12.0},\"hatch_weight\":{\"value\":1.0},\"line_alpha\":{\"value\":1.0},\"line_cap\":{\"value\":\"butt\"},\"line_color\":{\"value\":\"DarkBlue\"},\"line_dash\":{\"value\":[]},\"line_dash_offset\":{\"value\":0},\"line_join\":{\"value\":\"bevel\"},\"line_width\":{\"value\":1},\"marker\":{\"value\":\"circle\"},\"size\":{\"value\":5.477225575051661},\"x\":{\"field\":\"price_change_percentage_24h\"},\"y\":{\"field\":\"price_change_percentage_7d\"}},\"id\":\"19453\",\"type\":\"Scatter\"},{\"attributes\":{},\"id\":\"19357\",\"type\":\"AllLabels\"},{\"attributes\":{\"click_policy\":\"mute\",\"items\":[{\"id\":\"19380\"},{\"id\":\"19402\"},{\"id\":\"19426\"},{\"id\":\"19452\"}],\"location\":[0,0]},\"id\":\"19379\",\"type\":\"Legend\"},{\"attributes\":{\"fill_color\":{\"value\":\"DarkBlue\"},\"line_color\":{\"value\":\"DarkBlue\"},\"size\":{\"value\":5.477225575051661},\"x\":{\"field\":\"price_change_percentage_24h\"},\"y\":{\"field\":\"price_change_percentage_7d\"}},\"id\":\"19431\",\"type\":\"Scatter\"},{\"attributes\":{\"data\":{\"cryptocurrencies_clusters_left_parenthesis_k_equals_4_right_parenthesis\":[0,0,0,0,0,0,0,0,0,0,0,0,0],\"price_change_percentage_24h\":{\"__ndarray__\":\"DdlqYN9F4D86azDosLzHPzALIwCtFvM/9w6McDSK7D/VDHOpb1eHPzMEvaFkP7o/Sds39trWsz9Epj8/c9DQP4xAeNEVZ8O/qq8st/Fh0L8FWWk3mH7gP6wo083aUMC//ACFOIMFwL8=\",\"dtype\":\"float64\",\"order\":\"little\",\"shape\":[13]},\"price_change_percentage_7d\":{\"__ndarray__\":\"U1k8q3mQ3z9yoPpI+ebtPzAB2dP2AQBAgmkOMZk89T8FNulI+JMEQCZRaSLGIPg/84wjaB1l1T8rMp3jf678P2VmURqKqeY/XK6ZksNx/T9DfMqy1o7dPyTPDB1Xu+0/srW7TleV4j8=\",\"dtype\":\"float64\",\"order\":\"little\",\"shape\":[13]}},\"selected\":{\"id\":\"19362\"},\"selection_policy\":{\"id\":\"19377\"}},\"id\":\"19361\",\"type\":\"ColumnDataSource\"},{\"attributes\":{\"source\":{\"id\":\"19404\"}},\"id\":\"19411\",\"type\":\"CDSView\"},{\"attributes\":{\"fill_alpha\":{\"value\":0.1},\"fill_color\":{\"value\":\"DarkGreen\"},\"line_alpha\":{\"value\":0.1},\"line_color\":{\"value\":\"DarkGreen\"},\"size\":{\"value\":5.477225575051661},\"x\":{\"field\":\"PC2\"},\"y\":{\"field\":\"PCI\"}},\"id\":\"19597\",\"type\":\"Scatter\"},{\"attributes\":{},\"id\":\"19360\",\"type\":\"AllLabels\"},{\"attributes\":{\"angle\":{\"value\":0.0},\"fill_alpha\":{\"value\":1.0},\"fill_color\":{\"value\":\"DarkBlue\"},\"hatch_alpha\":{\"value\":1.0},\"hatch_color\":{\"value\":\"black\"},\"hatch_scale\":{\"value\":12.0},\"hatch_weight\":{\"value\":1.0},\"line_alpha\":{\"value\":1.0},\"line_cap\":{\"value\":\"butt\"},\"line_color\":{\"value\":\"DarkBlue\"},\"line_dash\":{\"value\":[]},\"line_dash_offset\":{\"value\":0},\"line_join\":{\"value\":\"bevel\"},\"line_width\":{\"value\":1},\"marker\":{\"value\":\"circle\"},\"size\":{\"value\":5.477225575051661},\"x\":{\"field\":\"price_change_percentage_24h\"},\"y\":{\"field\":\"price_change_percentage_7d\"}},\"id\":\"19403\",\"type\":\"Scatter\"},{\"attributes\":{\"callback\":null,\"renderers\":[{\"id\":\"19367\"},{\"id\":\"19388\"},{\"id\":\"19410\"},{\"id\":\"19434\"}],\"tags\":[\"hv_created\"],\"tooltips\":[[\"cryptocurrencies clusters (k=4)\",\"@{cryptocurrencies_clusters_left_parenthesis_k_equals_4_right_parenthesis}\"],[\"price_change_percentage_24h\",\"@{price_change_percentage_24h}\"],[\"price_change_percentage_7d\",\"@{price_change_percentage_7d}\"]]},\"id\":\"19317\",\"type\":\"HoverTool\"},{\"attributes\":{},\"id\":\"19594\",\"type\":\"Selection\"},{\"attributes\":{\"margin\":[5,5,5,5],\"name\":\"HSpacer39690\",\"sizing_mode\":\"stretch_width\"},\"id\":\"20005\",\"type\":\"Spacer\"},{\"attributes\":{},\"id\":\"19342\",\"type\":\"PanTool\"},{\"attributes\":{},\"id\":\"19619\",\"type\":\"UnionRenderers\"},{\"attributes\":{\"source\":{\"id\":\"19428\"}},\"id\":\"19435\",\"type\":\"CDSView\"},{\"attributes\":{},\"id\":\"19341\",\"type\":\"SaveTool\"},{\"attributes\":{\"bottom_units\":\"screen\",\"fill_alpha\":0.5,\"fill_color\":\"lightgrey\",\"left_units\":\"screen\",\"level\":\"overlay\",\"line_alpha\":1.0,\"line_color\":\"black\",\"line_dash\":[4,4],\"line_width\":2,\"right_units\":\"screen\",\"syncable\":false,\"top_units\":\"screen\"},\"id\":\"19346\",\"type\":\"BoxAnnotation\"},{\"attributes\":{},\"id\":\"19400\",\"type\":\"UnionRenderers\"},{\"attributes\":{\"axis\":{\"id\":\"19337\"},\"dimension\":1,\"grid_line_color\":null,\"ticker\":null},\"id\":\"19340\",\"type\":\"Grid\"},{\"attributes\":{\"data_source\":{\"id\":\"19404\"},\"glyph\":{\"id\":\"19407\"},\"hover_glyph\":null,\"muted_glyph\":{\"id\":\"19409\"},\"nonselection_glyph\":{\"id\":\"19408\"},\"selection_glyph\":{\"id\":\"19427\"},\"view\":{\"id\":\"19411\"}},\"id\":\"19410\",\"type\":\"GlyphRenderer\"},{\"attributes\":{},\"id\":\"19362\",\"type\":\"Selection\"},{\"attributes\":{\"label\":{\"value\":\"0\"},\"renderers\":[{\"id\":\"19367\"},{\"id\":\"19572\"}]},\"id\":\"19380\",\"type\":\"LegendItem\"},{\"attributes\":{\"data\":{\"cryptocurrencies_clusters_left_parenthesis_k_equals_4_right_parenthesis\":[1],\"price_change_percentage_24h\":{\"__ndarray__\":\"3WeHPpbsE8A=\",\"dtype\":\"float64\",\"order\":\"little\",\"shape\":[1]},\"price_change_percentage_7d\":{\"__ndarray__\":\"dIWi2pshp78=\",\"dtype\":\"float64\",\"order\":\"little\",\"shape\":[1]}},\"selected\":{\"id\":\"19383\"},\"selection_policy\":{\"id\":\"19400\"}},\"id\":\"19382\",\"type\":\"ColumnDataSource\"},{\"attributes\":{\"fill_alpha\":{\"value\":0.2},\"fill_color\":{\"value\":\"DarkGreen\"},\"line_alpha\":{\"value\":0.2},\"line_color\":{\"value\":\"DarkGreen\"},\"size\":{\"value\":5.477225575051661},\"x\":{\"field\":\"PC2\"},\"y\":{\"field\":\"PCI\"}},\"id\":\"19627\",\"type\":\"Scatter\"},{\"attributes\":{\"fill_color\":{\"value\":\"DarkGreen\"},\"line_color\":{\"value\":\"DarkGreen\"},\"size\":{\"value\":5.477225575051661},\"x\":{\"field\":\"PC2\"},\"y\":{\"field\":\"PCI\"}},\"id\":\"19569\",\"type\":\"Scatter\"},{\"attributes\":{\"data\":{\"PC2\":{\"__ndarray__\":\"p6iMrYm+iUA=\",\"dtype\":\"float64\",\"order\":\"little\",\"shape\":[1]},\"PCI\":{\"__ndarray__\":\"oiIlf0gnn0A=\",\"dtype\":\"float64\",\"order\":\"little\",\"shape\":[1]},\"cryptocurrencies_clusters_left_parenthesis_k_equals_3_right_parenthesis\":[2]},\"selected\":{\"id\":\"19623\"},\"selection_policy\":{\"id\":\"19650\"}},\"id\":\"19622\",\"type\":\"ColumnDataSource\"},{\"attributes\":{},\"id\":\"19650\",\"type\":\"UnionRenderers\"},{\"attributes\":{\"fill_alpha\":{\"value\":0.1},\"fill_color\":{\"value\":\"DarkBlue\"},\"line_alpha\":{\"value\":0.1},\"line_color\":{\"value\":\"DarkBlue\"},\"size\":{\"value\":5.477225575051661},\"x\":{\"field\":\"price_change_percentage_24h\"},\"y\":{\"field\":\"price_change_percentage_7d\"}},\"id\":\"19365\",\"type\":\"Scatter\"},{\"attributes\":{\"fill_alpha\":{\"value\":0.1},\"fill_color\":{\"value\":\"DarkBlue\"},\"line_alpha\":{\"value\":0.1},\"line_color\":{\"value\":\"DarkBlue\"},\"size\":{\"value\":5.477225575051661},\"x\":{\"field\":\"price_change_percentage_24h\"},\"y\":{\"field\":\"price_change_percentage_7d\"}},\"id\":\"19432\",\"type\":\"Scatter\"},{\"attributes\":{\"source\":{\"id\":\"19361\"}},\"id\":\"19368\",\"type\":\"CDSView\"},{\"attributes\":{\"label\":{\"value\":\"2\"},\"renderers\":[{\"id\":\"19410\"},{\"id\":\"19628\"}]},\"id\":\"19426\",\"type\":\"LegendItem\"},{\"attributes\":{\"end\":8572.78000025518,\"reset_end\":8572.78000025518,\"reset_start\":-1231.239611225351,\"start\":-1231.239611225351,\"tags\":[[[\"price_change_percentage_7d\",\"price_change_percentage_7d\",null]]]},\"id\":\"19316\",\"type\":\"Range1d\"},{\"attributes\":{\"fill_alpha\":{\"value\":0.1},\"fill_color\":{\"value\":\"DarkGreen\"},\"line_alpha\":{\"value\":0.1},\"line_color\":{\"value\":\"DarkGreen\"},\"size\":{\"value\":5.477225575051661},\"x\":{\"field\":\"PC2\"},\"y\":{\"field\":\"PCI\"}},\"id\":\"19626\",\"type\":\"Scatter\"},{\"attributes\":{\"data\":{\"cryptocurrencies_clusters_left_parenthesis_k_equals_4_right_parenthesis\":[2],\"price_change_percentage_24h\":{\"__ndarray__\":\"VLqXBn668D8=\",\"dtype\":\"float64\",\"order\":\"little\",\"shape\":[1]},\"price_change_percentage_7d\":{\"__ndarray__\":\"Nv03JFjJ478=\",\"dtype\":\"float64\",\"order\":\"little\",\"shape\":[1]}},\"selected\":{\"id\":\"19405\"},\"selection_policy\":{\"id\":\"19424\"}},\"id\":\"19404\",\"type\":\"ColumnDataSource\"},{\"attributes\":{\"children\":[{\"id\":\"19314\"},{\"id\":\"19324\"},{\"id\":\"20005\"}],\"margin\":[0,0,0,0],\"name\":\"Row39685\",\"tags\":[\"embedded\"]},\"id\":\"19313\",\"type\":\"Row\"},{\"attributes\":{\"text_color\":\"black\",\"text_font_size\":\"12pt\"},\"id\":\"19325\",\"type\":\"Title\"},{\"attributes\":{\"callback\":null,\"renderers\":[{\"id\":\"19572\"},{\"id\":\"19599\"},{\"id\":\"19628\"}],\"tags\":[\"hv_created\"],\"tooltips\":[[\"cryptocurrencies clusters (k=3)\",\"@{cryptocurrencies_clusters_left_parenthesis_k_equals_3_right_parenthesis}\"],[\"PC2\",\"@{PC2}\"],[\"PCI\",\"@{PCI}\"]]},\"id\":\"19321\",\"type\":\"HoverTool\"},{\"attributes\":{\"fill_color\":{\"value\":\"DarkBlue\"},\"line_color\":{\"value\":\"DarkBlue\"},\"size\":{\"value\":5.477225575051661},\"x\":{\"field\":\"price_change_percentage_24h\"},\"y\":{\"field\":\"price_change_percentage_7d\"}},\"id\":\"19385\",\"type\":\"Scatter\"},{\"attributes\":{\"end\":874.636777483805,\"reset_end\":874.636777483805,\"reset_start\":-412.79187149190795,\"start\":-412.79187149190795,\"tags\":[[[\"price_change_percentage_24h\",\"price_change_percentage_24h\",null]]]},\"id\":\"19315\",\"type\":\"Range1d\"},{\"attributes\":{\"fill_alpha\":{\"value\":0.1},\"fill_color\":{\"value\":\"DarkGreen\"},\"line_alpha\":{\"value\":0.1},\"line_color\":{\"value\":\"DarkGreen\"},\"size\":{\"value\":5.477225575051661},\"x\":{\"field\":\"PC2\"},\"y\":{\"field\":\"PCI\"}},\"id\":\"19570\",\"type\":\"Scatter\"},{\"attributes\":{},\"id\":\"19338\",\"type\":\"BasicTicker\"},{\"attributes\":{\"fill_alpha\":{\"value\":0.2},\"fill_color\":{\"value\":\"DarkGreen\"},\"line_alpha\":{\"value\":0.2},\"line_color\":{\"value\":\"DarkGreen\"},\"size\":{\"value\":5.477225575051661},\"x\":{\"field\":\"PC2\"},\"y\":{\"field\":\"PCI\"}},\"id\":\"19571\",\"type\":\"Scatter\"},{\"attributes\":{},\"id\":\"19334\",\"type\":\"BasicTicker\"},{\"attributes\":{\"fill_alpha\":{\"value\":0.2},\"fill_color\":{\"value\":\"DarkBlue\"},\"line_alpha\":{\"value\":0.2},\"line_color\":{\"value\":\"DarkBlue\"},\"size\":{\"value\":5.477225575051661},\"x\":{\"field\":\"price_change_percentage_24h\"},\"y\":{\"field\":\"price_change_percentage_7d\"}},\"id\":\"19433\",\"type\":\"Scatter\"},{\"attributes\":{\"source\":{\"id\":\"19593\"}},\"id\":\"19600\",\"type\":\"CDSView\"},{\"attributes\":{\"source\":{\"id\":\"19622\"}},\"id\":\"19629\",\"type\":\"CDSView\"},{\"attributes\":{\"fill_alpha\":{\"value\":0.2},\"fill_color\":{\"value\":\"DarkGreen\"},\"line_alpha\":{\"value\":0.2},\"line_color\":{\"value\":\"DarkGreen\"},\"size\":{\"value\":5.477225575051661},\"x\":{\"field\":\"PC2\"},\"y\":{\"field\":\"PCI\"}},\"id\":\"19598\",\"type\":\"Scatter\"},{\"attributes\":{\"data_source\":{\"id\":\"19382\"},\"glyph\":{\"id\":\"19385\"},\"hover_glyph\":null,\"muted_glyph\":{\"id\":\"19387\"},\"nonselection_glyph\":{\"id\":\"19386\"},\"selection_glyph\":{\"id\":\"19403\"},\"view\":{\"id\":\"19389\"}},\"id\":\"19388\",\"type\":\"GlyphRenderer\"},{\"attributes\":{},\"id\":\"19356\",\"type\":\"BasicTickFormatter\"},{\"attributes\":{\"label\":{\"value\":\"3\"},\"renderers\":[{\"id\":\"19434\"}]},\"id\":\"19452\",\"type\":\"LegendItem\"},{\"attributes\":{\"angle\":{\"value\":0.0},\"fill_alpha\":{\"value\":1.0},\"fill_color\":{\"value\":\"DarkBlue\"},\"hatch_alpha\":{\"value\":1.0},\"hatch_color\":{\"value\":\"black\"},\"hatch_scale\":{\"value\":12.0},\"hatch_weight\":{\"value\":1.0},\"line_alpha\":{\"value\":1.0},\"line_cap\":{\"value\":\"butt\"},\"line_color\":{\"value\":\"DarkBlue\"},\"line_dash\":{\"value\":[]},\"line_dash_offset\":{\"value\":0},\"line_join\":{\"value\":\"bevel\"},\"line_width\":{\"value\":1},\"marker\":{\"value\":\"circle\"},\"size\":{\"value\":5.477225575051661},\"x\":{\"field\":\"price_change_percentage_24h\"},\"y\":{\"field\":\"price_change_percentage_7d\"}},\"id\":\"19427\",\"type\":\"Scatter\"},{\"attributes\":{\"data\":{\"cryptocurrencies_clusters_left_parenthesis_k_equals_4_right_parenthesis\":[3,3,3,3,3,3,3,3,3,3,3,3,3,3,3,3,3,3,3,3,3,3,3,3,3,3],\"price_change_percentage_24h\":{\"__ndarray__\":\"mCJF1OlLlj/mJRG3Ed+kv1qZGRifu9w//rJXHrAz1T/yMTqenpahPx9kk3dK7sM/GTRehHalwD90fnl54Irtv9XPDahDw9G/+VOWQSEmxz+kpbukw1bSP6eM4M4OgKo/BcMOj9+jqr/Chq6S5ebLv2h3TIfCZ68/weEQ8QyV0D/KmZTmC7niP1YH9WGFy/m/N7JuVBEB07/EU4GAhEGyv8Ocf0hw2/a/lrPBJY23/j/IKcQzxy3av5WrmDyeito/Bf22eE/6sz9Y362Ir3rzPw==\",\"dtype\":\"float64\",\"order\":\"little\",\"shape\":[26]},\"price_change_percentage_7d\":{\"__ndarray__\":\"bZSIvk+a5r9RujxqH/Ppvw2U7adXaMi/d+r7VGbW+b9EGSx/8nTnv4rfBo4Lhe2/BEBwXEEApb8Udj8VbP/2vySelkVDp9i/7SZvVsyO5r8uu+JVH+LUvziN+gRMte2/o2qlez1D3b/CtPLKIS7rvyYjaswHnea/US6joeTvzz/dRmuCvtDvv/9TV66U6fq/ZWX+mWVCuD8GJ0pHuV/Nv8nIE2ZWH5q/TTxj/me11z+Htdvf1gXtv2Avihmzf9o/e31xtwIC5r/STlu6Y3Ljvw==\",\"dtype\":\"float64\",\"order\":\"little\",\"shape\":[26]}},\"selected\":{\"id\":\"19429\"},\"selection_policy\":{\"id\":\"19450\"}},\"id\":\"19428\",\"type\":\"ColumnDataSource\"},{\"attributes\":{\"fill_color\":{\"value\":\"DarkBlue\"},\"line_color\":{\"value\":\"DarkBlue\"},\"size\":{\"value\":5.477225575051661},\"x\":{\"field\":\"price_change_percentage_24h\"},\"y\":{\"field\":\"price_change_percentage_7d\"}},\"id\":\"19364\",\"type\":\"Scatter\"},{\"attributes\":{\"fill_color\":{\"value\":\"DarkBlue\"},\"line_color\":{\"value\":\"DarkBlue\"},\"size\":{\"value\":5.477225575051661},\"x\":{\"field\":\"price_change_percentage_24h\"},\"y\":{\"field\":\"price_change_percentage_7d\"}},\"id\":\"19407\",\"type\":\"Scatter\"},{\"attributes\":{\"fill_alpha\":{\"value\":0.1},\"fill_color\":{\"value\":\"DarkBlue\"},\"line_alpha\":{\"value\":0.1},\"line_color\":{\"value\":\"DarkBlue\"},\"size\":{\"value\":5.477225575051661},\"x\":{\"field\":\"price_change_percentage_24h\"},\"y\":{\"field\":\"price_change_percentage_7d\"}},\"id\":\"19408\",\"type\":\"Scatter\"},{\"attributes\":{\"margin\":[5,5,5,5],\"name\":\"HSpacer39689\",\"sizing_mode\":\"stretch_width\"},\"id\":\"19314\",\"type\":\"Spacer\"},{\"attributes\":{\"source\":{\"id\":\"19382\"}},\"id\":\"19389\",\"type\":\"CDSView\"},{\"attributes\":{\"data_source\":{\"id\":\"19593\"},\"glyph\":{\"id\":\"19596\"},\"hover_glyph\":null,\"muted_glyph\":{\"id\":\"19598\"},\"nonselection_glyph\":{\"id\":\"19597\"},\"selection_glyph\":{\"id\":\"19621\"},\"view\":{\"id\":\"19600\"}},\"id\":\"19599\",\"type\":\"GlyphRenderer\"},{\"attributes\":{\"angle\":{\"value\":0.0},\"fill_alpha\":{\"value\":1.0},\"fill_color\":{\"value\":\"DarkBlue\"},\"hatch_alpha\":{\"value\":1.0},\"hatch_color\":{\"value\":\"black\"},\"hatch_scale\":{\"value\":12.0},\"hatch_weight\":{\"value\":1.0},\"line_alpha\":{\"value\":1.0},\"line_cap\":{\"value\":\"butt\"},\"line_color\":{\"value\":\"DarkBlue\"},\"line_dash\":{\"value\":[]},\"line_dash_offset\":{\"value\":0},\"line_join\":{\"value\":\"bevel\"},\"line_width\":{\"value\":1},\"marker\":{\"value\":\"circle\"},\"size\":{\"value\":5.477225575051661},\"x\":{\"field\":\"price_change_percentage_24h\"},\"y\":{\"field\":\"price_change_percentage_7d\"}},\"id\":\"19381\",\"type\":\"Scatter\"},{\"attributes\":{\"angle\":{\"value\":0.0},\"fill_alpha\":{\"value\":1.0},\"fill_color\":{\"value\":\"DarkGreen\"},\"hatch_alpha\":{\"value\":1.0},\"hatch_color\":{\"value\":\"black\"},\"hatch_scale\":{\"value\":12.0},\"hatch_weight\":{\"value\":1.0},\"line_alpha\":{\"value\":1.0},\"line_cap\":{\"value\":\"butt\"},\"line_color\":{\"value\":\"DarkGreen\"},\"line_dash\":{\"value\":[]},\"line_dash_offset\":{\"value\":0},\"line_join\":{\"value\":\"bevel\"},\"line_width\":{\"value\":1},\"marker\":{\"value\":\"circle\"},\"size\":{\"value\":5.477225575051661},\"x\":{\"field\":\"PC2\"},\"y\":{\"field\":\"PCI\"}},\"id\":\"19621\",\"type\":\"Scatter\"},{\"attributes\":{\"data_source\":{\"id\":\"19428\"},\"glyph\":{\"id\":\"19431\"},\"hover_glyph\":null,\"muted_glyph\":{\"id\":\"19433\"},\"nonselection_glyph\":{\"id\":\"19432\"},\"selection_glyph\":{\"id\":\"19453\"},\"view\":{\"id\":\"19435\"}},\"id\":\"19434\",\"type\":\"GlyphRenderer\"},{\"attributes\":{\"fill_alpha\":{\"value\":0.1},\"fill_color\":{\"value\":\"DarkBlue\"},\"line_alpha\":{\"value\":0.1},\"line_color\":{\"value\":\"DarkBlue\"},\"size\":{\"value\":5.477225575051661},\"x\":{\"field\":\"price_change_percentage_24h\"},\"y\":{\"field\":\"price_change_percentage_7d\"}},\"id\":\"19386\",\"type\":\"Scatter\"},{\"attributes\":{\"fill_alpha\":{\"value\":0.2},\"fill_color\":{\"value\":\"DarkBlue\"},\"line_alpha\":{\"value\":0.2},\"line_color\":{\"value\":\"DarkBlue\"},\"size\":{\"value\":5.477225575051661},\"x\":{\"field\":\"price_change_percentage_24h\"},\"y\":{\"field\":\"price_change_percentage_7d\"}},\"id\":\"19366\",\"type\":\"Scatter\"},{\"attributes\":{\"data\":{\"PC2\":{\"__ndarray__\":\"0u29f/KuScAPiWCcFx44QM2HzLh8rV3AwzTRsi/fU8CHBaE3pdtZwNQYwfMHkyhA2Lu4qJ1fY0BQYUVllQ9UQAsNtSQd8lbAr9C8lyHpYcCeD/E0Sinsv7yCz3mltV3ADAJEsDZxWcCwooVQ1vwgQNsQBd/n5yfAYtyAXsn5X8CZljNVETNfwGIpjT4XjUjAjk4YhF93PkA/t/Oi5sZdwHUsXAVwmyHArHbMtkiLScDeweKqu6NbwPobY3BV0FXAxPWrkxGbQkANlJ+P9apdwJ5RXEYyKUHAHNz0YjlrUEAQIT6OfQM/wJW3Y3P3IIBANed+I61AXcCjRLam7AldwKIcEaQPAkfAo3qEMnH3b0AZoeFCeah1QNXnSFwn/FHAnyi0teWyXMBjIkUCo7ldwNnMWC3BM3FA\",\"dtype\":\"float64\",\"order\":\"little\",\"shape\":[39]},\"PCI\":{\"__ndarray__\":\"s5c+vtBcdcDdm891dC1vwA7EceXVKXnA8ZiK+wlsecDi5AkR4eZ3wFFN0RQAEnLAQoTercImPED9rpl2otBlwD5ZYT/QaXnA4rX8p4Rzc8BlmDz3t99FwLAwWfDTLXnAhCXnwM7jecB+j3qFMRprwBaJkcEmI3PAMfwByFUHcMAVf5E/XOhvwGdydiFTxXbA3hvEiILDcMAiVIM4YDB5wP+zQTgutWzAl/X0NsFadcCskFVqvZt3wKEeH2rG6HbAkR5dmqQxYsAMlkw7iCd5wKif9a1Wo3fA7Y3ZIkMRYMDjjm1aWu9xwFClBTz+oIBAINBVHog1ecBf7+gxP1J4wJtOR2pq/XbAKbuEl9f3ekC5KbtJxepTQDnxA2Mj6XjAgtgGi5YXbMAByrn0VyR5wG0lLNgDiFTA\",\"dtype\":\"float64\",\"order\":\"little\",\"shape\":[39]},\"cryptocurrencies_clusters_left_parenthesis_k_equals_3_right_parenthesis\":[0,0,0,0,0,0,0,0,0,0,0,0,0,0,0,0,0,0,0,0,0,0,0,0,0,0,0,0,0,0,0,0,0,0,0,0,0,0,0]},\"selected\":{\"id\":\"19567\"},\"selection_policy\":{\"id\":\"19590\"}},\"id\":\"19566\",\"type\":\"ColumnDataSource\"},{\"attributes\":{\"axis_label\":\"price_change_percentage_7d\",\"formatter\":{\"id\":\"19359\"},\"major_label_policy\":{\"id\":\"19360\"},\"ticker\":{\"id\":\"19338\"}},\"id\":\"19337\",\"type\":\"LinearAxis\"},{\"attributes\":{},\"id\":\"19590\",\"type\":\"UnionRenderers\"}],\"root_ids\":[\"19313\"]},\"title\":\"Bokeh Application\",\"version\":\"2.3.2\"}};\n",
       "    var render_items = [{\"docid\":\"d5a52083-f4d0-4d82-975c-bdb9f530d86c\",\"root_ids\":[\"19313\"],\"roots\":{\"19313\":\"af56f7a4-0934-4fa0-8f85-4f2168e82027\"}}];\n",
       "    root.Bokeh.embed.embed_items_notebook(docs_json, render_items);\n",
       "  }\n",
       "  if (root.Bokeh !== undefined && root.Bokeh.Panel !== undefined) {\n",
       "    embed_document(root);\n",
       "  } else {\n",
       "    var attempts = 0;\n",
       "    var timer = setInterval(function(root) {\n",
       "      if (root.Bokeh !== undefined && root.Bokeh.Panel !== undefined) {\n",
       "        clearInterval(timer);\n",
       "        embed_document(root);\n",
       "      } else if (document.readyState == \"complete\") {\n",
       "        attempts++;\n",
       "        if (attempts > 200) {\n",
       "          clearInterval(timer);\n",
       "          console.log(\"Bokeh: ERROR: Unable to run BokehJS code because BokehJS library is missing\");\n",
       "        }\n",
       "      }\n",
       "    }, 25, root)\n",
       "  }\n",
       "})(window);</script>"
      ],
      "text/plain": [
       ":Overlay\n",
       "   .NdOverlay.I  :NdOverlay   [cryptocurrencies clusters (k=4)]\n",
       "      :Scatter   [price_change_percentage_24h]   (price_change_percentage_7d)\n",
       "   .NdOverlay.II :NdOverlay   [cryptocurrencies clusters (k=3)]\n",
       "      :Scatter   [PC2]   (PCI)"
      ]
     },
     "execution_count": 405,
     "metadata": {
      "application/vnd.holoviews_exec.v0+json": {
       "id": "19313"
      }
     },
     "output_type": "execute_result"
    }
   ],
   "source": [
    "#Create a composite plot using hvPlot and the plus (*) operator to contrast the cryptocurrencies clusters using the original and the PCA data.\n",
    "plot_1 = df_market_data_scaled_predictions.hvplot.scatter(x=\"price_change_percentage_24h\", y=\"price_change_percentage_7d\", color='DarkBlue', by=\"cryptocurrencies clusters (k=4)\")\n",
    "plot_2 = crypto_df.hvplot.scatter(x=\"PC2\", y=\"PCI\", color='DarkGreen', by=\"cryptocurrencies clusters (k=3)\", s=30)\n",
    "plot_1 * plot_2"
   ]
  },
  {
   "cell_type": "code",
   "execution_count": 406,
   "metadata": {},
   "outputs": [
    {
     "data": {},
     "metadata": {},
     "output_type": "display_data"
    },
    {
     "data": {
      "application/vnd.holoviews_exec.v0+json": "",
      "text/html": [
       "<div id='20117'>\n",
       "\n",
       "\n",
       "\n",
       "\n",
       "\n",
       "  <div class=\"bk-root\" id=\"5dfe8a1e-8c6f-45dd-9f01-a27009c39062\" data-root-id=\"20117\"></div>\n",
       "</div>\n",
       "<script type=\"application/javascript\">(function(root) {\n",
       "  function embed_document(root) {\n",
       "    var docs_json = {\"9790e981-aa23-4271-9653-09cced6fb277\":{\"defs\":[{\"extends\":null,\"module\":null,\"name\":\"ReactiveHTML1\",\"overrides\":[],\"properties\":[]},{\"extends\":null,\"module\":null,\"name\":\"FlexBox1\",\"overrides\":[],\"properties\":[{\"default\":\"flex-start\",\"kind\":null,\"name\":\"align_content\"},{\"default\":\"flex-start\",\"kind\":null,\"name\":\"align_items\"},{\"default\":\"row\",\"kind\":null,\"name\":\"flex_direction\"},{\"default\":\"wrap\",\"kind\":null,\"name\":\"flex_wrap\"},{\"default\":\"flex-start\",\"kind\":null,\"name\":\"justify_content\"}]},{\"extends\":null,\"module\":null,\"name\":\"TemplateActions1\",\"overrides\":[],\"properties\":[{\"default\":0,\"kind\":null,\"name\":\"open_modal\"},{\"default\":0,\"kind\":null,\"name\":\"close_modal\"}]},{\"extends\":null,\"module\":null,\"name\":\"MaterialTemplateActions1\",\"overrides\":[],\"properties\":[{\"default\":0,\"kind\":null,\"name\":\"open_modal\"},{\"default\":0,\"kind\":null,\"name\":\"close_modal\"}]}],\"roots\":{\"references\":[{\"attributes\":{},\"id\":\"20156\",\"type\":\"BasicTickFormatter\"},{\"attributes\":{},\"id\":\"20389\",\"type\":\"PanTool\"},{\"attributes\":{},\"id\":\"20423\",\"type\":\"UnionRenderers\"},{\"attributes\":{\"source\":{\"id\":\"20407\"}},\"id\":\"20414\",\"type\":\"CDSView\"},{\"attributes\":{},\"id\":\"20144\",\"type\":\"WheelZoomTool\"},{\"attributes\":{\"children\":[[{\"id\":\"20125\"},0,0],[{\"id\":\"20371\"},0,1]]},\"id\":\"20604\",\"type\":\"GridBox\"},{\"attributes\":{\"axis\":{\"id\":\"20384\"},\"dimension\":1,\"grid_line_color\":null,\"ticker\":null},\"id\":\"20387\",\"type\":\"Grid\"},{\"attributes\":{\"label\":{\"value\":\"1\"},\"renderers\":[{\"id\":\"20188\"}]},\"id\":\"20202\",\"type\":\"LegendItem\"},{\"attributes\":{\"margin\":[5,5,5,5],\"name\":\"HSpacer41264\",\"sizing_mode\":\"stretch_width\"},\"id\":\"20118\",\"type\":\"Spacer\"},{\"attributes\":{\"source\":{\"id\":\"20204\"}},\"id\":\"20211\",\"type\":\"CDSView\"},{\"attributes\":{},\"id\":\"20378\",\"type\":\"LinearScale\"},{\"attributes\":{\"angle\":{\"value\":0.0},\"fill_alpha\":{\"value\":1.0},\"fill_color\":{\"value\":\"DarkGreen\"},\"hatch_alpha\":{\"value\":1.0},\"hatch_color\":{\"value\":\"black\"},\"hatch_scale\":{\"value\":12.0},\"hatch_weight\":{\"value\":1.0},\"line_alpha\":{\"value\":1.0},\"line_cap\":{\"value\":\"butt\"},\"line_color\":{\"value\":\"DarkGreen\"},\"line_dash\":{\"value\":[]},\"line_dash_offset\":{\"value\":0},\"line_join\":{\"value\":\"bevel\"},\"line_width\":{\"value\":1},\"marker\":{\"value\":\"circle\"},\"size\":{\"value\":5.477225575051661},\"x\":{\"field\":\"PC2\"},\"y\":{\"field\":\"PCI\"}},\"id\":\"20427\",\"type\":\"Scatter\"},{\"attributes\":{},\"id\":\"20224\",\"type\":\"UnionRenderers\"},{\"attributes\":{},\"id\":\"20229\",\"type\":\"Selection\"},{\"attributes\":{\"below\":[{\"id\":\"20380\"}],\"center\":[{\"id\":\"20383\"},{\"id\":\"20387\"}],\"height\":300,\"left\":[{\"id\":\"20384\"}],\"margin\":null,\"min_border_bottom\":10,\"min_border_left\":10,\"min_border_right\":10,\"min_border_top\":10,\"renderers\":[{\"id\":\"20413\"},{\"id\":\"20434\"},{\"id\":\"20456\"}],\"right\":[{\"id\":\"20425\"}],\"sizing_mode\":\"fixed\",\"title\":{\"id\":\"20372\"},\"toolbar\":{\"id\":\"20394\"},\"toolbar_location\":null,\"width\":700,\"x_range\":{\"id\":\"20366\"},\"x_scale\":{\"id\":\"20376\"},\"y_range\":{\"id\":\"20367\"},\"y_scale\":{\"id\":\"20378\"}},\"id\":\"20371\",\"subtype\":\"Figure\",\"type\":\"Plot\"},{\"attributes\":{\"active_multi\":null,\"tools\":[{\"id\":\"20368\"},{\"id\":\"20388\"},{\"id\":\"20389\"},{\"id\":\"20390\"},{\"id\":\"20391\"},{\"id\":\"20392\"}]},\"id\":\"20394\",\"type\":\"Toolbar\"},{\"attributes\":{\"below\":[{\"id\":\"20134\"}],\"center\":[{\"id\":\"20137\"},{\"id\":\"20141\"}],\"height\":300,\"left\":[{\"id\":\"20138\"}],\"margin\":null,\"min_border_bottom\":10,\"min_border_left\":10,\"min_border_right\":10,\"min_border_top\":10,\"renderers\":[{\"id\":\"20167\"},{\"id\":\"20188\"},{\"id\":\"20210\"},{\"id\":\"20234\"}],\"right\":[{\"id\":\"20179\"}],\"sizing_mode\":\"fixed\",\"title\":{\"id\":\"20126\"},\"toolbar\":{\"id\":\"20148\"},\"toolbar_location\":null,\"width\":700,\"x_range\":{\"id\":\"20119\"},\"x_scale\":{\"id\":\"20130\"},\"y_range\":{\"id\":\"20120\"},\"y_scale\":{\"id\":\"20132\"}},\"id\":\"20125\",\"subtype\":\"Figure\",\"type\":\"Plot\"},{\"attributes\":{},\"id\":\"20390\",\"type\":\"WheelZoomTool\"},{\"attributes\":{\"data\":{\"cryptocurrencies_clusters_left_parenthesis_k_equals_4_right_parenthesis\":[2],\"price_change_percentage_24h\":{\"__ndarray__\":\"VLqXBn668D8=\",\"dtype\":\"float64\",\"order\":\"little\",\"shape\":[1]},\"price_change_percentage_7d\":{\"__ndarray__\":\"Nv03JFjJ478=\",\"dtype\":\"float64\",\"order\":\"little\",\"shape\":[1]}},\"selected\":{\"id\":\"20205\"},\"selection_policy\":{\"id\":\"20224\"}},\"id\":\"20204\",\"type\":\"ColumnDataSource\"},{\"attributes\":{},\"id\":\"20130\",\"type\":\"LinearScale\"},{\"attributes\":{},\"id\":\"20200\",\"type\":\"UnionRenderers\"},{\"attributes\":{\"bottom_units\":\"screen\",\"fill_alpha\":0.5,\"fill_color\":\"lightgrey\",\"left_units\":\"screen\",\"level\":\"overlay\",\"line_alpha\":1.0,\"line_color\":\"black\",\"line_dash\":[4,4],\"line_width\":2,\"right_units\":\"screen\",\"syncable\":false,\"top_units\":\"screen\"},\"id\":\"20393\",\"type\":\"BoxAnnotation\"},{\"attributes\":{\"angle\":{\"value\":0.0},\"fill_alpha\":{\"value\":1.0},\"fill_color\":{\"value\":\"DarkBlue\"},\"hatch_alpha\":{\"value\":1.0},\"hatch_color\":{\"value\":\"black\"},\"hatch_scale\":{\"value\":12.0},\"hatch_weight\":{\"value\":1.0},\"line_alpha\":{\"value\":1.0},\"line_cap\":{\"value\":\"butt\"},\"line_color\":{\"value\":\"DarkBlue\"},\"line_dash\":{\"value\":[]},\"line_dash_offset\":{\"value\":0},\"line_join\":{\"value\":\"bevel\"},\"line_width\":{\"value\":1},\"marker\":{\"value\":\"circle\"},\"size\":{\"value\":5.477225575051661},\"x\":{\"field\":\"price_change_percentage_24h\"},\"y\":{\"field\":\"price_change_percentage_7d\"}},\"id\":\"20203\",\"type\":\"Scatter\"},{\"attributes\":{\"angle\":{\"value\":0.0},\"fill_alpha\":{\"value\":1.0},\"fill_color\":{\"value\":\"DarkBlue\"},\"hatch_alpha\":{\"value\":1.0},\"hatch_color\":{\"value\":\"black\"},\"hatch_scale\":{\"value\":12.0},\"hatch_weight\":{\"value\":1.0},\"line_alpha\":{\"value\":1.0},\"line_cap\":{\"value\":\"butt\"},\"line_color\":{\"value\":\"DarkBlue\"},\"line_dash\":{\"value\":[]},\"line_dash_offset\":{\"value\":0},\"line_join\":{\"value\":\"bevel\"},\"line_width\":{\"value\":1},\"marker\":{\"value\":\"circle\"},\"size\":{\"value\":5.477225575051661},\"x\":{\"field\":\"price_change_percentage_24h\"},\"y\":{\"field\":\"price_change_percentage_7d\"}},\"id\":\"20253\",\"type\":\"Scatter\"},{\"attributes\":{\"fill_alpha\":{\"value\":0.2},\"fill_color\":{\"value\":\"DarkGreen\"},\"line_alpha\":{\"value\":0.2},\"line_color\":{\"value\":\"DarkGreen\"},\"size\":{\"value\":5.477225575051661},\"x\":{\"field\":\"PC2\"},\"y\":{\"field\":\"PCI\"}},\"id\":\"20433\",\"type\":\"Scatter\"},{\"attributes\":{},\"id\":\"20385\",\"type\":\"BasicTicker\"},{\"attributes\":{\"source\":{\"id\":\"20161\"}},\"id\":\"20168\",\"type\":\"CDSView\"},{\"attributes\":{\"bottom_units\":\"screen\",\"fill_alpha\":0.5,\"fill_color\":\"lightgrey\",\"left_units\":\"screen\",\"level\":\"overlay\",\"line_alpha\":1.0,\"line_color\":\"black\",\"line_dash\":[4,4],\"line_width\":2,\"right_units\":\"screen\",\"syncable\":false,\"top_units\":\"screen\"},\"id\":\"20147\",\"type\":\"BoxAnnotation\"},{\"attributes\":{\"data_source\":{\"id\":\"20428\"},\"glyph\":{\"id\":\"20431\"},\"hover_glyph\":null,\"muted_glyph\":{\"id\":\"20433\"},\"nonselection_glyph\":{\"id\":\"20432\"},\"selection_glyph\":{\"id\":\"20449\"},\"view\":{\"id\":\"20435\"}},\"id\":\"20434\",\"type\":\"GlyphRenderer\"},{\"attributes\":{},\"id\":\"20405\",\"type\":\"BasicTickFormatter\"},{\"attributes\":{},\"id\":\"20408\",\"type\":\"Selection\"},{\"attributes\":{\"axis\":{\"id\":\"20134\"},\"grid_line_color\":null,\"ticker\":null},\"id\":\"20137\",\"type\":\"Grid\"},{\"attributes\":{\"click_policy\":\"mute\",\"items\":[{\"id\":\"20426\"},{\"id\":\"20448\"},{\"id\":\"20472\"}],\"location\":[0,0],\"title\":\"cryptocurrencies clusters (k=3)\"},\"id\":\"20425\",\"type\":\"Legend\"},{\"attributes\":{\"callback\":null,\"renderers\":[{\"id\":\"20413\"},{\"id\":\"20434\"},{\"id\":\"20456\"}],\"tags\":[\"hv_created\"],\"tooltips\":[[\"cryptocurrencies clusters (k=3)\",\"@{cryptocurrencies_clusters_left_parenthesis_k_equals_3_right_parenthesis}\"],[\"PC2\",\"@{PC2}\"],[\"PCI\",\"@{PCI}\"]]},\"id\":\"20368\",\"type\":\"HoverTool\"},{\"attributes\":{\"source\":{\"id\":\"20228\"}},\"id\":\"20235\",\"type\":\"CDSView\"},{\"attributes\":{\"label\":{\"value\":\"3\"},\"renderers\":[{\"id\":\"20234\"}]},\"id\":\"20252\",\"type\":\"LegendItem\"},{\"attributes\":{\"fill_alpha\":{\"value\":0.1},\"fill_color\":{\"value\":\"DarkGreen\"},\"line_alpha\":{\"value\":0.1},\"line_color\":{\"value\":\"DarkGreen\"},\"size\":{\"value\":5.477225575051661},\"x\":{\"field\":\"PC2\"},\"y\":{\"field\":\"PCI\"}},\"id\":\"20454\",\"type\":\"Scatter\"},{\"attributes\":{\"fill_alpha\":{\"value\":0.2},\"fill_color\":{\"value\":\"DarkGreen\"},\"line_alpha\":{\"value\":0.2},\"line_color\":{\"value\":\"DarkGreen\"},\"size\":{\"value\":5.477225575051661},\"x\":{\"field\":\"PC2\"},\"y\":{\"field\":\"PCI\"}},\"id\":\"20455\",\"type\":\"Scatter\"},{\"attributes\":{},\"id\":\"20388\",\"type\":\"SaveTool\"},{\"attributes\":{\"axis_label\":\"PCI\",\"formatter\":{\"id\":\"20405\"},\"major_label_policy\":{\"id\":\"20406\"},\"ticker\":{\"id\":\"20385\"}},\"id\":\"20384\",\"type\":\"LinearAxis\"},{\"attributes\":{\"fill_alpha\":{\"value\":0.1},\"fill_color\":{\"value\":\"DarkBlue\"},\"line_alpha\":{\"value\":0.1},\"line_color\":{\"value\":\"DarkBlue\"},\"size\":{\"value\":5.477225575051661},\"x\":{\"field\":\"price_change_percentage_24h\"},\"y\":{\"field\":\"price_change_percentage_7d\"}},\"id\":\"20165\",\"type\":\"Scatter\"},{\"attributes\":{\"angle\":{\"value\":0.0},\"fill_alpha\":{\"value\":1.0},\"fill_color\":{\"value\":\"DarkGreen\"},\"hatch_alpha\":{\"value\":1.0},\"hatch_color\":{\"value\":\"black\"},\"hatch_scale\":{\"value\":12.0},\"hatch_weight\":{\"value\":1.0},\"line_alpha\":{\"value\":1.0},\"line_cap\":{\"value\":\"butt\"},\"line_color\":{\"value\":\"DarkGreen\"},\"line_dash\":{\"value\":[]},\"line_dash_offset\":{\"value\":0},\"line_join\":{\"value\":\"bevel\"},\"line_width\":{\"value\":1},\"marker\":{\"value\":\"circle\"},\"size\":{\"value\":5.477225575051661},\"x\":{\"field\":\"PC2\"},\"y\":{\"field\":\"PCI\"}},\"id\":\"20473\",\"type\":\"Scatter\"},{\"attributes\":{},\"id\":\"20451\",\"type\":\"Selection\"},{\"attributes\":{},\"id\":\"20157\",\"type\":\"AllLabels\"},{\"attributes\":{\"fill_color\":{\"value\":\"DarkGreen\"},\"line_color\":{\"value\":\"DarkGreen\"},\"size\":{\"value\":5.477225575051661},\"x\":{\"field\":\"PC2\"},\"y\":{\"field\":\"PCI\"}},\"id\":\"20410\",\"type\":\"Scatter\"},{\"attributes\":{},\"id\":\"20250\",\"type\":\"UnionRenderers\"},{\"attributes\":{\"data_source\":{\"id\":\"20204\"},\"glyph\":{\"id\":\"20207\"},\"hover_glyph\":null,\"muted_glyph\":{\"id\":\"20209\"},\"nonselection_glyph\":{\"id\":\"20208\"},\"selection_glyph\":{\"id\":\"20227\"},\"view\":{\"id\":\"20211\"}},\"id\":\"20210\",\"type\":\"GlyphRenderer\"},{\"attributes\":{\"fill_color\":{\"value\":\"DarkGreen\"},\"line_color\":{\"value\":\"DarkGreen\"},\"size\":{\"value\":5.477225575051661},\"x\":{\"field\":\"PC2\"},\"y\":{\"field\":\"PCI\"}},\"id\":\"20431\",\"type\":\"Scatter\"},{\"attributes\":{\"data_source\":{\"id\":\"20228\"},\"glyph\":{\"id\":\"20231\"},\"hover_glyph\":null,\"muted_glyph\":{\"id\":\"20233\"},\"nonselection_glyph\":{\"id\":\"20232\"},\"selection_glyph\":{\"id\":\"20253\"},\"view\":{\"id\":\"20235\"}},\"id\":\"20234\",\"type\":\"GlyphRenderer\"},{\"attributes\":{},\"id\":\"20146\",\"type\":\"ResetTool\"},{\"attributes\":{\"toolbar\":{\"id\":\"20605\"},\"toolbar_location\":\"above\"},\"id\":\"20606\",\"type\":\"ToolbarBox\"},{\"attributes\":{\"fill_color\":{\"value\":\"DarkGreen\"},\"line_color\":{\"value\":\"DarkGreen\"},\"size\":{\"value\":5.477225575051661},\"x\":{\"field\":\"PC2\"},\"y\":{\"field\":\"PCI\"}},\"id\":\"20453\",\"type\":\"Scatter\"},{\"attributes\":{\"children\":[{\"id\":\"20118\"},{\"id\":\"20607\"},{\"id\":\"20878\"}],\"margin\":[0,0,0,0],\"name\":\"Row41260\",\"tags\":[\"embedded\"]},\"id\":\"20117\",\"type\":\"Row\"},{\"attributes\":{\"fill_color\":{\"value\":\"DarkBlue\"},\"line_color\":{\"value\":\"DarkBlue\"},\"size\":{\"value\":5.477225575051661},\"x\":{\"field\":\"price_change_percentage_24h\"},\"y\":{\"field\":\"price_change_percentage_7d\"}},\"id\":\"20185\",\"type\":\"Scatter\"},{\"attributes\":{},\"id\":\"20205\",\"type\":\"Selection\"},{\"attributes\":{\"text_color\":\"black\",\"text_font_size\":\"12pt\"},\"id\":\"20372\",\"type\":\"Title\"},{\"attributes\":{},\"id\":\"20177\",\"type\":\"UnionRenderers\"},{\"attributes\":{\"text_color\":\"black\",\"text_font_size\":\"12pt\"},\"id\":\"20126\",\"type\":\"Title\"},{\"attributes\":{\"data\":{\"PC2\":{\"__ndarray__\":\"0u29f/KuScAPiWCcFx44QM2HzLh8rV3AwzTRsi/fU8CHBaE3pdtZwNQYwfMHkyhA2Lu4qJ1fY0BQYUVllQ9UQAsNtSQd8lbAr9C8lyHpYcCeD/E0Sinsv7yCz3mltV3ADAJEsDZxWcCwooVQ1vwgQNsQBd/n5yfAYtyAXsn5X8CZljNVETNfwGIpjT4XjUjAjk4YhF93PkA/t/Oi5sZdwHUsXAVwmyHArHbMtkiLScDeweKqu6NbwPobY3BV0FXAxPWrkxGbQkANlJ+P9apdwJ5RXEYyKUHAHNz0YjlrUEAQIT6OfQM/wJW3Y3P3IIBANed+I61AXcCjRLam7AldwKIcEaQPAkfAo3qEMnH3b0AZoeFCeah1QNXnSFwn/FHAnyi0teWyXMBjIkUCo7ldwNnMWC3BM3FA\",\"dtype\":\"float64\",\"order\":\"little\",\"shape\":[39]},\"PCI\":{\"__ndarray__\":\"s5c+vtBcdcDdm891dC1vwA7EceXVKXnA8ZiK+wlsecDi5AkR4eZ3wFFN0RQAEnLAQoTercImPED9rpl2otBlwD5ZYT/QaXnA4rX8p4Rzc8BlmDz3t99FwLAwWfDTLXnAhCXnwM7jecB+j3qFMRprwBaJkcEmI3PAMfwByFUHcMAVf5E/XOhvwGdydiFTxXbA3hvEiILDcMAiVIM4YDB5wP+zQTgutWzAl/X0NsFadcCskFVqvZt3wKEeH2rG6HbAkR5dmqQxYsAMlkw7iCd5wKif9a1Wo3fA7Y3ZIkMRYMDjjm1aWu9xwFClBTz+oIBAINBVHog1ecBf7+gxP1J4wJtOR2pq/XbAKbuEl9f3ekC5KbtJxepTQDnxA2Mj6XjAgtgGi5YXbMAByrn0VyR5wG0lLNgDiFTA\",\"dtype\":\"float64\",\"order\":\"little\",\"shape\":[39]},\"cryptocurrencies_clusters_left_parenthesis_k_equals_3_right_parenthesis\":[0,0,0,0,0,0,0,0,0,0,0,0,0,0,0,0,0,0,0,0,0,0,0,0,0,0,0,0,0,0,0,0,0,0,0,0,0,0,0]},\"selected\":{\"id\":\"20408\"},\"selection_policy\":{\"id\":\"20423\"}},\"id\":\"20407\",\"type\":\"ColumnDataSource\"},{\"attributes\":{\"end\":2.2155632386560065,\"reset_end\":2.2155632386560065,\"reset_start\":-5.276792781891412,\"start\":-5.276792781891412,\"tags\":[[[\"price_change_percentage_24h\",\"price_change_percentage_24h\",null]]]},\"id\":\"20119\",\"type\":\"Range1d\"},{\"attributes\":{\"data_source\":{\"id\":\"20407\"},\"glyph\":{\"id\":\"20410\"},\"hover_glyph\":null,\"muted_glyph\":{\"id\":\"20412\"},\"nonselection_glyph\":{\"id\":\"20411\"},\"selection_glyph\":{\"id\":\"20427\"},\"view\":{\"id\":\"20414\"}},\"id\":\"20413\",\"type\":\"GlyphRenderer\"},{\"attributes\":{},\"id\":\"20406\",\"type\":\"AllLabels\"},{\"attributes\":{\"fill_alpha\":{\"value\":0.2},\"fill_color\":{\"value\":\"DarkBlue\"},\"line_alpha\":{\"value\":0.2},\"line_color\":{\"value\":\"DarkBlue\"},\"size\":{\"value\":5.477225575051661},\"x\":{\"field\":\"price_change_percentage_24h\"},\"y\":{\"field\":\"price_change_percentage_7d\"}},\"id\":\"20233\",\"type\":\"Scatter\"},{\"attributes\":{},\"id\":\"20381\",\"type\":\"BasicTicker\"},{\"attributes\":{\"fill_alpha\":{\"value\":0.1},\"fill_color\":{\"value\":\"DarkGreen\"},\"line_alpha\":{\"value\":0.1},\"line_color\":{\"value\":\"DarkGreen\"},\"size\":{\"value\":5.477225575051661},\"x\":{\"field\":\"PC2\"},\"y\":{\"field\":\"PCI\"}},\"id\":\"20432\",\"type\":\"Scatter\"},{\"attributes\":{},\"id\":\"20392\",\"type\":\"ResetTool\"},{\"attributes\":{},\"id\":\"20159\",\"type\":\"BasicTickFormatter\"},{\"attributes\":{\"children\":[{\"id\":\"20606\"},{\"id\":\"20604\"}]},\"id\":\"20607\",\"type\":\"Column\"},{\"attributes\":{\"click_policy\":\"mute\",\"items\":[{\"id\":\"20180\"},{\"id\":\"20202\"},{\"id\":\"20226\"},{\"id\":\"20252\"}],\"location\":[0,0],\"title\":\"cryptocurrencies clusters (k=4)\"},\"id\":\"20179\",\"type\":\"Legend\"},{\"attributes\":{\"fill_alpha\":{\"value\":0.2},\"fill_color\":{\"value\":\"DarkGreen\"},\"line_alpha\":{\"value\":0.2},\"line_color\":{\"value\":\"DarkGreen\"},\"size\":{\"value\":5.477225575051661},\"x\":{\"field\":\"PC2\"},\"y\":{\"field\":\"PCI\"}},\"id\":\"20412\",\"type\":\"Scatter\"},{\"attributes\":{\"end\":874.636777483805,\"reset_end\":874.636777483805,\"reset_start\":-412.79187149190795,\"start\":-412.79187149190795,\"tags\":[[[\"PC2\",\"PC2\",null]]]},\"id\":\"20366\",\"type\":\"Range1d\"},{\"attributes\":{},\"id\":\"20135\",\"type\":\"BasicTicker\"},{\"attributes\":{\"fill_alpha\":{\"value\":0.2},\"fill_color\":{\"value\":\"DarkBlue\"},\"line_alpha\":{\"value\":0.2},\"line_color\":{\"value\":\"DarkBlue\"},\"size\":{\"value\":5.477225575051661},\"x\":{\"field\":\"price_change_percentage_24h\"},\"y\":{\"field\":\"price_change_percentage_7d\"}},\"id\":\"20209\",\"type\":\"Scatter\"},{\"attributes\":{\"fill_alpha\":{\"value\":0.1},\"fill_color\":{\"value\":\"DarkGreen\"},\"line_alpha\":{\"value\":0.1},\"line_color\":{\"value\":\"DarkGreen\"},\"size\":{\"value\":5.477225575051661},\"x\":{\"field\":\"PC2\"},\"y\":{\"field\":\"PCI\"}},\"id\":\"20411\",\"type\":\"Scatter\"},{\"attributes\":{\"fill_alpha\":{\"value\":0.1},\"fill_color\":{\"value\":\"DarkBlue\"},\"line_alpha\":{\"value\":0.1},\"line_color\":{\"value\":\"DarkBlue\"},\"size\":{\"value\":5.477225575051661},\"x\":{\"field\":\"price_change_percentage_24h\"},\"y\":{\"field\":\"price_change_percentage_7d\"}},\"id\":\"20186\",\"type\":\"Scatter\"},{\"attributes\":{\"fill_alpha\":{\"value\":0.1},\"fill_color\":{\"value\":\"DarkBlue\"},\"line_alpha\":{\"value\":0.1},\"line_color\":{\"value\":\"DarkBlue\"},\"size\":{\"value\":5.477225575051661},\"x\":{\"field\":\"price_change_percentage_24h\"},\"y\":{\"field\":\"price_change_percentage_7d\"}},\"id\":\"20208\",\"type\":\"Scatter\"},{\"attributes\":{\"callback\":null,\"renderers\":[{\"id\":\"20167\"},{\"id\":\"20188\"},{\"id\":\"20210\"},{\"id\":\"20234\"}],\"tags\":[\"hv_created\"],\"tooltips\":[[\"cryptocurrencies clusters (k=4)\",\"@{cryptocurrencies_clusters_left_parenthesis_k_equals_4_right_parenthesis}\"],[\"price_change_percentage_24h\",\"@{price_change_percentage_24h}\"],[\"price_change_percentage_7d\",\"@{price_change_percentage_7d}\"]]},\"id\":\"20121\",\"type\":\"HoverTool\"},{\"attributes\":{\"fill_color\":{\"value\":\"DarkBlue\"},\"line_color\":{\"value\":\"DarkBlue\"},\"size\":{\"value\":5.477225575051661},\"x\":{\"field\":\"price_change_percentage_24h\"},\"y\":{\"field\":\"price_change_percentage_7d\"}},\"id\":\"20231\",\"type\":\"Scatter\"},{\"attributes\":{\"end\":8572.78000025518,\"reset_end\":8572.78000025518,\"reset_start\":-1231.239611225351,\"start\":-1231.239611225351,\"tags\":[[[\"PCI\",\"PCI\",null]]]},\"id\":\"20367\",\"type\":\"Range1d\"},{\"attributes\":{},\"id\":\"20429\",\"type\":\"Selection\"},{\"attributes\":{\"fill_alpha\":{\"value\":0.1},\"fill_color\":{\"value\":\"DarkBlue\"},\"line_alpha\":{\"value\":0.1},\"line_color\":{\"value\":\"DarkBlue\"},\"size\":{\"value\":5.477225575051661},\"x\":{\"field\":\"price_change_percentage_24h\"},\"y\":{\"field\":\"price_change_percentage_7d\"}},\"id\":\"20232\",\"type\":\"Scatter\"},{\"attributes\":{\"active_multi\":null,\"tools\":[{\"id\":\"20121\"},{\"id\":\"20142\"},{\"id\":\"20143\"},{\"id\":\"20144\"},{\"id\":\"20145\"},{\"id\":\"20146\"}]},\"id\":\"20148\",\"type\":\"Toolbar\"},{\"attributes\":{\"source\":{\"id\":\"20450\"}},\"id\":\"20457\",\"type\":\"CDSView\"},{\"attributes\":{\"axis\":{\"id\":\"20138\"},\"dimension\":1,\"grid_line_color\":null,\"ticker\":null},\"id\":\"20141\",\"type\":\"Grid\"},{\"attributes\":{\"axis\":{\"id\":\"20380\"},\"grid_line_color\":null,\"ticker\":null},\"id\":\"20383\",\"type\":\"Grid\"},{\"attributes\":{\"label\":{\"value\":\"0\"},\"renderers\":[{\"id\":\"20167\"}]},\"id\":\"20180\",\"type\":\"LegendItem\"},{\"attributes\":{},\"id\":\"20403\",\"type\":\"AllLabels\"},{\"attributes\":{\"data\":{\"PC2\":{\"__ndarray__\":\"Bxv0no6fdsA=\",\"dtype\":\"float64\",\"order\":\"little\",\"shape\":[1]},\"PCI\":{\"__ndarray__\":\"lOz9QsdLvkA=\",\"dtype\":\"float64\",\"order\":\"little\",\"shape\":[1]},\"cryptocurrencies_clusters_left_parenthesis_k_equals_3_right_parenthesis\":[1]},\"selected\":{\"id\":\"20429\"},\"selection_policy\":{\"id\":\"20446\"}},\"id\":\"20428\",\"type\":\"ColumnDataSource\"},{\"attributes\":{\"data\":{\"cryptocurrencies_clusters_left_parenthesis_k_equals_4_right_parenthesis\":[0,0,0,0,0,0,0,0,0,0,0,0,0],\"price_change_percentage_24h\":{\"__ndarray__\":\"DdlqYN9F4D86azDosLzHPzALIwCtFvM/9w6McDSK7D/VDHOpb1eHPzMEvaFkP7o/Sds39trWsz9Epj8/c9DQP4xAeNEVZ8O/qq8st/Fh0L8FWWk3mH7gP6wo083aUMC//ACFOIMFwL8=\",\"dtype\":\"float64\",\"order\":\"little\",\"shape\":[13]},\"price_change_percentage_7d\":{\"__ndarray__\":\"U1k8q3mQ3z9yoPpI+ebtPzAB2dP2AQBAgmkOMZk89T8FNulI+JMEQCZRaSLGIPg/84wjaB1l1T8rMp3jf678P2VmURqKqeY/XK6ZksNx/T9DfMqy1o7dPyTPDB1Xu+0/srW7TleV4j8=\",\"dtype\":\"float64\",\"order\":\"little\",\"shape\":[13]}},\"selected\":{\"id\":\"20162\"},\"selection_policy\":{\"id\":\"20177\"}},\"id\":\"20161\",\"type\":\"ColumnDataSource\"},{\"attributes\":{\"label\":{\"value\":\"0\"},\"renderers\":[{\"id\":\"20413\"}]},\"id\":\"20426\",\"type\":\"LegendItem\"},{\"attributes\":{},\"id\":\"20183\",\"type\":\"Selection\"},{\"attributes\":{},\"id\":\"20160\",\"type\":\"AllLabels\"},{\"attributes\":{\"fill_alpha\":{\"value\":0.2},\"fill_color\":{\"value\":\"DarkBlue\"},\"line_alpha\":{\"value\":0.2},\"line_color\":{\"value\":\"DarkBlue\"},\"size\":{\"value\":5.477225575051661},\"x\":{\"field\":\"price_change_percentage_24h\"},\"y\":{\"field\":\"price_change_percentage_7d\"}},\"id\":\"20187\",\"type\":\"Scatter\"},{\"attributes\":{\"end\":2.997678656273595,\"reset_end\":2.997678656273595,\"reset_start\":-2.107454305728652,\"start\":-2.107454305728652,\"tags\":[[[\"price_change_percentage_7d\",\"price_change_percentage_7d\",null]]]},\"id\":\"20120\",\"type\":\"Range1d\"},{\"attributes\":{},\"id\":\"20139\",\"type\":\"BasicTicker\"},{\"attributes\":{\"data\":{\"cryptocurrencies_clusters_left_parenthesis_k_equals_4_right_parenthesis\":[1],\"price_change_percentage_24h\":{\"__ndarray__\":\"3WeHPpbsE8A=\",\"dtype\":\"float64\",\"order\":\"little\",\"shape\":[1]},\"price_change_percentage_7d\":{\"__ndarray__\":\"dIWi2pshp78=\",\"dtype\":\"float64\",\"order\":\"little\",\"shape\":[1]}},\"selected\":{\"id\":\"20183\"},\"selection_policy\":{\"id\":\"20200\"}},\"id\":\"20182\",\"type\":\"ColumnDataSource\"},{\"attributes\":{\"data_source\":{\"id\":\"20161\"},\"glyph\":{\"id\":\"20164\"},\"hover_glyph\":null,\"muted_glyph\":{\"id\":\"20166\"},\"nonselection_glyph\":{\"id\":\"20165\"},\"selection_glyph\":{\"id\":\"20181\"},\"view\":{\"id\":\"20168\"}},\"id\":\"20167\",\"type\":\"GlyphRenderer\"},{\"attributes\":{\"axis_label\":\"price_change_percentage_24h\",\"formatter\":{\"id\":\"20156\"},\"major_label_policy\":{\"id\":\"20157\"},\"ticker\":{\"id\":\"20135\"}},\"id\":\"20134\",\"type\":\"LinearAxis\"},{\"attributes\":{\"angle\":{\"value\":0.0},\"fill_alpha\":{\"value\":1.0},\"fill_color\":{\"value\":\"DarkBlue\"},\"hatch_alpha\":{\"value\":1.0},\"hatch_color\":{\"value\":\"black\"},\"hatch_scale\":{\"value\":12.0},\"hatch_weight\":{\"value\":1.0},\"line_alpha\":{\"value\":1.0},\"line_cap\":{\"value\":\"butt\"},\"line_color\":{\"value\":\"DarkBlue\"},\"line_dash\":{\"value\":[]},\"line_dash_offset\":{\"value\":0},\"line_join\":{\"value\":\"bevel\"},\"line_width\":{\"value\":1},\"marker\":{\"value\":\"circle\"},\"size\":{\"value\":5.477225575051661},\"x\":{\"field\":\"price_change_percentage_24h\"},\"y\":{\"field\":\"price_change_percentage_7d\"}},\"id\":\"20181\",\"type\":\"Scatter\"},{\"attributes\":{\"overlay\":{\"id\":\"20147\"}},\"id\":\"20145\",\"type\":\"BoxZoomTool\"},{\"attributes\":{\"data_source\":{\"id\":\"20182\"},\"glyph\":{\"id\":\"20185\"},\"hover_glyph\":null,\"muted_glyph\":{\"id\":\"20187\"},\"nonselection_glyph\":{\"id\":\"20186\"},\"selection_glyph\":{\"id\":\"20203\"},\"view\":{\"id\":\"20189\"}},\"id\":\"20188\",\"type\":\"GlyphRenderer\"},{\"attributes\":{},\"id\":\"20376\",\"type\":\"LinearScale\"},{\"attributes\":{},\"id\":\"20143\",\"type\":\"PanTool\"},{\"attributes\":{\"axis_label\":\"PC2\",\"formatter\":{\"id\":\"20402\"},\"major_label_policy\":{\"id\":\"20403\"},\"ticker\":{\"id\":\"20381\"}},\"id\":\"20380\",\"type\":\"LinearAxis\"},{\"attributes\":{\"fill_alpha\":{\"value\":0.2},\"fill_color\":{\"value\":\"DarkBlue\"},\"line_alpha\":{\"value\":0.2},\"line_color\":{\"value\":\"DarkBlue\"},\"size\":{\"value\":5.477225575051661},\"x\":{\"field\":\"price_change_percentage_24h\"},\"y\":{\"field\":\"price_change_percentage_7d\"}},\"id\":\"20166\",\"type\":\"Scatter\"},{\"attributes\":{\"angle\":{\"value\":0.0},\"fill_alpha\":{\"value\":1.0},\"fill_color\":{\"value\":\"DarkBlue\"},\"hatch_alpha\":{\"value\":1.0},\"hatch_color\":{\"value\":\"black\"},\"hatch_scale\":{\"value\":12.0},\"hatch_weight\":{\"value\":1.0},\"line_alpha\":{\"value\":1.0},\"line_cap\":{\"value\":\"butt\"},\"line_color\":{\"value\":\"DarkBlue\"},\"line_dash\":{\"value\":[]},\"line_dash_offset\":{\"value\":0},\"line_join\":{\"value\":\"bevel\"},\"line_width\":{\"value\":1},\"marker\":{\"value\":\"circle\"},\"size\":{\"value\":5.477225575051661},\"x\":{\"field\":\"price_change_percentage_24h\"},\"y\":{\"field\":\"price_change_percentage_7d\"}},\"id\":\"20227\",\"type\":\"Scatter\"},{\"attributes\":{\"label\":{\"value\":\"1\"},\"renderers\":[{\"id\":\"20434\"}]},\"id\":\"20448\",\"type\":\"LegendItem\"},{\"attributes\":{\"axis_label\":\"price_change_percentage_7d\",\"formatter\":{\"id\":\"20159\"},\"major_label_policy\":{\"id\":\"20160\"},\"ticker\":{\"id\":\"20139\"}},\"id\":\"20138\",\"type\":\"LinearAxis\"},{\"attributes\":{\"label\":{\"value\":\"2\"},\"renderers\":[{\"id\":\"20456\"}]},\"id\":\"20472\",\"type\":\"LegendItem\"},{\"attributes\":{},\"id\":\"20470\",\"type\":\"UnionRenderers\"},{\"attributes\":{\"data_source\":{\"id\":\"20450\"},\"glyph\":{\"id\":\"20453\"},\"hover_glyph\":null,\"muted_glyph\":{\"id\":\"20455\"},\"nonselection_glyph\":{\"id\":\"20454\"},\"selection_glyph\":{\"id\":\"20473\"},\"view\":{\"id\":\"20457\"}},\"id\":\"20456\",\"type\":\"GlyphRenderer\"},{\"attributes\":{\"overlay\":{\"id\":\"20393\"}},\"id\":\"20391\",\"type\":\"BoxZoomTool\"},{\"attributes\":{\"source\":{\"id\":\"20428\"}},\"id\":\"20435\",\"type\":\"CDSView\"},{\"attributes\":{\"data\":{\"cryptocurrencies_clusters_left_parenthesis_k_equals_4_right_parenthesis\":[3,3,3,3,3,3,3,3,3,3,3,3,3,3,3,3,3,3,3,3,3,3,3,3,3,3],\"price_change_percentage_24h\":{\"__ndarray__\":\"mCJF1OlLlj/mJRG3Ed+kv1qZGRifu9w//rJXHrAz1T/yMTqenpahPx9kk3dK7sM/GTRehHalwD90fnl54Irtv9XPDahDw9G/+VOWQSEmxz+kpbukw1bSP6eM4M4OgKo/BcMOj9+jqr/Chq6S5ebLv2h3TIfCZ68/weEQ8QyV0D/KmZTmC7niP1YH9WGFy/m/N7JuVBEB07/EU4GAhEGyv8Ocf0hw2/a/lrPBJY23/j/IKcQzxy3av5WrmDyeito/Bf22eE/6sz9Y362Ir3rzPw==\",\"dtype\":\"float64\",\"order\":\"little\",\"shape\":[26]},\"price_change_percentage_7d\":{\"__ndarray__\":\"bZSIvk+a5r9RujxqH/Ppvw2U7adXaMi/d+r7VGbW+b9EGSx/8nTnv4rfBo4Lhe2/BEBwXEEApb8Udj8VbP/2vySelkVDp9i/7SZvVsyO5r8uu+JVH+LUvziN+gRMte2/o2qlez1D3b/CtPLKIS7rvyYjaswHnea/US6joeTvzz/dRmuCvtDvv/9TV66U6fq/ZWX+mWVCuD8GJ0pHuV/Nv8nIE2ZWH5q/TTxj/me11z+Htdvf1gXtv2Avihmzf9o/e31xtwIC5r/STlu6Y3Ljvw==\",\"dtype\":\"float64\",\"order\":\"little\",\"shape\":[26]}},\"selected\":{\"id\":\"20229\"},\"selection_policy\":{\"id\":\"20250\"}},\"id\":\"20228\",\"type\":\"ColumnDataSource\"},{\"attributes\":{\"margin\":[5,5,5,5],\"name\":\"HSpacer41265\",\"sizing_mode\":\"stretch_width\"},\"id\":\"20878\",\"type\":\"Spacer\"},{\"attributes\":{},\"id\":\"20446\",\"type\":\"UnionRenderers\"},{\"attributes\":{\"angle\":{\"value\":0.0},\"fill_alpha\":{\"value\":1.0},\"fill_color\":{\"value\":\"DarkGreen\"},\"hatch_alpha\":{\"value\":1.0},\"hatch_color\":{\"value\":\"black\"},\"hatch_scale\":{\"value\":12.0},\"hatch_weight\":{\"value\":1.0},\"line_alpha\":{\"value\":1.0},\"line_cap\":{\"value\":\"butt\"},\"line_color\":{\"value\":\"DarkGreen\"},\"line_dash\":{\"value\":[]},\"line_dash_offset\":{\"value\":0},\"line_join\":{\"value\":\"bevel\"},\"line_width\":{\"value\":1},\"marker\":{\"value\":\"circle\"},\"size\":{\"value\":5.477225575051661},\"x\":{\"field\":\"PC2\"},\"y\":{\"field\":\"PCI\"}},\"id\":\"20449\",\"type\":\"Scatter\"},{\"attributes\":{\"fill_color\":{\"value\":\"DarkBlue\"},\"line_color\":{\"value\":\"DarkBlue\"},\"size\":{\"value\":5.477225575051661},\"x\":{\"field\":\"price_change_percentage_24h\"},\"y\":{\"field\":\"price_change_percentage_7d\"}},\"id\":\"20164\",\"type\":\"Scatter\"},{\"attributes\":{},\"id\":\"20162\",\"type\":\"Selection\"},{\"attributes\":{\"source\":{\"id\":\"20182\"}},\"id\":\"20189\",\"type\":\"CDSView\"},{\"attributes\":{\"fill_color\":{\"value\":\"DarkBlue\"},\"line_color\":{\"value\":\"DarkBlue\"},\"size\":{\"value\":5.477225575051661},\"x\":{\"field\":\"price_change_percentage_24h\"},\"y\":{\"field\":\"price_change_percentage_7d\"}},\"id\":\"20207\",\"type\":\"Scatter\"},{\"attributes\":{},\"id\":\"20402\",\"type\":\"BasicTickFormatter\"},{\"attributes\":{\"label\":{\"value\":\"2\"},\"renderers\":[{\"id\":\"20210\"}]},\"id\":\"20226\",\"type\":\"LegendItem\"},{\"attributes\":{},\"id\":\"20132\",\"type\":\"LinearScale\"},{\"attributes\":{\"toolbars\":[{\"id\":\"20148\"},{\"id\":\"20394\"}],\"tools\":[{\"id\":\"20121\"},{\"id\":\"20142\"},{\"id\":\"20143\"},{\"id\":\"20144\"},{\"id\":\"20145\"},{\"id\":\"20146\"},{\"id\":\"20368\"},{\"id\":\"20388\"},{\"id\":\"20389\"},{\"id\":\"20390\"},{\"id\":\"20391\"},{\"id\":\"20392\"}]},\"id\":\"20605\",\"type\":\"ProxyToolbar\"},{\"attributes\":{\"data\":{\"PC2\":{\"__ndarray__\":\"p6iMrYm+iUA=\",\"dtype\":\"float64\",\"order\":\"little\",\"shape\":[1]},\"PCI\":{\"__ndarray__\":\"oiIlf0gnn0A=\",\"dtype\":\"float64\",\"order\":\"little\",\"shape\":[1]},\"cryptocurrencies_clusters_left_parenthesis_k_equals_3_right_parenthesis\":[2]},\"selected\":{\"id\":\"20451\"},\"selection_policy\":{\"id\":\"20470\"}},\"id\":\"20450\",\"type\":\"ColumnDataSource\"},{\"attributes\":{},\"id\":\"20142\",\"type\":\"SaveTool\"}],\"root_ids\":[\"20117\"]},\"title\":\"Bokeh Application\",\"version\":\"2.3.2\"}};\n",
       "    var render_items = [{\"docid\":\"9790e981-aa23-4271-9653-09cced6fb277\",\"root_ids\":[\"20117\"],\"roots\":{\"20117\":\"5dfe8a1e-8c6f-45dd-9f01-a27009c39062\"}}];\n",
       "    root.Bokeh.embed.embed_items_notebook(docs_json, render_items);\n",
       "  }\n",
       "  if (root.Bokeh !== undefined && root.Bokeh.Panel !== undefined) {\n",
       "    embed_document(root);\n",
       "  } else {\n",
       "    var attempts = 0;\n",
       "    var timer = setInterval(function(root) {\n",
       "      if (root.Bokeh !== undefined && root.Bokeh.Panel !== undefined) {\n",
       "        clearInterval(timer);\n",
       "        embed_document(root);\n",
       "      } else if (document.readyState == \"complete\") {\n",
       "        attempts++;\n",
       "        if (attempts > 200) {\n",
       "          clearInterval(timer);\n",
       "          console.log(\"Bokeh: ERROR: Unable to run BokehJS code because BokehJS library is missing\");\n",
       "        }\n",
       "      }\n",
       "    }, 25, root)\n",
       "  }\n",
       "})(window);</script>"
      ],
      "text/plain": [
       ":Layout\n",
       "   .NdOverlay.I  :NdOverlay   [cryptocurrencies clusters (k=4)]\n",
       "      :Scatter   [price_change_percentage_24h]   (price_change_percentage_7d)\n",
       "   .NdOverlay.II :NdOverlay   [cryptocurrencies clusters (k=3)]\n",
       "      :Scatter   [PC2]   (PCI)"
      ]
     },
     "execution_count": 406,
     "metadata": {
      "application/vnd.holoviews_exec.v0+json": {
       "id": "20117"
      }
     },
     "output_type": "execute_result"
    }
   ],
   "source": [
    "#Create a composite plot using hvPlot and the plus (+) operator to contrast the cryptocurrencies clusters using the original and the PCA data.\n",
    "plot_1 = df_market_data_scaled_predictions.hvplot.scatter(x=\"price_change_percentage_24h\", y=\"price_change_percentage_7d\", color='DarkBlue', by=\"cryptocurrencies clusters (k=4)\")\n",
    "plot_2 = crypto_df.hvplot.scatter(x=\"PC2\", y=\"PCI\", color='DarkGreen', by=\"cryptocurrencies clusters (k=3)\", s=30)\n",
    "plot_1 + plot_2"
   ]
  },
  {
   "cell_type": "markdown",
   "metadata": {},
   "source": [
    "#### Answer the following question: After visually analyzing the cluster analysis results, what is the impact of using fewer features to cluster the data using K-Means?\n",
    "\n",
    "  * **Question:** After visually analyzing the cluster analysis results, what is the impact of using fewer features to cluster the data using K-Means?\n",
    "\n",
    "  * **Answer:** # YOUR ANSWER HERE!"
   ]
  }
 ],
 "metadata": {
  "kernelspec": {
   "display_name": "Python 3 (ipykernel)",
   "language": "python",
   "name": "python3"
  },
  "language_info": {
   "codemirror_mode": {
    "name": "ipython",
    "version": 3
   },
   "file_extension": ".py",
   "mimetype": "text/x-python",
   "name": "python",
   "nbconvert_exporter": "python",
   "pygments_lexer": "ipython3",
   "version": "3.7.12"
  }
 },
 "nbformat": 4,
 "nbformat_minor": 4
}
