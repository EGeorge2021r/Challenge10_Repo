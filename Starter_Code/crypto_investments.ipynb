{
 "cells": [
  {
   "cell_type": "markdown",
   "metadata": {},
   "source": [
    "# Module 10 Application\n",
    "\n",
    "## Challenge: Crypto Clustering\n",
    "\n",
    "In this Challenge, you’ll combine your financial Python programming skills with the new unsupervised learning skills that you acquired in this module.\n",
    "\n",
    "The CSV file provided for this challenge contains price change data of cryptocurrencies in different periods.\n",
    "\n",
    "The steps for this challenge are broken out into the following sections:\n",
    "\n",
    "* Import the Data (provided in the starter code)\n",
    "* Prepare the Data (provided in the starter code)\n",
    "* Find the Best Value for `k` Using the Original Data\n",
    "* Cluster Cryptocurrencies with K-means Using the Original Data\n",
    "* Optimize Clusters with Principal Component Analysis\n",
    "* Find the Best Value for `k` Using the PCA Data\n",
    "* Cluster the Cryptocurrencies with K-means Using the PCA Data\n",
    "* Visualize and Compare the Results"
   ]
  },
  {
   "cell_type": "markdown",
   "metadata": {},
   "source": [
    "### Import the Data\n",
    "\n",
    "This section imports the data into a new DataFrame. It follows these steps:\n",
    "\n",
    "1. Read  the “crypto_market_data.csv” file from the Resources folder into a DataFrame, and use `index_col=\"coin_id\"` to set the cryptocurrency name as the index. Review the DataFrame.\n",
    "\n",
    "2. Generate the summary statistics, and use HvPlot to visualize your data to observe what your DataFrame contains.\n",
    "\n",
    "\n",
    "> **Rewind:** The [Pandas`describe()`function](https://pandas.pydata.org/pandas-docs/stable/reference/api/pandas.DataFrame.describe.html) generates summary statistics for a DataFrame. "
   ]
  },
  {
   "cell_type": "code",
   "execution_count": 88,
   "metadata": {},
   "outputs": [],
   "source": [
    "# Import required libraries and dependencies\n",
    "import pandas as pd\n",
    "import hvplot.pandas\n",
    "from path import Path\n",
    "from sklearn.cluster import KMeans\n",
    "from sklearn.decomposition import PCA\n",
    "from sklearn.preprocessing import StandardScaler"
   ]
  },
  {
   "cell_type": "code",
   "execution_count": 89,
   "metadata": {},
   "outputs": [
    {
     "data": {
      "text/html": [
       "<div>\n",
       "<style scoped>\n",
       "    .dataframe tbody tr th:only-of-type {\n",
       "        vertical-align: middle;\n",
       "    }\n",
       "\n",
       "    .dataframe tbody tr th {\n",
       "        vertical-align: top;\n",
       "    }\n",
       "\n",
       "    .dataframe thead th {\n",
       "        text-align: right;\n",
       "    }\n",
       "</style>\n",
       "<table border=\"1\" class=\"dataframe\">\n",
       "  <thead>\n",
       "    <tr style=\"text-align: right;\">\n",
       "      <th></th>\n",
       "      <th>price_change_percentage_24h</th>\n",
       "      <th>price_change_percentage_7d</th>\n",
       "      <th>price_change_percentage_14d</th>\n",
       "      <th>price_change_percentage_30d</th>\n",
       "      <th>price_change_percentage_60d</th>\n",
       "      <th>price_change_percentage_200d</th>\n",
       "      <th>price_change_percentage_1y</th>\n",
       "    </tr>\n",
       "    <tr>\n",
       "      <th>coin_id</th>\n",
       "      <th></th>\n",
       "      <th></th>\n",
       "      <th></th>\n",
       "      <th></th>\n",
       "      <th></th>\n",
       "      <th></th>\n",
       "      <th></th>\n",
       "    </tr>\n",
       "  </thead>\n",
       "  <tbody>\n",
       "    <tr>\n",
       "      <th>bitcoin</th>\n",
       "      <td>1.08388</td>\n",
       "      <td>7.60278</td>\n",
       "      <td>6.57509</td>\n",
       "      <td>7.67258</td>\n",
       "      <td>-3.25185</td>\n",
       "      <td>83.51840</td>\n",
       "      <td>37.51761</td>\n",
       "    </tr>\n",
       "    <tr>\n",
       "      <th>ethereum</th>\n",
       "      <td>0.22392</td>\n",
       "      <td>10.38134</td>\n",
       "      <td>4.80849</td>\n",
       "      <td>0.13169</td>\n",
       "      <td>-12.88890</td>\n",
       "      <td>186.77418</td>\n",
       "      <td>101.96023</td>\n",
       "    </tr>\n",
       "    <tr>\n",
       "      <th>tether</th>\n",
       "      <td>-0.21173</td>\n",
       "      <td>0.04935</td>\n",
       "      <td>0.00640</td>\n",
       "      <td>-0.04237</td>\n",
       "      <td>0.28037</td>\n",
       "      <td>-0.00542</td>\n",
       "      <td>0.01954</td>\n",
       "    </tr>\n",
       "    <tr>\n",
       "      <th>ripple</th>\n",
       "      <td>-0.37819</td>\n",
       "      <td>-0.60926</td>\n",
       "      <td>2.24984</td>\n",
       "      <td>0.23455</td>\n",
       "      <td>-17.55245</td>\n",
       "      <td>39.53888</td>\n",
       "      <td>-16.60193</td>\n",
       "    </tr>\n",
       "    <tr>\n",
       "      <th>bitcoin-cash</th>\n",
       "      <td>2.90585</td>\n",
       "      <td>17.09717</td>\n",
       "      <td>14.75334</td>\n",
       "      <td>15.74903</td>\n",
       "      <td>-13.71793</td>\n",
       "      <td>21.66042</td>\n",
       "      <td>14.49384</td>\n",
       "    </tr>\n",
       "    <tr>\n",
       "      <th>binancecoin</th>\n",
       "      <td>2.10423</td>\n",
       "      <td>12.85511</td>\n",
       "      <td>6.80688</td>\n",
       "      <td>0.05865</td>\n",
       "      <td>36.33486</td>\n",
       "      <td>155.61937</td>\n",
       "      <td>69.69195</td>\n",
       "    </tr>\n",
       "    <tr>\n",
       "      <th>chainlink</th>\n",
       "      <td>-0.23935</td>\n",
       "      <td>20.69459</td>\n",
       "      <td>9.30098</td>\n",
       "      <td>-11.21747</td>\n",
       "      <td>-43.69522</td>\n",
       "      <td>403.22917</td>\n",
       "      <td>325.13186</td>\n",
       "    </tr>\n",
       "    <tr>\n",
       "      <th>cardano</th>\n",
       "      <td>0.00322</td>\n",
       "      <td>13.99302</td>\n",
       "      <td>5.55476</td>\n",
       "      <td>10.10553</td>\n",
       "      <td>-22.84776</td>\n",
       "      <td>264.51418</td>\n",
       "      <td>156.09756</td>\n",
       "    </tr>\n",
       "    <tr>\n",
       "      <th>litecoin</th>\n",
       "      <td>-0.06341</td>\n",
       "      <td>6.60221</td>\n",
       "      <td>7.28931</td>\n",
       "      <td>1.21662</td>\n",
       "      <td>-17.23960</td>\n",
       "      <td>27.49919</td>\n",
       "      <td>-12.66408</td>\n",
       "    </tr>\n",
       "    <tr>\n",
       "      <th>bitcoin-cash-sv</th>\n",
       "      <td>0.92530</td>\n",
       "      <td>3.29641</td>\n",
       "      <td>-1.86656</td>\n",
       "      <td>2.88926</td>\n",
       "      <td>-24.87434</td>\n",
       "      <td>7.42562</td>\n",
       "      <td>93.73082</td>\n",
       "    </tr>\n",
       "  </tbody>\n",
       "</table>\n",
       "</div>"
      ],
      "text/plain": [
       "                 price_change_percentage_24h  price_change_percentage_7d  \\\n",
       "coin_id                                                                    \n",
       "bitcoin                              1.08388                     7.60278   \n",
       "ethereum                             0.22392                    10.38134   \n",
       "tether                              -0.21173                     0.04935   \n",
       "ripple                              -0.37819                    -0.60926   \n",
       "bitcoin-cash                         2.90585                    17.09717   \n",
       "binancecoin                          2.10423                    12.85511   \n",
       "chainlink                           -0.23935                    20.69459   \n",
       "cardano                              0.00322                    13.99302   \n",
       "litecoin                            -0.06341                     6.60221   \n",
       "bitcoin-cash-sv                      0.92530                     3.29641   \n",
       "\n",
       "                 price_change_percentage_14d  price_change_percentage_30d  \\\n",
       "coin_id                                                                     \n",
       "bitcoin                              6.57509                      7.67258   \n",
       "ethereum                             4.80849                      0.13169   \n",
       "tether                               0.00640                     -0.04237   \n",
       "ripple                               2.24984                      0.23455   \n",
       "bitcoin-cash                        14.75334                     15.74903   \n",
       "binancecoin                          6.80688                      0.05865   \n",
       "chainlink                            9.30098                    -11.21747   \n",
       "cardano                              5.55476                     10.10553   \n",
       "litecoin                             7.28931                      1.21662   \n",
       "bitcoin-cash-sv                     -1.86656                      2.88926   \n",
       "\n",
       "                 price_change_percentage_60d  price_change_percentage_200d  \\\n",
       "coin_id                                                                      \n",
       "bitcoin                             -3.25185                      83.51840   \n",
       "ethereum                           -12.88890                     186.77418   \n",
       "tether                               0.28037                      -0.00542   \n",
       "ripple                             -17.55245                      39.53888   \n",
       "bitcoin-cash                       -13.71793                      21.66042   \n",
       "binancecoin                         36.33486                     155.61937   \n",
       "chainlink                          -43.69522                     403.22917   \n",
       "cardano                            -22.84776                     264.51418   \n",
       "litecoin                           -17.23960                      27.49919   \n",
       "bitcoin-cash-sv                    -24.87434                       7.42562   \n",
       "\n",
       "                 price_change_percentage_1y  \n",
       "coin_id                                      \n",
       "bitcoin                            37.51761  \n",
       "ethereum                          101.96023  \n",
       "tether                              0.01954  \n",
       "ripple                            -16.60193  \n",
       "bitcoin-cash                       14.49384  \n",
       "binancecoin                        69.69195  \n",
       "chainlink                         325.13186  \n",
       "cardano                           156.09756  \n",
       "litecoin                          -12.66408  \n",
       "bitcoin-cash-sv                    93.73082  "
      ]
     },
     "execution_count": 89,
     "metadata": {},
     "output_type": "execute_result"
    }
   ],
   "source": [
    "# Load the data into a Pandas DataFrame\n",
    "df_market_data = pd.read_csv(\n",
    "    Path(\"Resources/crypto_market_data.csv\"),\n",
    "    index_col=\"coin_id\")\n",
    "\n",
    "# Display sample data\n",
    "df_market_data.head(10)"
   ]
  },
  {
   "cell_type": "code",
   "execution_count": 90,
   "metadata": {},
   "outputs": [
    {
     "data": {
      "text/html": [
       "<div>\n",
       "<style scoped>\n",
       "    .dataframe tbody tr th:only-of-type {\n",
       "        vertical-align: middle;\n",
       "    }\n",
       "\n",
       "    .dataframe tbody tr th {\n",
       "        vertical-align: top;\n",
       "    }\n",
       "\n",
       "    .dataframe thead th {\n",
       "        text-align: right;\n",
       "    }\n",
       "</style>\n",
       "<table border=\"1\" class=\"dataframe\">\n",
       "  <thead>\n",
       "    <tr style=\"text-align: right;\">\n",
       "      <th></th>\n",
       "      <th>price_change_percentage_24h</th>\n",
       "      <th>price_change_percentage_7d</th>\n",
       "      <th>price_change_percentage_14d</th>\n",
       "      <th>price_change_percentage_30d</th>\n",
       "      <th>price_change_percentage_60d</th>\n",
       "      <th>price_change_percentage_200d</th>\n",
       "      <th>price_change_percentage_1y</th>\n",
       "    </tr>\n",
       "  </thead>\n",
       "  <tbody>\n",
       "    <tr>\n",
       "      <th>count</th>\n",
       "      <td>41.000000</td>\n",
       "      <td>41.000000</td>\n",
       "      <td>41.000000</td>\n",
       "      <td>41.000000</td>\n",
       "      <td>41.000000</td>\n",
       "      <td>41.000000</td>\n",
       "      <td>41.000000</td>\n",
       "    </tr>\n",
       "    <tr>\n",
       "      <th>mean</th>\n",
       "      <td>-0.269686</td>\n",
       "      <td>4.497147</td>\n",
       "      <td>0.185787</td>\n",
       "      <td>1.545693</td>\n",
       "      <td>-0.094119</td>\n",
       "      <td>236.537432</td>\n",
       "      <td>347.667956</td>\n",
       "    </tr>\n",
       "    <tr>\n",
       "      <th>std</th>\n",
       "      <td>2.694793</td>\n",
       "      <td>6.375218</td>\n",
       "      <td>8.376939</td>\n",
       "      <td>26.344218</td>\n",
       "      <td>47.365803</td>\n",
       "      <td>435.225304</td>\n",
       "      <td>1247.842884</td>\n",
       "    </tr>\n",
       "    <tr>\n",
       "      <th>min</th>\n",
       "      <td>-13.527860</td>\n",
       "      <td>-6.094560</td>\n",
       "      <td>-18.158900</td>\n",
       "      <td>-34.705480</td>\n",
       "      <td>-44.822480</td>\n",
       "      <td>-0.392100</td>\n",
       "      <td>-17.567530</td>\n",
       "    </tr>\n",
       "    <tr>\n",
       "      <th>25%</th>\n",
       "      <td>-0.608970</td>\n",
       "      <td>0.047260</td>\n",
       "      <td>-5.026620</td>\n",
       "      <td>-10.438470</td>\n",
       "      <td>-25.907990</td>\n",
       "      <td>21.660420</td>\n",
       "      <td>0.406170</td>\n",
       "    </tr>\n",
       "    <tr>\n",
       "      <th>50%</th>\n",
       "      <td>-0.063410</td>\n",
       "      <td>3.296410</td>\n",
       "      <td>0.109740</td>\n",
       "      <td>-0.042370</td>\n",
       "      <td>-7.544550</td>\n",
       "      <td>83.905200</td>\n",
       "      <td>69.691950</td>\n",
       "    </tr>\n",
       "    <tr>\n",
       "      <th>75%</th>\n",
       "      <td>0.612090</td>\n",
       "      <td>7.602780</td>\n",
       "      <td>5.510740</td>\n",
       "      <td>4.578130</td>\n",
       "      <td>0.657260</td>\n",
       "      <td>216.177610</td>\n",
       "      <td>168.372510</td>\n",
       "    </tr>\n",
       "    <tr>\n",
       "      <th>max</th>\n",
       "      <td>4.840330</td>\n",
       "      <td>20.694590</td>\n",
       "      <td>24.239190</td>\n",
       "      <td>140.795700</td>\n",
       "      <td>223.064370</td>\n",
       "      <td>2227.927820</td>\n",
       "      <td>7852.089700</td>\n",
       "    </tr>\n",
       "  </tbody>\n",
       "</table>\n",
       "</div>"
      ],
      "text/plain": [
       "       price_change_percentage_24h  price_change_percentage_7d  \\\n",
       "count                    41.000000                   41.000000   \n",
       "mean                     -0.269686                    4.497147   \n",
       "std                       2.694793                    6.375218   \n",
       "min                     -13.527860                   -6.094560   \n",
       "25%                      -0.608970                    0.047260   \n",
       "50%                      -0.063410                    3.296410   \n",
       "75%                       0.612090                    7.602780   \n",
       "max                       4.840330                   20.694590   \n",
       "\n",
       "       price_change_percentage_14d  price_change_percentage_30d  \\\n",
       "count                    41.000000                    41.000000   \n",
       "mean                      0.185787                     1.545693   \n",
       "std                       8.376939                    26.344218   \n",
       "min                     -18.158900                   -34.705480   \n",
       "25%                      -5.026620                   -10.438470   \n",
       "50%                       0.109740                    -0.042370   \n",
       "75%                       5.510740                     4.578130   \n",
       "max                      24.239190                   140.795700   \n",
       "\n",
       "       price_change_percentage_60d  price_change_percentage_200d  \\\n",
       "count                    41.000000                     41.000000   \n",
       "mean                     -0.094119                    236.537432   \n",
       "std                      47.365803                    435.225304   \n",
       "min                     -44.822480                     -0.392100   \n",
       "25%                     -25.907990                     21.660420   \n",
       "50%                      -7.544550                     83.905200   \n",
       "75%                       0.657260                    216.177610   \n",
       "max                     223.064370                   2227.927820   \n",
       "\n",
       "       price_change_percentage_1y  \n",
       "count                   41.000000  \n",
       "mean                   347.667956  \n",
       "std                   1247.842884  \n",
       "min                    -17.567530  \n",
       "25%                      0.406170  \n",
       "50%                     69.691950  \n",
       "75%                    168.372510  \n",
       "max                   7852.089700  "
      ]
     },
     "execution_count": 90,
     "metadata": {},
     "output_type": "execute_result"
    }
   ],
   "source": [
    "# Generate summary statistics\n",
    "df_market_data.describe()"
   ]
  },
  {
   "cell_type": "code",
   "execution_count": 91,
   "metadata": {},
   "outputs": [
    {
     "data": {},
     "metadata": {},
     "output_type": "display_data"
    },
    {
     "data": {
      "application/vnd.holoviews_exec.v0+json": "",
      "text/html": [
       "<div id='9065'>\n",
       "\n",
       "\n",
       "\n",
       "\n",
       "\n",
       "  <div class=\"bk-root\" id=\"dda215af-dc1d-42f9-babe-9d5b537acdd2\" data-root-id=\"9065\"></div>\n",
       "</div>\n",
       "<script type=\"application/javascript\">(function(root) {\n",
       "  function embed_document(root) {\n",
       "    var docs_json = {\"2a2c6e9d-7d87-43eb-8343-a5a297b8edac\":{\"defs\":[{\"extends\":null,\"module\":null,\"name\":\"ReactiveHTML1\",\"overrides\":[],\"properties\":[]},{\"extends\":null,\"module\":null,\"name\":\"FlexBox1\",\"overrides\":[],\"properties\":[{\"default\":\"flex-start\",\"kind\":null,\"name\":\"align_content\"},{\"default\":\"flex-start\",\"kind\":null,\"name\":\"align_items\"},{\"default\":\"row\",\"kind\":null,\"name\":\"flex_direction\"},{\"default\":\"wrap\",\"kind\":null,\"name\":\"flex_wrap\"},{\"default\":\"flex-start\",\"kind\":null,\"name\":\"justify_content\"}]},{\"extends\":null,\"module\":null,\"name\":\"TemplateActions1\",\"overrides\":[],\"properties\":[{\"default\":0,\"kind\":null,\"name\":\"open_modal\"},{\"default\":0,\"kind\":null,\"name\":\"close_modal\"}]},{\"extends\":null,\"module\":null,\"name\":\"MaterialTemplateActions1\",\"overrides\":[],\"properties\":[{\"default\":0,\"kind\":null,\"name\":\"open_modal\"},{\"default\":0,\"kind\":null,\"name\":\"close_modal\"}]}],\"roots\":{\"references\":[{\"attributes\":{\"label\":{\"value\":\"price_change_percentage_7d\"},\"renderers\":[{\"id\":\"9138\"}]},\"id\":\"9152\",\"type\":\"LegendItem\"},{\"attributes\":{},\"id\":\"9233\",\"type\":\"Selection\"},{\"attributes\":{\"label\":{\"value\":\"price_change_percentage_24h\"},\"renderers\":[{\"id\":\"9117\"}]},\"id\":\"9130\",\"type\":\"LegendItem\"},{\"attributes\":{},\"id\":\"9089\",\"type\":\"BasicTicker\"},{\"attributes\":{\"line_alpha\":0.1,\"line_color\":\"#fc4f30\",\"line_width\":2,\"x\":{\"field\":\"coin_id\"},\"y\":{\"field\":\"value\"}},\"id\":\"9136\",\"type\":\"Line\"},{\"attributes\":{\"line_alpha\":0.1,\"line_color\":\"#e5ae38\",\"line_width\":2,\"x\":{\"field\":\"coin_id\"},\"y\":{\"field\":\"value\"}},\"id\":\"9158\",\"type\":\"Line\"},{\"attributes\":{\"data\":{\"Variable\":[\"price_change_percentage_1y\",\"price_change_percentage_1y\",\"price_change_percentage_1y\",\"price_change_percentage_1y\",\"price_change_percentage_1y\",\"price_change_percentage_1y\",\"price_change_percentage_1y\",\"price_change_percentage_1y\",\"price_change_percentage_1y\",\"price_change_percentage_1y\",\"price_change_percentage_1y\",\"price_change_percentage_1y\",\"price_change_percentage_1y\",\"price_change_percentage_1y\",\"price_change_percentage_1y\",\"price_change_percentage_1y\",\"price_change_percentage_1y\",\"price_change_percentage_1y\",\"price_change_percentage_1y\",\"price_change_percentage_1y\",\"price_change_percentage_1y\",\"price_change_percentage_1y\",\"price_change_percentage_1y\",\"price_change_percentage_1y\",\"price_change_percentage_1y\",\"price_change_percentage_1y\",\"price_change_percentage_1y\",\"price_change_percentage_1y\",\"price_change_percentage_1y\",\"price_change_percentage_1y\",\"price_change_percentage_1y\",\"price_change_percentage_1y\",\"price_change_percentage_1y\",\"price_change_percentage_1y\",\"price_change_percentage_1y\",\"price_change_percentage_1y\",\"price_change_percentage_1y\",\"price_change_percentage_1y\",\"price_change_percentage_1y\",\"price_change_percentage_1y\",\"price_change_percentage_1y\"],\"coin_id\":[\"bitcoin\",\"ethereum\",\"tether\",\"ripple\",\"bitcoin-cash\",\"binancecoin\",\"chainlink\",\"cardano\",\"litecoin\",\"bitcoin-cash-sv\",\"crypto-com-chain\",\"usd-coin\",\"eos\",\"monero\",\"tron\",\"tezos\",\"okb\",\"stellar\",\"cosmos\",\"cdai\",\"neo\",\"wrapped-bitcoin\",\"leo-token\",\"huobi-token\",\"nem\",\"binance-usd\",\"iota\",\"vechain\",\"zcash\",\"theta-token\",\"dash\",\"ethereum-classic\",\"ethlend\",\"maker\",\"havven\",\"omisego\",\"celsius-degree-token\",\"ontology\",\"ftx-token\",\"true-usd\",\"digibyte\"],\"value\":{\"__ndarray__\":\"kQpjC0HCQkDWqIdodH1ZQN/42jNLApQ/NXugFRiaMMDN6bKY2PwsQOcdp+hIbFFAaTo7GRxSdEC6LCY2H4NjQPnaM0sCVCnA0NA/wcVuV0CQvd798RBzQL4wmSoYlci/t39lpUmRMcDovMYuUaFhQEPKT6p9nk1A6PaSxmiAYUBdUN8yp75hQMzuycNCnStAw7ZFmQ2cVEAHsTOFzmvSvx/0bFZ9aWBAhhvw+WHEQkAN/RNcrAA1QN8Vwf9WkjhAS7A4nPkWaUAVUn5S7dPBPzUk7rH04Q/AIsMq3shbaUBf0hito7hUQPyMCwcC64VAzsKedvirA8Dwoq8gzTgmQHRGlPYWrL5Ayk+qfTpOJUDfiVkvRjaFQEfJq3MMC3RAnFCIgONmn0CsVib8Uk8pwNttF5rrC2VAyXGndLD+2T/ZfFwbKgxnQA==\",\"dtype\":\"float64\",\"order\":\"little\",\"shape\":[41]}},\"selected\":{\"id\":\"9263\"},\"selection_policy\":{\"id\":\"9291\"}},\"id\":\"9262\",\"type\":\"ColumnDataSource\"},{\"attributes\":{\"axis\":{\"id\":\"9085\"},\"grid_line_color\":null,\"ticker\":null},\"id\":\"9087\",\"type\":\"Grid\"},{\"attributes\":{\"data_source\":{\"id\":\"9178\"},\"glyph\":{\"id\":\"9181\"},\"hover_glyph\":null,\"muted_glyph\":{\"id\":\"9183\"},\"nonselection_glyph\":{\"id\":\"9182\"},\"selection_glyph\":{\"id\":\"9203\"},\"view\":{\"id\":\"9185\"}},\"id\":\"9184\",\"type\":\"GlyphRenderer\"},{\"attributes\":{\"click_policy\":\"mute\",\"items\":[{\"id\":\"9130\"},{\"id\":\"9152\"},{\"id\":\"9176\"},{\"id\":\"9202\"},{\"id\":\"9230\"},{\"id\":\"9260\"},{\"id\":\"9292\"}],\"location\":[0,0],\"title\":\"Variable\"},\"id\":\"9129\",\"type\":\"Legend\"},{\"attributes\":{\"data\":{\"Variable\":[\"price_change_percentage_24h\",\"price_change_percentage_24h\",\"price_change_percentage_24h\",\"price_change_percentage_24h\",\"price_change_percentage_24h\",\"price_change_percentage_24h\",\"price_change_percentage_24h\",\"price_change_percentage_24h\",\"price_change_percentage_24h\",\"price_change_percentage_24h\",\"price_change_percentage_24h\",\"price_change_percentage_24h\",\"price_change_percentage_24h\",\"price_change_percentage_24h\",\"price_change_percentage_24h\",\"price_change_percentage_24h\",\"price_change_percentage_24h\",\"price_change_percentage_24h\",\"price_change_percentage_24h\",\"price_change_percentage_24h\",\"price_change_percentage_24h\",\"price_change_percentage_24h\",\"price_change_percentage_24h\",\"price_change_percentage_24h\",\"price_change_percentage_24h\",\"price_change_percentage_24h\",\"price_change_percentage_24h\",\"price_change_percentage_24h\",\"price_change_percentage_24h\",\"price_change_percentage_24h\",\"price_change_percentage_24h\",\"price_change_percentage_24h\",\"price_change_percentage_24h\",\"price_change_percentage_24h\",\"price_change_percentage_24h\",\"price_change_percentage_24h\",\"price_change_percentage_24h\",\"price_change_percentage_24h\",\"price_change_percentage_24h\",\"price_change_percentage_24h\",\"price_change_percentage_24h\"],\"coin_id\":[\"bitcoin\",\"ethereum\",\"tether\",\"ripple\",\"bitcoin-cash\",\"binancecoin\",\"chainlink\",\"cardano\",\"litecoin\",\"bitcoin-cash-sv\",\"crypto-com-chain\",\"usd-coin\",\"eos\",\"monero\",\"tron\",\"tezos\",\"okb\",\"stellar\",\"cosmos\",\"cdai\",\"neo\",\"wrapped-bitcoin\",\"leo-token\",\"huobi-token\",\"nem\",\"binance-usd\",\"iota\",\"vechain\",\"zcash\",\"theta-token\",\"dash\",\"ethereum-classic\",\"ethlend\",\"maker\",\"havven\",\"omisego\",\"celsius-degree-token\",\"ontology\",\"ftx-token\",\"true-usd\",\"digibyte\"],\"value\":{\"__ndarray__\":\"nZ0MjpJX8T8MzXUaaanMP5mByvj3Gcu/wCZr1EM02L8ep+hILj8HQL0Yyol21QBAwhcmUwWjzr//CS5W1GBqP7JGPUSjO7C/QKTfvg6c7T8urYbEPZbjPzeJQWDl0Ma/1pC4x9KHwj87NgLxun7bP90HILWJk7M/JjYf14aK5b83iUFg5dAFwG3i5H6HIvC/5nlwd9Zu7r9i83FtqBjLP+iHEcKjjd8/M9yAzw+j8T/fGtgqweLAv+RmuAGfH9q/UdobfGEy678D7KNTVz67v8YzaOif4No/teBFX0Ga9D8G2Eenrnzjvx+duvJZPhLAoMN8eQH28L+cxCCwcmjdv667eapDDivAX5hMFYxK479EUaBP5EkQwAZkr3d/XBNA0JuKVBgbBEDqBDQRNrz1vxo09E9wseo/tI6qJoi6r79qMA3DR8QHQA==\",\"dtype\":\"float64\",\"order\":\"little\",\"shape\":[41]}},\"selected\":{\"id\":\"9112\"},\"selection_policy\":{\"id\":\"9128\"}},\"id\":\"9111\",\"type\":\"ColumnDataSource\"},{\"attributes\":{\"axis_label\":\"\",\"formatter\":{\"id\":\"9109\"},\"major_label_policy\":{\"id\":\"9110\"},\"ticker\":{\"id\":\"9089\"}},\"id\":\"9088\",\"type\":\"LinearAxis\"},{\"attributes\":{},\"id\":\"9133\",\"type\":\"Selection\"},{\"attributes\":{\"axis\":{\"id\":\"9088\"},\"dimension\":1,\"grid_line_color\":null,\"ticker\":null},\"id\":\"9091\",\"type\":\"Grid\"},{\"attributes\":{\"line_color\":\"#fc4f30\",\"line_width\":2,\"x\":{\"field\":\"coin_id\"},\"y\":{\"field\":\"value\"}},\"id\":\"9153\",\"type\":\"Line\"},{\"attributes\":{},\"id\":\"9155\",\"type\":\"Selection\"},{\"attributes\":{\"factors\":[\"bitcoin\",\"ethereum\",\"tether\",\"ripple\",\"bitcoin-cash\",\"binancecoin\",\"chainlink\",\"cardano\",\"litecoin\",\"bitcoin-cash-sv\",\"crypto-com-chain\",\"usd-coin\",\"eos\",\"monero\",\"tron\",\"tezos\",\"okb\",\"stellar\",\"cosmos\",\"cdai\",\"neo\",\"wrapped-bitcoin\",\"leo-token\",\"huobi-token\",\"nem\",\"binance-usd\",\"iota\",\"vechain\",\"zcash\",\"theta-token\",\"dash\",\"ethereum-classic\",\"ethlend\",\"maker\",\"havven\",\"omisego\",\"celsius-degree-token\",\"ontology\",\"ftx-token\",\"true-usd\",\"digibyte\"],\"tags\":[[[\"coin_id\",\"coin_id\",null]]]},\"id\":\"9067\",\"type\":\"FactorRange\"},{\"attributes\":{\"line_color\":\"#fc4f30\",\"line_width\":2,\"x\":{\"field\":\"coin_id\"},\"y\":{\"field\":\"value\"}},\"id\":\"9135\",\"type\":\"Line\"},{\"attributes\":{\"margin\":[5,5,5,5],\"name\":\"HSpacer17227\",\"sizing_mode\":\"stretch_width\"},\"id\":\"9066\",\"type\":\"Spacer\"},{\"attributes\":{},\"id\":\"9086\",\"type\":\"CategoricalTicker\"},{\"attributes\":{\"line_color\":\"#17becf\",\"line_width\":2,\"x\":{\"field\":\"coin_id\"},\"y\":{\"field\":\"value\"}},\"id\":\"9261\",\"type\":\"Line\"},{\"attributes\":{\"line_color\":\"#8b8b8b\",\"line_width\":2,\"x\":{\"field\":\"coin_id\"},\"y\":{\"field\":\"value\"}},\"id\":\"9207\",\"type\":\"Line\"},{\"attributes\":{\"source\":{\"id\":\"9154\"}},\"id\":\"9161\",\"type\":\"CDSView\"},{\"attributes\":{},\"id\":\"9151\",\"type\":\"UnionRenderers\"},{\"attributes\":{\"callback\":null,\"renderers\":[{\"id\":\"9117\"},{\"id\":\"9138\"},{\"id\":\"9160\"},{\"id\":\"9184\"},{\"id\":\"9210\"},{\"id\":\"9238\"},{\"id\":\"9268\"}],\"tags\":[\"hv_created\"],\"tooltips\":[[\"Variable\",\"@{Variable}\"],[\"coin_id\",\"@{coin_id}\"],[\"value\",\"@{value}\"]]},\"id\":\"9069\",\"type\":\"HoverTool\"},{\"attributes\":{\"line_alpha\":0.2,\"line_color\":\"#9467bd\",\"line_width\":2,\"x\":{\"field\":\"coin_id\"},\"y\":{\"field\":\"value\"}},\"id\":\"9267\",\"type\":\"Line\"},{\"attributes\":{\"data_source\":{\"id\":\"9132\"},\"glyph\":{\"id\":\"9135\"},\"hover_glyph\":null,\"muted_glyph\":{\"id\":\"9137\"},\"nonselection_glyph\":{\"id\":\"9136\"},\"selection_glyph\":{\"id\":\"9153\"},\"view\":{\"id\":\"9139\"}},\"id\":\"9138\",\"type\":\"GlyphRenderer\"},{\"attributes\":{\"line_color\":\"#9467bd\",\"line_width\":2,\"x\":{\"field\":\"coin_id\"},\"y\":{\"field\":\"value\"}},\"id\":\"9293\",\"type\":\"Line\"},{\"attributes\":{\"line_color\":\"#9467bd\",\"line_width\":2,\"x\":{\"field\":\"coin_id\"},\"y\":{\"field\":\"value\"}},\"id\":\"9265\",\"type\":\"Line\"},{\"attributes\":{\"active_multi\":null,\"tools\":[{\"id\":\"9069\"},{\"id\":\"9092\"},{\"id\":\"9093\"},{\"id\":\"9094\"},{\"id\":\"9095\"},{\"id\":\"9096\"}]},\"id\":\"9098\",\"type\":\"Toolbar\"},{\"attributes\":{\"children\":[{\"id\":\"9066\"},{\"id\":\"9076\"},{\"id\":\"9492\"}],\"margin\":[0,0,0,0],\"name\":\"Row17223\",\"tags\":[\"embedded\"]},\"id\":\"9065\",\"type\":\"Row\"},{\"attributes\":{\"line_color\":\"#e5ae38\",\"line_width\":2,\"x\":{\"field\":\"coin_id\"},\"y\":{\"field\":\"value\"}},\"id\":\"9157\",\"type\":\"Line\"},{\"attributes\":{},\"id\":\"9092\",\"type\":\"SaveTool\"},{\"attributes\":{},\"id\":\"9093\",\"type\":\"PanTool\"},{\"attributes\":{\"line_alpha\":0.2,\"line_color\":\"#6d904f\",\"line_width\":2,\"x\":{\"field\":\"coin_id\"},\"y\":{\"field\":\"value\"}},\"id\":\"9183\",\"type\":\"Line\"},{\"attributes\":{\"line_alpha\":0.1,\"line_color\":\"#6d904f\",\"line_width\":2,\"x\":{\"field\":\"coin_id\"},\"y\":{\"field\":\"value\"}},\"id\":\"9182\",\"type\":\"Line\"},{\"attributes\":{},\"id\":\"9096\",\"type\":\"ResetTool\"},{\"attributes\":{},\"id\":\"9110\",\"type\":\"AllLabels\"},{\"attributes\":{},\"id\":\"9094\",\"type\":\"WheelZoomTool\"},{\"attributes\":{\"line_color\":\"#6d904f\",\"line_width\":2,\"x\":{\"field\":\"coin_id\"},\"y\":{\"field\":\"value\"}},\"id\":\"9203\",\"type\":\"Line\"},{\"attributes\":{\"below\":[{\"id\":\"9085\"}],\"center\":[{\"id\":\"9087\"},{\"id\":\"9091\"}],\"height\":400,\"left\":[{\"id\":\"9088\"}],\"margin\":[5,5,5,5],\"min_border_bottom\":10,\"min_border_left\":10,\"min_border_right\":10,\"min_border_top\":10,\"renderers\":[{\"id\":\"9117\"},{\"id\":\"9138\"},{\"id\":\"9160\"},{\"id\":\"9184\"},{\"id\":\"9210\"},{\"id\":\"9238\"},{\"id\":\"9268\"}],\"right\":[{\"id\":\"9129\"}],\"sizing_mode\":\"fixed\",\"title\":{\"id\":\"9077\"},\"toolbar\":{\"id\":\"9098\"},\"width\":800,\"x_range\":{\"id\":\"9067\"},\"x_scale\":{\"id\":\"9081\"},\"y_range\":{\"id\":\"9068\"},\"y_scale\":{\"id\":\"9083\"}},\"id\":\"9076\",\"subtype\":\"Figure\",\"type\":\"Plot\"},{\"attributes\":{\"line_alpha\":0.1,\"line_color\":\"#30a2da\",\"line_width\":2,\"x\":{\"field\":\"coin_id\"},\"y\":{\"field\":\"value\"}},\"id\":\"9115\",\"type\":\"Line\"},{\"attributes\":{\"line_alpha\":0.1,\"line_color\":\"#8b8b8b\",\"line_width\":2,\"x\":{\"field\":\"coin_id\"},\"y\":{\"field\":\"value\"}},\"id\":\"9208\",\"type\":\"Line\"},{\"attributes\":{\"overlay\":{\"id\":\"9097\"}},\"id\":\"9095\",\"type\":\"BoxZoomTool\"},{\"attributes\":{},\"id\":\"9107\",\"type\":\"AllLabels\"},{\"attributes\":{\"data_source\":{\"id\":\"9204\"},\"glyph\":{\"id\":\"9207\"},\"hover_glyph\":null,\"muted_glyph\":{\"id\":\"9209\"},\"nonselection_glyph\":{\"id\":\"9208\"},\"selection_glyph\":{\"id\":\"9231\"},\"view\":{\"id\":\"9211\"}},\"id\":\"9210\",\"type\":\"GlyphRenderer\"},{\"attributes\":{},\"id\":\"9083\",\"type\":\"LinearScale\"},{\"attributes\":{},\"id\":\"9175\",\"type\":\"UnionRenderers\"},{\"attributes\":{},\"id\":\"9205\",\"type\":\"Selection\"},{\"attributes\":{\"data_source\":{\"id\":\"9154\"},\"glyph\":{\"id\":\"9157\"},\"hover_glyph\":null,\"muted_glyph\":{\"id\":\"9159\"},\"nonselection_glyph\":{\"id\":\"9158\"},\"selection_glyph\":{\"id\":\"9177\"},\"view\":{\"id\":\"9161\"}},\"id\":\"9160\",\"type\":\"GlyphRenderer\"},{\"attributes\":{\"line_alpha\":0.1,\"line_color\":\"#17becf\",\"line_width\":2,\"x\":{\"field\":\"coin_id\"},\"y\":{\"field\":\"value\"}},\"id\":\"9236\",\"type\":\"Line\"},{\"attributes\":{\"line_alpha\":0.2,\"line_color\":\"#e5ae38\",\"line_width\":2,\"x\":{\"field\":\"coin_id\"},\"y\":{\"field\":\"value\"}},\"id\":\"9159\",\"type\":\"Line\"},{\"attributes\":{\"line_color\":\"#8b8b8b\",\"line_width\":2,\"x\":{\"field\":\"coin_id\"},\"y\":{\"field\":\"value\"}},\"id\":\"9231\",\"type\":\"Line\"},{\"attributes\":{\"data\":{\"Variable\":[\"price_change_percentage_60d\",\"price_change_percentage_60d\",\"price_change_percentage_60d\",\"price_change_percentage_60d\",\"price_change_percentage_60d\",\"price_change_percentage_60d\",\"price_change_percentage_60d\",\"price_change_percentage_60d\",\"price_change_percentage_60d\",\"price_change_percentage_60d\",\"price_change_percentage_60d\",\"price_change_percentage_60d\",\"price_change_percentage_60d\",\"price_change_percentage_60d\",\"price_change_percentage_60d\",\"price_change_percentage_60d\",\"price_change_percentage_60d\",\"price_change_percentage_60d\",\"price_change_percentage_60d\",\"price_change_percentage_60d\",\"price_change_percentage_60d\",\"price_change_percentage_60d\",\"price_change_percentage_60d\",\"price_change_percentage_60d\",\"price_change_percentage_60d\",\"price_change_percentage_60d\",\"price_change_percentage_60d\",\"price_change_percentage_60d\",\"price_change_percentage_60d\",\"price_change_percentage_60d\",\"price_change_percentage_60d\",\"price_change_percentage_60d\",\"price_change_percentage_60d\",\"price_change_percentage_60d\",\"price_change_percentage_60d\",\"price_change_percentage_60d\",\"price_change_percentage_60d\",\"price_change_percentage_60d\",\"price_change_percentage_60d\",\"price_change_percentage_60d\",\"price_change_percentage_60d\"],\"coin_id\":[\"bitcoin\",\"ethereum\",\"tether\",\"ripple\",\"bitcoin-cash\",\"binancecoin\",\"chainlink\",\"cardano\",\"litecoin\",\"bitcoin-cash-sv\",\"crypto-com-chain\",\"usd-coin\",\"eos\",\"monero\",\"tron\",\"tezos\",\"okb\",\"stellar\",\"cosmos\",\"cdai\",\"neo\",\"wrapped-bitcoin\",\"leo-token\",\"huobi-token\",\"nem\",\"binance-usd\",\"iota\",\"vechain\",\"zcash\",\"theta-token\",\"dash\",\"ethereum-classic\",\"ethlend\",\"maker\",\"havven\",\"omisego\",\"celsius-degree-token\",\"ontology\",\"ftx-token\",\"true-usd\",\"digibyte\"],\"value\":{\"__ndarray__\":\"FvvL7skDCsAs1JrmHccpwKjjMQOV8dE/2qz6XG2NMcBzol2FlG8rwIleRrHcKkJAN8MN+PzYRcBi26LMBtk2wCEf9GxWPTHAq5UJv9TfOMBg5dAi23kwwDygbMoV3qU/l631RUIrPsDNzMzMzNxEQJm7lpAPGhZAms5OBkdpRsBKe4MvTKYGwEsfuqC+zT7APL1SliHOHMC4AZ8fRgjlP9L7xteeCStAFqQZi6azDMCvJeSDni0ewDeOWItPQQvAXvQVpBm3VEDaOGItPgW4PwpLPKBsQkHAaw4QzNHPRcAJM23/yoo0wBmQvd79AVRAfa62Yn85OsBVGFsIcug5wLCsNCkFHQFA529CIQKeMsA0uoPYmbZDwPKwUGua0VNA/pqsUQ/ia0Ao8iTpmllAwFuxv+yenBdAmrFoOjsZ0D8s1JrmHRc/wA==\",\"dtype\":\"float64\",\"order\":\"little\",\"shape\":[41]}},\"selected\":{\"id\":\"9205\"},\"selection_policy\":{\"id\":\"9229\"}},\"id\":\"9204\",\"type\":\"ColumnDataSource\"},{\"attributes\":{\"data_source\":{\"id\":\"9262\"},\"glyph\":{\"id\":\"9265\"},\"hover_glyph\":null,\"muted_glyph\":{\"id\":\"9267\"},\"nonselection_glyph\":{\"id\":\"9266\"},\"selection_glyph\":{\"id\":\"9293\"},\"view\":{\"id\":\"9269\"}},\"id\":\"9268\",\"type\":\"GlyphRenderer\"},{\"attributes\":{},\"id\":\"9106\",\"type\":\"CategoricalTickFormatter\"},{\"attributes\":{\"line_color\":\"#6d904f\",\"line_width\":2,\"x\":{\"field\":\"coin_id\"},\"y\":{\"field\":\"value\"}},\"id\":\"9181\",\"type\":\"Line\"},{\"attributes\":{\"source\":{\"id\":\"9132\"}},\"id\":\"9139\",\"type\":\"CDSView\"},{\"attributes\":{},\"id\":\"9259\",\"type\":\"UnionRenderers\"},{\"attributes\":{\"margin\":[5,5,5,5],\"name\":\"HSpacer17228\",\"sizing_mode\":\"stretch_width\"},\"id\":\"9492\",\"type\":\"Spacer\"},{\"attributes\":{\"text_color\":\"black\",\"text_font_size\":\"12pt\"},\"id\":\"9077\",\"type\":\"Title\"},{\"attributes\":{},\"id\":\"9291\",\"type\":\"UnionRenderers\"},{\"attributes\":{\"line_color\":\"#e5ae38\",\"line_width\":2,\"x\":{\"field\":\"coin_id\"},\"y\":{\"field\":\"value\"}},\"id\":\"9177\",\"type\":\"Line\"},{\"attributes\":{\"data\":{\"Variable\":[\"price_change_percentage_14d\",\"price_change_percentage_14d\",\"price_change_percentage_14d\",\"price_change_percentage_14d\",\"price_change_percentage_14d\",\"price_change_percentage_14d\",\"price_change_percentage_14d\",\"price_change_percentage_14d\",\"price_change_percentage_14d\",\"price_change_percentage_14d\",\"price_change_percentage_14d\",\"price_change_percentage_14d\",\"price_change_percentage_14d\",\"price_change_percentage_14d\",\"price_change_percentage_14d\",\"price_change_percentage_14d\",\"price_change_percentage_14d\",\"price_change_percentage_14d\",\"price_change_percentage_14d\",\"price_change_percentage_14d\",\"price_change_percentage_14d\",\"price_change_percentage_14d\",\"price_change_percentage_14d\",\"price_change_percentage_14d\",\"price_change_percentage_14d\",\"price_change_percentage_14d\",\"price_change_percentage_14d\",\"price_change_percentage_14d\",\"price_change_percentage_14d\",\"price_change_percentage_14d\",\"price_change_percentage_14d\",\"price_change_percentage_14d\",\"price_change_percentage_14d\",\"price_change_percentage_14d\",\"price_change_percentage_14d\",\"price_change_percentage_14d\",\"price_change_percentage_14d\",\"price_change_percentage_14d\",\"price_change_percentage_14d\",\"price_change_percentage_14d\",\"price_change_percentage_14d\"],\"coin_id\":[\"bitcoin\",\"ethereum\",\"tether\",\"ripple\",\"bitcoin-cash\",\"binancecoin\",\"chainlink\",\"cardano\",\"litecoin\",\"bitcoin-cash-sv\",\"crypto-com-chain\",\"usd-coin\",\"eos\",\"monero\",\"tron\",\"tezos\",\"okb\",\"stellar\",\"cosmos\",\"cdai\",\"neo\",\"wrapped-bitcoin\",\"leo-token\",\"huobi-token\",\"nem\",\"binance-usd\",\"iota\",\"vechain\",\"zcash\",\"theta-token\",\"dash\",\"ethereum-classic\",\"ethlend\",\"maker\",\"havven\",\"omisego\",\"celsius-degree-token\",\"ontology\",\"ftx-token\",\"true-usd\",\"digibyte\"],\"value\":{\"__ndarray__\":\"zQaZZORMGkB5knTN5DsTQC1DHOviNno/ctwpHaz/AUCLic3HtYEtQJgvL8A+OhtACoDxDBqaIkAOhGQBEzgWQICfceFAKB1AIVnABG7d/b8xsfm4NhQhwGtI3GPpQ3e/pfeNrz0z8j8ao3VUNWkyQBUA4xk0dPY/VIzzN6GQAkCXrfVFQhsUwKpla32RUPG/Qgkzbf8KFkDPg7uzdtvFP8MN+PwwsiPAYFlpUgo6GkB3+GuyRh0cwM2v5gDBHN0/jliLTwEwBUDWrZ6T3jeuP7pOIy2VNw7Am1Wfq60oMsAJM23/yioXQJfK2xFOSxrAQE0tW+uL4D9OucK7XET0v0SLbOf7mSPA/pqsUQ/R978vaYzWUZUqwDtT6LzGbirAvodLjjs9OEByUMJM2x8lwJ30vvG1Z8q/ZCMQr+sXvD+7D0BqE0cdwA==\",\"dtype\":\"float64\",\"order\":\"little\",\"shape\":[41]}},\"selected\":{\"id\":\"9155\"},\"selection_policy\":{\"id\":\"9175\"}},\"id\":\"9154\",\"type\":\"ColumnDataSource\"},{\"attributes\":{\"source\":{\"id\":\"9262\"}},\"id\":\"9269\",\"type\":\"CDSView\"},{\"attributes\":{\"line_alpha\":0.2,\"line_color\":\"#fc4f30\",\"line_width\":2,\"x\":{\"field\":\"coin_id\"},\"y\":{\"field\":\"value\"}},\"id\":\"9137\",\"type\":\"Line\"},{\"attributes\":{\"source\":{\"id\":\"9204\"}},\"id\":\"9211\",\"type\":\"CDSView\"},{\"attributes\":{},\"id\":\"9229\",\"type\":\"UnionRenderers\"},{\"attributes\":{},\"id\":\"9263\",\"type\":\"Selection\"},{\"attributes\":{\"line_alpha\":0.2,\"line_color\":\"#8b8b8b\",\"line_width\":2,\"x\":{\"field\":\"coin_id\"},\"y\":{\"field\":\"value\"}},\"id\":\"9209\",\"type\":\"Line\"},{\"attributes\":{},\"id\":\"9179\",\"type\":\"Selection\"},{\"attributes\":{\"line_alpha\":0.1,\"line_color\":\"#9467bd\",\"line_width\":2,\"x\":{\"field\":\"coin_id\"},\"y\":{\"field\":\"value\"}},\"id\":\"9266\",\"type\":\"Line\"},{\"attributes\":{},\"id\":\"9112\",\"type\":\"Selection\"},{\"attributes\":{\"line_color\":\"#30a2da\",\"line_width\":2,\"x\":{\"field\":\"coin_id\"},\"y\":{\"field\":\"value\"}},\"id\":\"9131\",\"type\":\"Line\"},{\"attributes\":{\"label\":{\"value\":\"price_change_percentage_60d\"},\"renderers\":[{\"id\":\"9210\"}]},\"id\":\"9230\",\"type\":\"LegendItem\"},{\"attributes\":{\"source\":{\"id\":\"9232\"}},\"id\":\"9239\",\"type\":\"CDSView\"},{\"attributes\":{},\"id\":\"9128\",\"type\":\"UnionRenderers\"},{\"attributes\":{},\"id\":\"9201\",\"type\":\"UnionRenderers\"},{\"attributes\":{\"axis_label\":\"coin_id\",\"formatter\":{\"id\":\"9106\"},\"major_label_orientation\":1.5707963267948966,\"major_label_policy\":{\"id\":\"9107\"},\"ticker\":{\"id\":\"9086\"}},\"id\":\"9085\",\"type\":\"CategoricalAxis\"},{\"attributes\":{\"line_alpha\":0.2,\"line_color\":\"#30a2da\",\"line_width\":2,\"x\":{\"field\":\"coin_id\"},\"y\":{\"field\":\"value\"}},\"id\":\"9116\",\"type\":\"Line\"},{\"attributes\":{\"line_color\":\"#17becf\",\"line_width\":2,\"x\":{\"field\":\"coin_id\"},\"y\":{\"field\":\"value\"}},\"id\":\"9235\",\"type\":\"Line\"},{\"attributes\":{\"data_source\":{\"id\":\"9232\"},\"glyph\":{\"id\":\"9235\"},\"hover_glyph\":null,\"muted_glyph\":{\"id\":\"9237\"},\"nonselection_glyph\":{\"id\":\"9236\"},\"selection_glyph\":{\"id\":\"9261\"},\"view\":{\"id\":\"9239\"}},\"id\":\"9238\",\"type\":\"GlyphRenderer\"},{\"attributes\":{\"source\":{\"id\":\"9178\"}},\"id\":\"9185\",\"type\":\"CDSView\"},{\"attributes\":{\"line_alpha\":0.2,\"line_color\":\"#17becf\",\"line_width\":2,\"x\":{\"field\":\"coin_id\"},\"y\":{\"field\":\"value\"}},\"id\":\"9237\",\"type\":\"Line\"},{\"attributes\":{\"label\":{\"value\":\"price_change_percentage_200d\"},\"renderers\":[{\"id\":\"9238\"}]},\"id\":\"9260\",\"type\":\"LegendItem\"},{\"attributes\":{},\"id\":\"9081\",\"type\":\"CategoricalScale\"},{\"attributes\":{\"label\":{\"value\":\"price_change_percentage_30d\"},\"renderers\":[{\"id\":\"9184\"}]},\"id\":\"9202\",\"type\":\"LegendItem\"},{\"attributes\":{\"data\":{\"Variable\":[\"price_change_percentage_30d\",\"price_change_percentage_30d\",\"price_change_percentage_30d\",\"price_change_percentage_30d\",\"price_change_percentage_30d\",\"price_change_percentage_30d\",\"price_change_percentage_30d\",\"price_change_percentage_30d\",\"price_change_percentage_30d\",\"price_change_percentage_30d\",\"price_change_percentage_30d\",\"price_change_percentage_30d\",\"price_change_percentage_30d\",\"price_change_percentage_30d\",\"price_change_percentage_30d\",\"price_change_percentage_30d\",\"price_change_percentage_30d\",\"price_change_percentage_30d\",\"price_change_percentage_30d\",\"price_change_percentage_30d\",\"price_change_percentage_30d\",\"price_change_percentage_30d\",\"price_change_percentage_30d\",\"price_change_percentage_30d\",\"price_change_percentage_30d\",\"price_change_percentage_30d\",\"price_change_percentage_30d\",\"price_change_percentage_30d\",\"price_change_percentage_30d\",\"price_change_percentage_30d\",\"price_change_percentage_30d\",\"price_change_percentage_30d\",\"price_change_percentage_30d\",\"price_change_percentage_30d\",\"price_change_percentage_30d\",\"price_change_percentage_30d\",\"price_change_percentage_30d\",\"price_change_percentage_30d\",\"price_change_percentage_30d\",\"price_change_percentage_30d\",\"price_change_percentage_30d\"],\"coin_id\":[\"bitcoin\",\"ethereum\",\"tether\",\"ripple\",\"bitcoin-cash\",\"binancecoin\",\"chainlink\",\"cardano\",\"litecoin\",\"bitcoin-cash-sv\",\"crypto-com-chain\",\"usd-coin\",\"eos\",\"monero\",\"tron\",\"tezos\",\"okb\",\"stellar\",\"cosmos\",\"cdai\",\"neo\",\"wrapped-bitcoin\",\"leo-token\",\"huobi-token\",\"nem\",\"binance-usd\",\"iota\",\"vechain\",\"zcash\",\"theta-token\",\"dash\",\"ethereum-classic\",\"ethlend\",\"maker\",\"havven\",\"omisego\",\"celsius-degree-token\",\"ontology\",\"ftx-token\",\"true-usd\",\"digibyte\"],\"value\":{\"__ndarray__\":\"VMa/z7iwHkAl6ZrJN9vAP/28qUiFsaW/L26jAbwFzj8dcjPcgH8vQPMf0m9fB64/5bhTOlhvJsBnfjUHCDYkQGWNeohGd/M/sCDNWDQdB0Cmft5UpHIxwJgvL8A+OsW/t0WZDTKJEsDeVKTC2HpDQEzD8BExNSnAjWK5pdVALMDjjcwjf+AkwIrIsIo3QiDAjliLTwFQEkAWpBmLpnMBwE3WqIdo9DXAVG8NbJWAHUAnMQisHJoIQGA8g4b+CQrACcTr+gU7DcCPpQ9dUN+SP80Bgjl6nBDA9S1zuixWLMBC7Eyh83odQEku/yH9bj9AtTf4wmQqH8Am/FI/byoHQNjYJaq3/j3A9GxWfa62MECdRloqb9c0wF4R/G8lOyLArK3YX3aZYUC1/SsrTVpBwP/PYb68ICXAFR3J5T+knz+ndLD+z4EqQA==\",\"dtype\":\"float64\",\"order\":\"little\",\"shape\":[41]}},\"selected\":{\"id\":\"9179\"},\"selection_policy\":{\"id\":\"9201\"}},\"id\":\"9178\",\"type\":\"ColumnDataSource\"},{\"attributes\":{\"source\":{\"id\":\"9111\"}},\"id\":\"9118\",\"type\":\"CDSView\"},{\"attributes\":{\"line_color\":\"#30a2da\",\"line_width\":2,\"x\":{\"field\":\"coin_id\"},\"y\":{\"field\":\"value\"}},\"id\":\"9114\",\"type\":\"Line\"},{\"attributes\":{\"end\":8641.780918,\"reset_end\":8641.780918,\"reset_start\":-834.5136980000001,\"start\":-834.5136980000001,\"tags\":[[[\"value\",\"value\",null]]]},\"id\":\"9068\",\"type\":\"Range1d\"},{\"attributes\":{\"label\":{\"value\":\"price_change_percentage_14d\"},\"renderers\":[{\"id\":\"9160\"}]},\"id\":\"9176\",\"type\":\"LegendItem\"},{\"attributes\":{\"data\":{\"Variable\":[\"price_change_percentage_200d\",\"price_change_percentage_200d\",\"price_change_percentage_200d\",\"price_change_percentage_200d\",\"price_change_percentage_200d\",\"price_change_percentage_200d\",\"price_change_percentage_200d\",\"price_change_percentage_200d\",\"price_change_percentage_200d\",\"price_change_percentage_200d\",\"price_change_percentage_200d\",\"price_change_percentage_200d\",\"price_change_percentage_200d\",\"price_change_percentage_200d\",\"price_change_percentage_200d\",\"price_change_percentage_200d\",\"price_change_percentage_200d\",\"price_change_percentage_200d\",\"price_change_percentage_200d\",\"price_change_percentage_200d\",\"price_change_percentage_200d\",\"price_change_percentage_200d\",\"price_change_percentage_200d\",\"price_change_percentage_200d\",\"price_change_percentage_200d\",\"price_change_percentage_200d\",\"price_change_percentage_200d\",\"price_change_percentage_200d\",\"price_change_percentage_200d\",\"price_change_percentage_200d\",\"price_change_percentage_200d\",\"price_change_percentage_200d\",\"price_change_percentage_200d\",\"price_change_percentage_200d\",\"price_change_percentage_200d\",\"price_change_percentage_200d\",\"price_change_percentage_200d\",\"price_change_percentage_200d\",\"price_change_percentage_200d\",\"price_change_percentage_200d\",\"price_change_percentage_200d\"],\"coin_id\":[\"bitcoin\",\"ethereum\",\"tether\",\"ripple\",\"bitcoin-cash\",\"binancecoin\",\"chainlink\",\"cardano\",\"litecoin\",\"bitcoin-cash-sv\",\"crypto-com-chain\",\"usd-coin\",\"eos\",\"monero\",\"tron\",\"tezos\",\"okb\",\"stellar\",\"cosmos\",\"cdai\",\"neo\",\"wrapped-bitcoin\",\"leo-token\",\"huobi-token\",\"nem\",\"binance-usd\",\"iota\",\"vechain\",\"zcash\",\"theta-token\",\"dash\",\"ethereum-classic\",\"ethlend\",\"maker\",\"havven\",\"omisego\",\"celsius-degree-token\",\"ontology\",\"ftx-token\",\"true-usd\",\"digibyte\"],\"value\":{\"__ndarray__\":\"xY8xdy3hVED0piIVxlhnQBe86CtIM3a/9zsUBfrEQ0DTn/1IEak1QPTDCOHRc2NAl3MprqozeUAexM4UOohwQIB9dOrKfztAFhiyutWzHUCN7iB2plZsQIQqNXugFcS/ZHWr56QPMkALe9rhrzBlQH+8V61MnGBA5nlwd9a2RUARHm0csfpDQC+Lic3HJ1VAkj8YeO4/Z0AOvjCZKhjZv2vUQzS61GNAtRX7y+75VEC5GW7A52cwQAPso1NXHkVAKa4q+64Fa0A7NgLxun65P+TaUDHOwVdAyM1wAz7bcEAFwHgGDaNeQH3Qs1k1lYtAOUVHcvnvGEANGvonuMgkQCYZOQvbZ6FAGD4ipkSiVED5MeauZXeDQHi0ccQaSoJAC170FcTYmEB1PGagMmJLQC2yne+nvkxAndfYJaq3tr9R9wFIbSl+QA==\",\"dtype\":\"float64\",\"order\":\"little\",\"shape\":[41]}},\"selected\":{\"id\":\"9233\"},\"selection_policy\":{\"id\":\"9259\"}},\"id\":\"9232\",\"type\":\"ColumnDataSource\"},{\"attributes\":{\"label\":{\"value\":\"price_change_percentage_1y\"},\"renderers\":[{\"id\":\"9268\"}]},\"id\":\"9292\",\"type\":\"LegendItem\"},{\"attributes\":{\"data\":{\"Variable\":[\"price_change_percentage_7d\",\"price_change_percentage_7d\",\"price_change_percentage_7d\",\"price_change_percentage_7d\",\"price_change_percentage_7d\",\"price_change_percentage_7d\",\"price_change_percentage_7d\",\"price_change_percentage_7d\",\"price_change_percentage_7d\",\"price_change_percentage_7d\",\"price_change_percentage_7d\",\"price_change_percentage_7d\",\"price_change_percentage_7d\",\"price_change_percentage_7d\",\"price_change_percentage_7d\",\"price_change_percentage_7d\",\"price_change_percentage_7d\",\"price_change_percentage_7d\",\"price_change_percentage_7d\",\"price_change_percentage_7d\",\"price_change_percentage_7d\",\"price_change_percentage_7d\",\"price_change_percentage_7d\",\"price_change_percentage_7d\",\"price_change_percentage_7d\",\"price_change_percentage_7d\",\"price_change_percentage_7d\",\"price_change_percentage_7d\",\"price_change_percentage_7d\",\"price_change_percentage_7d\",\"price_change_percentage_7d\",\"price_change_percentage_7d\",\"price_change_percentage_7d\",\"price_change_percentage_7d\",\"price_change_percentage_7d\",\"price_change_percentage_7d\",\"price_change_percentage_7d\",\"price_change_percentage_7d\",\"price_change_percentage_7d\",\"price_change_percentage_7d\",\"price_change_percentage_7d\"],\"coin_id\":[\"bitcoin\",\"ethereum\",\"tether\",\"ripple\",\"bitcoin-cash\",\"binancecoin\",\"chainlink\",\"cardano\",\"litecoin\",\"bitcoin-cash-sv\",\"crypto-com-chain\",\"usd-coin\",\"eos\",\"monero\",\"tron\",\"tezos\",\"okb\",\"stellar\",\"cosmos\",\"cdai\",\"neo\",\"wrapped-bitcoin\",\"leo-token\",\"huobi-token\",\"nem\",\"binance-usd\",\"iota\",\"vechain\",\"zcash\",\"theta-token\",\"dash\",\"ethereum-classic\",\"ethlend\",\"maker\",\"havven\",\"omisego\",\"celsius-degree-token\",\"ontology\",\"ftx-token\",\"true-usd\",\"digibyte\"],\"value\":{\"__ndarray__\":\"RbsKKT9pHkAzUBn/PsMkQL99HThnRKk/yVnY0w5/47/+JhQi4BgxQBL3WPrQtSlA7yB2ptCxNEA/jBAebfwrQPFL/bypaBpArKjBNAxfCkByv0NRoK8WwPlJtU/HY76/lPsdigL99L+n6Egu/5EvQE1KQbeX9BBA0m9fB87pIUBlU67wLjcSwKbtX1lpkgBAZwqd19gVMEBcIEHxY8ytP3wnZr0YigNAOh4zUBmfHUD3Hi457pT1vzNQGf8+4/k/kQ96Nqs+6781Y9F0djKoP2dEaW/wRRhAgXhdv2A3/L/8GHPXErIkQP8JLlbUYBjAVU0QdR9gFEDRlnMprmoIQGCrBIvD2RBAAiuHFtlOIECbG9MTllgRQKhXyjLEURtAqn06HjNQ4z+UvDrHgGzzvwltOZfiahxAsD2zJEBNxT8yj/zBwHPlPw==\",\"dtype\":\"float64\",\"order\":\"little\",\"shape\":[41]}},\"selected\":{\"id\":\"9133\"},\"selection_policy\":{\"id\":\"9151\"}},\"id\":\"9132\",\"type\":\"ColumnDataSource\"},{\"attributes\":{\"bottom_units\":\"screen\",\"fill_alpha\":0.5,\"fill_color\":\"lightgrey\",\"left_units\":\"screen\",\"level\":\"overlay\",\"line_alpha\":1.0,\"line_color\":\"black\",\"line_dash\":[4,4],\"line_width\":2,\"right_units\":\"screen\",\"syncable\":false,\"top_units\":\"screen\"},\"id\":\"9097\",\"type\":\"BoxAnnotation\"},{\"attributes\":{\"data_source\":{\"id\":\"9111\"},\"glyph\":{\"id\":\"9114\"},\"hover_glyph\":null,\"muted_glyph\":{\"id\":\"9116\"},\"nonselection_glyph\":{\"id\":\"9115\"},\"selection_glyph\":{\"id\":\"9131\"},\"view\":{\"id\":\"9118\"}},\"id\":\"9117\",\"type\":\"GlyphRenderer\"},{\"attributes\":{},\"id\":\"9109\",\"type\":\"BasicTickFormatter\"}],\"root_ids\":[\"9065\"]},\"title\":\"Bokeh Application\",\"version\":\"2.3.2\"}};\n",
       "    var render_items = [{\"docid\":\"2a2c6e9d-7d87-43eb-8343-a5a297b8edac\",\"root_ids\":[\"9065\"],\"roots\":{\"9065\":\"dda215af-dc1d-42f9-babe-9d5b537acdd2\"}}];\n",
       "    root.Bokeh.embed.embed_items_notebook(docs_json, render_items);\n",
       "  }\n",
       "  if (root.Bokeh !== undefined && root.Bokeh.Panel !== undefined) {\n",
       "    embed_document(root);\n",
       "  } else {\n",
       "    var attempts = 0;\n",
       "    var timer = setInterval(function(root) {\n",
       "      if (root.Bokeh !== undefined && root.Bokeh.Panel !== undefined) {\n",
       "        clearInterval(timer);\n",
       "        embed_document(root);\n",
       "      } else if (document.readyState == \"complete\") {\n",
       "        attempts++;\n",
       "        if (attempts > 200) {\n",
       "          clearInterval(timer);\n",
       "          console.log(\"Bokeh: ERROR: Unable to run BokehJS code because BokehJS library is missing\");\n",
       "        }\n",
       "      }\n",
       "    }, 25, root)\n",
       "  }\n",
       "})(window);</script>"
      ],
      "text/plain": [
       ":NdOverlay   [Variable]\n",
       "   :Curve   [coin_id]   (value)"
      ]
     },
     "execution_count": 91,
     "metadata": {
      "application/vnd.holoviews_exec.v0+json": {
       "id": "9065"
      }
     },
     "output_type": "execute_result"
    }
   ],
   "source": [
    "# Plot your data to see what's in your DataFrame\n",
    "df_market_data.hvplot.line(\n",
    "    width=800,\n",
    "    height=400,\n",
    "    rot=90\n",
    ")"
   ]
  },
  {
   "cell_type": "markdown",
   "metadata": {},
   "source": [
    "---"
   ]
  },
  {
   "cell_type": "markdown",
   "metadata": {},
   "source": [
    "### Prepare the Data\n",
    "\n",
    "This section prepares the data before running the K-Means algorithm. It follows these steps:\n",
    "\n",
    "1. Use the `StandardScaler` module from scikit-learn to normalize the CSV file data. This will require you to utilize the `fit_transform` function.\n",
    "\n",
    "2. Create a DataFrame that contains the scaled data. Be sure to set the `coin_id` index from the original DataFrame as the index for the new DataFrame. Review the resulting DataFrame.\n"
   ]
  },
  {
   "cell_type": "code",
   "execution_count": 92,
   "metadata": {},
   "outputs": [],
   "source": [
    "# Use the `StandardScaler()` module from scikit-learn to normalize the data from the CSV file\n",
    "scaled_data = StandardScaler().fit_transform(df_market_data)"
   ]
  },
  {
   "cell_type": "code",
   "execution_count": 93,
   "metadata": {},
   "outputs": [
    {
     "data": {
      "text/html": [
       "<div>\n",
       "<style scoped>\n",
       "    .dataframe tbody tr th:only-of-type {\n",
       "        vertical-align: middle;\n",
       "    }\n",
       "\n",
       "    .dataframe tbody tr th {\n",
       "        vertical-align: top;\n",
       "    }\n",
       "\n",
       "    .dataframe thead th {\n",
       "        text-align: right;\n",
       "    }\n",
       "</style>\n",
       "<table border=\"1\" class=\"dataframe\">\n",
       "  <thead>\n",
       "    <tr style=\"text-align: right;\">\n",
       "      <th></th>\n",
       "      <th>price_change_percentage_24h</th>\n",
       "      <th>price_change_percentage_7d</th>\n",
       "      <th>price_change_percentage_14d</th>\n",
       "      <th>price_change_percentage_30d</th>\n",
       "      <th>price_change_percentage_60d</th>\n",
       "      <th>price_change_percentage_200d</th>\n",
       "      <th>price_change_percentage_1y</th>\n",
       "    </tr>\n",
       "    <tr>\n",
       "      <th>coin_id</th>\n",
       "      <th></th>\n",
       "      <th></th>\n",
       "      <th></th>\n",
       "      <th></th>\n",
       "      <th></th>\n",
       "      <th></th>\n",
       "      <th></th>\n",
       "    </tr>\n",
       "  </thead>\n",
       "  <tbody>\n",
       "    <tr>\n",
       "      <th>bitcoin</th>\n",
       "      <td>0.508529</td>\n",
       "      <td>0.493193</td>\n",
       "      <td>0.772200</td>\n",
       "      <td>0.235460</td>\n",
       "      <td>-0.067495</td>\n",
       "      <td>-0.355953</td>\n",
       "      <td>-0.251637</td>\n",
       "    </tr>\n",
       "    <tr>\n",
       "      <th>ethereum</th>\n",
       "      <td>0.185446</td>\n",
       "      <td>0.934445</td>\n",
       "      <td>0.558692</td>\n",
       "      <td>-0.054341</td>\n",
       "      <td>-0.273483</td>\n",
       "      <td>-0.115759</td>\n",
       "      <td>-0.199352</td>\n",
       "    </tr>\n",
       "    <tr>\n",
       "      <th>tether</th>\n",
       "      <td>0.021774</td>\n",
       "      <td>-0.706337</td>\n",
       "      <td>-0.021680</td>\n",
       "      <td>-0.061030</td>\n",
       "      <td>0.008005</td>\n",
       "      <td>-0.550247</td>\n",
       "      <td>-0.282061</td>\n",
       "    </tr>\n",
       "    <tr>\n",
       "      <th>ripple</th>\n",
       "      <td>-0.040764</td>\n",
       "      <td>-0.810928</td>\n",
       "      <td>0.249458</td>\n",
       "      <td>-0.050388</td>\n",
       "      <td>-0.373164</td>\n",
       "      <td>-0.458259</td>\n",
       "      <td>-0.295546</td>\n",
       "    </tr>\n",
       "    <tr>\n",
       "      <th>bitcoin-cash</th>\n",
       "      <td>1.193036</td>\n",
       "      <td>2.000959</td>\n",
       "      <td>1.760610</td>\n",
       "      <td>0.545842</td>\n",
       "      <td>-0.291203</td>\n",
       "      <td>-0.499848</td>\n",
       "      <td>-0.270317</td>\n",
       "    </tr>\n",
       "  </tbody>\n",
       "</table>\n",
       "</div>"
      ],
      "text/plain": [
       "              price_change_percentage_24h  price_change_percentage_7d  \\\n",
       "coin_id                                                                 \n",
       "bitcoin                          0.508529                    0.493193   \n",
       "ethereum                         0.185446                    0.934445   \n",
       "tether                           0.021774                   -0.706337   \n",
       "ripple                          -0.040764                   -0.810928   \n",
       "bitcoin-cash                     1.193036                    2.000959   \n",
       "\n",
       "              price_change_percentage_14d  price_change_percentage_30d  \\\n",
       "coin_id                                                                  \n",
       "bitcoin                          0.772200                     0.235460   \n",
       "ethereum                         0.558692                    -0.054341   \n",
       "tether                          -0.021680                    -0.061030   \n",
       "ripple                           0.249458                    -0.050388   \n",
       "bitcoin-cash                     1.760610                     0.545842   \n",
       "\n",
       "              price_change_percentage_60d  price_change_percentage_200d  \\\n",
       "coin_id                                                                   \n",
       "bitcoin                         -0.067495                     -0.355953   \n",
       "ethereum                        -0.273483                     -0.115759   \n",
       "tether                           0.008005                     -0.550247   \n",
       "ripple                          -0.373164                     -0.458259   \n",
       "bitcoin-cash                    -0.291203                     -0.499848   \n",
       "\n",
       "              price_change_percentage_1y  \n",
       "coin_id                                   \n",
       "bitcoin                        -0.251637  \n",
       "ethereum                       -0.199352  \n",
       "tether                         -0.282061  \n",
       "ripple                         -0.295546  \n",
       "bitcoin-cash                   -0.270317  "
      ]
     },
     "execution_count": 93,
     "metadata": {},
     "output_type": "execute_result"
    }
   ],
   "source": [
    "# Create a DataFrame with the scaled data\n",
    "df_market_data_scaled = pd.DataFrame(\n",
    "    scaled_data,\n",
    "    columns=df_market_data.columns\n",
    ")\n",
    "\n",
    "# Copy the crypto names from the original data\n",
    "df_market_data_scaled[\"coin_id\"] = df_market_data.index\n",
    "\n",
    "# Set the coinid column as index\n",
    "df_market_data_scaled = df_market_data_scaled.set_index(\"coin_id\")\n",
    "\n",
    "# Display sample data\n",
    "df_market_data_scaled.head()"
   ]
  },
  {
   "cell_type": "markdown",
   "metadata": {},
   "source": [
    "---"
   ]
  },
  {
   "cell_type": "markdown",
   "metadata": {},
   "source": [
    "### Find the Best Value for k Using the Original Data\n",
    "\n",
    "In this section, you will use the elbow method to find the best value for `k`.\n",
    "\n",
    "1. Code the elbow method algorithm to find the best value for `k`. Use a range from 1 to 11. \n",
    "\n",
    "2. Plot a line chart with all the inertia values computed with the different values of `k` to visually identify the optimal value for `k`.\n",
    "\n",
    "3. Answer the following question: What is the best value for `k`?"
   ]
  },
  {
   "cell_type": "code",
   "execution_count": 94,
   "metadata": {},
   "outputs": [],
   "source": [
    "# Create a list with the number of k-values to try\n",
    "# Use a range from 1 to 11\n",
    "k = list(range(1, 11))"
   ]
  },
  {
   "cell_type": "code",
   "execution_count": 95,
   "metadata": {},
   "outputs": [],
   "source": [
    "# Create an empy list to store the inertia values\n",
    "inertia = []"
   ]
  },
  {
   "cell_type": "code",
   "execution_count": 96,
   "metadata": {},
   "outputs": [
    {
     "name": "stderr",
     "output_type": "stream",
     "text": [
      "C:\\Users\\egeor\\anaconda3\\envs\\pyviz\\lib\\site-packages\\sklearn\\cluster\\_kmeans.py:1040: UserWarning: KMeans is known to have a memory leak on Windows with MKL, when there are less chunks than available threads. You can avoid it by setting the environment variable OMP_NUM_THREADS=1.\n",
      "  \"KMeans is known to have a memory leak on Windows \"\n"
     ]
    }
   ],
   "source": [
    "# Create a for loop to compute the inertia with each possible value of k\n",
    "# Inside the loop:\n",
    "for i in k:\n",
    "    \n",
    "# 1. Create a KMeans model using the loop counter for the n_clusters\n",
    "    model = KMeans(n_clusters=i, random_state=0)\n",
    "    \n",
    "# 2. Fit the model to the data using `df_market_data_scaled`\n",
    "    model.fit(df_market_data_scaled)\n",
    "    \n",
    "# 3. Append the model.inertia_ to the inertia list\n",
    "    inertia.append(model.inertia_)"
   ]
  },
  {
   "cell_type": "code",
   "execution_count": 97,
   "metadata": {},
   "outputs": [],
   "source": [
    "# Create a dictionary with the data to plot the Elbow curve\n",
    "elbow_data = {\n",
    "    \"k\": k,\n",
    "    \"inertia\": inertia\n",
    "}\n",
    "\n",
    "# Create a DataFrame with the data to plot the elbow curve\n",
    "df1_elbow = pd.DataFrame(elbow_data)\n"
   ]
  },
  {
   "cell_type": "code",
   "execution_count": 98,
   "metadata": {},
   "outputs": [
    {
     "data": {},
     "metadata": {},
     "output_type": "display_data"
    },
    {
     "data": {
      "application/vnd.holoviews_exec.v0+json": "",
      "text/html": [
       "<div id='9604'>\n",
       "\n",
       "\n",
       "\n",
       "\n",
       "\n",
       "  <div class=\"bk-root\" id=\"600d54ab-0d4c-487f-92af-c42bd428d6f5\" data-root-id=\"9604\"></div>\n",
       "</div>\n",
       "<script type=\"application/javascript\">(function(root) {\n",
       "  function embed_document(root) {\n",
       "    var docs_json = {\"8bedc39d-5986-43f7-951b-0e5c89ca2908\":{\"defs\":[{\"extends\":null,\"module\":null,\"name\":\"ReactiveHTML1\",\"overrides\":[],\"properties\":[]},{\"extends\":null,\"module\":null,\"name\":\"FlexBox1\",\"overrides\":[],\"properties\":[{\"default\":\"flex-start\",\"kind\":null,\"name\":\"align_content\"},{\"default\":\"flex-start\",\"kind\":null,\"name\":\"align_items\"},{\"default\":\"row\",\"kind\":null,\"name\":\"flex_direction\"},{\"default\":\"wrap\",\"kind\":null,\"name\":\"flex_wrap\"},{\"default\":\"flex-start\",\"kind\":null,\"name\":\"justify_content\"}]},{\"extends\":null,\"module\":null,\"name\":\"TemplateActions1\",\"overrides\":[],\"properties\":[{\"default\":0,\"kind\":null,\"name\":\"open_modal\"},{\"default\":0,\"kind\":null,\"name\":\"close_modal\"}]},{\"extends\":null,\"module\":null,\"name\":\"MaterialTemplateActions1\",\"overrides\":[],\"properties\":[{\"default\":0,\"kind\":null,\"name\":\"open_modal\"},{\"default\":0,\"kind\":null,\"name\":\"close_modal\"}]}],\"roots\":{\"references\":[{\"attributes\":{\"axis_label\":\"k\",\"formatter\":{\"id\":\"9650\"},\"major_label_policy\":{\"id\":\"9651\"},\"ticker\":{\"id\":\"9648\"}},\"id\":\"9618\",\"type\":\"LinearAxis\"},{\"attributes\":{},\"id\":\"9651\",\"type\":\"AllLabels\"},{\"attributes\":{},\"id\":\"9623\",\"type\":\"BasicTicker\"},{\"attributes\":{},\"id\":\"9640\",\"type\":\"Selection\"},{\"attributes\":{\"axis\":{\"id\":\"9622\"},\"dimension\":1,\"grid_line_color\":null,\"ticker\":null},\"id\":\"9625\",\"type\":\"Grid\"},{\"attributes\":{\"margin\":[5,5,5,5],\"name\":\"HSpacer18344\",\"sizing_mode\":\"stretch_width\"},\"id\":\"9675\",\"type\":\"Spacer\"},{\"attributes\":{\"end\":312.8777100709391,\"reset_end\":312.8777100709391,\"reset_start\":2.345189219669823,\"start\":2.345189219669823,\"tags\":[[[\"inertia\",\"inertia\",null]]]},\"id\":\"9607\",\"type\":\"Range1d\"},{\"attributes\":{\"active_multi\":null,\"tools\":[{\"id\":\"9608\"},{\"id\":\"9626\"},{\"id\":\"9627\"},{\"id\":\"9628\"},{\"id\":\"9629\"},{\"id\":\"9630\"}]},\"id\":\"9632\",\"type\":\"Toolbar\"},{\"attributes\":{\"line_color\":\"#30a2da\",\"line_width\":2,\"x\":{\"field\":\"k\"},\"y\":{\"field\":\"inertia\"}},\"id\":\"9647\",\"type\":\"Line\"},{\"attributes\":{},\"id\":\"9650\",\"type\":\"BasicTickFormatter\"},{\"attributes\":{\"text\":\"Elbow Curve\",\"text_color\":\"black\",\"text_font_size\":\"12pt\"},\"id\":\"9610\",\"type\":\"Title\"},{\"attributes\":{\"data_source\":{\"id\":\"9639\"},\"glyph\":{\"id\":\"9642\"},\"hover_glyph\":null,\"muted_glyph\":{\"id\":\"9644\"},\"nonselection_glyph\":{\"id\":\"9643\"},\"selection_glyph\":{\"id\":\"9647\"},\"view\":{\"id\":\"9646\"}},\"id\":\"9645\",\"type\":\"GlyphRenderer\"},{\"attributes\":{\"line_alpha\":0.1,\"line_color\":\"#30a2da\",\"line_width\":2,\"x\":{\"field\":\"k\"},\"y\":{\"field\":\"inertia\"}},\"id\":\"9643\",\"type\":\"Line\"},{\"attributes\":{\"ticks\":[1,2,3,4,5,6,7,8,9,10]},\"id\":\"9648\",\"type\":\"FixedTicker\"},{\"attributes\":{},\"id\":\"9626\",\"type\":\"SaveTool\"},{\"attributes\":{\"data\":{\"inertia\":{\"__ndarray__\":\"AAAAAADwcUByhzI6P3poQOCRvNowzF5AF+6ulG/BU0BnEQsuWlNQQOXqC/e6cUpAiCebkxT1RUBu++EeLsJCQMB0IF8cPkBAineL7Q85PEA=\",\"dtype\":\"float64\",\"order\":\"little\",\"shape\":[10]},\"k\":[1,2,3,4,5,6,7,8,9,10]},\"selected\":{\"id\":\"9640\"},\"selection_policy\":{\"id\":\"9665\"}},\"id\":\"9639\",\"type\":\"ColumnDataSource\"},{\"attributes\":{\"below\":[{\"id\":\"9618\"}],\"center\":[{\"id\":\"9621\"},{\"id\":\"9625\"}],\"height\":300,\"left\":[{\"id\":\"9622\"}],\"margin\":[5,5,5,5],\"min_border_bottom\":10,\"min_border_left\":10,\"min_border_right\":10,\"min_border_top\":10,\"renderers\":[{\"id\":\"9645\"}],\"sizing_mode\":\"fixed\",\"title\":{\"id\":\"9610\"},\"toolbar\":{\"id\":\"9632\"},\"width\":700,\"x_range\":{\"id\":\"9606\"},\"x_scale\":{\"id\":\"9614\"},\"y_range\":{\"id\":\"9607\"},\"y_scale\":{\"id\":\"9616\"}},\"id\":\"9609\",\"subtype\":\"Figure\",\"type\":\"Plot\"},{\"attributes\":{},\"id\":\"9627\",\"type\":\"PanTool\"},{\"attributes\":{},\"id\":\"9630\",\"type\":\"ResetTool\"},{\"attributes\":{},\"id\":\"9628\",\"type\":\"WheelZoomTool\"},{\"attributes\":{\"line_alpha\":0.2,\"line_color\":\"#30a2da\",\"line_width\":2,\"x\":{\"field\":\"k\"},\"y\":{\"field\":\"inertia\"}},\"id\":\"9644\",\"type\":\"Line\"},{\"attributes\":{\"end\":10.0,\"reset_end\":10.0,\"reset_start\":1.0,\"start\":1.0,\"tags\":[[[\"k\",\"k\",null]]]},\"id\":\"9606\",\"type\":\"Range1d\"},{\"attributes\":{\"children\":[{\"id\":\"9605\"},{\"id\":\"9609\"},{\"id\":\"9675\"}],\"margin\":[0,0,0,0],\"name\":\"Row18339\",\"tags\":[\"embedded\"]},\"id\":\"9604\",\"type\":\"Row\"},{\"attributes\":{\"callback\":null,\"renderers\":[{\"id\":\"9645\"}],\"tags\":[\"hv_created\"],\"tooltips\":[[\"k\",\"@{k}\"],[\"inertia\",\"@{inertia}\"]]},\"id\":\"9608\",\"type\":\"HoverTool\"},{\"attributes\":{\"overlay\":{\"id\":\"9631\"}},\"id\":\"9629\",\"type\":\"BoxZoomTool\"},{\"attributes\":{\"source\":{\"id\":\"9639\"}},\"id\":\"9646\",\"type\":\"CDSView\"},{\"attributes\":{\"line_color\":\"#30a2da\",\"line_width\":2,\"x\":{\"field\":\"k\"},\"y\":{\"field\":\"inertia\"}},\"id\":\"9642\",\"type\":\"Line\"},{\"attributes\":{\"axis\":{\"id\":\"9618\"},\"grid_line_color\":null,\"ticker\":null},\"id\":\"9621\",\"type\":\"Grid\"},{\"attributes\":{},\"id\":\"9656\",\"type\":\"AllLabels\"},{\"attributes\":{},\"id\":\"9665\",\"type\":\"UnionRenderers\"},{\"attributes\":{\"margin\":[5,5,5,5],\"name\":\"HSpacer18343\",\"sizing_mode\":\"stretch_width\"},\"id\":\"9605\",\"type\":\"Spacer\"},{\"attributes\":{},\"id\":\"9655\",\"type\":\"BasicTickFormatter\"},{\"attributes\":{\"bottom_units\":\"screen\",\"fill_alpha\":0.5,\"fill_color\":\"lightgrey\",\"left_units\":\"screen\",\"level\":\"overlay\",\"line_alpha\":1.0,\"line_color\":\"black\",\"line_dash\":[4,4],\"line_width\":2,\"right_units\":\"screen\",\"syncable\":false,\"top_units\":\"screen\"},\"id\":\"9631\",\"type\":\"BoxAnnotation\"},{\"attributes\":{},\"id\":\"9614\",\"type\":\"LinearScale\"},{\"attributes\":{},\"id\":\"9616\",\"type\":\"LinearScale\"},{\"attributes\":{\"axis_label\":\"inertia\",\"formatter\":{\"id\":\"9655\"},\"major_label_policy\":{\"id\":\"9656\"},\"ticker\":{\"id\":\"9623\"}},\"id\":\"9622\",\"type\":\"LinearAxis\"}],\"root_ids\":[\"9604\"]},\"title\":\"Bokeh Application\",\"version\":\"2.3.2\"}};\n",
       "    var render_items = [{\"docid\":\"8bedc39d-5986-43f7-951b-0e5c89ca2908\",\"root_ids\":[\"9604\"],\"roots\":{\"9604\":\"600d54ab-0d4c-487f-92af-c42bd428d6f5\"}}];\n",
       "    root.Bokeh.embed.embed_items_notebook(docs_json, render_items);\n",
       "  }\n",
       "  if (root.Bokeh !== undefined && root.Bokeh.Panel !== undefined) {\n",
       "    embed_document(root);\n",
       "  } else {\n",
       "    var attempts = 0;\n",
       "    var timer = setInterval(function(root) {\n",
       "      if (root.Bokeh !== undefined && root.Bokeh.Panel !== undefined) {\n",
       "        clearInterval(timer);\n",
       "        embed_document(root);\n",
       "      } else if (document.readyState == \"complete\") {\n",
       "        attempts++;\n",
       "        if (attempts > 200) {\n",
       "          clearInterval(timer);\n",
       "          console.log(\"Bokeh: ERROR: Unable to run BokehJS code because BokehJS library is missing\");\n",
       "        }\n",
       "      }\n",
       "    }, 25, root)\n",
       "  }\n",
       "})(window);</script>"
      ],
      "text/plain": [
       ":Curve   [k]   (inertia)"
      ]
     },
     "execution_count": 98,
     "metadata": {
      "application/vnd.holoviews_exec.v0+json": {
       "id": "9604"
      }
     },
     "output_type": "execute_result"
    }
   ],
   "source": [
    "# Plot a line chart with all the inertia values computed with \n",
    "# the different values of k to visually identify the optimal value for k.\n",
    "# Plot the elbow curve\n",
    "df1_elbow.hvplot.line(x=\"k\", y=\"inertia\", title=\"Elbow Curve\", xticks=k)"
   ]
  },
  {
   "cell_type": "markdown",
   "metadata": {},
   "source": [
    "#### Answer the following question: What is the best value for k?\n",
    "**Question:** What is the best value for `k`?\n",
    "\n",
    "**Answer:** The best value of k=4 as this is where the curve flattens out like an elbow"
   ]
  },
  {
   "cell_type": "markdown",
   "metadata": {},
   "source": [
    "---"
   ]
  },
  {
   "cell_type": "markdown",
   "metadata": {},
   "source": [
    "### Cluster Cryptocurrencies with K-means Using the Original Data\n",
    "\n",
    "In this section, you will use the K-Means algorithm with the best value for `k` found in the previous section to cluster the cryptocurrencies according to the price changes of cryptocurrencies provided.\n",
    "\n",
    "1. Initialize the K-Means model with four clusters using the best value for `k`. \n",
    "\n",
    "2. Fit the K-Means model using the original data.\n",
    "\n",
    "3. Predict the clusters to group the cryptocurrencies using the original data. View the resulting array of cluster values.\n",
    "\n",
    "4. Create a copy of the original data and add a new column with the predicted clusters.\n",
    "\n",
    "5. Create a scatter plot using hvPlot by setting `x=\"price_change_percentage_24h\"` and `y=\"price_change_percentage_7d\"`. Color the graph points with the labels found using K-Means and add the crypto name in the `hover_cols` parameter to identify the cryptocurrency represented by each data point."
   ]
  },
  {
   "cell_type": "code",
   "execution_count": 99,
   "metadata": {},
   "outputs": [],
   "source": [
    "# Initialize the K-Means model using the best value for k\n",
    "model_k4 = KMeans(n_clusters=4)"
   ]
  },
  {
   "cell_type": "code",
   "execution_count": 100,
   "metadata": {},
   "outputs": [
    {
     "data": {
      "text/plain": [
       "KMeans(n_clusters=4)"
      ]
     },
     "execution_count": 100,
     "metadata": {},
     "output_type": "execute_result"
    }
   ],
   "source": [
    "# Fit the K-Means model using the scaled data\n",
    "model_k4.fit(df_market_data_scaled)"
   ]
  },
  {
   "cell_type": "code",
   "execution_count": 101,
   "metadata": {},
   "outputs": [
    {
     "data": {
      "text/plain": [
       "array([3, 3, 0, 0, 3, 3, 3, 3, 3, 0, 0, 0, 0, 3, 0, 3, 0, 0, 3, 0, 0, 3,\n",
       "       0, 0, 0, 0, 0, 0, 3, 0, 0, 0, 1, 3, 0, 0, 2, 0, 0, 0, 0])"
      ]
     },
     "execution_count": 101,
     "metadata": {},
     "output_type": "execute_result"
    }
   ],
   "source": [
    "# Predict the clusters to group the cryptocurrencies using the scaled data\n",
    "cryptocurrencies_clusters_k4 = model_k4.predict(df_market_data_scaled)\n",
    "\n",
    "# View the resulting array of cluster values.\n",
    "cryptocurrencies_clusters_k4"
   ]
  },
  {
   "cell_type": "code",
   "execution_count": 102,
   "metadata": {},
   "outputs": [],
   "source": [
    "# Create a copy of the DataFrame\n",
    "df_market_data_scaled_predictions = df_market_data_scaled.copy()\n",
    "\n"
   ]
  },
  {
   "cell_type": "code",
   "execution_count": 103,
   "metadata": {},
   "outputs": [
    {
     "data": {
      "text/html": [
       "<div>\n",
       "<style scoped>\n",
       "    .dataframe tbody tr th:only-of-type {\n",
       "        vertical-align: middle;\n",
       "    }\n",
       "\n",
       "    .dataframe tbody tr th {\n",
       "        vertical-align: top;\n",
       "    }\n",
       "\n",
       "    .dataframe thead th {\n",
       "        text-align: right;\n",
       "    }\n",
       "</style>\n",
       "<table border=\"1\" class=\"dataframe\">\n",
       "  <thead>\n",
       "    <tr style=\"text-align: right;\">\n",
       "      <th></th>\n",
       "      <th>price_change_percentage_24h</th>\n",
       "      <th>price_change_percentage_7d</th>\n",
       "      <th>price_change_percentage_14d</th>\n",
       "      <th>price_change_percentage_30d</th>\n",
       "      <th>price_change_percentage_60d</th>\n",
       "      <th>price_change_percentage_200d</th>\n",
       "      <th>price_change_percentage_1y</th>\n",
       "      <th>cryptocurrencies clusters (k=4)</th>\n",
       "    </tr>\n",
       "    <tr>\n",
       "      <th>coin_id</th>\n",
       "      <th></th>\n",
       "      <th></th>\n",
       "      <th></th>\n",
       "      <th></th>\n",
       "      <th></th>\n",
       "      <th></th>\n",
       "      <th></th>\n",
       "      <th></th>\n",
       "    </tr>\n",
       "  </thead>\n",
       "  <tbody>\n",
       "    <tr>\n",
       "      <th>bitcoin</th>\n",
       "      <td>0.508529</td>\n",
       "      <td>0.493193</td>\n",
       "      <td>0.772200</td>\n",
       "      <td>0.235460</td>\n",
       "      <td>-0.067495</td>\n",
       "      <td>-0.355953</td>\n",
       "      <td>-0.251637</td>\n",
       "      <td>3</td>\n",
       "    </tr>\n",
       "    <tr>\n",
       "      <th>ethereum</th>\n",
       "      <td>0.185446</td>\n",
       "      <td>0.934445</td>\n",
       "      <td>0.558692</td>\n",
       "      <td>-0.054341</td>\n",
       "      <td>-0.273483</td>\n",
       "      <td>-0.115759</td>\n",
       "      <td>-0.199352</td>\n",
       "      <td>3</td>\n",
       "    </tr>\n",
       "    <tr>\n",
       "      <th>tether</th>\n",
       "      <td>0.021774</td>\n",
       "      <td>-0.706337</td>\n",
       "      <td>-0.021680</td>\n",
       "      <td>-0.061030</td>\n",
       "      <td>0.008005</td>\n",
       "      <td>-0.550247</td>\n",
       "      <td>-0.282061</td>\n",
       "      <td>0</td>\n",
       "    </tr>\n",
       "    <tr>\n",
       "      <th>ripple</th>\n",
       "      <td>-0.040764</td>\n",
       "      <td>-0.810928</td>\n",
       "      <td>0.249458</td>\n",
       "      <td>-0.050388</td>\n",
       "      <td>-0.373164</td>\n",
       "      <td>-0.458259</td>\n",
       "      <td>-0.295546</td>\n",
       "      <td>0</td>\n",
       "    </tr>\n",
       "    <tr>\n",
       "      <th>bitcoin-cash</th>\n",
       "      <td>1.193036</td>\n",
       "      <td>2.000959</td>\n",
       "      <td>1.760610</td>\n",
       "      <td>0.545842</td>\n",
       "      <td>-0.291203</td>\n",
       "      <td>-0.499848</td>\n",
       "      <td>-0.270317</td>\n",
       "      <td>3</td>\n",
       "    </tr>\n",
       "  </tbody>\n",
       "</table>\n",
       "</div>"
      ],
      "text/plain": [
       "              price_change_percentage_24h  price_change_percentage_7d  \\\n",
       "coin_id                                                                 \n",
       "bitcoin                          0.508529                    0.493193   \n",
       "ethereum                         0.185446                    0.934445   \n",
       "tether                           0.021774                   -0.706337   \n",
       "ripple                          -0.040764                   -0.810928   \n",
       "bitcoin-cash                     1.193036                    2.000959   \n",
       "\n",
       "              price_change_percentage_14d  price_change_percentage_30d  \\\n",
       "coin_id                                                                  \n",
       "bitcoin                          0.772200                     0.235460   \n",
       "ethereum                         0.558692                    -0.054341   \n",
       "tether                          -0.021680                    -0.061030   \n",
       "ripple                           0.249458                    -0.050388   \n",
       "bitcoin-cash                     1.760610                     0.545842   \n",
       "\n",
       "              price_change_percentage_60d  price_change_percentage_200d  \\\n",
       "coin_id                                                                   \n",
       "bitcoin                         -0.067495                     -0.355953   \n",
       "ethereum                        -0.273483                     -0.115759   \n",
       "tether                           0.008005                     -0.550247   \n",
       "ripple                          -0.373164                     -0.458259   \n",
       "bitcoin-cash                    -0.291203                     -0.499848   \n",
       "\n",
       "              price_change_percentage_1y  cryptocurrencies clusters (k=4)  \n",
       "coin_id                                                                    \n",
       "bitcoin                        -0.251637                                3  \n",
       "ethereum                       -0.199352                                3  \n",
       "tether                         -0.282061                                0  \n",
       "ripple                         -0.295546                                0  \n",
       "bitcoin-cash                   -0.270317                                3  "
      ]
     },
     "execution_count": 103,
     "metadata": {},
     "output_type": "execute_result"
    }
   ],
   "source": [
    "# Add a new column to the DataFrame with the predicted clusters\n",
    "df_market_data_scaled_predictions[\"cryptocurrencies clusters (k=4)\"] = cryptocurrencies_clusters_k4\n",
    "\n",
    "# Display sample data\n",
    "df_market_data_scaled_predictions.head()"
   ]
  },
  {
   "cell_type": "code",
   "execution_count": 104,
   "metadata": {},
   "outputs": [
    {
     "data": {},
     "metadata": {},
     "output_type": "display_data"
    },
    {
     "data": {
      "application/vnd.holoviews_exec.v0+json": "",
      "text/html": [
       "<div id='9722'>\n",
       "\n",
       "\n",
       "\n",
       "\n",
       "\n",
       "  <div class=\"bk-root\" id=\"5f02b395-2a69-4c4a-ad95-8ca86a18668c\" data-root-id=\"9722\"></div>\n",
       "</div>\n",
       "<script type=\"application/javascript\">(function(root) {\n",
       "  function embed_document(root) {\n",
       "    var docs_json = {\"77ea474a-bb74-4edd-aad6-4c437c2aada3\":{\"defs\":[{\"extends\":null,\"module\":null,\"name\":\"ReactiveHTML1\",\"overrides\":[],\"properties\":[]},{\"extends\":null,\"module\":null,\"name\":\"FlexBox1\",\"overrides\":[],\"properties\":[{\"default\":\"flex-start\",\"kind\":null,\"name\":\"align_content\"},{\"default\":\"flex-start\",\"kind\":null,\"name\":\"align_items\"},{\"default\":\"row\",\"kind\":null,\"name\":\"flex_direction\"},{\"default\":\"wrap\",\"kind\":null,\"name\":\"flex_wrap\"},{\"default\":\"flex-start\",\"kind\":null,\"name\":\"justify_content\"}]},{\"extends\":null,\"module\":null,\"name\":\"TemplateActions1\",\"overrides\":[],\"properties\":[{\"default\":0,\"kind\":null,\"name\":\"open_modal\"},{\"default\":0,\"kind\":null,\"name\":\"close_modal\"}]},{\"extends\":null,\"module\":null,\"name\":\"MaterialTemplateActions1\",\"overrides\":[],\"properties\":[{\"default\":0,\"kind\":null,\"name\":\"open_modal\"},{\"default\":0,\"kind\":null,\"name\":\"close_modal\"}]}],\"roots\":{\"references\":[{\"attributes\":{},\"id\":\"9740\",\"type\":\"BasicTicker\"},{\"attributes\":{\"below\":[{\"id\":\"9739\"}],\"center\":[{\"id\":\"9742\"},{\"id\":\"9746\"}],\"height\":300,\"left\":[{\"id\":\"9743\"}],\"margin\":[5,5,5,5],\"min_border_bottom\":10,\"min_border_left\":10,\"min_border_right\":10,\"min_border_top\":10,\"renderers\":[{\"id\":\"9772\"},{\"id\":\"9793\"},{\"id\":\"9815\"},{\"id\":\"9839\"}],\"right\":[{\"id\":\"9784\"}],\"sizing_mode\":\"fixed\",\"title\":{\"id\":\"9731\"},\"toolbar\":{\"id\":\"9753\"},\"width\":700,\"x_range\":{\"id\":\"9724\"},\"x_scale\":{\"id\":\"9735\"},\"y_range\":{\"id\":\"9725\"},\"y_scale\":{\"id\":\"9737\"}},\"id\":\"9730\",\"subtype\":\"Figure\",\"type\":\"Plot\"},{\"attributes\":{},\"id\":\"9735\",\"type\":\"LinearScale\"},{\"attributes\":{\"axis\":{\"id\":\"9739\"},\"grid_line_color\":null,\"ticker\":null},\"id\":\"9742\",\"type\":\"Grid\"},{\"attributes\":{\"margin\":[5,5,5,5],\"name\":\"HSpacer18597\",\"sizing_mode\":\"stretch_width\"},\"id\":\"9723\",\"type\":\"Spacer\"},{\"attributes\":{\"callback\":null,\"renderers\":[{\"id\":\"9772\"},{\"id\":\"9793\"},{\"id\":\"9815\"},{\"id\":\"9839\"}],\"tags\":[\"hv_created\"],\"tooltips\":[[\"cryptocurrencies clusters (k=4)\",\"@{cryptocurrencies_clusters_left_parenthesis_k_equals_4_right_parenthesis}\"],[\"price_change_percentage_24h\",\"@{price_change_percentage_24h}\"],[\"price_change_percentage_7d\",\"@{price_change_percentage_7d}\"]]},\"id\":\"9726\",\"type\":\"HoverTool\"},{\"attributes\":{},\"id\":\"9765\",\"type\":\"AllLabels\"},{\"attributes\":{},\"id\":\"9788\",\"type\":\"Selection\"},{\"attributes\":{},\"id\":\"9737\",\"type\":\"LinearScale\"},{\"attributes\":{\"axis_label\":\"price_change_percentage_7d\",\"formatter\":{\"id\":\"9764\"},\"major_label_policy\":{\"id\":\"9765\"},\"ticker\":{\"id\":\"9744\"}},\"id\":\"9743\",\"type\":\"LinearAxis\"},{\"attributes\":{\"axis_label\":\"price_change_percentage_24h\",\"formatter\":{\"id\":\"9761\"},\"major_label_policy\":{\"id\":\"9762\"},\"ticker\":{\"id\":\"9740\"}},\"id\":\"9739\",\"type\":\"LinearAxis\"},{\"attributes\":{\"children\":[{\"id\":\"9723\"},{\"id\":\"9730\"},{\"id\":\"10003\"}],\"margin\":[0,0,0,0],\"name\":\"Row18593\",\"tags\":[\"embedded\"]},\"id\":\"9722\",\"type\":\"Row\"},{\"attributes\":{},\"id\":\"9744\",\"type\":\"BasicTicker\"},{\"attributes\":{\"axis\":{\"id\":\"9743\"},\"dimension\":1,\"grid_line_color\":null,\"ticker\":null},\"id\":\"9746\",\"type\":\"Grid\"},{\"attributes\":{},\"id\":\"9810\",\"type\":\"Selection\"},{\"attributes\":{\"fill_color\":{\"value\":\"#fc4f30\"},\"line_color\":{\"value\":\"#fc4f30\"},\"size\":{\"value\":5.477225575051661},\"x\":{\"field\":\"price_change_percentage_24h\"},\"y\":{\"field\":\"price_change_percentage_7d\"}},\"id\":\"9790\",\"type\":\"Scatter\"},{\"attributes\":{\"source\":{\"id\":\"9787\"}},\"id\":\"9794\",\"type\":\"CDSView\"},{\"attributes\":{\"angle\":{\"value\":0.0},\"fill_alpha\":{\"value\":1.0},\"fill_color\":{\"value\":\"#30a2da\"},\"hatch_alpha\":{\"value\":1.0},\"hatch_color\":{\"value\":\"black\"},\"hatch_scale\":{\"value\":12.0},\"hatch_weight\":{\"value\":1.0},\"line_alpha\":{\"value\":1.0},\"line_cap\":{\"value\":\"butt\"},\"line_color\":{\"value\":\"#30a2da\"},\"line_dash\":{\"value\":[]},\"line_dash_offset\":{\"value\":0},\"line_join\":{\"value\":\"bevel\"},\"line_width\":{\"value\":1},\"marker\":{\"value\":\"circle\"},\"size\":{\"value\":5.477225575051661},\"x\":{\"field\":\"price_change_percentage_24h\"},\"y\":{\"field\":\"price_change_percentage_7d\"}},\"id\":\"9786\",\"type\":\"Scatter\"},{\"attributes\":{\"data\":{\"cryptocurrencies_clusters_left_parenthesis_k_equals_4_right_parenthesis\":[2],\"price_change_percentage_24h\":{\"__ndarray__\":\"VLqXBn668D8=\",\"dtype\":\"float64\",\"order\":\"little\",\"shape\":[1]},\"price_change_percentage_7d\":{\"__ndarray__\":\"Nv03JFjJ478=\",\"dtype\":\"float64\",\"order\":\"little\",\"shape\":[1]}},\"selected\":{\"id\":\"9810\"},\"selection_policy\":{\"id\":\"9830\"}},\"id\":\"9809\",\"type\":\"ColumnDataSource\"},{\"attributes\":{\"active_multi\":null,\"tools\":[{\"id\":\"9726\"},{\"id\":\"9747\"},{\"id\":\"9748\"},{\"id\":\"9749\"},{\"id\":\"9750\"},{\"id\":\"9751\"}]},\"id\":\"9753\",\"type\":\"Toolbar\"},{\"attributes\":{\"fill_alpha\":{\"value\":0.1},\"fill_color\":{\"value\":\"#fc4f30\"},\"line_alpha\":{\"value\":0.1},\"line_color\":{\"value\":\"#fc4f30\"},\"size\":{\"value\":5.477225575051661},\"x\":{\"field\":\"price_change_percentage_24h\"},\"y\":{\"field\":\"price_change_percentage_7d\"}},\"id\":\"9791\",\"type\":\"Scatter\"},{\"attributes\":{\"angle\":{\"value\":0.0},\"fill_alpha\":{\"value\":1.0},\"fill_color\":{\"value\":\"#6d904f\"},\"hatch_alpha\":{\"value\":1.0},\"hatch_color\":{\"value\":\"black\"},\"hatch_scale\":{\"value\":12.0},\"hatch_weight\":{\"value\":1.0},\"line_alpha\":{\"value\":1.0},\"line_cap\":{\"value\":\"butt\"},\"line_color\":{\"value\":\"#6d904f\"},\"line_dash\":{\"value\":[]},\"line_dash_offset\":{\"value\":0},\"line_join\":{\"value\":\"bevel\"},\"line_width\":{\"value\":1},\"marker\":{\"value\":\"circle\"},\"size\":{\"value\":5.477225575051661},\"x\":{\"field\":\"price_change_percentage_24h\"},\"y\":{\"field\":\"price_change_percentage_7d\"}},\"id\":\"9858\",\"type\":\"Scatter\"},{\"attributes\":{},\"id\":\"9747\",\"type\":\"SaveTool\"},{\"attributes\":{\"fill_alpha\":{\"value\":0.2},\"fill_color\":{\"value\":\"#30a2da\"},\"line_alpha\":{\"value\":0.2},\"line_color\":{\"value\":\"#30a2da\"},\"size\":{\"value\":5.477225575051661},\"x\":{\"field\":\"price_change_percentage_24h\"},\"y\":{\"field\":\"price_change_percentage_7d\"}},\"id\":\"9771\",\"type\":\"Scatter\"},{\"attributes\":{},\"id\":\"9856\",\"type\":\"UnionRenderers\"},{\"attributes\":{},\"id\":\"9748\",\"type\":\"PanTool\"},{\"attributes\":{},\"id\":\"9751\",\"type\":\"ResetTool\"},{\"attributes\":{\"label\":{\"value\":\"0\"},\"renderers\":[{\"id\":\"9772\"}]},\"id\":\"9785\",\"type\":\"LegendItem\"},{\"attributes\":{\"data\":{\"cryptocurrencies_clusters_left_parenthesis_k_equals_4_right_parenthesis\":[0,0,0,0,0,0,0,0,0,0,0,0,0,0,0,0,0,0,0,0,0,0,0,0,0,0],\"price_change_percentage_24h\":{\"__ndarray__\":\"mCJF1OlLlj/mJRG3Ed+kv1qZGRifu9w//rJXHrAz1T/yMTqenpahPx9kk3dK7sM/GTRehHalwD90fnl54Irtv9XPDahDw9G/+VOWQSEmxz+kpbukw1bSP6eM4M4OgKo/BcMOj9+jqr/Chq6S5ebLv2h3TIfCZ68/weEQ8QyV0D/KmZTmC7niP1YH9WGFy/m/N7JuVBEB07/EU4GAhEGyv8Ocf0hw2/a/lrPBJY23/j/IKcQzxy3av5WrmDyeito/Bf22eE/6sz9Y362Ir3rzPw==\",\"dtype\":\"float64\",\"order\":\"little\",\"shape\":[26]},\"price_change_percentage_7d\":{\"__ndarray__\":\"bZSIvk+a5r9RujxqH/Ppvw2U7adXaMi/d+r7VGbW+b9EGSx/8nTnv4rfBo4Lhe2/BEBwXEEApb8Udj8VbP/2vySelkVDp9i/7SZvVsyO5r8uu+JVH+LUvziN+gRMte2/o2qlez1D3b/CtPLKIS7rvyYjaswHnea/US6joeTvzz/dRmuCvtDvv/9TV66U6fq/ZWX+mWVCuD8GJ0pHuV/Nv8nIE2ZWH5q/TTxj/me11z+Htdvf1gXtv2Avihmzf9o/e31xtwIC5r/STlu6Y3Ljvw==\",\"dtype\":\"float64\",\"order\":\"little\",\"shape\":[26]}},\"selected\":{\"id\":\"9767\"},\"selection_policy\":{\"id\":\"9783\"}},\"id\":\"9766\",\"type\":\"ColumnDataSource\"},{\"attributes\":{\"label\":{\"value\":\"3\"},\"renderers\":[{\"id\":\"9839\"}]},\"id\":\"9857\",\"type\":\"LegendItem\"},{\"attributes\":{\"angle\":{\"value\":0.0},\"fill_alpha\":{\"value\":1.0},\"fill_color\":{\"value\":\"#e5ae38\"},\"hatch_alpha\":{\"value\":1.0},\"hatch_color\":{\"value\":\"black\"},\"hatch_scale\":{\"value\":12.0},\"hatch_weight\":{\"value\":1.0},\"line_alpha\":{\"value\":1.0},\"line_cap\":{\"value\":\"butt\"},\"line_color\":{\"value\":\"#e5ae38\"},\"line_dash\":{\"value\":[]},\"line_dash_offset\":{\"value\":0},\"line_join\":{\"value\":\"bevel\"},\"line_width\":{\"value\":1},\"marker\":{\"value\":\"circle\"},\"size\":{\"value\":5.477225575051661},\"x\":{\"field\":\"price_change_percentage_24h\"},\"y\":{\"field\":\"price_change_percentage_7d\"}},\"id\":\"9832\",\"type\":\"Scatter\"},{\"attributes\":{},\"id\":\"9749\",\"type\":\"WheelZoomTool\"},{\"attributes\":{\"text_color\":\"black\",\"text_font_size\":\"12pt\"},\"id\":\"9731\",\"type\":\"Title\"},{\"attributes\":{\"overlay\":{\"id\":\"9752\"}},\"id\":\"9750\",\"type\":\"BoxZoomTool\"},{\"attributes\":{\"label\":{\"value\":\"2\"},\"renderers\":[{\"id\":\"9815\"}]},\"id\":\"9831\",\"type\":\"LegendItem\"},{\"attributes\":{},\"id\":\"9830\",\"type\":\"UnionRenderers\"},{\"attributes\":{\"click_policy\":\"mute\",\"items\":[{\"id\":\"9785\"},{\"id\":\"9807\"},{\"id\":\"9831\"},{\"id\":\"9857\"}],\"location\":[0,0],\"title\":\"cryptocurrencies clusters (k=4)\"},\"id\":\"9784\",\"type\":\"Legend\"},{\"attributes\":{\"fill_alpha\":{\"value\":0.1},\"fill_color\":{\"value\":\"#6d904f\"},\"line_alpha\":{\"value\":0.1},\"line_color\":{\"value\":\"#6d904f\"},\"size\":{\"value\":5.477225575051661},\"x\":{\"field\":\"price_change_percentage_24h\"},\"y\":{\"field\":\"price_change_percentage_7d\"}},\"id\":\"9837\",\"type\":\"Scatter\"},{\"attributes\":{},\"id\":\"9834\",\"type\":\"Selection\"},{\"attributes\":{\"angle\":{\"value\":0.0},\"fill_alpha\":{\"value\":1.0},\"fill_color\":{\"value\":\"#fc4f30\"},\"hatch_alpha\":{\"value\":1.0},\"hatch_color\":{\"value\":\"black\"},\"hatch_scale\":{\"value\":12.0},\"hatch_weight\":{\"value\":1.0},\"line_alpha\":{\"value\":1.0},\"line_cap\":{\"value\":\"butt\"},\"line_color\":{\"value\":\"#fc4f30\"},\"line_dash\":{\"value\":[]},\"line_dash_offset\":{\"value\":0},\"line_join\":{\"value\":\"bevel\"},\"line_width\":{\"value\":1},\"marker\":{\"value\":\"circle\"},\"size\":{\"value\":5.477225575051661},\"x\":{\"field\":\"price_change_percentage_24h\"},\"y\":{\"field\":\"price_change_percentage_7d\"}},\"id\":\"9808\",\"type\":\"Scatter\"},{\"attributes\":{\"fill_color\":{\"value\":\"#30a2da\"},\"line_color\":{\"value\":\"#30a2da\"},\"size\":{\"value\":5.477225575051661},\"x\":{\"field\":\"price_change_percentage_24h\"},\"y\":{\"field\":\"price_change_percentage_7d\"}},\"id\":\"9769\",\"type\":\"Scatter\"},{\"attributes\":{\"end\":2.2155632386560065,\"reset_end\":2.2155632386560065,\"reset_start\":-5.276792781891412,\"start\":-5.276792781891412,\"tags\":[[[\"price_change_percentage_24h\",\"price_change_percentage_24h\",null]]]},\"id\":\"9724\",\"type\":\"Range1d\"},{\"attributes\":{},\"id\":\"9806\",\"type\":\"UnionRenderers\"},{\"attributes\":{\"label\":{\"value\":\"1\"},\"renderers\":[{\"id\":\"9793\"}]},\"id\":\"9807\",\"type\":\"LegendItem\"},{\"attributes\":{\"data_source\":{\"id\":\"9809\"},\"glyph\":{\"id\":\"9812\"},\"hover_glyph\":null,\"muted_glyph\":{\"id\":\"9814\"},\"nonselection_glyph\":{\"id\":\"9813\"},\"selection_glyph\":{\"id\":\"9832\"},\"view\":{\"id\":\"9816\"}},\"id\":\"9815\",\"type\":\"GlyphRenderer\"},{\"attributes\":{\"source\":{\"id\":\"9833\"}},\"id\":\"9840\",\"type\":\"CDSView\"},{\"attributes\":{\"source\":{\"id\":\"9809\"}},\"id\":\"9816\",\"type\":\"CDSView\"},{\"attributes\":{},\"id\":\"9764\",\"type\":\"BasicTickFormatter\"},{\"attributes\":{\"data_source\":{\"id\":\"9833\"},\"glyph\":{\"id\":\"9836\"},\"hover_glyph\":null,\"muted_glyph\":{\"id\":\"9838\"},\"nonselection_glyph\":{\"id\":\"9837\"},\"selection_glyph\":{\"id\":\"9858\"},\"view\":{\"id\":\"9840\"}},\"id\":\"9839\",\"type\":\"GlyphRenderer\"},{\"attributes\":{\"fill_alpha\":{\"value\":0.2},\"fill_color\":{\"value\":\"#fc4f30\"},\"line_alpha\":{\"value\":0.2},\"line_color\":{\"value\":\"#fc4f30\"},\"size\":{\"value\":5.477225575051661},\"x\":{\"field\":\"price_change_percentage_24h\"},\"y\":{\"field\":\"price_change_percentage_7d\"}},\"id\":\"9792\",\"type\":\"Scatter\"},{\"attributes\":{\"data\":{\"cryptocurrencies_clusters_left_parenthesis_k_equals_4_right_parenthesis\":[3,3,3,3,3,3,3,3,3,3,3,3,3],\"price_change_percentage_24h\":{\"__ndarray__\":\"DdlqYN9F4D86azDosLzHPzALIwCtFvM/9w6McDSK7D/VDHOpb1eHPzMEvaFkP7o/Sds39trWsz9Epj8/c9DQP4xAeNEVZ8O/qq8st/Fh0L8FWWk3mH7gP6wo083aUMC//ACFOIMFwL8=\",\"dtype\":\"float64\",\"order\":\"little\",\"shape\":[13]},\"price_change_percentage_7d\":{\"__ndarray__\":\"U1k8q3mQ3z9yoPpI+ebtPzAB2dP2AQBAgmkOMZk89T8FNulI+JMEQCZRaSLGIPg/84wjaB1l1T8rMp3jf678P2VmURqKqeY/XK6ZksNx/T9DfMqy1o7dPyTPDB1Xu+0/srW7TleV4j8=\",\"dtype\":\"float64\",\"order\":\"little\",\"shape\":[13]}},\"selected\":{\"id\":\"9834\"},\"selection_policy\":{\"id\":\"9856\"}},\"id\":\"9833\",\"type\":\"ColumnDataSource\"},{\"attributes\":{\"fill_color\":{\"value\":\"#6d904f\"},\"line_color\":{\"value\":\"#6d904f\"},\"size\":{\"value\":5.477225575051661},\"x\":{\"field\":\"price_change_percentage_24h\"},\"y\":{\"field\":\"price_change_percentage_7d\"}},\"id\":\"9836\",\"type\":\"Scatter\"},{\"attributes\":{},\"id\":\"9783\",\"type\":\"UnionRenderers\"},{\"attributes\":{\"fill_alpha\":{\"value\":0.1},\"fill_color\":{\"value\":\"#30a2da\"},\"line_alpha\":{\"value\":0.1},\"line_color\":{\"value\":\"#30a2da\"},\"size\":{\"value\":5.477225575051661},\"x\":{\"field\":\"price_change_percentage_24h\"},\"y\":{\"field\":\"price_change_percentage_7d\"}},\"id\":\"9770\",\"type\":\"Scatter\"},{\"attributes\":{\"end\":2.997678656273595,\"reset_end\":2.997678656273595,\"reset_start\":-2.107454305728652,\"start\":-2.107454305728652,\"tags\":[[[\"price_change_percentage_7d\",\"price_change_percentage_7d\",null]]]},\"id\":\"9725\",\"type\":\"Range1d\"},{\"attributes\":{\"source\":{\"id\":\"9766\"}},\"id\":\"9773\",\"type\":\"CDSView\"},{\"attributes\":{\"data_source\":{\"id\":\"9766\"},\"glyph\":{\"id\":\"9769\"},\"hover_glyph\":null,\"muted_glyph\":{\"id\":\"9771\"},\"nonselection_glyph\":{\"id\":\"9770\"},\"selection_glyph\":{\"id\":\"9786\"},\"view\":{\"id\":\"9773\"}},\"id\":\"9772\",\"type\":\"GlyphRenderer\"},{\"attributes\":{\"data_source\":{\"id\":\"9787\"},\"glyph\":{\"id\":\"9790\"},\"hover_glyph\":null,\"muted_glyph\":{\"id\":\"9792\"},\"nonselection_glyph\":{\"id\":\"9791\"},\"selection_glyph\":{\"id\":\"9808\"},\"view\":{\"id\":\"9794\"}},\"id\":\"9793\",\"type\":\"GlyphRenderer\"},{\"attributes\":{\"fill_color\":{\"value\":\"#e5ae38\"},\"line_color\":{\"value\":\"#e5ae38\"},\"size\":{\"value\":5.477225575051661},\"x\":{\"field\":\"price_change_percentage_24h\"},\"y\":{\"field\":\"price_change_percentage_7d\"}},\"id\":\"9812\",\"type\":\"Scatter\"},{\"attributes\":{\"fill_alpha\":{\"value\":0.2},\"fill_color\":{\"value\":\"#6d904f\"},\"line_alpha\":{\"value\":0.2},\"line_color\":{\"value\":\"#6d904f\"},\"size\":{\"value\":5.477225575051661},\"x\":{\"field\":\"price_change_percentage_24h\"},\"y\":{\"field\":\"price_change_percentage_7d\"}},\"id\":\"9838\",\"type\":\"Scatter\"},{\"attributes\":{},\"id\":\"9762\",\"type\":\"AllLabels\"},{\"attributes\":{\"data\":{\"cryptocurrencies_clusters_left_parenthesis_k_equals_4_right_parenthesis\":[1],\"price_change_percentage_24h\":{\"__ndarray__\":\"3WeHPpbsE8A=\",\"dtype\":\"float64\",\"order\":\"little\",\"shape\":[1]},\"price_change_percentage_7d\":{\"__ndarray__\":\"dIWi2pshp78=\",\"dtype\":\"float64\",\"order\":\"little\",\"shape\":[1]}},\"selected\":{\"id\":\"9788\"},\"selection_policy\":{\"id\":\"9806\"}},\"id\":\"9787\",\"type\":\"ColumnDataSource\"},{\"attributes\":{\"fill_alpha\":{\"value\":0.2},\"fill_color\":{\"value\":\"#e5ae38\"},\"line_alpha\":{\"value\":0.2},\"line_color\":{\"value\":\"#e5ae38\"},\"size\":{\"value\":5.477225575051661},\"x\":{\"field\":\"price_change_percentage_24h\"},\"y\":{\"field\":\"price_change_percentage_7d\"}},\"id\":\"9814\",\"type\":\"Scatter\"},{\"attributes\":{\"margin\":[5,5,5,5],\"name\":\"HSpacer18598\",\"sizing_mode\":\"stretch_width\"},\"id\":\"10003\",\"type\":\"Spacer\"},{\"attributes\":{\"fill_alpha\":{\"value\":0.1},\"fill_color\":{\"value\":\"#e5ae38\"},\"line_alpha\":{\"value\":0.1},\"line_color\":{\"value\":\"#e5ae38\"},\"size\":{\"value\":5.477225575051661},\"x\":{\"field\":\"price_change_percentage_24h\"},\"y\":{\"field\":\"price_change_percentage_7d\"}},\"id\":\"9813\",\"type\":\"Scatter\"},{\"attributes\":{},\"id\":\"9761\",\"type\":\"BasicTickFormatter\"},{\"attributes\":{},\"id\":\"9767\",\"type\":\"Selection\"},{\"attributes\":{\"bottom_units\":\"screen\",\"fill_alpha\":0.5,\"fill_color\":\"lightgrey\",\"left_units\":\"screen\",\"level\":\"overlay\",\"line_alpha\":1.0,\"line_color\":\"black\",\"line_dash\":[4,4],\"line_width\":2,\"right_units\":\"screen\",\"syncable\":false,\"top_units\":\"screen\"},\"id\":\"9752\",\"type\":\"BoxAnnotation\"}],\"root_ids\":[\"9722\"]},\"title\":\"Bokeh Application\",\"version\":\"2.3.2\"}};\n",
       "    var render_items = [{\"docid\":\"77ea474a-bb74-4edd-aad6-4c437c2aada3\",\"root_ids\":[\"9722\"],\"roots\":{\"9722\":\"5f02b395-2a69-4c4a-ad95-8ca86a18668c\"}}];\n",
       "    root.Bokeh.embed.embed_items_notebook(docs_json, render_items);\n",
       "  }\n",
       "  if (root.Bokeh !== undefined && root.Bokeh.Panel !== undefined) {\n",
       "    embed_document(root);\n",
       "  } else {\n",
       "    var attempts = 0;\n",
       "    var timer = setInterval(function(root) {\n",
       "      if (root.Bokeh !== undefined && root.Bokeh.Panel !== undefined) {\n",
       "        clearInterval(timer);\n",
       "        embed_document(root);\n",
       "      } else if (document.readyState == \"complete\") {\n",
       "        attempts++;\n",
       "        if (attempts > 200) {\n",
       "          clearInterval(timer);\n",
       "          console.log(\"Bokeh: ERROR: Unable to run BokehJS code because BokehJS library is missing\");\n",
       "        }\n",
       "      }\n",
       "    }, 25, root)\n",
       "  }\n",
       "})(window);</script>"
      ],
      "text/plain": [
       ":NdOverlay   [cryptocurrencies clusters (k=4)]\n",
       "   :Scatter   [price_change_percentage_24h]   (price_change_percentage_7d)"
      ]
     },
     "execution_count": 104,
     "metadata": {
      "application/vnd.holoviews_exec.v0+json": {
       "id": "9722"
      }
     },
     "output_type": "execute_result"
    }
   ],
   "source": [
    "# Create a scatter plot using hvPlot by setting \n",
    "# `x=\"price_change_percentage_24h\"` and `y=\"price_change_percentage_7d\"`. \n",
    "# Color the graph points with the labels found using K-Means and \n",
    "# add the crypto name in the `hover_cols` parameter to identify \n",
    "# the cryptocurrency represented by each data point.\n",
    "df_market_data_scaled_predictions.hvplot.scatter(x=\"price_change_percentage_24h\", y=\"price_change_percentage_7d\", by=\"cryptocurrencies clusters (k=4)\")"
   ]
  },
  {
   "cell_type": "markdown",
   "metadata": {},
   "source": [
    "---"
   ]
  },
  {
   "cell_type": "markdown",
   "metadata": {},
   "source": [
    "### Optimize Clusters with Principal Component Analysis\n",
    "\n",
    "In this section, you will perform a principal component analysis (PCA) and reduce the features to three principal components.\n",
    "\n",
    "1. Create a PCA model instance and set `n_components=3`.\n",
    "\n",
    "2. Use the PCA model to reduce to three principal components. View the first five rows of the DataFrame. \n",
    "\n",
    "3. Retrieve the explained variance to determine how much information can be attributed to each principal component.\n",
    "\n",
    "4. Answer the following question: What is the total explained variance of the three principal components?\n",
    "\n",
    "5. Create a new DataFrame with the PCA data. Be sure to set the `coin_id` index from the original DataFrame as the index for the new DataFrame. Review the resulting DataFrame."
   ]
  },
  {
   "cell_type": "code",
   "execution_count": 105,
   "metadata": {},
   "outputs": [],
   "source": [
    "# Create a PCA model instance and set `n_components=3`.\n",
    "pca = PCA(n_components=3)"
   ]
  },
  {
   "cell_type": "code",
   "execution_count": 106,
   "metadata": {},
   "outputs": [
    {
     "data": {
      "text/plain": [
       "array([[-341.80096268,  -51.36677548,   12.52547089],\n",
       "       [-249.42046633,   24.11754777,  -14.23146597],\n",
       "       [-402.61472077, -118.71073742,   24.83839662],\n",
       "       [-406.75243715,  -79.48728629,    1.56633057],\n",
       "       [-382.42994789, -103.43195906,   16.75307273]])"
      ]
     },
     "execution_count": 106,
     "metadata": {},
     "output_type": "execute_result"
    }
   ],
   "source": [
    "# Use the PCA model with `fit_transform` to reduce to \n",
    "# three principal components.\n",
    "# Reduce from five to two features using PCA\n",
    "df_market_data_pca_data = pca.fit_transform(df_market_data)\n",
    "\n",
    "\n",
    "# View the first five rows of the DataFrame. \n",
    "df_market_data_pca_data[:5]"
   ]
  },
  {
   "cell_type": "code",
   "execution_count": 107,
   "metadata": {},
   "outputs": [
    {
     "data": {
      "text/plain": [
       "array([9.76037313e-01, 2.30282949e-02, 7.48308214e-04])"
      ]
     },
     "execution_count": 107,
     "metadata": {},
     "output_type": "execute_result"
    }
   ],
   "source": [
    "# Retrieve the explained variance to determine how much information \n",
    "# can be attributed to each principal component.\n",
    "pca.explained_variance_ratio_"
   ]
  },
  {
   "cell_type": "markdown",
   "metadata": {},
   "source": [
    "#### Answer the following question: What is the total explained variance of the three principal components?\n",
    "\n",
    "**Question:** What is the total explained variance of the three principal components?\n",
    "\n",
    "**Answer:** The total explained variance of the three components are 9.76037313e-01, 2.30282949e-02 and 7.48308214e-04"
   ]
  },
  {
   "cell_type": "code",
   "execution_count": 108,
   "metadata": {},
   "outputs": [
    {
     "data": {
      "text/html": [
       "<div>\n",
       "<style scoped>\n",
       "    .dataframe tbody tr th:only-of-type {\n",
       "        vertical-align: middle;\n",
       "    }\n",
       "\n",
       "    .dataframe tbody tr th {\n",
       "        vertical-align: top;\n",
       "    }\n",
       "\n",
       "    .dataframe thead th {\n",
       "        text-align: right;\n",
       "    }\n",
       "</style>\n",
       "<table border=\"1\" class=\"dataframe\">\n",
       "  <thead>\n",
       "    <tr style=\"text-align: right;\">\n",
       "      <th></th>\n",
       "      <th>PCI</th>\n",
       "      <th>PC2</th>\n",
       "      <th>PC3</th>\n",
       "    </tr>\n",
       "    <tr>\n",
       "      <th>coin_id</th>\n",
       "      <th></th>\n",
       "      <th></th>\n",
       "      <th></th>\n",
       "    </tr>\n",
       "  </thead>\n",
       "  <tbody>\n",
       "    <tr>\n",
       "      <th>bitcoin</th>\n",
       "      <td>-341.800963</td>\n",
       "      <td>-51.366775</td>\n",
       "      <td>12.525471</td>\n",
       "    </tr>\n",
       "    <tr>\n",
       "      <th>ethereum</th>\n",
       "      <td>-249.420466</td>\n",
       "      <td>24.117548</td>\n",
       "      <td>-14.231466</td>\n",
       "    </tr>\n",
       "    <tr>\n",
       "      <th>tether</th>\n",
       "      <td>-402.614721</td>\n",
       "      <td>-118.710737</td>\n",
       "      <td>24.838397</td>\n",
       "    </tr>\n",
       "    <tr>\n",
       "      <th>ripple</th>\n",
       "      <td>-406.752437</td>\n",
       "      <td>-79.487286</td>\n",
       "      <td>1.566331</td>\n",
       "    </tr>\n",
       "    <tr>\n",
       "      <th>bitcoin-cash</th>\n",
       "      <td>-382.429948</td>\n",
       "      <td>-103.431959</td>\n",
       "      <td>16.753073</td>\n",
       "    </tr>\n",
       "  </tbody>\n",
       "</table>\n",
       "</div>"
      ],
      "text/plain": [
       "                     PCI         PC2        PC3\n",
       "coin_id                                        \n",
       "bitcoin      -341.800963  -51.366775  12.525471\n",
       "ethereum     -249.420466   24.117548 -14.231466\n",
       "tether       -402.614721 -118.710737  24.838397\n",
       "ripple       -406.752437  -79.487286   1.566331\n",
       "bitcoin-cash -382.429948 -103.431959  16.753073"
      ]
     },
     "execution_count": 108,
     "metadata": {},
     "output_type": "execute_result"
    }
   ],
   "source": [
    "# Create a new DataFrame with the PCA data.\n",
    "# Note: The code for this step is provided for you\n",
    "\n",
    "# Creating a DataFrame with the PCA data\n",
    "pca_df = pd.DataFrame(df_market_data_pca_data, \n",
    "\n",
    "# Copy the crypto names from the original data and Set the coinid column as index\n",
    "index =  df_market_data_scaled_predictions.index, columns =['PCI', 'PC2', 'PC3'])\n",
    "\n",
    "# Display sample data\n",
    "pca_df.head()"
   ]
  },
  {
   "cell_type": "code",
   "execution_count": 109,
   "metadata": {},
   "outputs": [],
   "source": [
    "# Create a PCA model instance and set `n_components=2`.\n",
    "pca = PCA(n_components=2)"
   ]
  },
  {
   "cell_type": "code",
   "execution_count": 110,
   "metadata": {},
   "outputs": [
    {
     "data": {
      "text/plain": [
       "array([[-341.80096268,  -51.36677548],\n",
       "       [-249.42046633,   24.11754777],\n",
       "       [-402.61472077, -118.71073742],\n",
       "       [-406.75243715,  -79.48728629],\n",
       "       [-382.42994789, -103.43195906]])"
      ]
     },
     "execution_count": 110,
     "metadata": {},
     "output_type": "execute_result"
    }
   ],
   "source": [
    "# Use the PCA model with `fit_transform` to reduce to \n",
    "# three principal components.\n",
    "# Reduce from five to two features using PCA\n",
    "pca_df = pca.fit_transform(df_market_data_pca_data)\n",
    "\n",
    "\n",
    "# View the first five rows of the DataFrame. \n",
    "pca_df[:5]"
   ]
  },
  {
   "cell_type": "code",
   "execution_count": 111,
   "metadata": {},
   "outputs": [
    {
     "data": {
      "text/html": [
       "<div>\n",
       "<style scoped>\n",
       "    .dataframe tbody tr th:only-of-type {\n",
       "        vertical-align: middle;\n",
       "    }\n",
       "\n",
       "    .dataframe tbody tr th {\n",
       "        vertical-align: top;\n",
       "    }\n",
       "\n",
       "    .dataframe thead th {\n",
       "        text-align: right;\n",
       "    }\n",
       "</style>\n",
       "<table border=\"1\" class=\"dataframe\">\n",
       "  <thead>\n",
       "    <tr style=\"text-align: right;\">\n",
       "      <th></th>\n",
       "      <th>PCI</th>\n",
       "      <th>PC2</th>\n",
       "    </tr>\n",
       "    <tr>\n",
       "      <th>coin_id</th>\n",
       "      <th></th>\n",
       "      <th></th>\n",
       "    </tr>\n",
       "  </thead>\n",
       "  <tbody>\n",
       "    <tr>\n",
       "      <th>bitcoin</th>\n",
       "      <td>-341.800963</td>\n",
       "      <td>-51.366775</td>\n",
       "    </tr>\n",
       "    <tr>\n",
       "      <th>ethereum</th>\n",
       "      <td>-249.420466</td>\n",
       "      <td>24.117548</td>\n",
       "    </tr>\n",
       "    <tr>\n",
       "      <th>tether</th>\n",
       "      <td>-402.614721</td>\n",
       "      <td>-118.710737</td>\n",
       "    </tr>\n",
       "    <tr>\n",
       "      <th>ripple</th>\n",
       "      <td>-406.752437</td>\n",
       "      <td>-79.487286</td>\n",
       "    </tr>\n",
       "    <tr>\n",
       "      <th>bitcoin-cash</th>\n",
       "      <td>-382.429948</td>\n",
       "      <td>-103.431959</td>\n",
       "    </tr>\n",
       "  </tbody>\n",
       "</table>\n",
       "</div>"
      ],
      "text/plain": [
       "                     PCI         PC2\n",
       "coin_id                             \n",
       "bitcoin      -341.800963  -51.366775\n",
       "ethereum     -249.420466   24.117548\n",
       "tether       -402.614721 -118.710737\n",
       "ripple       -406.752437  -79.487286\n",
       "bitcoin-cash -382.429948 -103.431959"
      ]
     },
     "execution_count": 111,
     "metadata": {},
     "output_type": "execute_result"
    }
   ],
   "source": [
    "# Create a new DataFrame with the PCA data.\n",
    "# Note: The code for this step is provided for you\n",
    "\n",
    "# Creating a DataFrame with the PCA data\n",
    "pca1_df = pd.DataFrame(pca_df, \n",
    "\n",
    "# Copy the crypto names from the original data and Set the coinid column as index\n",
    "index =  df_market_data_scaled_predictions.index, columns =['PCI', 'PC2'])\n",
    "\n",
    "# Display sample data\n",
    "pca1_df.head()"
   ]
  },
  {
   "cell_type": "markdown",
   "metadata": {},
   "source": [
    "---"
   ]
  },
  {
   "cell_type": "markdown",
   "metadata": {},
   "source": [
    "### Find the Best Value for k Using the PCA Data\n",
    "\n",
    "In this section, you will use the elbow method to find the best value for `k` using the PCA data.\n",
    "\n",
    "1. Code the elbow method algorithm and use the PCA data to find the best value for `k`. Use a range from 1 to 11. \n",
    "\n",
    "2. Plot a line chart with all the inertia values computed with the different values of `k` to visually identify the optimal value for `k`.\n",
    "\n",
    "3. Answer the following questions: What is the best value for k when using the PCA data? Does it differ from the best k value found using the original data?"
   ]
  },
  {
   "cell_type": "code",
   "execution_count": 112,
   "metadata": {},
   "outputs": [],
   "source": [
    "# Create a list with the number of k-values to try\n",
    "# Use a range from 1 to 11\n",
    "\n",
    "k = list(range(1, 11))"
   ]
  },
  {
   "cell_type": "code",
   "execution_count": 113,
   "metadata": {},
   "outputs": [],
   "source": [
    "# Create an empy list to store the inertia values\n",
    "inertia = []"
   ]
  },
  {
   "cell_type": "code",
   "execution_count": 114,
   "metadata": {},
   "outputs": [
    {
     "name": "stderr",
     "output_type": "stream",
     "text": [
      "C:\\Users\\egeor\\anaconda3\\envs\\pyviz\\lib\\site-packages\\sklearn\\cluster\\_kmeans.py:1040: UserWarning: KMeans is known to have a memory leak on Windows with MKL, when there are less chunks than available threads. You can avoid it by setting the environment variable OMP_NUM_THREADS=1.\n",
      "  \"KMeans is known to have a memory leak on Windows \"\n"
     ]
    }
   ],
   "source": [
    "# Create a for loop to compute the inertia with each possible value of k\n",
    "# Inside the loop:\n",
    "for i in k:\n",
    "    \n",
    "# 1. Create a KMeans model using the loop counter for the n_clusters\n",
    "    model = KMeans(n_clusters=i, random_state=0)\n",
    "    \n",
    "# 2. Fit the model to the data using `df_market_data_scaled`\n",
    "    model.fit(pca1_df)\n",
    "    \n",
    "# 3. Append the model.inertia_ to the inertia list\n",
    "    inertia.append(model.inertia_)"
   ]
  },
  {
   "cell_type": "code",
   "execution_count": 115,
   "metadata": {},
   "outputs": [],
   "source": [
    "# Create a dictionary with the data to plot the Elbow curve\n",
    "elbow_pca1_df = {\n",
    "    \"k\": k,\n",
    "    \"inertia\": inertia\n",
    "}\n",
    "\n",
    "# Create a DataFrame with the data to plot the elbow curve\n",
    "df2_elbow= pd.DataFrame(elbow_pca1_df)\n"
   ]
  },
  {
   "cell_type": "code",
   "execution_count": 116,
   "metadata": {},
   "outputs": [
    {
     "data": {},
     "metadata": {},
     "output_type": "display_data"
    },
    {
     "data": {
      "application/vnd.holoviews_exec.v0+json": "",
      "text/html": [
       "<div id='10085'>\n",
       "\n",
       "\n",
       "\n",
       "\n",
       "\n",
       "  <div class=\"bk-root\" id=\"5ee74a78-46d6-4bf2-b29d-325da0e0af7d\" data-root-id=\"10085\"></div>\n",
       "</div>\n",
       "<script type=\"application/javascript\">(function(root) {\n",
       "  function embed_document(root) {\n",
       "    var docs_json = {\"61a54439-7d6f-4ad6-90e8-82b496c4bbac\":{\"defs\":[{\"extends\":null,\"module\":null,\"name\":\"ReactiveHTML1\",\"overrides\":[],\"properties\":[]},{\"extends\":null,\"module\":null,\"name\":\"FlexBox1\",\"overrides\":[],\"properties\":[{\"default\":\"flex-start\",\"kind\":null,\"name\":\"align_content\"},{\"default\":\"flex-start\",\"kind\":null,\"name\":\"align_items\"},{\"default\":\"row\",\"kind\":null,\"name\":\"flex_direction\"},{\"default\":\"wrap\",\"kind\":null,\"name\":\"flex_wrap\"},{\"default\":\"flex-start\",\"kind\":null,\"name\":\"justify_content\"}]},{\"extends\":null,\"module\":null,\"name\":\"TemplateActions1\",\"overrides\":[],\"properties\":[{\"default\":0,\"kind\":null,\"name\":\"open_modal\"},{\"default\":0,\"kind\":null,\"name\":\"close_modal\"}]},{\"extends\":null,\"module\":null,\"name\":\"MaterialTemplateActions1\",\"overrides\":[],\"properties\":[{\"default\":0,\"kind\":null,\"name\":\"open_modal\"},{\"default\":0,\"kind\":null,\"name\":\"close_modal\"}]}],\"roots\":{\"references\":[{\"attributes\":{},\"id\":\"10111\",\"type\":\"ResetTool\"},{\"attributes\":{},\"id\":\"10109\",\"type\":\"WheelZoomTool\"},{\"attributes\":{},\"id\":\"10132\",\"type\":\"AllLabels\"},{\"attributes\":{\"bottom_units\":\"screen\",\"fill_alpha\":0.5,\"fill_color\":\"lightgrey\",\"left_units\":\"screen\",\"level\":\"overlay\",\"line_alpha\":1.0,\"line_color\":\"black\",\"line_dash\":[4,4],\"line_width\":2,\"right_units\":\"screen\",\"syncable\":false,\"top_units\":\"screen\"},\"id\":\"10112\",\"type\":\"BoxAnnotation\"},{\"attributes\":{\"line_color\":\"#30a2da\",\"line_width\":2,\"x\":{\"field\":\"k\"},\"y\":{\"field\":\"inertia\"}},\"id\":\"10128\",\"type\":\"Line\"},{\"attributes\":{\"text\":\"Elbow Curve\",\"text_color\":\"black\",\"text_font_size\":\"12pt\"},\"id\":\"10091\",\"type\":\"Title\"},{\"attributes\":{\"callback\":null,\"renderers\":[{\"id\":\"10126\"}],\"tags\":[\"hv_created\"],\"tooltips\":[[\"k\",\"@{k}\"],[\"inertia\",\"@{inertia}\"]]},\"id\":\"10089\",\"type\":\"HoverTool\"},{\"attributes\":{\"overlay\":{\"id\":\"10112\"}},\"id\":\"10110\",\"type\":\"BoxZoomTool\"},{\"attributes\":{\"margin\":[5,5,5,5],\"name\":\"HSpacer19286\",\"sizing_mode\":\"stretch_width\"},\"id\":\"10086\",\"type\":\"Spacer\"},{\"attributes\":{\"data_source\":{\"id\":\"10120\"},\"glyph\":{\"id\":\"10123\"},\"hover_glyph\":null,\"muted_glyph\":{\"id\":\"10125\"},\"nonselection_glyph\":{\"id\":\"10124\"},\"selection_glyph\":{\"id\":\"10128\"},\"view\":{\"id\":\"10127\"}},\"id\":\"10126\",\"type\":\"GlyphRenderer\"},{\"attributes\":{\"axis\":{\"id\":\"10099\"},\"grid_line_color\":null,\"ticker\":null},\"id\":\"10102\",\"type\":\"Grid\"},{\"attributes\":{\"below\":[{\"id\":\"10099\"}],\"center\":[{\"id\":\"10102\"},{\"id\":\"10106\"}],\"height\":300,\"left\":[{\"id\":\"10103\"}],\"margin\":[5,5,5,5],\"min_border_bottom\":10,\"min_border_left\":10,\"min_border_right\":10,\"min_border_top\":10,\"renderers\":[{\"id\":\"10126\"}],\"sizing_mode\":\"fixed\",\"title\":{\"id\":\"10091\"},\"toolbar\":{\"id\":\"10113\"},\"width\":700,\"x_range\":{\"id\":\"10087\"},\"x_scale\":{\"id\":\"10095\"},\"y_range\":{\"id\":\"10088\"},\"y_scale\":{\"id\":\"10097\"}},\"id\":\"10090\",\"subtype\":\"Figure\",\"type\":\"Plot\"},{\"attributes\":{},\"id\":\"10136\",\"type\":\"BasicTickFormatter\"},{\"attributes\":{},\"id\":\"10121\",\"type\":\"Selection\"},{\"attributes\":{},\"id\":\"10095\",\"type\":\"LinearScale\"},{\"attributes\":{},\"id\":\"10097\",\"type\":\"LinearScale\"},{\"attributes\":{\"axis_label\":\"inertia\",\"formatter\":{\"id\":\"10136\"},\"major_label_policy\":{\"id\":\"10137\"},\"ticker\":{\"id\":\"10104\"}},\"id\":\"10103\",\"type\":\"LinearAxis\"},{\"attributes\":{\"end\":10.0,\"reset_end\":10.0,\"reset_start\":1.0,\"start\":1.0,\"tags\":[[[\"k\",\"k\",null]]]},\"id\":\"10087\",\"type\":\"Range1d\"},{\"attributes\":{\"axis_label\":\"k\",\"formatter\":{\"id\":\"10131\"},\"major_label_policy\":{\"id\":\"10132\"},\"ticker\":{\"id\":\"10129\"}},\"id\":\"10099\",\"type\":\"LinearAxis\"},{\"attributes\":{\"line_alpha\":0.1,\"line_color\":\"#30a2da\",\"line_width\":2,\"x\":{\"field\":\"k\"},\"y\":{\"field\":\"inertia\"}},\"id\":\"10124\",\"type\":\"Line\"},{\"attributes\":{},\"id\":\"10137\",\"type\":\"AllLabels\"},{\"attributes\":{},\"id\":\"10131\",\"type\":\"BasicTickFormatter\"},{\"attributes\":{\"end\":76903410.96397276,\"reset_end\":76903410.96397276,\"reset_start\":-6919723.779163039,\"start\":-6919723.779163039,\"tags\":[[[\"inertia\",\"inertia\",null]]]},\"id\":\"10088\",\"type\":\"Range1d\"},{\"attributes\":{},\"id\":\"10104\",\"type\":\"BasicTicker\"},{\"attributes\":{\"children\":[{\"id\":\"10086\"},{\"id\":\"10090\"},{\"id\":\"10156\"}],\"margin\":[0,0,0,0],\"name\":\"Row19282\",\"tags\":[\"embedded\"]},\"id\":\"10085\",\"type\":\"Row\"},{\"attributes\":{\"axis\":{\"id\":\"10103\"},\"dimension\":1,\"grid_line_color\":null,\"ticker\":null},\"id\":\"10106\",\"type\":\"Grid\"},{\"attributes\":{},\"id\":\"10146\",\"type\":\"UnionRenderers\"},{\"attributes\":{\"margin\":[5,5,5,5],\"name\":\"HSpacer19287\",\"sizing_mode\":\"stretch_width\"},\"id\":\"10156\",\"type\":\"Spacer\"},{\"attributes\":{\"active_multi\":null,\"tools\":[{\"id\":\"10089\"},{\"id\":\"10107\"},{\"id\":\"10108\"},{\"id\":\"10109\"},{\"id\":\"10110\"},{\"id\":\"10111\"}]},\"id\":\"10113\",\"type\":\"Toolbar\"},{\"attributes\":{\"line_color\":\"#30a2da\",\"line_width\":2,\"x\":{\"field\":\"k\"},\"y\":{\"field\":\"inertia\"}},\"id\":\"10123\",\"type\":\"Line\"},{\"attributes\":{\"line_alpha\":0.2,\"line_color\":\"#30a2da\",\"line_width\":2,\"x\":{\"field\":\"k\"},\"y\":{\"field\":\"inertia\"}},\"id\":\"10125\",\"type\":\"Line\"},{\"attributes\":{\"ticks\":[1,2,3,4,5,6,7,8,9,10]},\"id\":\"10129\",\"type\":\"FixedTicker\"},{\"attributes\":{\"source\":{\"id\":\"10120\"}},\"id\":\"10127\",\"type\":\"CDSView\"},{\"attributes\":{\"data\":{\"inertia\":{\"__ndarray__\":\"9gbxFnerkEHQGmpqcwFfQSRhnleLXUNBzZEg7QVCKEGoePI7njEYQbyZ54GzIAxBCB13YiHMA0GlV47K+BT+QE7xLoytqfRAbDPfMBcA8EA=\",\"dtype\":\"float64\",\"order\":\"little\",\"shape\":[10]},\"k\":[1,2,3,4,5,6,7,8,9,10]},\"selected\":{\"id\":\"10121\"},\"selection_policy\":{\"id\":\"10146\"}},\"id\":\"10120\",\"type\":\"ColumnDataSource\"},{\"attributes\":{},\"id\":\"10107\",\"type\":\"SaveTool\"},{\"attributes\":{},\"id\":\"10108\",\"type\":\"PanTool\"}],\"root_ids\":[\"10085\"]},\"title\":\"Bokeh Application\",\"version\":\"2.3.2\"}};\n",
       "    var render_items = [{\"docid\":\"61a54439-7d6f-4ad6-90e8-82b496c4bbac\",\"root_ids\":[\"10085\"],\"roots\":{\"10085\":\"5ee74a78-46d6-4bf2-b29d-325da0e0af7d\"}}];\n",
       "    root.Bokeh.embed.embed_items_notebook(docs_json, render_items);\n",
       "  }\n",
       "  if (root.Bokeh !== undefined && root.Bokeh.Panel !== undefined) {\n",
       "    embed_document(root);\n",
       "  } else {\n",
       "    var attempts = 0;\n",
       "    var timer = setInterval(function(root) {\n",
       "      if (root.Bokeh !== undefined && root.Bokeh.Panel !== undefined) {\n",
       "        clearInterval(timer);\n",
       "        embed_document(root);\n",
       "      } else if (document.readyState == \"complete\") {\n",
       "        attempts++;\n",
       "        if (attempts > 200) {\n",
       "          clearInterval(timer);\n",
       "          console.log(\"Bokeh: ERROR: Unable to run BokehJS code because BokehJS library is missing\");\n",
       "        }\n",
       "      }\n",
       "    }, 25, root)\n",
       "  }\n",
       "})(window);</script>"
      ],
      "text/plain": [
       ":Curve   [k]   (inertia)"
      ]
     },
     "execution_count": 116,
     "metadata": {
      "application/vnd.holoviews_exec.v0+json": {
       "id": "10085"
      }
     },
     "output_type": "execute_result"
    }
   ],
   "source": [
    "# Plot a line chart with all the inertia values computed with \n",
    "# the different values of k to visually identify the optimal value for k.\n",
    "df2_elbow.hvplot.line(x=\"k\", y=\"inertia\", title=\"Elbow Curve\", xticks=k)"
   ]
  },
  {
   "cell_type": "markdown",
   "metadata": {},
   "source": [
    "#### Answer the following questions: What is the best value for k when using the PCA data? Does it differ from the best k value found using the original data?\n",
    "* **Question:** What is the best value for `k` when using the PCA data?\n",
    "\n",
    "  * **Answer:** The best value of k=3 as this is where the curve flattens out like an elbow\n",
    "\n",
    "\n",
    "* **Question:** Does it differ from the best k value found using the original data?\n",
    "\n",
    "  * **Answer:** Yes it differs, the original k value was 4"
   ]
  },
  {
   "cell_type": "markdown",
   "metadata": {},
   "source": [
    "---"
   ]
  },
  {
   "cell_type": "markdown",
   "metadata": {},
   "source": [
    "### Cluster Cryptocurrencies with K-means Using the PCA Data\n",
    "\n",
    "In this section, you will use the PCA data and the K-Means algorithm with the best value for `k` found in the previous section to cluster the cryptocurrencies according to the principal components.\n",
    "\n",
    "1. Initialize the K-Means model with four clusters using the best value for `k`. \n",
    "\n",
    "2. Fit the K-Means model using the PCA data.\n",
    "\n",
    "3. Predict the clusters to group the cryptocurrencies using the PCA data. View the resulting array of cluster values.\n",
    "\n",
    "4. Add a new column to the DataFrame with the PCA data to store the predicted clusters.\n",
    "\n",
    "5. Create a scatter plot using hvPlot by setting `x=\"price_change_percentage_24h\"` and `y=\"price_change_percentage_7d\"`. Color the graph points with the labels found using K-Means and add the crypto name in the `hover_cols` parameter to identify the cryptocurrency represented by each data point."
   ]
  },
  {
   "cell_type": "code",
   "execution_count": 117,
   "metadata": {},
   "outputs": [],
   "source": [
    "# Initialize the K-Means model using the best value for k\n",
    "model_k3 = KMeans(n_clusters=3)"
   ]
  },
  {
   "cell_type": "code",
   "execution_count": 118,
   "metadata": {},
   "outputs": [
    {
     "data": {
      "text/plain": [
       "KMeans(n_clusters=3)"
      ]
     },
     "execution_count": 118,
     "metadata": {},
     "output_type": "execute_result"
    }
   ],
   "source": [
    "# Fit the K-Means model using the PCA data\n",
    "model_k3.fit(pca1_df)"
   ]
  },
  {
   "cell_type": "code",
   "execution_count": 119,
   "metadata": {},
   "outputs": [
    {
     "data": {
      "text/plain": [
       "array([0, 0, 0, 0, 0, 0, 0, 0, 0, 0, 0, 0, 0, 0, 0, 0, 0, 0, 0, 0, 0, 0,\n",
       "       0, 0, 0, 0, 0, 0, 0, 0, 0, 0, 1, 0, 0, 0, 2, 0, 0, 0, 0])"
      ]
     },
     "execution_count": 119,
     "metadata": {},
     "output_type": "execute_result"
    }
   ],
   "source": [
    "# Predict the clusters to group the cryptocurrencies using the PCA data\n",
    "cryptocurrencies_clusters_k3 = model_k3.predict(pca1_df)\n",
    "\n",
    "# View the resulting array of cluster values.\n",
    "cryptocurrencies_clusters_k3"
   ]
  },
  {
   "cell_type": "code",
   "execution_count": 120,
   "metadata": {},
   "outputs": [
    {
     "data": {
      "text/html": [
       "<div>\n",
       "<style scoped>\n",
       "    .dataframe tbody tr th:only-of-type {\n",
       "        vertical-align: middle;\n",
       "    }\n",
       "\n",
       "    .dataframe tbody tr th {\n",
       "        vertical-align: top;\n",
       "    }\n",
       "\n",
       "    .dataframe thead th {\n",
       "        text-align: right;\n",
       "    }\n",
       "</style>\n",
       "<table border=\"1\" class=\"dataframe\">\n",
       "  <thead>\n",
       "    <tr style=\"text-align: right;\">\n",
       "      <th></th>\n",
       "      <th>PCI</th>\n",
       "      <th>PC2</th>\n",
       "      <th>cryptocurrencies clusters (k=3)</th>\n",
       "    </tr>\n",
       "    <tr>\n",
       "      <th>coin_id</th>\n",
       "      <th></th>\n",
       "      <th></th>\n",
       "      <th></th>\n",
       "    </tr>\n",
       "  </thead>\n",
       "  <tbody>\n",
       "    <tr>\n",
       "      <th>bitcoin</th>\n",
       "      <td>-341.800963</td>\n",
       "      <td>-51.366775</td>\n",
       "      <td>0</td>\n",
       "    </tr>\n",
       "    <tr>\n",
       "      <th>ethereum</th>\n",
       "      <td>-249.420466</td>\n",
       "      <td>24.117548</td>\n",
       "      <td>0</td>\n",
       "    </tr>\n",
       "    <tr>\n",
       "      <th>tether</th>\n",
       "      <td>-402.614721</td>\n",
       "      <td>-118.710737</td>\n",
       "      <td>0</td>\n",
       "    </tr>\n",
       "    <tr>\n",
       "      <th>ripple</th>\n",
       "      <td>-406.752437</td>\n",
       "      <td>-79.487286</td>\n",
       "      <td>0</td>\n",
       "    </tr>\n",
       "    <tr>\n",
       "      <th>bitcoin-cash</th>\n",
       "      <td>-382.429948</td>\n",
       "      <td>-103.431959</td>\n",
       "      <td>0</td>\n",
       "    </tr>\n",
       "  </tbody>\n",
       "</table>\n",
       "</div>"
      ],
      "text/plain": [
       "                     PCI         PC2  cryptocurrencies clusters (k=3)\n",
       "coin_id                                                              \n",
       "bitcoin      -341.800963  -51.366775                                0\n",
       "ethereum     -249.420466   24.117548                                0\n",
       "tether       -402.614721 -118.710737                                0\n",
       "ripple       -406.752437  -79.487286                                0\n",
       "bitcoin-cash -382.429948 -103.431959                                0"
      ]
     },
     "execution_count": 120,
     "metadata": {},
     "output_type": "execute_result"
    }
   ],
   "source": [
    "# Create a copy of the DataFrame with the PCA data\n",
    "crypto_df = pca1_df.copy()\n",
    "\n",
    "# Add a new column to the DataFrame with the predicted clusters\n",
    "crypto_df[\"cryptocurrencies clusters (k=3)\"] = cryptocurrencies_clusters_k3\n",
    "\n",
    "# Display sample data\n",
    "crypto_df.head()\n"
   ]
  },
  {
   "cell_type": "code",
   "execution_count": 121,
   "metadata": {},
   "outputs": [
    {
     "data": {},
     "metadata": {},
     "output_type": "display_data"
    },
    {
     "data": {
      "application/vnd.holoviews_exec.v0+json": "",
      "text/html": [
       "<div id='10203'>\n",
       "\n",
       "\n",
       "\n",
       "\n",
       "\n",
       "  <div class=\"bk-root\" id=\"6cd7c6bb-0a30-41c7-88e8-d9ce46a5ef47\" data-root-id=\"10203\"></div>\n",
       "</div>\n",
       "<script type=\"application/javascript\">(function(root) {\n",
       "  function embed_document(root) {\n",
       "    var docs_json = {\"41164184-b5ee-40a1-82f4-a6e0fbd54b3a\":{\"defs\":[{\"extends\":null,\"module\":null,\"name\":\"ReactiveHTML1\",\"overrides\":[],\"properties\":[]},{\"extends\":null,\"module\":null,\"name\":\"FlexBox1\",\"overrides\":[],\"properties\":[{\"default\":\"flex-start\",\"kind\":null,\"name\":\"align_content\"},{\"default\":\"flex-start\",\"kind\":null,\"name\":\"align_items\"},{\"default\":\"row\",\"kind\":null,\"name\":\"flex_direction\"},{\"default\":\"wrap\",\"kind\":null,\"name\":\"flex_wrap\"},{\"default\":\"flex-start\",\"kind\":null,\"name\":\"justify_content\"}]},{\"extends\":null,\"module\":null,\"name\":\"TemplateActions1\",\"overrides\":[],\"properties\":[{\"default\":0,\"kind\":null,\"name\":\"open_modal\"},{\"default\":0,\"kind\":null,\"name\":\"close_modal\"}]},{\"extends\":null,\"module\":null,\"name\":\"MaterialTemplateActions1\",\"overrides\":[],\"properties\":[{\"default\":0,\"kind\":null,\"name\":\"open_modal\"},{\"default\":0,\"kind\":null,\"name\":\"close_modal\"}]}],\"roots\":{\"references\":[{\"attributes\":{},\"id\":\"10310\",\"type\":\"UnionRenderers\"},{\"attributes\":{\"active_multi\":null,\"tools\":[{\"id\":\"10207\"},{\"id\":\"10227\"},{\"id\":\"10228\"},{\"id\":\"10229\"},{\"id\":\"10230\"},{\"id\":\"10231\"}]},\"id\":\"10233\",\"type\":\"Toolbar\"},{\"attributes\":{\"source\":{\"id\":\"10289\"}},\"id\":\"10296\",\"type\":\"CDSView\"},{\"attributes\":{},\"id\":\"10244\",\"type\":\"BasicTickFormatter\"},{\"attributes\":{\"angle\":{\"value\":0.0},\"fill_alpha\":{\"value\":1.0},\"fill_color\":{\"value\":\"#fc4f30\"},\"hatch_alpha\":{\"value\":1.0},\"hatch_color\":{\"value\":\"black\"},\"hatch_scale\":{\"value\":12.0},\"hatch_weight\":{\"value\":1.0},\"line_alpha\":{\"value\":1.0},\"line_cap\":{\"value\":\"butt\"},\"line_color\":{\"value\":\"#fc4f30\"},\"line_dash\":{\"value\":[]},\"line_dash_offset\":{\"value\":0},\"line_join\":{\"value\":\"bevel\"},\"line_width\":{\"value\":1},\"marker\":{\"value\":\"circle\"},\"size\":{\"value\":5.477225575051661},\"x\":{\"field\":\"PC2\"},\"y\":{\"field\":\"PCI\"}},\"id\":\"10288\",\"type\":\"Scatter\"},{\"attributes\":{\"fill_alpha\":{\"value\":0.1},\"fill_color\":{\"value\":\"#e5ae38\"},\"line_alpha\":{\"value\":0.1},\"line_color\":{\"value\":\"#e5ae38\"},\"size\":{\"value\":5.477225575051661},\"x\":{\"field\":\"PC2\"},\"y\":{\"field\":\"PCI\"}},\"id\":\"10293\",\"type\":\"Scatter\"},{\"attributes\":{\"data\":{\"PC2\":{\"__ndarray__\":\"p6iMrYm+iUA=\",\"dtype\":\"float64\",\"order\":\"little\",\"shape\":[1]},\"PCI\":{\"__ndarray__\":\"oiIlf0gnn0A=\",\"dtype\":\"float64\",\"order\":\"little\",\"shape\":[1]},\"cryptocurrencies_clusters_left_parenthesis_k_equals_3_right_parenthesis\":[2]},\"selected\":{\"id\":\"10290\"},\"selection_policy\":{\"id\":\"10310\"}},\"id\":\"10289\",\"type\":\"ColumnDataSource\"},{\"attributes\":{},\"id\":\"10241\",\"type\":\"BasicTickFormatter\"},{\"attributes\":{\"fill_color\":{\"value\":\"#30a2da\"},\"line_color\":{\"value\":\"#30a2da\"},\"size\":{\"value\":5.477225575051661},\"x\":{\"field\":\"PC2\"},\"y\":{\"field\":\"PCI\"}},\"id\":\"10249\",\"type\":\"Scatter\"},{\"attributes\":{},\"id\":\"10224\",\"type\":\"BasicTicker\"},{\"attributes\":{\"axis\":{\"id\":\"10219\"},\"grid_line_color\":null,\"ticker\":null},\"id\":\"10222\",\"type\":\"Grid\"},{\"attributes\":{\"fill_alpha\":{\"value\":0.2},\"fill_color\":{\"value\":\"#30a2da\"},\"line_alpha\":{\"value\":0.2},\"line_color\":{\"value\":\"#30a2da\"},\"size\":{\"value\":5.477225575051661},\"x\":{\"field\":\"PC2\"},\"y\":{\"field\":\"PCI\"}},\"id\":\"10251\",\"type\":\"Scatter\"},{\"attributes\":{},\"id\":\"10245\",\"type\":\"AllLabels\"},{\"attributes\":{\"bottom_units\":\"screen\",\"fill_alpha\":0.5,\"fill_color\":\"lightgrey\",\"left_units\":\"screen\",\"level\":\"overlay\",\"line_alpha\":1.0,\"line_color\":\"black\",\"line_dash\":[4,4],\"line_width\":2,\"right_units\":\"screen\",\"syncable\":false,\"top_units\":\"screen\"},\"id\":\"10232\",\"type\":\"BoxAnnotation\"},{\"attributes\":{\"data_source\":{\"id\":\"10289\"},\"glyph\":{\"id\":\"10292\"},\"hover_glyph\":null,\"muted_glyph\":{\"id\":\"10294\"},\"nonselection_glyph\":{\"id\":\"10293\"},\"selection_glyph\":{\"id\":\"10312\"},\"view\":{\"id\":\"10296\"}},\"id\":\"10295\",\"type\":\"GlyphRenderer\"},{\"attributes\":{\"fill_alpha\":{\"value\":0.1},\"fill_color\":{\"value\":\"#fc4f30\"},\"line_alpha\":{\"value\":0.1},\"line_color\":{\"value\":\"#fc4f30\"},\"size\":{\"value\":5.477225575051661},\"x\":{\"field\":\"PC2\"},\"y\":{\"field\":\"PCI\"}},\"id\":\"10271\",\"type\":\"Scatter\"},{\"attributes\":{},\"id\":\"10268\",\"type\":\"Selection\"},{\"attributes\":{\"label\":{\"value\":\"0\"},\"renderers\":[{\"id\":\"10252\"}]},\"id\":\"10265\",\"type\":\"LegendItem\"},{\"attributes\":{\"data\":{\"PC2\":{\"__ndarray__\":\"0u29f/KuScAPiWCcFx44QM2HzLh8rV3AwzTRsi/fU8CHBaE3pdtZwNQYwfMHkyhA2Lu4qJ1fY0BQYUVllQ9UQAsNtSQd8lbAr9C8lyHpYcCeD/E0Sinsv7yCz3mltV3ADAJEsDZxWcCwooVQ1vwgQNsQBd/n5yfAYtyAXsn5X8CZljNVETNfwGIpjT4XjUjAjk4YhF93PkA/t/Oi5sZdwHUsXAVwmyHArHbMtkiLScDeweKqu6NbwPobY3BV0FXAxPWrkxGbQkANlJ+P9apdwJ5RXEYyKUHAHNz0YjlrUEAQIT6OfQM/wJW3Y3P3IIBANed+I61AXcCjRLam7AldwKIcEaQPAkfAo3qEMnH3b0AZoeFCeah1QNXnSFwn/FHAnyi0teWyXMBjIkUCo7ldwNnMWC3BM3FA\",\"dtype\":\"float64\",\"order\":\"little\",\"shape\":[39]},\"PCI\":{\"__ndarray__\":\"s5c+vtBcdcDdm891dC1vwA7EceXVKXnA8ZiK+wlsecDi5AkR4eZ3wFFN0RQAEnLAQoTercImPED9rpl2otBlwD5ZYT/QaXnA4rX8p4Rzc8BlmDz3t99FwLAwWfDTLXnAhCXnwM7jecB+j3qFMRprwBaJkcEmI3PAMfwByFUHcMAVf5E/XOhvwGdydiFTxXbA3hvEiILDcMAiVIM4YDB5wP+zQTgutWzAl/X0NsFadcCskFVqvZt3wKEeH2rG6HbAkR5dmqQxYsAMlkw7iCd5wKif9a1Wo3fA7Y3ZIkMRYMDjjm1aWu9xwFClBTz+oIBAINBVHog1ecBf7+gxP1J4wJtOR2pq/XbAKbuEl9f3ekC5KbtJxepTQDnxA2Mj6XjAgtgGi5YXbMAByrn0VyR5wG0lLNgDiFTA\",\"dtype\":\"float64\",\"order\":\"little\",\"shape\":[39]},\"cryptocurrencies_clusters_left_parenthesis_k_equals_3_right_parenthesis\":[0,0,0,0,0,0,0,0,0,0,0,0,0,0,0,0,0,0,0,0,0,0,0,0,0,0,0,0,0,0,0,0,0,0,0,0,0,0,0]},\"selected\":{\"id\":\"10247\"},\"selection_policy\":{\"id\":\"10263\"}},\"id\":\"10246\",\"type\":\"ColumnDataSource\"},{\"attributes\":{\"margin\":[5,5,5,5],\"name\":\"HSpacer19517\",\"sizing_mode\":\"stretch_width\"},\"id\":\"10439\",\"type\":\"Spacer\"},{\"attributes\":{},\"id\":\"10227\",\"type\":\"SaveTool\"},{\"attributes\":{},\"id\":\"10228\",\"type\":\"PanTool\"},{\"attributes\":{},\"id\":\"10242\",\"type\":\"AllLabels\"},{\"attributes\":{\"below\":[{\"id\":\"10219\"}],\"center\":[{\"id\":\"10222\"},{\"id\":\"10226\"}],\"height\":300,\"left\":[{\"id\":\"10223\"}],\"margin\":[5,5,5,5],\"min_border_bottom\":10,\"min_border_left\":10,\"min_border_right\":10,\"min_border_top\":10,\"renderers\":[{\"id\":\"10252\"},{\"id\":\"10273\"},{\"id\":\"10295\"}],\"right\":[{\"id\":\"10264\"}],\"sizing_mode\":\"fixed\",\"title\":{\"id\":\"10211\"},\"toolbar\":{\"id\":\"10233\"},\"width\":700,\"x_range\":{\"id\":\"10205\"},\"x_scale\":{\"id\":\"10215\"},\"y_range\":{\"id\":\"10206\"},\"y_scale\":{\"id\":\"10217\"}},\"id\":\"10210\",\"subtype\":\"Figure\",\"type\":\"Plot\"},{\"attributes\":{},\"id\":\"10231\",\"type\":\"ResetTool\"},{\"attributes\":{\"fill_color\":{\"value\":\"#fc4f30\"},\"line_color\":{\"value\":\"#fc4f30\"},\"size\":{\"value\":5.477225575051661},\"x\":{\"field\":\"PC2\"},\"y\":{\"field\":\"PCI\"}},\"id\":\"10270\",\"type\":\"Scatter\"},{\"attributes\":{},\"id\":\"10229\",\"type\":\"WheelZoomTool\"},{\"attributes\":{\"label\":{\"value\":\"2\"},\"renderers\":[{\"id\":\"10295\"}]},\"id\":\"10311\",\"type\":\"LegendItem\"},{\"attributes\":{\"click_policy\":\"mute\",\"items\":[{\"id\":\"10265\"},{\"id\":\"10287\"},{\"id\":\"10311\"}],\"location\":[0,0],\"title\":\"cryptocurrencies clusters (k=3)\"},\"id\":\"10264\",\"type\":\"Legend\"},{\"attributes\":{\"data\":{\"PC2\":{\"__ndarray__\":\"Bxv0no6fdsA=\",\"dtype\":\"float64\",\"order\":\"little\",\"shape\":[1]},\"PCI\":{\"__ndarray__\":\"lOz9QsdLvkA=\",\"dtype\":\"float64\",\"order\":\"little\",\"shape\":[1]},\"cryptocurrencies_clusters_left_parenthesis_k_equals_3_right_parenthesis\":[1]},\"selected\":{\"id\":\"10268\"},\"selection_policy\":{\"id\":\"10286\"}},\"id\":\"10267\",\"type\":\"ColumnDataSource\"},{\"attributes\":{\"angle\":{\"value\":0.0},\"fill_alpha\":{\"value\":1.0},\"fill_color\":{\"value\":\"#e5ae38\"},\"hatch_alpha\":{\"value\":1.0},\"hatch_color\":{\"value\":\"black\"},\"hatch_scale\":{\"value\":12.0},\"hatch_weight\":{\"value\":1.0},\"line_alpha\":{\"value\":1.0},\"line_cap\":{\"value\":\"butt\"},\"line_color\":{\"value\":\"#e5ae38\"},\"line_dash\":{\"value\":[]},\"line_dash_offset\":{\"value\":0},\"line_join\":{\"value\":\"bevel\"},\"line_width\":{\"value\":1},\"marker\":{\"value\":\"circle\"},\"size\":{\"value\":5.477225575051661},\"x\":{\"field\":\"PC2\"},\"y\":{\"field\":\"PCI\"}},\"id\":\"10312\",\"type\":\"Scatter\"},{\"attributes\":{},\"id\":\"10286\",\"type\":\"UnionRenderers\"},{\"attributes\":{\"overlay\":{\"id\":\"10232\"}},\"id\":\"10230\",\"type\":\"BoxZoomTool\"},{\"attributes\":{\"source\":{\"id\":\"10267\"}},\"id\":\"10274\",\"type\":\"CDSView\"},{\"attributes\":{\"end\":8572.78000025518,\"reset_end\":8572.78000025518,\"reset_start\":-1231.239611225351,\"start\":-1231.239611225351,\"tags\":[[[\"PCI\",\"PCI\",null]]]},\"id\":\"10206\",\"type\":\"Range1d\"},{\"attributes\":{\"text_color\":\"black\",\"text_font_size\":\"12pt\"},\"id\":\"10211\",\"type\":\"Title\"},{\"attributes\":{\"fill_color\":{\"value\":\"#e5ae38\"},\"line_color\":{\"value\":\"#e5ae38\"},\"size\":{\"value\":5.477225575051661},\"x\":{\"field\":\"PC2\"},\"y\":{\"field\":\"PCI\"}},\"id\":\"10292\",\"type\":\"Scatter\"},{\"attributes\":{\"end\":874.636777483805,\"reset_end\":874.636777483805,\"reset_start\":-412.79187149190795,\"start\":-412.79187149190795,\"tags\":[[[\"PC2\",\"PC2\",null]]]},\"id\":\"10205\",\"type\":\"Range1d\"},{\"attributes\":{\"label\":{\"value\":\"1\"},\"renderers\":[{\"id\":\"10273\"}]},\"id\":\"10287\",\"type\":\"LegendItem\"},{\"attributes\":{\"children\":[{\"id\":\"10204\"},{\"id\":\"10210\"},{\"id\":\"10439\"}],\"margin\":[0,0,0,0],\"name\":\"Row19512\",\"tags\":[\"embedded\"]},\"id\":\"10203\",\"type\":\"Row\"},{\"attributes\":{\"data_source\":{\"id\":\"10267\"},\"glyph\":{\"id\":\"10270\"},\"hover_glyph\":null,\"muted_glyph\":{\"id\":\"10272\"},\"nonselection_glyph\":{\"id\":\"10271\"},\"selection_glyph\":{\"id\":\"10288\"},\"view\":{\"id\":\"10274\"}},\"id\":\"10273\",\"type\":\"GlyphRenderer\"},{\"attributes\":{},\"id\":\"10220\",\"type\":\"BasicTicker\"},{\"attributes\":{},\"id\":\"10215\",\"type\":\"LinearScale\"},{\"attributes\":{\"angle\":{\"value\":0.0},\"fill_alpha\":{\"value\":1.0},\"fill_color\":{\"value\":\"#30a2da\"},\"hatch_alpha\":{\"value\":1.0},\"hatch_color\":{\"value\":\"black\"},\"hatch_scale\":{\"value\":12.0},\"hatch_weight\":{\"value\":1.0},\"line_alpha\":{\"value\":1.0},\"line_cap\":{\"value\":\"butt\"},\"line_color\":{\"value\":\"#30a2da\"},\"line_dash\":{\"value\":[]},\"line_dash_offset\":{\"value\":0},\"line_join\":{\"value\":\"bevel\"},\"line_width\":{\"value\":1},\"marker\":{\"value\":\"circle\"},\"size\":{\"value\":5.477225575051661},\"x\":{\"field\":\"PC2\"},\"y\":{\"field\":\"PCI\"}},\"id\":\"10266\",\"type\":\"Scatter\"},{\"attributes\":{},\"id\":\"10290\",\"type\":\"Selection\"},{\"attributes\":{},\"id\":\"10217\",\"type\":\"LinearScale\"},{\"attributes\":{\"fill_alpha\":{\"value\":0.2},\"fill_color\":{\"value\":\"#fc4f30\"},\"line_alpha\":{\"value\":0.2},\"line_color\":{\"value\":\"#fc4f30\"},\"size\":{\"value\":5.477225575051661},\"x\":{\"field\":\"PC2\"},\"y\":{\"field\":\"PCI\"}},\"id\":\"10272\",\"type\":\"Scatter\"},{\"attributes\":{\"margin\":[5,5,5,5],\"name\":\"HSpacer19516\",\"sizing_mode\":\"stretch_width\"},\"id\":\"10204\",\"type\":\"Spacer\"},{\"attributes\":{\"axis_label\":\"PCI\",\"formatter\":{\"id\":\"10244\"},\"major_label_policy\":{\"id\":\"10245\"},\"ticker\":{\"id\":\"10224\"}},\"id\":\"10223\",\"type\":\"LinearAxis\"},{\"attributes\":{},\"id\":\"10247\",\"type\":\"Selection\"},{\"attributes\":{},\"id\":\"10263\",\"type\":\"UnionRenderers\"},{\"attributes\":{\"axis_label\":\"PC2\",\"formatter\":{\"id\":\"10241\"},\"major_label_policy\":{\"id\":\"10242\"},\"ticker\":{\"id\":\"10220\"}},\"id\":\"10219\",\"type\":\"LinearAxis\"},{\"attributes\":{\"source\":{\"id\":\"10246\"}},\"id\":\"10253\",\"type\":\"CDSView\"},{\"attributes\":{\"fill_alpha\":{\"value\":0.2},\"fill_color\":{\"value\":\"#e5ae38\"},\"line_alpha\":{\"value\":0.2},\"line_color\":{\"value\":\"#e5ae38\"},\"size\":{\"value\":5.477225575051661},\"x\":{\"field\":\"PC2\"},\"y\":{\"field\":\"PCI\"}},\"id\":\"10294\",\"type\":\"Scatter\"},{\"attributes\":{\"fill_alpha\":{\"value\":0.1},\"fill_color\":{\"value\":\"#30a2da\"},\"line_alpha\":{\"value\":0.1},\"line_color\":{\"value\":\"#30a2da\"},\"size\":{\"value\":5.477225575051661},\"x\":{\"field\":\"PC2\"},\"y\":{\"field\":\"PCI\"}},\"id\":\"10250\",\"type\":\"Scatter\"},{\"attributes\":{\"data_source\":{\"id\":\"10246\"},\"glyph\":{\"id\":\"10249\"},\"hover_glyph\":null,\"muted_glyph\":{\"id\":\"10251\"},\"nonselection_glyph\":{\"id\":\"10250\"},\"selection_glyph\":{\"id\":\"10266\"},\"view\":{\"id\":\"10253\"}},\"id\":\"10252\",\"type\":\"GlyphRenderer\"},{\"attributes\":{\"callback\":null,\"renderers\":[{\"id\":\"10252\"},{\"id\":\"10273\"},{\"id\":\"10295\"}],\"tags\":[\"hv_created\"],\"tooltips\":[[\"cryptocurrencies clusters (k=3)\",\"@{cryptocurrencies_clusters_left_parenthesis_k_equals_3_right_parenthesis}\"],[\"PC2\",\"@{PC2}\"],[\"PCI\",\"@{PCI}\"]]},\"id\":\"10207\",\"type\":\"HoverTool\"},{\"attributes\":{\"axis\":{\"id\":\"10223\"},\"dimension\":1,\"grid_line_color\":null,\"ticker\":null},\"id\":\"10226\",\"type\":\"Grid\"}],\"root_ids\":[\"10203\"]},\"title\":\"Bokeh Application\",\"version\":\"2.3.2\"}};\n",
       "    var render_items = [{\"docid\":\"41164184-b5ee-40a1-82f4-a6e0fbd54b3a\",\"root_ids\":[\"10203\"],\"roots\":{\"10203\":\"6cd7c6bb-0a30-41c7-88e8-d9ce46a5ef47\"}}];\n",
       "    root.Bokeh.embed.embed_items_notebook(docs_json, render_items);\n",
       "  }\n",
       "  if (root.Bokeh !== undefined && root.Bokeh.Panel !== undefined) {\n",
       "    embed_document(root);\n",
       "  } else {\n",
       "    var attempts = 0;\n",
       "    var timer = setInterval(function(root) {\n",
       "      if (root.Bokeh !== undefined && root.Bokeh.Panel !== undefined) {\n",
       "        clearInterval(timer);\n",
       "        embed_document(root);\n",
       "      } else if (document.readyState == \"complete\") {\n",
       "        attempts++;\n",
       "        if (attempts > 200) {\n",
       "          clearInterval(timer);\n",
       "          console.log(\"Bokeh: ERROR: Unable to run BokehJS code because BokehJS library is missing\");\n",
       "        }\n",
       "      }\n",
       "    }, 25, root)\n",
       "  }\n",
       "})(window);</script>"
      ],
      "text/plain": [
       ":NdOverlay   [cryptocurrencies clusters (k=3)]\n",
       "   :Scatter   [PC2]   (PCI)"
      ]
     },
     "execution_count": 121,
     "metadata": {
      "application/vnd.holoviews_exec.v0+json": {
       "id": "10203"
      }
     },
     "output_type": "execute_result"
    }
   ],
   "source": [
    "# Create a scatter plot using hvPlot by setting \n",
    "# `x=\"price_change_percentage_24h\"` and `y=\"price_change_percentage_7d\"`. \n",
    "# Color the graph points with the labels found using K-Means and \n",
    "# add the crypto name in the `hover_cols` parameter to identify \n",
    "# the cryptocurrency represented by each data point.\n",
    "crypto_df.hvplot.scatter(x=\"PC2\", y=\"PCI\", by=\"cryptocurrencies clusters (k=3)\", s=30)"
   ]
  },
  {
   "cell_type": "markdown",
   "metadata": {},
   "source": [
    "---"
   ]
  },
  {
   "cell_type": "markdown",
   "metadata": {},
   "source": [
    "### Visualize and Compare the Results\n",
    "\n",
    "In this section, you will visually analyze the cluster analysis results by contrasting the outcome with and without using the optimization techniques.\n",
    "\n",
    "1. Create a composite plot using hvPlot and the plus (`+`) operator to contrast the Elbow Curve that you created to find the best value for `k` with the original and the PCA data.\n",
    "\n",
    "2. Create a composite plot using hvPlot and the plus (`+`) operator to contrast the cryptocurrencies clusters using the original and the PCA data.\n",
    "\n",
    "3. Answer the following question: After visually analyzing the cluster analysis results, what is the impact of using fewer features to cluster the data using K-Means?\n",
    "\n",
    "> **Rewind:** Back in Lesson 3 of Module 6, you learned how to create composite plots. You can look at that lesson to review how to make these plots; also, you can check [the hvPlot documentation](https://holoviz.org/tutorial/Composing_Plots.html)."
   ]
  },
  {
   "cell_type": "code",
   "execution_count": 122,
   "metadata": {},
   "outputs": [
    {
     "data": {},
     "metadata": {},
     "output_type": "display_data"
    },
    {
     "data": {
      "application/vnd.holoviews_exec.v0+json": "",
      "text/html": [
       "<div id='10511'>\n",
       "\n",
       "\n",
       "\n",
       "\n",
       "\n",
       "  <div class=\"bk-root\" id=\"7936e751-50f4-4185-bd0a-b24e1b33bc54\" data-root-id=\"10511\"></div>\n",
       "</div>\n",
       "<script type=\"application/javascript\">(function(root) {\n",
       "  function embed_document(root) {\n",
       "    var docs_json = {\"0af77632-de83-41ed-8df7-72f84e2eaee8\":{\"defs\":[{\"extends\":null,\"module\":null,\"name\":\"ReactiveHTML1\",\"overrides\":[],\"properties\":[]},{\"extends\":null,\"module\":null,\"name\":\"FlexBox1\",\"overrides\":[],\"properties\":[{\"default\":\"flex-start\",\"kind\":null,\"name\":\"align_content\"},{\"default\":\"flex-start\",\"kind\":null,\"name\":\"align_items\"},{\"default\":\"row\",\"kind\":null,\"name\":\"flex_direction\"},{\"default\":\"wrap\",\"kind\":null,\"name\":\"flex_wrap\"},{\"default\":\"flex-start\",\"kind\":null,\"name\":\"justify_content\"}]},{\"extends\":null,\"module\":null,\"name\":\"TemplateActions1\",\"overrides\":[],\"properties\":[{\"default\":0,\"kind\":null,\"name\":\"open_modal\"},{\"default\":0,\"kind\":null,\"name\":\"close_modal\"}]},{\"extends\":null,\"module\":null,\"name\":\"MaterialTemplateActions1\",\"overrides\":[],\"properties\":[{\"default\":0,\"kind\":null,\"name\":\"open_modal\"},{\"default\":0,\"kind\":null,\"name\":\"close_modal\"}]}],\"roots\":{\"references\":[{\"attributes\":{\"data_source\":{\"id\":\"10565\"},\"glyph\":{\"id\":\"10568\"},\"hover_glyph\":null,\"muted_glyph\":{\"id\":\"10570\"},\"nonselection_glyph\":{\"id\":\"10569\"},\"selection_glyph\":{\"id\":\"10573\"},\"view\":{\"id\":\"10572\"}},\"id\":\"10571\",\"type\":\"GlyphRenderer\"},{\"attributes\":{},\"id\":\"10531\",\"type\":\"BasicTicker\"},{\"attributes\":{\"axis\":{\"id\":\"10530\"},\"dimension\":1,\"grid_line_color\":null,\"ticker\":null},\"id\":\"10533\",\"type\":\"Grid\"},{\"attributes\":{\"source\":{\"id\":\"10565\"}},\"id\":\"10572\",\"type\":\"CDSView\"},{\"attributes\":{\"callback\":null,\"renderers\":[{\"id\":\"10562\"},{\"id\":\"10571\"}],\"tags\":[\"hv_created\"],\"tooltips\":[[\"k\",\"@{k}\"],[\"inertia\",\"@{inertia}\"]]},\"id\":\"10515\",\"type\":\"HoverTool\"},{\"attributes\":{\"line_alpha\":0.1,\"line_color\":\"#fc4f30\",\"line_width\":2,\"x\":{\"field\":\"k\"},\"y\":{\"field\":\"inertia\"}},\"id\":\"10569\",\"type\":\"Line\"},{\"attributes\":{\"line_color\":\"#30a2da\",\"line_width\":2,\"x\":{\"field\":\"k\"},\"y\":{\"field\":\"inertia\"}},\"id\":\"10559\",\"type\":\"Line\"},{\"attributes\":{},\"id\":\"10555\",\"type\":\"AllLabels\"},{\"attributes\":{},\"id\":\"10584\",\"type\":\"UnionRenderers\"},{\"attributes\":{\"line_color\":\"#fc4f30\",\"line_width\":2,\"x\":{\"field\":\"k\"},\"y\":{\"field\":\"inertia\"}},\"id\":\"10573\",\"type\":\"Line\"},{\"attributes\":{\"text\":\"Elbow Curve\",\"text_color\":\"black\",\"text_font_size\":\"12pt\"},\"id\":\"10518\",\"type\":\"Title\"},{\"attributes\":{},\"id\":\"10582\",\"type\":\"UnionRenderers\"},{\"attributes\":{\"source\":{\"id\":\"10556\"}},\"id\":\"10563\",\"type\":\"CDSView\"},{\"attributes\":{\"end\":10.0,\"reset_end\":10.0,\"reset_start\":1.0,\"start\":1.0,\"tags\":[[[\"k\",\"k\",null]]]},\"id\":\"10513\",\"type\":\"Range1d\"},{\"attributes\":{\"data\":{\"inertia\":{\"__ndarray__\":\"AAAAAADwcUByhzI6P3poQOCRvNowzF5AF+6ulG/BU0BnEQsuWlNQQOXqC/e6cUpAiCebkxT1RUBu++EeLsJCQMB0IF8cPkBAineL7Q85PEA=\",\"dtype\":\"float64\",\"order\":\"little\",\"shape\":[10]},\"k\":[1,2,3,4,5,6,7,8,9,10]},\"selected\":{\"id\":\"10557\"},\"selection_policy\":{\"id\":\"10582\"}},\"id\":\"10556\",\"type\":\"ColumnDataSource\"},{\"attributes\":{\"axis\":{\"id\":\"10526\"},\"grid_line_color\":null,\"ticker\":null},\"id\":\"10529\",\"type\":\"Grid\"},{\"attributes\":{\"line_color\":\"#30a2da\",\"line_width\":2,\"x\":{\"field\":\"k\"},\"y\":{\"field\":\"inertia\"}},\"id\":\"10564\",\"type\":\"Line\"},{\"attributes\":{\"active_multi\":null,\"tools\":[{\"id\":\"10515\"},{\"id\":\"10534\"},{\"id\":\"10535\"},{\"id\":\"10536\"},{\"id\":\"10537\"},{\"id\":\"10538\"}]},\"id\":\"10540\",\"type\":\"Toolbar\"},{\"attributes\":{\"line_alpha\":0.2,\"line_color\":\"#fc4f30\",\"line_width\":2,\"x\":{\"field\":\"k\"},\"y\":{\"field\":\"inertia\"}},\"id\":\"10570\",\"type\":\"Line\"},{\"attributes\":{},\"id\":\"10550\",\"type\":\"AllLabels\"},{\"attributes\":{},\"id\":\"10534\",\"type\":\"SaveTool\"},{\"attributes\":{\"line_color\":\"#fc4f30\",\"line_width\":2,\"x\":{\"field\":\"k\"},\"y\":{\"field\":\"inertia\"}},\"id\":\"10568\",\"type\":\"Line\"},{\"attributes\":{},\"id\":\"10535\",\"type\":\"PanTool\"},{\"attributes\":{\"below\":[{\"id\":\"10526\"}],\"center\":[{\"id\":\"10529\"},{\"id\":\"10533\"}],\"height\":300,\"left\":[{\"id\":\"10530\"}],\"margin\":[5,5,5,5],\"min_border_bottom\":10,\"min_border_left\":10,\"min_border_right\":10,\"min_border_top\":10,\"renderers\":[{\"id\":\"10562\"},{\"id\":\"10571\"}],\"sizing_mode\":\"fixed\",\"title\":{\"id\":\"10518\"},\"toolbar\":{\"id\":\"10540\"},\"width\":700,\"x_range\":{\"id\":\"10513\"},\"x_scale\":{\"id\":\"10522\"},\"y_range\":{\"id\":\"10514\"},\"y_scale\":{\"id\":\"10524\"}},\"id\":\"10517\",\"subtype\":\"Figure\",\"type\":\"Plot\"},{\"attributes\":{},\"id\":\"10538\",\"type\":\"ResetTool\"},{\"attributes\":{},\"id\":\"10536\",\"type\":\"WheelZoomTool\"},{\"attributes\":{\"line_alpha\":0.1,\"line_color\":\"#30a2da\",\"line_width\":2,\"x\":{\"field\":\"k\"},\"y\":{\"field\":\"inertia\"}},\"id\":\"10560\",\"type\":\"Line\"},{\"attributes\":{\"bottom_units\":\"screen\",\"fill_alpha\":0.5,\"fill_color\":\"lightgrey\",\"left_units\":\"screen\",\"level\":\"overlay\",\"line_alpha\":1.0,\"line_color\":\"black\",\"line_dash\":[4,4],\"line_width\":2,\"right_units\":\"screen\",\"syncable\":false,\"top_units\":\"screen\"},\"id\":\"10539\",\"type\":\"BoxAnnotation\"},{\"attributes\":{\"data\":{\"inertia\":{\"__ndarray__\":\"9gbxFnerkEHQGmpqcwFfQSRhnleLXUNBzZEg7QVCKEGoePI7njEYQbyZ54GzIAxBCB13YiHMA0GlV47K+BT+QE7xLoytqfRAbDPfMBcA8EA=\",\"dtype\":\"float64\",\"order\":\"little\",\"shape\":[10]},\"k\":[1,2,3,4,5,6,7,8,9,10]},\"selected\":{\"id\":\"10566\"},\"selection_policy\":{\"id\":\"10584\"}},\"id\":\"10565\",\"type\":\"ColumnDataSource\"},{\"attributes\":{\"ticks\":[1,2,3,4,5,6,7,8,9,10]},\"id\":\"10547\",\"type\":\"FixedTicker\"},{\"attributes\":{\"overlay\":{\"id\":\"10539\"}},\"id\":\"10537\",\"type\":\"BoxZoomTool\"},{\"attributes\":{},\"id\":\"10557\",\"type\":\"Selection\"},{\"attributes\":{},\"id\":\"10549\",\"type\":\"BasicTickFormatter\"},{\"attributes\":{\"end\":76909961.886626,\"reset_end\":76909961.886626,\"reset_start\":-6991783.9283485925,\"start\":-6991783.9283485925,\"tags\":[[[\"inertia\",\"inertia\",null]]]},\"id\":\"10514\",\"type\":\"Range1d\"},{\"attributes\":{\"margin\":[5,5,5,5],\"name\":\"HSpacer20148\",\"sizing_mode\":\"stretch_width\"},\"id\":\"10512\",\"type\":\"Spacer\"},{\"attributes\":{\"line_alpha\":0.2,\"line_color\":\"#30a2da\",\"line_width\":2,\"x\":{\"field\":\"k\"},\"y\":{\"field\":\"inertia\"}},\"id\":\"10561\",\"type\":\"Line\"},{\"attributes\":{},\"id\":\"10554\",\"type\":\"BasicTickFormatter\"},{\"attributes\":{},\"id\":\"10566\",\"type\":\"Selection\"},{\"attributes\":{},\"id\":\"10522\",\"type\":\"LinearScale\"},{\"attributes\":{\"data_source\":{\"id\":\"10556\"},\"glyph\":{\"id\":\"10559\"},\"hover_glyph\":null,\"muted_glyph\":{\"id\":\"10561\"},\"nonselection_glyph\":{\"id\":\"10560\"},\"selection_glyph\":{\"id\":\"10564\"},\"view\":{\"id\":\"10563\"}},\"id\":\"10562\",\"type\":\"GlyphRenderer\"},{\"attributes\":{\"margin\":[5,5,5,5],\"name\":\"HSpacer20149\",\"sizing_mode\":\"stretch_width\"},\"id\":\"10673\",\"type\":\"Spacer\"},{\"attributes\":{},\"id\":\"10524\",\"type\":\"LinearScale\"},{\"attributes\":{\"axis_label\":\"inertia\",\"formatter\":{\"id\":\"10554\"},\"major_label_policy\":{\"id\":\"10555\"},\"ticker\":{\"id\":\"10531\"}},\"id\":\"10530\",\"type\":\"LinearAxis\"},{\"attributes\":{\"axis_label\":\"k\",\"formatter\":{\"id\":\"10549\"},\"major_label_policy\":{\"id\":\"10550\"},\"ticker\":{\"id\":\"10547\"}},\"id\":\"10526\",\"type\":\"LinearAxis\"},{\"attributes\":{\"children\":[{\"id\":\"10512\"},{\"id\":\"10517\"},{\"id\":\"10673\"}],\"margin\":[0,0,0,0],\"name\":\"Row20144\",\"tags\":[\"embedded\"]},\"id\":\"10511\",\"type\":\"Row\"}],\"root_ids\":[\"10511\"]},\"title\":\"Bokeh Application\",\"version\":\"2.3.2\"}};\n",
       "    var render_items = [{\"docid\":\"0af77632-de83-41ed-8df7-72f84e2eaee8\",\"root_ids\":[\"10511\"],\"roots\":{\"10511\":\"7936e751-50f4-4185-bd0a-b24e1b33bc54\"}}];\n",
       "    root.Bokeh.embed.embed_items_notebook(docs_json, render_items);\n",
       "  }\n",
       "  if (root.Bokeh !== undefined && root.Bokeh.Panel !== undefined) {\n",
       "    embed_document(root);\n",
       "  } else {\n",
       "    var attempts = 0;\n",
       "    var timer = setInterval(function(root) {\n",
       "      if (root.Bokeh !== undefined && root.Bokeh.Panel !== undefined) {\n",
       "        clearInterval(timer);\n",
       "        embed_document(root);\n",
       "      } else if (document.readyState == \"complete\") {\n",
       "        attempts++;\n",
       "        if (attempts > 200) {\n",
       "          clearInterval(timer);\n",
       "          console.log(\"Bokeh: ERROR: Unable to run BokehJS code because BokehJS library is missing\");\n",
       "        }\n",
       "      }\n",
       "    }, 25, root)\n",
       "  }\n",
       "})(window);</script>"
      ],
      "text/plain": [
       ":Overlay\n",
       "   .Curve.I  :Curve   [k]   (inertia)\n",
       "   .Curve.II :Curve   [k]   (inertia)"
      ]
     },
     "execution_count": 122,
     "metadata": {
      "application/vnd.holoviews_exec.v0+json": {
       "id": "10511"
      }
     },
     "output_type": "execute_result"
    }
   ],
   "source": [
    "#Create a composite plot using hvPlot and the plus (*) operator to contrast the Elbow Curve that you created to find the best value for k with the original and the PCA data\n",
    "plot1 = df1_elbow.hvplot.line(x=\"k\", y=\"inertia\", title=\"Elbow Curve\", xticks=k)\n",
    "plot2 = df2_elbow.hvplot.line(x=\"k\", y=\"inertia\", title=\"Elbow Curve\", xticks=k)\n",
    "plot1 * plot2"
   ]
  },
  {
   "cell_type": "code",
   "execution_count": 123,
   "metadata": {},
   "outputs": [
    {
     "data": {},
     "metadata": {},
     "output_type": "display_data"
    },
    {
     "data": {
      "application/vnd.holoviews_exec.v0+json": "",
      "text/html": [
       "<div id='10730'>\n",
       "\n",
       "\n",
       "\n",
       "\n",
       "\n",
       "  <div class=\"bk-root\" id=\"cb105f20-64f1-4d40-9950-3230706c734d\" data-root-id=\"10730\"></div>\n",
       "</div>\n",
       "<script type=\"application/javascript\">(function(root) {\n",
       "  function embed_document(root) {\n",
       "    var docs_json = {\"d1e00a78-d3d1-4aaa-bb00-e57e0f6ee160\":{\"defs\":[{\"extends\":null,\"module\":null,\"name\":\"ReactiveHTML1\",\"overrides\":[],\"properties\":[]},{\"extends\":null,\"module\":null,\"name\":\"FlexBox1\",\"overrides\":[],\"properties\":[{\"default\":\"flex-start\",\"kind\":null,\"name\":\"align_content\"},{\"default\":\"flex-start\",\"kind\":null,\"name\":\"align_items\"},{\"default\":\"row\",\"kind\":null,\"name\":\"flex_direction\"},{\"default\":\"wrap\",\"kind\":null,\"name\":\"flex_wrap\"},{\"default\":\"flex-start\",\"kind\":null,\"name\":\"justify_content\"}]},{\"extends\":null,\"module\":null,\"name\":\"TemplateActions1\",\"overrides\":[],\"properties\":[{\"default\":0,\"kind\":null,\"name\":\"open_modal\"},{\"default\":0,\"kind\":null,\"name\":\"close_modal\"}]},{\"extends\":null,\"module\":null,\"name\":\"MaterialTemplateActions1\",\"overrides\":[],\"properties\":[{\"default\":0,\"kind\":null,\"name\":\"open_modal\"},{\"default\":0,\"kind\":null,\"name\":\"close_modal\"}]}],\"roots\":{\"references\":[{\"attributes\":{},\"id\":\"10805\",\"type\":\"ResetTool\"},{\"attributes\":{\"line_alpha\":0.1,\"line_color\":\"blue\",\"line_width\":2,\"x\":{\"field\":\"k\"},\"y\":{\"field\":\"inertia\"}},\"id\":\"10769\",\"type\":\"Line\"},{\"attributes\":{\"active_multi\":null,\"tools\":[{\"id\":\"10734\"},{\"id\":\"10752\"},{\"id\":\"10753\"},{\"id\":\"10754\"},{\"id\":\"10755\"},{\"id\":\"10756\"}]},\"id\":\"10758\",\"type\":\"Toolbar\"},{\"attributes\":{},\"id\":\"10752\",\"type\":\"SaveTool\"},{\"attributes\":{},\"id\":\"10753\",\"type\":\"PanTool\"},{\"attributes\":{\"data_source\":{\"id\":\"10814\"},\"glyph\":{\"id\":\"10817\"},\"hover_glyph\":null,\"muted_glyph\":{\"id\":\"10819\"},\"nonselection_glyph\":{\"id\":\"10818\"},\"selection_glyph\":{\"id\":\"10822\"},\"view\":{\"id\":\"10821\"}},\"id\":\"10820\",\"type\":\"GlyphRenderer\"},{\"attributes\":{},\"id\":\"10756\",\"type\":\"ResetTool\"},{\"attributes\":{},\"id\":\"10754\",\"type\":\"WheelZoomTool\"},{\"attributes\":{\"source\":{\"id\":\"10814\"}},\"id\":\"10821\",\"type\":\"CDSView\"},{\"attributes\":{\"overlay\":{\"id\":\"10757\"}},\"id\":\"10755\",\"type\":\"BoxZoomTool\"},{\"attributes\":{\"below\":[{\"id\":\"10793\"}],\"center\":[{\"id\":\"10796\"},{\"id\":\"10800\"}],\"height\":300,\"left\":[{\"id\":\"10797\"}],\"margin\":null,\"min_border_bottom\":10,\"min_border_left\":10,\"min_border_right\":10,\"min_border_top\":10,\"renderers\":[{\"id\":\"10820\"}],\"sizing_mode\":\"fixed\",\"title\":{\"id\":\"10785\"},\"toolbar\":{\"id\":\"10807\"},\"toolbar_location\":null,\"width\":700,\"x_range\":{\"id\":\"10732\"},\"x_scale\":{\"id\":\"10789\"},\"y_range\":{\"id\":\"10733\"},\"y_scale\":{\"id\":\"10791\"}},\"id\":\"10784\",\"subtype\":\"Figure\",\"type\":\"Plot\"},{\"attributes\":{},\"id\":\"10789\",\"type\":\"LinearScale\"},{\"attributes\":{\"line_color\":\"Red\",\"line_width\":2,\"x\":{\"field\":\"k\"},\"y\":{\"field\":\"inertia\"}},\"id\":\"10817\",\"type\":\"Line\"},{\"attributes\":{\"text\":\"Elbow Curve\",\"text_color\":\"black\",\"text_font_size\":\"12pt\"},\"id\":\"10785\",\"type\":\"Title\"},{\"attributes\":{\"callback\":null,\"renderers\":[{\"id\":\"10771\"}],\"tags\":[\"hv_created\"],\"tooltips\":[[\"k\",\"@{k}\"],[\"inertia\",\"@{inertia}\"]]},\"id\":\"10734\",\"type\":\"HoverTool\"},{\"attributes\":{\"line_alpha\":0.1,\"line_color\":\"Red\",\"line_width\":2,\"x\":{\"field\":\"k\"},\"y\":{\"field\":\"inertia\"}},\"id\":\"10818\",\"type\":\"Line\"},{\"attributes\":{\"line_alpha\":0.2,\"line_color\":\"Red\",\"line_width\":2,\"x\":{\"field\":\"k\"},\"y\":{\"field\":\"inertia\"}},\"id\":\"10819\",\"type\":\"Line\"},{\"attributes\":{\"end\":10.0,\"reset_end\":10.0,\"reset_start\":1.0,\"start\":1.0,\"tags\":[[[\"k\",\"k\",null]]]},\"id\":\"10732\",\"type\":\"Range1d\"},{\"attributes\":{\"axis\":{\"id\":\"10793\"},\"grid_line_color\":null,\"ticker\":null},\"id\":\"10796\",\"type\":\"Grid\"},{\"attributes\":{\"end\":76909961.886626,\"reset_end\":76909961.886626,\"reset_start\":-6991783.9283485925,\"start\":-6991783.9283485925,\"tags\":[[[\"inertia\",\"inertia\",null]]]},\"id\":\"10733\",\"type\":\"Range1d\"},{\"attributes\":{},\"id\":\"10825\",\"type\":\"BasicTickFormatter\"},{\"attributes\":{\"axis_label\":\"k\",\"formatter\":{\"id\":\"10825\"},\"major_label_policy\":{\"id\":\"10826\"},\"ticker\":{\"id\":\"10823\"}},\"id\":\"10793\",\"type\":\"LinearAxis\"},{\"attributes\":{},\"id\":\"10840\",\"type\":\"UnionRenderers\"},{\"attributes\":{\"children\":[{\"id\":\"10731\"},{\"id\":\"10855\"},{\"id\":\"11018\"}],\"margin\":[0,0,0,0],\"name\":\"Row20624\",\"tags\":[\"embedded\"]},\"id\":\"10730\",\"type\":\"Row\"},{\"attributes\":{\"children\":[{\"id\":\"10854\"},{\"id\":\"10852\"}]},\"id\":\"10855\",\"type\":\"Column\"},{\"attributes\":{\"children\":[[{\"id\":\"10735\"},0,0],[{\"id\":\"10784\"},0,1]]},\"id\":\"10852\",\"type\":\"GridBox\"},{\"attributes\":{},\"id\":\"10791\",\"type\":\"LinearScale\"},{\"attributes\":{\"data\":{\"inertia\":{\"__ndarray__\":\"AAAAAADwcUByhzI6P3poQOCRvNowzF5AF+6ulG/BU0BnEQsuWlNQQOXqC/e6cUpAiCebkxT1RUBu++EeLsJCQMB0IF8cPkBAineL7Q85PEA=\",\"dtype\":\"float64\",\"order\":\"little\",\"shape\":[10]},\"k\":[1,2,3,4,5,6,7,8,9,10]},\"selected\":{\"id\":\"10766\"},\"selection_policy\":{\"id\":\"10840\"}},\"id\":\"10765\",\"type\":\"ColumnDataSource\"},{\"attributes\":{},\"id\":\"10798\",\"type\":\"BasicTicker\"},{\"attributes\":{\"data_source\":{\"id\":\"10765\"},\"glyph\":{\"id\":\"10768\"},\"hover_glyph\":null,\"muted_glyph\":{\"id\":\"10770\"},\"nonselection_glyph\":{\"id\":\"10769\"},\"selection_glyph\":{\"id\":\"10773\"},\"view\":{\"id\":\"10772\"}},\"id\":\"10771\",\"type\":\"GlyphRenderer\"},{\"attributes\":{},\"id\":\"10830\",\"type\":\"BasicTickFormatter\"},{\"attributes\":{\"below\":[{\"id\":\"10744\"}],\"center\":[{\"id\":\"10747\"},{\"id\":\"10751\"}],\"height\":300,\"left\":[{\"id\":\"10748\"}],\"margin\":null,\"min_border_bottom\":10,\"min_border_left\":10,\"min_border_right\":10,\"min_border_top\":10,\"renderers\":[{\"id\":\"10771\"}],\"sizing_mode\":\"fixed\",\"title\":{\"id\":\"10736\"},\"toolbar\":{\"id\":\"10758\"},\"toolbar_location\":null,\"width\":700,\"x_range\":{\"id\":\"10732\"},\"x_scale\":{\"id\":\"10740\"},\"y_range\":{\"id\":\"10733\"},\"y_scale\":{\"id\":\"10742\"}},\"id\":\"10735\",\"subtype\":\"Figure\",\"type\":\"Plot\"},{\"attributes\":{\"text\":\"Elbow Curve\",\"text_color\":\"black\",\"text_font_size\":\"12pt\"},\"id\":\"10736\",\"type\":\"Title\"},{\"attributes\":{\"axis_label\":\"inertia\",\"formatter\":{\"id\":\"10830\"},\"major_label_policy\":{\"id\":\"10831\"},\"ticker\":{\"id\":\"10798\"}},\"id\":\"10797\",\"type\":\"LinearAxis\"},{\"attributes\":{\"toolbars\":[{\"id\":\"10758\"},{\"id\":\"10807\"}],\"tools\":[{\"id\":\"10734\"},{\"id\":\"10752\"},{\"id\":\"10753\"},{\"id\":\"10754\"},{\"id\":\"10755\"},{\"id\":\"10756\"},{\"id\":\"10783\"},{\"id\":\"10801\"},{\"id\":\"10802\"},{\"id\":\"10803\"},{\"id\":\"10804\"},{\"id\":\"10805\"}]},\"id\":\"10853\",\"type\":\"ProxyToolbar\"},{\"attributes\":{\"axis\":{\"id\":\"10797\"},\"dimension\":1,\"grid_line_color\":null,\"ticker\":null},\"id\":\"10800\",\"type\":\"Grid\"},{\"attributes\":{},\"id\":\"10826\",\"type\":\"AllLabels\"},{\"attributes\":{\"margin\":[5,5,5,5],\"name\":\"HSpacer20629\",\"sizing_mode\":\"stretch_width\"},\"id\":\"11018\",\"type\":\"Spacer\"},{\"attributes\":{\"line_color\":\"blue\",\"line_width\":2,\"x\":{\"field\":\"k\"},\"y\":{\"field\":\"inertia\"}},\"id\":\"10768\",\"type\":\"Line\"},{\"attributes\":{},\"id\":\"10850\",\"type\":\"UnionRenderers\"},{\"attributes\":{\"margin\":[5,5,5,5],\"name\":\"HSpacer20628\",\"sizing_mode\":\"stretch_width\"},\"id\":\"10731\",\"type\":\"Spacer\"},{\"attributes\":{},\"id\":\"10766\",\"type\":\"Selection\"},{\"attributes\":{},\"id\":\"10740\",\"type\":\"LinearScale\"},{\"attributes\":{\"line_alpha\":0.2,\"line_color\":\"blue\",\"line_width\":2,\"x\":{\"field\":\"k\"},\"y\":{\"field\":\"inertia\"}},\"id\":\"10770\",\"type\":\"Line\"},{\"attributes\":{\"source\":{\"id\":\"10765\"}},\"id\":\"10772\",\"type\":\"CDSView\"},{\"attributes\":{\"toolbar\":{\"id\":\"10853\"},\"toolbar_location\":\"above\"},\"id\":\"10854\",\"type\":\"ToolbarBox\"},{\"attributes\":{\"axis\":{\"id\":\"10744\"},\"grid_line_color\":null,\"ticker\":null},\"id\":\"10747\",\"type\":\"Grid\"},{\"attributes\":{\"active_multi\":null,\"tools\":[{\"id\":\"10783\"},{\"id\":\"10801\"},{\"id\":\"10802\"},{\"id\":\"10803\"},{\"id\":\"10804\"},{\"id\":\"10805\"}]},\"id\":\"10807\",\"type\":\"Toolbar\"},{\"attributes\":{},\"id\":\"10815\",\"type\":\"Selection\"},{\"attributes\":{\"callback\":null,\"renderers\":[{\"id\":\"10820\"}],\"tags\":[\"hv_created\"],\"tooltips\":[[\"k\",\"@{k}\"],[\"inertia\",\"@{inertia}\"]]},\"id\":\"10783\",\"type\":\"HoverTool\"},{\"attributes\":{},\"id\":\"10801\",\"type\":\"SaveTool\"},{\"attributes\":{},\"id\":\"10802\",\"type\":\"PanTool\"},{\"attributes\":{},\"id\":\"10781\",\"type\":\"BasicTickFormatter\"},{\"attributes\":{\"bottom_units\":\"screen\",\"fill_alpha\":0.5,\"fill_color\":\"lightgrey\",\"left_units\":\"screen\",\"level\":\"overlay\",\"line_alpha\":1.0,\"line_color\":\"black\",\"line_dash\":[4,4],\"line_width\":2,\"right_units\":\"screen\",\"syncable\":false,\"top_units\":\"screen\"},\"id\":\"10806\",\"type\":\"BoxAnnotation\"},{\"attributes\":{},\"id\":\"10803\",\"type\":\"WheelZoomTool\"},{\"attributes\":{\"line_color\":\"blue\",\"line_width\":2,\"x\":{\"field\":\"k\"},\"y\":{\"field\":\"inertia\"}},\"id\":\"10773\",\"type\":\"Line\"},{\"attributes\":{\"overlay\":{\"id\":\"10806\"}},\"id\":\"10804\",\"type\":\"BoxZoomTool\"},{\"attributes\":{},\"id\":\"10742\",\"type\":\"LinearScale\"},{\"attributes\":{\"axis\":{\"id\":\"10748\"},\"dimension\":1,\"grid_line_color\":null,\"ticker\":null},\"id\":\"10751\",\"type\":\"Grid\"},{\"attributes\":{\"ticks\":[1,2,3,4,5,6,7,8,9,10]},\"id\":\"10774\",\"type\":\"FixedTicker\"},{\"attributes\":{\"axis_label\":\"k\",\"formatter\":{\"id\":\"10776\"},\"major_label_policy\":{\"id\":\"10777\"},\"ticker\":{\"id\":\"10774\"}},\"id\":\"10744\",\"type\":\"LinearAxis\"},{\"attributes\":{},\"id\":\"10777\",\"type\":\"AllLabels\"},{\"attributes\":{},\"id\":\"10776\",\"type\":\"BasicTickFormatter\"},{\"attributes\":{},\"id\":\"10749\",\"type\":\"BasicTicker\"},{\"attributes\":{\"axis_label\":\"inertia\",\"formatter\":{\"id\":\"10781\"},\"major_label_policy\":{\"id\":\"10782\"},\"ticker\":{\"id\":\"10749\"}},\"id\":\"10748\",\"type\":\"LinearAxis\"},{\"attributes\":{\"bottom_units\":\"screen\",\"fill_alpha\":0.5,\"fill_color\":\"lightgrey\",\"left_units\":\"screen\",\"level\":\"overlay\",\"line_alpha\":1.0,\"line_color\":\"black\",\"line_dash\":[4,4],\"line_width\":2,\"right_units\":\"screen\",\"syncable\":false,\"top_units\":\"screen\"},\"id\":\"10757\",\"type\":\"BoxAnnotation\"},{\"attributes\":{\"data\":{\"inertia\":{\"__ndarray__\":\"9gbxFnerkEHQGmpqcwFfQSRhnleLXUNBzZEg7QVCKEGoePI7njEYQbyZ54GzIAxBCB13YiHMA0GlV47K+BT+QE7xLoytqfRAbDPfMBcA8EA=\",\"dtype\":\"float64\",\"order\":\"little\",\"shape\":[10]},\"k\":[1,2,3,4,5,6,7,8,9,10]},\"selected\":{\"id\":\"10815\"},\"selection_policy\":{\"id\":\"10850\"}},\"id\":\"10814\",\"type\":\"ColumnDataSource\"},{\"attributes\":{\"ticks\":[1,2,3,4,5,6,7,8,9,10]},\"id\":\"10823\",\"type\":\"FixedTicker\"},{\"attributes\":{},\"id\":\"10831\",\"type\":\"AllLabels\"},{\"attributes\":{},\"id\":\"10782\",\"type\":\"AllLabels\"},{\"attributes\":{\"line_color\":\"Red\",\"line_width\":2,\"x\":{\"field\":\"k\"},\"y\":{\"field\":\"inertia\"}},\"id\":\"10822\",\"type\":\"Line\"}],\"root_ids\":[\"10730\"]},\"title\":\"Bokeh Application\",\"version\":\"2.3.2\"}};\n",
       "    var render_items = [{\"docid\":\"d1e00a78-d3d1-4aaa-bb00-e57e0f6ee160\",\"root_ids\":[\"10730\"],\"roots\":{\"10730\":\"cb105f20-64f1-4d40-9950-3230706c734d\"}}];\n",
       "    root.Bokeh.embed.embed_items_notebook(docs_json, render_items);\n",
       "  }\n",
       "  if (root.Bokeh !== undefined && root.Bokeh.Panel !== undefined) {\n",
       "    embed_document(root);\n",
       "  } else {\n",
       "    var attempts = 0;\n",
       "    var timer = setInterval(function(root) {\n",
       "      if (root.Bokeh !== undefined && root.Bokeh.Panel !== undefined) {\n",
       "        clearInterval(timer);\n",
       "        embed_document(root);\n",
       "      } else if (document.readyState == \"complete\") {\n",
       "        attempts++;\n",
       "        if (attempts > 200) {\n",
       "          clearInterval(timer);\n",
       "          console.log(\"Bokeh: ERROR: Unable to run BokehJS code because BokehJS library is missing\");\n",
       "        }\n",
       "      }\n",
       "    }, 25, root)\n",
       "  }\n",
       "})(window);</script>"
      ],
      "text/plain": [
       ":Layout\n",
       "   .Curve.I  :Curve   [k]   (inertia)\n",
       "   .Curve.II :Curve   [k]   (inertia)"
      ]
     },
     "execution_count": 123,
     "metadata": {
      "application/vnd.holoviews_exec.v0+json": {
       "id": "10730"
      }
     },
     "output_type": "execute_result"
    }
   ],
   "source": [
    "#Create a composite plot using hvPlot and the plus (+) operator to contrast the Elbow Curve that you created to find the best value for k with the original and the PCA data\n",
    "plot1 = df1_elbow.hvplot.line(x=\"k\", y=\"inertia\", title=\"Elbow Curve\", color= \"blue\", xticks=k)\n",
    "plot2 = df2_elbow.hvplot.line(x=\"k\", y=\"inertia\", title=\"Elbow Curve\", color= \"Red\", xticks=k)\n",
    "plot1 + plot2"
   ]
  },
  {
   "cell_type": "code",
   "execution_count": 124,
   "metadata": {},
   "outputs": [
    {
     "data": {},
     "metadata": {},
     "output_type": "display_data"
    },
    {
     "data": {
      "application/vnd.holoviews_exec.v0+json": "",
      "text/html": [
       "<div id='11110'>\n",
       "\n",
       "\n",
       "\n",
       "\n",
       "\n",
       "  <div class=\"bk-root\" id=\"86a88b99-a3aa-4882-8072-4dd0498a0c22\" data-root-id=\"11110\"></div>\n",
       "</div>\n",
       "<script type=\"application/javascript\">(function(root) {\n",
       "  function embed_document(root) {\n",
       "    var docs_json = {\"834b5e09-104e-4d92-a567-8e0fb1a48a31\":{\"defs\":[{\"extends\":null,\"module\":null,\"name\":\"ReactiveHTML1\",\"overrides\":[],\"properties\":[]},{\"extends\":null,\"module\":null,\"name\":\"FlexBox1\",\"overrides\":[],\"properties\":[{\"default\":\"flex-start\",\"kind\":null,\"name\":\"align_content\"},{\"default\":\"flex-start\",\"kind\":null,\"name\":\"align_items\"},{\"default\":\"row\",\"kind\":null,\"name\":\"flex_direction\"},{\"default\":\"wrap\",\"kind\":null,\"name\":\"flex_wrap\"},{\"default\":\"flex-start\",\"kind\":null,\"name\":\"justify_content\"}]},{\"extends\":null,\"module\":null,\"name\":\"TemplateActions1\",\"overrides\":[],\"properties\":[{\"default\":0,\"kind\":null,\"name\":\"open_modal\"},{\"default\":0,\"kind\":null,\"name\":\"close_modal\"}]},{\"extends\":null,\"module\":null,\"name\":\"MaterialTemplateActions1\",\"overrides\":[],\"properties\":[{\"default\":0,\"kind\":null,\"name\":\"open_modal\"},{\"default\":0,\"kind\":null,\"name\":\"close_modal\"}]}],\"roots\":{\"references\":[{\"attributes\":{},\"id\":\"11131\",\"type\":\"BasicTicker\"},{\"attributes\":{},\"id\":\"11202\",\"type\":\"Selection\"},{\"attributes\":{\"end\":8572.78000025518,\"reset_end\":8572.78000025518,\"reset_start\":-1231.239611225351,\"start\":-1231.239611225351,\"tags\":[[[\"price_change_percentage_7d\",\"price_change_percentage_7d\",null]]]},\"id\":\"11113\",\"type\":\"Range1d\"},{\"attributes\":{\"axis\":{\"id\":\"11130\"},\"grid_line_color\":null,\"ticker\":null},\"id\":\"11133\",\"type\":\"Grid\"},{\"attributes\":{\"angle\":{\"value\":0.0},\"fill_alpha\":{\"value\":1.0},\"fill_color\":{\"value\":\"#e5ae38\"},\"hatch_alpha\":{\"value\":1.0},\"hatch_color\":{\"value\":\"black\"},\"hatch_scale\":{\"value\":12.0},\"hatch_weight\":{\"value\":1.0},\"line_alpha\":{\"value\":1.0},\"line_cap\":{\"value\":\"butt\"},\"line_color\":{\"value\":\"#e5ae38\"},\"line_dash\":{\"value\":[]},\"line_dash_offset\":{\"value\":0},\"line_join\":{\"value\":\"bevel\"},\"line_width\":{\"value\":1},\"marker\":{\"value\":\"circle\"},\"size\":{\"value\":5.477225575051661},\"x\":{\"field\":\"price_change_percentage_24h\"},\"y\":{\"field\":\"price_change_percentage_7d\"}},\"id\":\"11224\",\"type\":\"Scatter\"},{\"attributes\":{},\"id\":\"11154\",\"type\":\"AllLabels\"},{\"attributes\":{\"axis_label\":\"price_change_percentage_7d\",\"formatter\":{\"id\":\"11156\"},\"major_label_policy\":{\"id\":\"11157\"},\"ticker\":{\"id\":\"11135\"}},\"id\":\"11134\",\"type\":\"LinearAxis\"},{\"attributes\":{},\"id\":\"11153\",\"type\":\"BasicTickFormatter\"},{\"attributes\":{\"fill_alpha\":{\"value\":0.2},\"fill_color\":{\"value\":\"#30a2da\"},\"line_alpha\":{\"value\":0.2},\"line_color\":{\"value\":\"#30a2da\"},\"size\":{\"value\":5.477225575051661},\"x\":{\"field\":\"price_change_percentage_24h\"},\"y\":{\"field\":\"price_change_percentage_7d\"}},\"id\":\"11163\",\"type\":\"Scatter\"},{\"attributes\":{\"data\":{\"cryptocurrencies_clusters_left_parenthesis_k_equals_4_right_parenthesis\":[2],\"price_change_percentage_24h\":{\"__ndarray__\":\"VLqXBn668D8=\",\"dtype\":\"float64\",\"order\":\"little\",\"shape\":[1]},\"price_change_percentage_7d\":{\"__ndarray__\":\"Nv03JFjJ478=\",\"dtype\":\"float64\",\"order\":\"little\",\"shape\":[1]}},\"selected\":{\"id\":\"11202\"},\"selection_policy\":{\"id\":\"11222\"}},\"id\":\"11201\",\"type\":\"ColumnDataSource\"},{\"attributes\":{},\"id\":\"11156\",\"type\":\"BasicTickFormatter\"},{\"attributes\":{},\"id\":\"11135\",\"type\":\"BasicTicker\"},{\"attributes\":{\"fill_color\":{\"value\":\"#6d904f\"},\"line_color\":{\"value\":\"#6d904f\"},\"size\":{\"value\":5.477225575051661},\"x\":{\"field\":\"price_change_percentage_24h\"},\"y\":{\"field\":\"price_change_percentage_7d\"}},\"id\":\"11228\",\"type\":\"Scatter\"},{\"attributes\":{\"axis\":{\"id\":\"11134\"},\"dimension\":1,\"grid_line_color\":null,\"ticker\":null},\"id\":\"11137\",\"type\":\"Grid\"},{\"attributes\":{\"data_source\":{\"id\":\"11363\"},\"glyph\":{\"id\":\"11366\"},\"hover_glyph\":null,\"muted_glyph\":{\"id\":\"11368\"},\"nonselection_glyph\":{\"id\":\"11367\"},\"selection_glyph\":{\"id\":\"11389\"},\"view\":{\"id\":\"11370\"}},\"id\":\"11369\",\"type\":\"GlyphRenderer\"},{\"attributes\":{\"label\":{\"value\":\"3\"},\"renderers\":[{\"id\":\"11231\"}]},\"id\":\"11249\",\"type\":\"LegendItem\"},{\"attributes\":{},\"id\":\"11180\",\"type\":\"Selection\"},{\"attributes\":{\"fill_color\":{\"value\":\"#9467bd\"},\"line_color\":{\"value\":\"#9467bd\"},\"size\":{\"value\":5.477225575051661},\"x\":{\"field\":\"PC2\"},\"y\":{\"field\":\"PCI\"}},\"id\":\"11422\",\"type\":\"Scatter\"},{\"attributes\":{},\"id\":\"11175\",\"type\":\"UnionRenderers\"},{\"attributes\":{\"fill_alpha\":{\"value\":0.1},\"fill_color\":{\"value\":\"#30a2da\"},\"line_alpha\":{\"value\":0.1},\"line_color\":{\"value\":\"#30a2da\"},\"size\":{\"value\":5.477225575051661},\"x\":{\"field\":\"price_change_percentage_24h\"},\"y\":{\"field\":\"price_change_percentage_7d\"}},\"id\":\"11162\",\"type\":\"Scatter\"},{\"attributes\":{\"angle\":{\"value\":0.0},\"fill_alpha\":{\"value\":1.0},\"fill_color\":{\"value\":\"#30a2da\"},\"hatch_alpha\":{\"value\":1.0},\"hatch_color\":{\"value\":\"black\"},\"hatch_scale\":{\"value\":12.0},\"hatch_weight\":{\"value\":1.0},\"line_alpha\":{\"value\":1.0},\"line_cap\":{\"value\":\"butt\"},\"line_color\":{\"value\":\"#30a2da\"},\"line_dash\":{\"value\":[]},\"line_dash_offset\":{\"value\":0},\"line_join\":{\"value\":\"bevel\"},\"line_width\":{\"value\":1},\"marker\":{\"value\":\"circle\"},\"size\":{\"value\":5.477225575051661},\"x\":{\"field\":\"price_change_percentage_24h\"},\"y\":{\"field\":\"price_change_percentage_7d\"}},\"id\":\"11178\",\"type\":\"Scatter\"},{\"attributes\":{\"fill_color\":{\"value\":\"#8b8b8b\"},\"line_color\":{\"value\":\"#8b8b8b\"},\"size\":{\"value\":5.477225575051661},\"x\":{\"field\":\"PC2\"},\"y\":{\"field\":\"PCI\"}},\"id\":\"11366\",\"type\":\"Scatter\"},{\"attributes\":{\"end\":874.636777483805,\"reset_end\":874.636777483805,\"reset_start\":-412.79187149190795,\"start\":-412.79187149190795,\"tags\":[[[\"price_change_percentage_24h\",\"price_change_percentage_24h\",null]]]},\"id\":\"11112\",\"type\":\"Range1d\"},{\"attributes\":{},\"id\":\"11391\",\"type\":\"Selection\"},{\"attributes\":{\"fill_alpha\":{\"value\":0.1},\"fill_color\":{\"value\":\"#8b8b8b\"},\"line_alpha\":{\"value\":0.1},\"line_color\":{\"value\":\"#8b8b8b\"},\"size\":{\"value\":5.477225575051661},\"x\":{\"field\":\"PC2\"},\"y\":{\"field\":\"PCI\"}},\"id\":\"11367\",\"type\":\"Scatter\"},{\"attributes\":{},\"id\":\"11139\",\"type\":\"PanTool\"},{\"attributes\":{\"callback\":null,\"renderers\":[{\"id\":\"11164\"},{\"id\":\"11185\"},{\"id\":\"11207\"},{\"id\":\"11231\"}],\"tags\":[\"hv_created\"],\"tooltips\":[[\"cryptocurrencies clusters (k=4)\",\"@{cryptocurrencies_clusters_left_parenthesis_k_equals_4_right_parenthesis}\"],[\"price_change_percentage_24h\",\"@{price_change_percentage_24h}\"],[\"price_change_percentage_7d\",\"@{price_change_percentage_7d}\"]]},\"id\":\"11114\",\"type\":\"HoverTool\"},{\"attributes\":{\"active_multi\":null,\"tools\":[{\"id\":\"11114\"},{\"id\":\"11118\"},{\"id\":\"11138\"},{\"id\":\"11139\"},{\"id\":\"11140\"},{\"id\":\"11141\"},{\"id\":\"11142\"}]},\"id\":\"11144\",\"type\":\"Toolbar\"},{\"attributes\":{\"angle\":{\"value\":0.0},\"fill_alpha\":{\"value\":1.0},\"fill_color\":{\"value\":\"#6d904f\"},\"hatch_alpha\":{\"value\":1.0},\"hatch_color\":{\"value\":\"black\"},\"hatch_scale\":{\"value\":12.0},\"hatch_weight\":{\"value\":1.0},\"line_alpha\":{\"value\":1.0},\"line_cap\":{\"value\":\"butt\"},\"line_color\":{\"value\":\"#6d904f\"},\"line_dash\":{\"value\":[]},\"line_dash_offset\":{\"value\":0},\"line_join\":{\"value\":\"bevel\"},\"line_width\":{\"value\":1},\"marker\":{\"value\":\"circle\"},\"size\":{\"value\":5.477225575051661},\"x\":{\"field\":\"price_change_percentage_24h\"},\"y\":{\"field\":\"price_change_percentage_7d\"}},\"id\":\"11250\",\"type\":\"Scatter\"},{\"attributes\":{},\"id\":\"11140\",\"type\":\"WheelZoomTool\"},{\"attributes\":{\"fill_alpha\":{\"value\":0.1},\"fill_color\":{\"value\":\"#e5ae38\"},\"line_alpha\":{\"value\":0.1},\"line_color\":{\"value\":\"#e5ae38\"},\"size\":{\"value\":5.477225575051661},\"x\":{\"field\":\"price_change_percentage_24h\"},\"y\":{\"field\":\"price_change_percentage_7d\"}},\"id\":\"11205\",\"type\":\"Scatter\"},{\"attributes\":{\"fill_color\":{\"value\":\"#fc4f30\"},\"line_color\":{\"value\":\"#fc4f30\"},\"size\":{\"value\":5.477225575051661},\"x\":{\"field\":\"price_change_percentage_24h\"},\"y\":{\"field\":\"price_change_percentage_7d\"}},\"id\":\"11182\",\"type\":\"Scatter\"},{\"attributes\":{},\"id\":\"11420\",\"type\":\"Selection\"},{\"attributes\":{},\"id\":\"11138\",\"type\":\"SaveTool\"},{\"attributes\":{},\"id\":\"11448\",\"type\":\"UnionRenderers\"},{\"attributes\":{\"data_source\":{\"id\":\"11158\"},\"glyph\":{\"id\":\"11161\"},\"hover_glyph\":null,\"muted_glyph\":{\"id\":\"11163\"},\"nonselection_glyph\":{\"id\":\"11162\"},\"selection_glyph\":{\"id\":\"11178\"},\"view\":{\"id\":\"11165\"}},\"id\":\"11164\",\"type\":\"GlyphRenderer\"},{\"attributes\":{\"overlay\":{\"id\":\"11143\"}},\"id\":\"11141\",\"type\":\"BoxZoomTool\"},{\"attributes\":{\"data\":{\"cryptocurrencies_clusters_left_parenthesis_k_equals_4_right_parenthesis\":[3,3,3,3,3,3,3,3,3,3,3,3,3],\"price_change_percentage_24h\":{\"__ndarray__\":\"DdlqYN9F4D86azDosLzHPzALIwCtFvM/9w6McDSK7D/VDHOpb1eHPzMEvaFkP7o/Sds39trWsz9Epj8/c9DQP4xAeNEVZ8O/qq8st/Fh0L8FWWk3mH7gP6wo083aUMC//ACFOIMFwL8=\",\"dtype\":\"float64\",\"order\":\"little\",\"shape\":[13]},\"price_change_percentage_7d\":{\"__ndarray__\":\"U1k8q3mQ3z9yoPpI+ebtPzAB2dP2AQBAgmkOMZk89T8FNulI+JMEQCZRaSLGIPg/84wjaB1l1T8rMp3jf678P2VmURqKqeY/XK6ZksNx/T9DfMqy1o7dPyTPDB1Xu+0/srW7TleV4j8=\",\"dtype\":\"float64\",\"order\":\"little\",\"shape\":[13]}},\"selected\":{\"id\":\"11226\"},\"selection_policy\":{\"id\":\"11248\"}},\"id\":\"11225\",\"type\":\"ColumnDataSource\"},{\"attributes\":{\"fill_alpha\":{\"value\":0.2},\"fill_color\":{\"value\":\"#fc4f30\"},\"line_alpha\":{\"value\":0.2},\"line_color\":{\"value\":\"#fc4f30\"},\"size\":{\"value\":5.477225575051661},\"x\":{\"field\":\"price_change_percentage_24h\"},\"y\":{\"field\":\"price_change_percentage_7d\"}},\"id\":\"11184\",\"type\":\"Scatter\"},{\"attributes\":{\"data_source\":{\"id\":\"11390\"},\"glyph\":{\"id\":\"11393\"},\"hover_glyph\":null,\"muted_glyph\":{\"id\":\"11395\"},\"nonselection_glyph\":{\"id\":\"11394\"},\"selection_glyph\":{\"id\":\"11418\"},\"view\":{\"id\":\"11397\"}},\"id\":\"11396\",\"type\":\"GlyphRenderer\"},{\"attributes\":{},\"id\":\"11142\",\"type\":\"ResetTool\"},{\"attributes\":{},\"id\":\"11364\",\"type\":\"Selection\"},{\"attributes\":{\"source\":{\"id\":\"11390\"}},\"id\":\"11397\",\"type\":\"CDSView\"},{\"attributes\":{\"fill_alpha\":{\"value\":0.2},\"fill_color\":{\"value\":\"#9467bd\"},\"line_alpha\":{\"value\":0.2},\"line_color\":{\"value\":\"#9467bd\"},\"size\":{\"value\":5.477225575051661},\"x\":{\"field\":\"PC2\"},\"y\":{\"field\":\"PCI\"}},\"id\":\"11424\",\"type\":\"Scatter\"},{\"attributes\":{\"bottom_units\":\"screen\",\"fill_alpha\":0.5,\"fill_color\":\"lightgrey\",\"left_units\":\"screen\",\"level\":\"overlay\",\"line_alpha\":1.0,\"line_color\":\"black\",\"line_dash\":[4,4],\"line_width\":2,\"right_units\":\"screen\",\"syncable\":false,\"top_units\":\"screen\"},\"id\":\"11143\",\"type\":\"BoxAnnotation\"},{\"attributes\":{\"source\":{\"id\":\"11179\"}},\"id\":\"11186\",\"type\":\"CDSView\"},{\"attributes\":{\"data_source\":{\"id\":\"11419\"},\"glyph\":{\"id\":\"11422\"},\"hover_glyph\":null,\"muted_glyph\":{\"id\":\"11424\"},\"nonselection_glyph\":{\"id\":\"11423\"},\"selection_glyph\":{\"id\":\"11449\"},\"view\":{\"id\":\"11426\"}},\"id\":\"11425\",\"type\":\"GlyphRenderer\"},{\"attributes\":{\"data\":{\"PC2\":{\"__ndarray__\":\"p6iMrYm+iUA=\",\"dtype\":\"float64\",\"order\":\"little\",\"shape\":[1]},\"PCI\":{\"__ndarray__\":\"oiIlf0gnn0A=\",\"dtype\":\"float64\",\"order\":\"little\",\"shape\":[1]},\"cryptocurrencies_clusters_left_parenthesis_k_equals_3_right_parenthesis\":[2]},\"selected\":{\"id\":\"11420\"},\"selection_policy\":{\"id\":\"11448\"}},\"id\":\"11419\",\"type\":\"ColumnDataSource\"},{\"attributes\":{\"callback\":null,\"renderers\":[{\"id\":\"11369\"},{\"id\":\"11396\"},{\"id\":\"11425\"}],\"tags\":[\"hv_created\"],\"tooltips\":[[\"cryptocurrencies clusters (k=3)\",\"@{cryptocurrencies_clusters_left_parenthesis_k_equals_3_right_parenthesis}\"],[\"PC2\",\"@{PC2}\"],[\"PCI\",\"@{PCI}\"]]},\"id\":\"11118\",\"type\":\"HoverTool\"},{\"attributes\":{\"data\":{\"PC2\":{\"__ndarray__\":\"0u29f/KuScAPiWCcFx44QM2HzLh8rV3AwzTRsi/fU8CHBaE3pdtZwNQYwfMHkyhA2Lu4qJ1fY0BQYUVllQ9UQAsNtSQd8lbAr9C8lyHpYcCeD/E0Sinsv7yCz3mltV3ADAJEsDZxWcCwooVQ1vwgQNsQBd/n5yfAYtyAXsn5X8CZljNVETNfwGIpjT4XjUjAjk4YhF93PkA/t/Oi5sZdwHUsXAVwmyHArHbMtkiLScDeweKqu6NbwPobY3BV0FXAxPWrkxGbQkANlJ+P9apdwJ5RXEYyKUHAHNz0YjlrUEAQIT6OfQM/wJW3Y3P3IIBANed+I61AXcCjRLam7AldwKIcEaQPAkfAo3qEMnH3b0AZoeFCeah1QNXnSFwn/FHAnyi0teWyXMBjIkUCo7ldwNnMWC3BM3FA\",\"dtype\":\"float64\",\"order\":\"little\",\"shape\":[39]},\"PCI\":{\"__ndarray__\":\"s5c+vtBcdcDdm891dC1vwA7EceXVKXnA8ZiK+wlsecDi5AkR4eZ3wFFN0RQAEnLAQoTercImPED9rpl2otBlwD5ZYT/QaXnA4rX8p4Rzc8BlmDz3t99FwLAwWfDTLXnAhCXnwM7jecB+j3qFMRprwBaJkcEmI3PAMfwByFUHcMAVf5E/XOhvwGdydiFTxXbA3hvEiILDcMAiVIM4YDB5wP+zQTgutWzAl/X0NsFadcCskFVqvZt3wKEeH2rG6HbAkR5dmqQxYsAMlkw7iCd5wKif9a1Wo3fA7Y3ZIkMRYMDjjm1aWu9xwFClBTz+oIBAINBVHog1ecBf7+gxP1J4wJtOR2pq/XbAKbuEl9f3ekC5KbtJxepTQDnxA2Mj6XjAgtgGi5YXbMAByrn0VyR5wG0lLNgDiFTA\",\"dtype\":\"float64\",\"order\":\"little\",\"shape\":[39]},\"cryptocurrencies_clusters_left_parenthesis_k_equals_3_right_parenthesis\":[0,0,0,0,0,0,0,0,0,0,0,0,0,0,0,0,0,0,0,0,0,0,0,0,0,0,0,0,0,0,0,0,0,0,0,0,0,0,0]},\"selected\":{\"id\":\"11364\"},\"selection_policy\":{\"id\":\"11388\"}},\"id\":\"11363\",\"type\":\"ColumnDataSource\"},{\"attributes\":{},\"id\":\"11417\",\"type\":\"UnionRenderers\"},{\"attributes\":{\"label\":{\"value\":\"2\"},\"renderers\":[{\"id\":\"11207\"},{\"id\":\"11425\"}]},\"id\":\"11223\",\"type\":\"LegendItem\"},{\"attributes\":{\"margin\":[5,5,5,5],\"name\":\"HSpacer21188\",\"sizing_mode\":\"stretch_width\"},\"id\":\"11111\",\"type\":\"Spacer\"},{\"attributes\":{\"data_source\":{\"id\":\"11201\"},\"glyph\":{\"id\":\"11204\"},\"hover_glyph\":null,\"muted_glyph\":{\"id\":\"11206\"},\"nonselection_glyph\":{\"id\":\"11205\"},\"selection_glyph\":{\"id\":\"11224\"},\"view\":{\"id\":\"11208\"}},\"id\":\"11207\",\"type\":\"GlyphRenderer\"},{\"attributes\":{\"source\":{\"id\":\"11225\"}},\"id\":\"11232\",\"type\":\"CDSView\"},{\"attributes\":{\"fill_alpha\":{\"value\":0.2},\"fill_color\":{\"value\":\"#17becf\"},\"line_alpha\":{\"value\":0.2},\"line_color\":{\"value\":\"#17becf\"},\"size\":{\"value\":5.477225575051661},\"x\":{\"field\":\"PC2\"},\"y\":{\"field\":\"PCI\"}},\"id\":\"11395\",\"type\":\"Scatter\"},{\"attributes\":{\"below\":[{\"id\":\"11130\"}],\"center\":[{\"id\":\"11133\"},{\"id\":\"11137\"}],\"height\":300,\"left\":[{\"id\":\"11134\"}],\"margin\":[5,5,5,5],\"min_border_bottom\":10,\"min_border_left\":10,\"min_border_right\":10,\"min_border_top\":10,\"renderers\":[{\"id\":\"11164\"},{\"id\":\"11185\"},{\"id\":\"11207\"},{\"id\":\"11231\"},{\"id\":\"11369\"},{\"id\":\"11396\"},{\"id\":\"11425\"}],\"right\":[{\"id\":\"11176\"}],\"sizing_mode\":\"fixed\",\"title\":{\"id\":\"11122\"},\"toolbar\":{\"id\":\"11144\"},\"width\":700,\"x_range\":{\"id\":\"11112\"},\"x_scale\":{\"id\":\"11126\"},\"y_range\":{\"id\":\"11113\"},\"y_scale\":{\"id\":\"11128\"}},\"id\":\"11121\",\"subtype\":\"Figure\",\"type\":\"Plot\"},{\"attributes\":{\"source\":{\"id\":\"11158\"}},\"id\":\"11165\",\"type\":\"CDSView\"},{\"attributes\":{\"label\":{\"value\":\"1\"},\"renderers\":[{\"id\":\"11185\"},{\"id\":\"11396\"}]},\"id\":\"11199\",\"type\":\"LegendItem\"},{\"attributes\":{\"angle\":{\"value\":0.0},\"fill_alpha\":{\"value\":1.0},\"fill_color\":{\"value\":\"#17becf\"},\"hatch_alpha\":{\"value\":1.0},\"hatch_color\":{\"value\":\"black\"},\"hatch_scale\":{\"value\":12.0},\"hatch_weight\":{\"value\":1.0},\"line_alpha\":{\"value\":1.0},\"line_cap\":{\"value\":\"butt\"},\"line_color\":{\"value\":\"#17becf\"},\"line_dash\":{\"value\":[]},\"line_dash_offset\":{\"value\":0},\"line_join\":{\"value\":\"bevel\"},\"line_width\":{\"value\":1},\"marker\":{\"value\":\"circle\"},\"size\":{\"value\":5.477225575051661},\"x\":{\"field\":\"PC2\"},\"y\":{\"field\":\"PCI\"}},\"id\":\"11418\",\"type\":\"Scatter\"},{\"attributes\":{\"label\":{\"value\":\"0\"},\"renderers\":[{\"id\":\"11164\"},{\"id\":\"11369\"}]},\"id\":\"11177\",\"type\":\"LegendItem\"},{\"attributes\":{\"data\":{\"cryptocurrencies_clusters_left_parenthesis_k_equals_4_right_parenthesis\":[0,0,0,0,0,0,0,0,0,0,0,0,0,0,0,0,0,0,0,0,0,0,0,0,0,0],\"price_change_percentage_24h\":{\"__ndarray__\":\"mCJF1OlLlj/mJRG3Ed+kv1qZGRifu9w//rJXHrAz1T/yMTqenpahPx9kk3dK7sM/GTRehHalwD90fnl54Irtv9XPDahDw9G/+VOWQSEmxz+kpbukw1bSP6eM4M4OgKo/BcMOj9+jqr/Chq6S5ebLv2h3TIfCZ68/weEQ8QyV0D/KmZTmC7niP1YH9WGFy/m/N7JuVBEB07/EU4GAhEGyv8Ocf0hw2/a/lrPBJY23/j/IKcQzxy3av5WrmDyeito/Bf22eE/6sz9Y362Ir3rzPw==\",\"dtype\":\"float64\",\"order\":\"little\",\"shape\":[26]},\"price_change_percentage_7d\":{\"__ndarray__\":\"bZSIvk+a5r9RujxqH/Ppvw2U7adXaMi/d+r7VGbW+b9EGSx/8nTnv4rfBo4Lhe2/BEBwXEEApb8Udj8VbP/2vySelkVDp9i/7SZvVsyO5r8uu+JVH+LUvziN+gRMte2/o2qlez1D3b/CtPLKIS7rvyYjaswHnea/US6joeTvzz/dRmuCvtDvv/9TV66U6fq/ZWX+mWVCuD8GJ0pHuV/Nv8nIE2ZWH5q/TTxj/me11z+Htdvf1gXtv2Avihmzf9o/e31xtwIC5r/STlu6Y3Ljvw==\",\"dtype\":\"float64\",\"order\":\"little\",\"shape\":[26]}},\"selected\":{\"id\":\"11159\"},\"selection_policy\":{\"id\":\"11175\"}},\"id\":\"11158\",\"type\":\"ColumnDataSource\"},{\"attributes\":{\"fill_color\":{\"value\":\"#17becf\"},\"line_color\":{\"value\":\"#17becf\"},\"size\":{\"value\":5.477225575051661},\"x\":{\"field\":\"PC2\"},\"y\":{\"field\":\"PCI\"}},\"id\":\"11393\",\"type\":\"Scatter\"},{\"attributes\":{\"angle\":{\"value\":0.0},\"fill_alpha\":{\"value\":1.0},\"fill_color\":{\"value\":\"#9467bd\"},\"hatch_alpha\":{\"value\":1.0},\"hatch_color\":{\"value\":\"black\"},\"hatch_scale\":{\"value\":12.0},\"hatch_weight\":{\"value\":1.0},\"line_alpha\":{\"value\":1.0},\"line_cap\":{\"value\":\"butt\"},\"line_color\":{\"value\":\"#9467bd\"},\"line_dash\":{\"value\":[]},\"line_dash_offset\":{\"value\":0},\"line_join\":{\"value\":\"bevel\"},\"line_width\":{\"value\":1},\"marker\":{\"value\":\"circle\"},\"size\":{\"value\":5.477225575051661},\"x\":{\"field\":\"PC2\"},\"y\":{\"field\":\"PCI\"}},\"id\":\"11449\",\"type\":\"Scatter\"},{\"attributes\":{},\"id\":\"11248\",\"type\":\"UnionRenderers\"},{\"attributes\":{\"click_policy\":\"mute\",\"items\":[{\"id\":\"11177\"},{\"id\":\"11199\"},{\"id\":\"11223\"},{\"id\":\"11249\"}],\"location\":[0,0]},\"id\":\"11176\",\"type\":\"Legend\"},{\"attributes\":{\"angle\":{\"value\":0.0},\"fill_alpha\":{\"value\":1.0},\"fill_color\":{\"value\":\"#fc4f30\"},\"hatch_alpha\":{\"value\":1.0},\"hatch_color\":{\"value\":\"black\"},\"hatch_scale\":{\"value\":12.0},\"hatch_weight\":{\"value\":1.0},\"line_alpha\":{\"value\":1.0},\"line_cap\":{\"value\":\"butt\"},\"line_color\":{\"value\":\"#fc4f30\"},\"line_dash\":{\"value\":[]},\"line_dash_offset\":{\"value\":0},\"line_join\":{\"value\":\"bevel\"},\"line_width\":{\"value\":1},\"marker\":{\"value\":\"circle\"},\"size\":{\"value\":5.477225575051661},\"x\":{\"field\":\"price_change_percentage_24h\"},\"y\":{\"field\":\"price_change_percentage_7d\"}},\"id\":\"11200\",\"type\":\"Scatter\"},{\"attributes\":{\"margin\":[5,5,5,5],\"name\":\"HSpacer21189\",\"sizing_mode\":\"stretch_width\"},\"id\":\"11802\",\"type\":\"Spacer\"},{\"attributes\":{\"source\":{\"id\":\"11363\"}},\"id\":\"11370\",\"type\":\"CDSView\"},{\"attributes\":{},\"id\":\"11157\",\"type\":\"AllLabels\"},{\"attributes\":{},\"id\":\"11198\",\"type\":\"UnionRenderers\"},{\"attributes\":{\"axis_label\":\"price_change_percentage_24h\",\"formatter\":{\"id\":\"11153\"},\"major_label_policy\":{\"id\":\"11154\"},\"ticker\":{\"id\":\"11131\"}},\"id\":\"11130\",\"type\":\"LinearAxis\"},{\"attributes\":{\"children\":[{\"id\":\"11111\"},{\"id\":\"11121\"},{\"id\":\"11802\"}],\"margin\":[0,0,0,0],\"name\":\"Row21184\",\"tags\":[\"embedded\"]},\"id\":\"11110\",\"type\":\"Row\"},{\"attributes\":{\"data_source\":{\"id\":\"11179\"},\"glyph\":{\"id\":\"11182\"},\"hover_glyph\":null,\"muted_glyph\":{\"id\":\"11184\"},\"nonselection_glyph\":{\"id\":\"11183\"},\"selection_glyph\":{\"id\":\"11200\"},\"view\":{\"id\":\"11186\"}},\"id\":\"11185\",\"type\":\"GlyphRenderer\"},{\"attributes\":{\"data\":{\"cryptocurrencies_clusters_left_parenthesis_k_equals_4_right_parenthesis\":[1],\"price_change_percentage_24h\":{\"__ndarray__\":\"3WeHPpbsE8A=\",\"dtype\":\"float64\",\"order\":\"little\",\"shape\":[1]},\"price_change_percentage_7d\":{\"__ndarray__\":\"dIWi2pshp78=\",\"dtype\":\"float64\",\"order\":\"little\",\"shape\":[1]}},\"selected\":{\"id\":\"11180\"},\"selection_policy\":{\"id\":\"11198\"}},\"id\":\"11179\",\"type\":\"ColumnDataSource\"},{\"attributes\":{\"fill_alpha\":{\"value\":0.2},\"fill_color\":{\"value\":\"#e5ae38\"},\"line_alpha\":{\"value\":0.2},\"line_color\":{\"value\":\"#e5ae38\"},\"size\":{\"value\":5.477225575051661},\"x\":{\"field\":\"price_change_percentage_24h\"},\"y\":{\"field\":\"price_change_percentage_7d\"}},\"id\":\"11206\",\"type\":\"Scatter\"},{\"attributes\":{\"source\":{\"id\":\"11201\"}},\"id\":\"11208\",\"type\":\"CDSView\"},{\"attributes\":{\"fill_alpha\":{\"value\":0.1},\"fill_color\":{\"value\":\"#6d904f\"},\"line_alpha\":{\"value\":0.1},\"line_color\":{\"value\":\"#6d904f\"},\"size\":{\"value\":5.477225575051661},\"x\":{\"field\":\"price_change_percentage_24h\"},\"y\":{\"field\":\"price_change_percentage_7d\"}},\"id\":\"11229\",\"type\":\"Scatter\"},{\"attributes\":{\"text_color\":\"black\",\"text_font_size\":\"12pt\"},\"id\":\"11122\",\"type\":\"Title\"},{\"attributes\":{\"fill_alpha\":{\"value\":0.1},\"fill_color\":{\"value\":\"#9467bd\"},\"line_alpha\":{\"value\":0.1},\"line_color\":{\"value\":\"#9467bd\"},\"size\":{\"value\":5.477225575051661},\"x\":{\"field\":\"PC2\"},\"y\":{\"field\":\"PCI\"}},\"id\":\"11423\",\"type\":\"Scatter\"},{\"attributes\":{},\"id\":\"11226\",\"type\":\"Selection\"},{\"attributes\":{\"fill_color\":{\"value\":\"#30a2da\"},\"line_color\":{\"value\":\"#30a2da\"},\"size\":{\"value\":5.477225575051661},\"x\":{\"field\":\"price_change_percentage_24h\"},\"y\":{\"field\":\"price_change_percentage_7d\"}},\"id\":\"11161\",\"type\":\"Scatter\"},{\"attributes\":{\"fill_color\":{\"value\":\"#e5ae38\"},\"line_color\":{\"value\":\"#e5ae38\"},\"size\":{\"value\":5.477225575051661},\"x\":{\"field\":\"price_change_percentage_24h\"},\"y\":{\"field\":\"price_change_percentage_7d\"}},\"id\":\"11204\",\"type\":\"Scatter\"},{\"attributes\":{\"fill_alpha\":{\"value\":0.1},\"fill_color\":{\"value\":\"#17becf\"},\"line_alpha\":{\"value\":0.1},\"line_color\":{\"value\":\"#17becf\"},\"size\":{\"value\":5.477225575051661},\"x\":{\"field\":\"PC2\"},\"y\":{\"field\":\"PCI\"}},\"id\":\"11394\",\"type\":\"Scatter\"},{\"attributes\":{},\"id\":\"11222\",\"type\":\"UnionRenderers\"},{\"attributes\":{\"fill_alpha\":{\"value\":0.2},\"fill_color\":{\"value\":\"#6d904f\"},\"line_alpha\":{\"value\":0.2},\"line_color\":{\"value\":\"#6d904f\"},\"size\":{\"value\":5.477225575051661},\"x\":{\"field\":\"price_change_percentage_24h\"},\"y\":{\"field\":\"price_change_percentage_7d\"}},\"id\":\"11230\",\"type\":\"Scatter\"},{\"attributes\":{},\"id\":\"11128\",\"type\":\"LinearScale\"},{\"attributes\":{\"angle\":{\"value\":0.0},\"fill_alpha\":{\"value\":1.0},\"fill_color\":{\"value\":\"#8b8b8b\"},\"hatch_alpha\":{\"value\":1.0},\"hatch_color\":{\"value\":\"black\"},\"hatch_scale\":{\"value\":12.0},\"hatch_weight\":{\"value\":1.0},\"line_alpha\":{\"value\":1.0},\"line_cap\":{\"value\":\"butt\"},\"line_color\":{\"value\":\"#8b8b8b\"},\"line_dash\":{\"value\":[]},\"line_dash_offset\":{\"value\":0},\"line_join\":{\"value\":\"bevel\"},\"line_width\":{\"value\":1},\"marker\":{\"value\":\"circle\"},\"size\":{\"value\":5.477225575051661},\"x\":{\"field\":\"PC2\"},\"y\":{\"field\":\"PCI\"}},\"id\":\"11389\",\"type\":\"Scatter\"},{\"attributes\":{\"fill_alpha\":{\"value\":0.2},\"fill_color\":{\"value\":\"#8b8b8b\"},\"line_alpha\":{\"value\":0.2},\"line_color\":{\"value\":\"#8b8b8b\"},\"size\":{\"value\":5.477225575051661},\"x\":{\"field\":\"PC2\"},\"y\":{\"field\":\"PCI\"}},\"id\":\"11368\",\"type\":\"Scatter\"},{\"attributes\":{\"source\":{\"id\":\"11419\"}},\"id\":\"11426\",\"type\":\"CDSView\"},{\"attributes\":{},\"id\":\"11159\",\"type\":\"Selection\"},{\"attributes\":{\"fill_alpha\":{\"value\":0.1},\"fill_color\":{\"value\":\"#fc4f30\"},\"line_alpha\":{\"value\":0.1},\"line_color\":{\"value\":\"#fc4f30\"},\"size\":{\"value\":5.477225575051661},\"x\":{\"field\":\"price_change_percentage_24h\"},\"y\":{\"field\":\"price_change_percentage_7d\"}},\"id\":\"11183\",\"type\":\"Scatter\"},{\"attributes\":{},\"id\":\"11388\",\"type\":\"UnionRenderers\"},{\"attributes\":{\"data\":{\"PC2\":{\"__ndarray__\":\"Bxv0no6fdsA=\",\"dtype\":\"float64\",\"order\":\"little\",\"shape\":[1]},\"PCI\":{\"__ndarray__\":\"lOz9QsdLvkA=\",\"dtype\":\"float64\",\"order\":\"little\",\"shape\":[1]},\"cryptocurrencies_clusters_left_parenthesis_k_equals_3_right_parenthesis\":[1]},\"selected\":{\"id\":\"11391\"},\"selection_policy\":{\"id\":\"11417\"}},\"id\":\"11390\",\"type\":\"ColumnDataSource\"},{\"attributes\":{},\"id\":\"11126\",\"type\":\"LinearScale\"},{\"attributes\":{\"data_source\":{\"id\":\"11225\"},\"glyph\":{\"id\":\"11228\"},\"hover_glyph\":null,\"muted_glyph\":{\"id\":\"11230\"},\"nonselection_glyph\":{\"id\":\"11229\"},\"selection_glyph\":{\"id\":\"11250\"},\"view\":{\"id\":\"11232\"}},\"id\":\"11231\",\"type\":\"GlyphRenderer\"}],\"root_ids\":[\"11110\"]},\"title\":\"Bokeh Application\",\"version\":\"2.3.2\"}};\n",
       "    var render_items = [{\"docid\":\"834b5e09-104e-4d92-a567-8e0fb1a48a31\",\"root_ids\":[\"11110\"],\"roots\":{\"11110\":\"86a88b99-a3aa-4882-8072-4dd0498a0c22\"}}];\n",
       "    root.Bokeh.embed.embed_items_notebook(docs_json, render_items);\n",
       "  }\n",
       "  if (root.Bokeh !== undefined && root.Bokeh.Panel !== undefined) {\n",
       "    embed_document(root);\n",
       "  } else {\n",
       "    var attempts = 0;\n",
       "    var timer = setInterval(function(root) {\n",
       "      if (root.Bokeh !== undefined && root.Bokeh.Panel !== undefined) {\n",
       "        clearInterval(timer);\n",
       "        embed_document(root);\n",
       "      } else if (document.readyState == \"complete\") {\n",
       "        attempts++;\n",
       "        if (attempts > 200) {\n",
       "          clearInterval(timer);\n",
       "          console.log(\"Bokeh: ERROR: Unable to run BokehJS code because BokehJS library is missing\");\n",
       "        }\n",
       "      }\n",
       "    }, 25, root)\n",
       "  }\n",
       "})(window);</script>"
      ],
      "text/plain": [
       ":Overlay\n",
       "   .NdOverlay.I  :NdOverlay   [cryptocurrencies clusters (k=4)]\n",
       "      :Scatter   [price_change_percentage_24h]   (price_change_percentage_7d)\n",
       "   .NdOverlay.II :NdOverlay   [cryptocurrencies clusters (k=3)]\n",
       "      :Scatter   [PC2]   (PCI)"
      ]
     },
     "execution_count": 124,
     "metadata": {
      "application/vnd.holoviews_exec.v0+json": {
       "id": "11110"
      }
     },
     "output_type": "execute_result"
    }
   ],
   "source": [
    "#Create a composite plot using hvPlot and the plus (*) operator to contrast the cryptocurrencies clusters using the original and the PCA data.\n",
    "plot_1 = df_market_data_scaled_predictions.hvplot.scatter(x=\"price_change_percentage_24h\", y=\"price_change_percentage_7d\", by=\"cryptocurrencies clusters (k=4)\")\n",
    "plot_2 = crypto_df.hvplot.scatter(x=\"PC2\", y=\"PCI\", by=\"cryptocurrencies clusters (k=3)\", s=30)\n",
    "plot_1 * plot_2"
   ]
  },
  {
   "cell_type": "code",
   "execution_count": 125,
   "metadata": {},
   "outputs": [
    {
     "data": {},
     "metadata": {},
     "output_type": "display_data"
    },
    {
     "data": {
      "application/vnd.holoviews_exec.v0+json": "",
      "text/html": [
       "<div id='11914'>\n",
       "\n",
       "\n",
       "\n",
       "\n",
       "\n",
       "  <div class=\"bk-root\" id=\"7b8ad6de-7aa6-4aba-bf00-0d1d9df75074\" data-root-id=\"11914\"></div>\n",
       "</div>\n",
       "<script type=\"application/javascript\">(function(root) {\n",
       "  function embed_document(root) {\n",
       "    var docs_json = {\"36fc7af7-0eb3-47d2-a8d5-73d34629305c\":{\"defs\":[{\"extends\":null,\"module\":null,\"name\":\"ReactiveHTML1\",\"overrides\":[],\"properties\":[]},{\"extends\":null,\"module\":null,\"name\":\"FlexBox1\",\"overrides\":[],\"properties\":[{\"default\":\"flex-start\",\"kind\":null,\"name\":\"align_content\"},{\"default\":\"flex-start\",\"kind\":null,\"name\":\"align_items\"},{\"default\":\"row\",\"kind\":null,\"name\":\"flex_direction\"},{\"default\":\"wrap\",\"kind\":null,\"name\":\"flex_wrap\"},{\"default\":\"flex-start\",\"kind\":null,\"name\":\"justify_content\"}]},{\"extends\":null,\"module\":null,\"name\":\"TemplateActions1\",\"overrides\":[],\"properties\":[{\"default\":0,\"kind\":null,\"name\":\"open_modal\"},{\"default\":0,\"kind\":null,\"name\":\"close_modal\"}]},{\"extends\":null,\"module\":null,\"name\":\"MaterialTemplateActions1\",\"overrides\":[],\"properties\":[{\"default\":0,\"kind\":null,\"name\":\"open_modal\"},{\"default\":0,\"kind\":null,\"name\":\"close_modal\"}]}],\"roots\":{\"references\":[{\"attributes\":{\"callback\":null,\"renderers\":[{\"id\":\"11964\"},{\"id\":\"11985\"},{\"id\":\"12007\"},{\"id\":\"12031\"}],\"tags\":[\"hv_created\"],\"tooltips\":[[\"cryptocurrencies clusters (k=4)\",\"@{cryptocurrencies_clusters_left_parenthesis_k_equals_4_right_parenthesis}\"],[\"price_change_percentage_24h\",\"@{price_change_percentage_24h}\"],[\"price_change_percentage_7d\",\"@{price_change_percentage_7d}\"]]},\"id\":\"11918\",\"type\":\"HoverTool\"},{\"attributes\":{},\"id\":\"11927\",\"type\":\"LinearScale\"},{\"attributes\":{\"margin\":[5,5,5,5],\"name\":\"HSpacer22763\",\"sizing_mode\":\"stretch_width\"},\"id\":\"11915\",\"type\":\"Spacer\"},{\"attributes\":{\"axis\":{\"id\":\"11931\"},\"grid_line_color\":null,\"ticker\":null},\"id\":\"11934\",\"type\":\"Grid\"},{\"attributes\":{\"below\":[{\"id\":\"11931\"}],\"center\":[{\"id\":\"11934\"},{\"id\":\"11938\"}],\"height\":300,\"left\":[{\"id\":\"11935\"}],\"margin\":null,\"min_border_bottom\":10,\"min_border_left\":10,\"min_border_right\":10,\"min_border_top\":10,\"renderers\":[{\"id\":\"11964\"},{\"id\":\"11985\"},{\"id\":\"12007\"},{\"id\":\"12031\"}],\"right\":[{\"id\":\"11976\"}],\"sizing_mode\":\"fixed\",\"title\":{\"id\":\"11923\"},\"toolbar\":{\"id\":\"11945\"},\"toolbar_location\":null,\"width\":700,\"x_range\":{\"id\":\"11916\"},\"x_scale\":{\"id\":\"11927\"},\"y_range\":{\"id\":\"11917\"},\"y_scale\":{\"id\":\"11929\"}},\"id\":\"11922\",\"subtype\":\"Figure\",\"type\":\"Plot\"},{\"attributes\":{\"text_color\":\"black\",\"text_font_size\":\"12pt\"},\"id\":\"12169\",\"type\":\"Title\"},{\"attributes\":{\"data_source\":{\"id\":\"12204\"},\"glyph\":{\"id\":\"12207\"},\"hover_glyph\":null,\"muted_glyph\":{\"id\":\"12209\"},\"nonselection_glyph\":{\"id\":\"12208\"},\"selection_glyph\":{\"id\":\"12224\"},\"view\":{\"id\":\"12211\"}},\"id\":\"12210\",\"type\":\"GlyphRenderer\"},{\"attributes\":{\"toolbar\":{\"id\":\"12402\"},\"toolbar_location\":\"above\"},\"id\":\"12403\",\"type\":\"ToolbarBox\"},{\"attributes\":{\"angle\":{\"value\":0.0},\"fill_alpha\":{\"value\":1.0},\"fill_color\":{\"value\":\"#e5ae38\"},\"hatch_alpha\":{\"value\":1.0},\"hatch_color\":{\"value\":\"black\"},\"hatch_scale\":{\"value\":12.0},\"hatch_weight\":{\"value\":1.0},\"line_alpha\":{\"value\":1.0},\"line_cap\":{\"value\":\"butt\"},\"line_color\":{\"value\":\"#e5ae38\"},\"line_dash\":{\"value\":[]},\"line_dash_offset\":{\"value\":0},\"line_join\":{\"value\":\"bevel\"},\"line_width\":{\"value\":1},\"marker\":{\"value\":\"circle\"},\"size\":{\"value\":5.477225575051661},\"x\":{\"field\":\"price_change_percentage_24h\"},\"y\":{\"field\":\"price_change_percentage_7d\"}},\"id\":\"12024\",\"type\":\"Scatter\"},{\"attributes\":{},\"id\":\"12221\",\"type\":\"UnionRenderers\"},{\"attributes\":{},\"id\":\"11932\",\"type\":\"BasicTicker\"},{\"attributes\":{\"source\":{\"id\":\"12204\"}},\"id\":\"12211\",\"type\":\"CDSView\"},{\"attributes\":{},\"id\":\"12185\",\"type\":\"SaveTool\"},{\"attributes\":{\"label\":{\"value\":\"2\"},\"renderers\":[{\"id\":\"12007\"}]},\"id\":\"12023\",\"type\":\"LegendItem\"},{\"attributes\":{\"angle\":{\"value\":0.0},\"fill_alpha\":{\"value\":1.0},\"fill_color\":{\"value\":\"#fc4f30\"},\"hatch_alpha\":{\"value\":1.0},\"hatch_color\":{\"value\":\"black\"},\"hatch_scale\":{\"value\":12.0},\"hatch_weight\":{\"value\":1.0},\"line_alpha\":{\"value\":1.0},\"line_cap\":{\"value\":\"butt\"},\"line_color\":{\"value\":\"#fc4f30\"},\"line_dash\":{\"value\":[]},\"line_dash_offset\":{\"value\":0},\"line_join\":{\"value\":\"bevel\"},\"line_width\":{\"value\":1},\"marker\":{\"value\":\"circle\"},\"size\":{\"value\":5.477225575051661},\"x\":{\"field\":\"price_change_percentage_24h\"},\"y\":{\"field\":\"price_change_percentage_7d\"}},\"id\":\"12000\",\"type\":\"Scatter\"},{\"attributes\":{\"data\":{\"cryptocurrencies_clusters_left_parenthesis_k_equals_4_right_parenthesis\":[1],\"price_change_percentage_24h\":{\"__ndarray__\":\"3WeHPpbsE8A=\",\"dtype\":\"float64\",\"order\":\"little\",\"shape\":[1]},\"price_change_percentage_7d\":{\"__ndarray__\":\"dIWi2pshp78=\",\"dtype\":\"float64\",\"order\":\"little\",\"shape\":[1]}},\"selected\":{\"id\":\"11980\"},\"selection_policy\":{\"id\":\"11998\"}},\"id\":\"11979\",\"type\":\"ColumnDataSource\"},{\"attributes\":{},\"id\":\"12186\",\"type\":\"PanTool\"},{\"attributes\":{},\"id\":\"12022\",\"type\":\"UnionRenderers\"},{\"attributes\":{},\"id\":\"12189\",\"type\":\"ResetTool\"},{\"attributes\":{},\"id\":\"11998\",\"type\":\"UnionRenderers\"},{\"attributes\":{\"below\":[{\"id\":\"12177\"}],\"center\":[{\"id\":\"12180\"},{\"id\":\"12184\"}],\"height\":300,\"left\":[{\"id\":\"12181\"}],\"margin\":null,\"min_border_bottom\":10,\"min_border_left\":10,\"min_border_right\":10,\"min_border_top\":10,\"renderers\":[{\"id\":\"12210\"},{\"id\":\"12231\"},{\"id\":\"12253\"}],\"right\":[{\"id\":\"12222\"}],\"sizing_mode\":\"fixed\",\"title\":{\"id\":\"12169\"},\"toolbar\":{\"id\":\"12191\"},\"toolbar_location\":null,\"width\":700,\"x_range\":{\"id\":\"12163\"},\"x_scale\":{\"id\":\"12173\"},\"y_range\":{\"id\":\"12164\"},\"y_scale\":{\"id\":\"12175\"}},\"id\":\"12168\",\"subtype\":\"Figure\",\"type\":\"Plot\"},{\"attributes\":{},\"id\":\"12187\",\"type\":\"WheelZoomTool\"},{\"attributes\":{},\"id\":\"11929\",\"type\":\"LinearScale\"},{\"attributes\":{\"label\":{\"value\":\"1\"},\"renderers\":[{\"id\":\"11985\"}]},\"id\":\"11999\",\"type\":\"LegendItem\"},{\"attributes\":{\"fill_alpha\":{\"value\":0.2},\"fill_color\":{\"value\":\"#6d904f\"},\"line_alpha\":{\"value\":0.2},\"line_color\":{\"value\":\"#6d904f\"},\"size\":{\"value\":5.477225575051661},\"x\":{\"field\":\"price_change_percentage_24h\"},\"y\":{\"field\":\"price_change_percentage_7d\"}},\"id\":\"12030\",\"type\":\"Scatter\"},{\"attributes\":{\"axis_label\":\"price_change_percentage_7d\",\"formatter\":{\"id\":\"11956\"},\"major_label_policy\":{\"id\":\"11957\"},\"ticker\":{\"id\":\"11936\"}},\"id\":\"11935\",\"type\":\"LinearAxis\"},{\"attributes\":{\"end\":8572.78000025518,\"reset_end\":8572.78000025518,\"reset_start\":-1231.239611225351,\"start\":-1231.239611225351,\"tags\":[[[\"PCI\",\"PCI\",null]]]},\"id\":\"12164\",\"type\":\"Range1d\"},{\"attributes\":{\"overlay\":{\"id\":\"12190\"}},\"id\":\"12188\",\"type\":\"BoxZoomTool\"},{\"attributes\":{\"axis_label\":\"price_change_percentage_24h\",\"formatter\":{\"id\":\"11953\"},\"major_label_policy\":{\"id\":\"11954\"},\"ticker\":{\"id\":\"11932\"}},\"id\":\"11931\",\"type\":\"LinearAxis\"},{\"attributes\":{\"fill_alpha\":{\"value\":0.2},\"fill_color\":{\"value\":\"#e5ae38\"},\"line_alpha\":{\"value\":0.2},\"line_color\":{\"value\":\"#e5ae38\"},\"size\":{\"value\":5.477225575051661},\"x\":{\"field\":\"price_change_percentage_24h\"},\"y\":{\"field\":\"price_change_percentage_7d\"}},\"id\":\"12006\",\"type\":\"Scatter\"},{\"attributes\":{\"end\":874.636777483805,\"reset_end\":874.636777483805,\"reset_start\":-412.79187149190795,\"start\":-412.79187149190795,\"tags\":[[[\"PC2\",\"PC2\",null]]]},\"id\":\"12163\",\"type\":\"Range1d\"},{\"attributes\":{\"bottom_units\":\"screen\",\"fill_alpha\":0.5,\"fill_color\":\"lightgrey\",\"left_units\":\"screen\",\"level\":\"overlay\",\"line_alpha\":1.0,\"line_color\":\"black\",\"line_dash\":[4,4],\"line_width\":2,\"right_units\":\"screen\",\"syncable\":false,\"top_units\":\"screen\"},\"id\":\"11944\",\"type\":\"BoxAnnotation\"},{\"attributes\":{\"fill_alpha\":{\"value\":0.1},\"fill_color\":{\"value\":\"#30a2da\"},\"line_alpha\":{\"value\":0.1},\"line_color\":{\"value\":\"#30a2da\"},\"size\":{\"value\":5.477225575051661},\"x\":{\"field\":\"price_change_percentage_24h\"},\"y\":{\"field\":\"price_change_percentage_7d\"}},\"id\":\"11962\",\"type\":\"Scatter\"},{\"attributes\":{\"fill_alpha\":{\"value\":0.1},\"fill_color\":{\"value\":\"#6d904f\"},\"line_alpha\":{\"value\":0.1},\"line_color\":{\"value\":\"#6d904f\"},\"size\":{\"value\":5.477225575051661},\"x\":{\"field\":\"price_change_percentage_24h\"},\"y\":{\"field\":\"price_change_percentage_7d\"}},\"id\":\"12029\",\"type\":\"Scatter\"},{\"attributes\":{},\"id\":\"11936\",\"type\":\"BasicTicker\"},{\"attributes\":{\"axis\":{\"id\":\"11935\"},\"dimension\":1,\"grid_line_color\":null,\"ticker\":null},\"id\":\"11938\",\"type\":\"Grid\"},{\"attributes\":{\"fill_alpha\":{\"value\":0.1},\"fill_color\":{\"value\":\"#e5ae38\"},\"line_alpha\":{\"value\":0.1},\"line_color\":{\"value\":\"#e5ae38\"},\"size\":{\"value\":5.477225575051661},\"x\":{\"field\":\"price_change_percentage_24h\"},\"y\":{\"field\":\"price_change_percentage_7d\"}},\"id\":\"12005\",\"type\":\"Scatter\"},{\"attributes\":{\"data\":{\"PC2\":{\"__ndarray__\":\"Bxv0no6fdsA=\",\"dtype\":\"float64\",\"order\":\"little\",\"shape\":[1]},\"PCI\":{\"__ndarray__\":\"lOz9QsdLvkA=\",\"dtype\":\"float64\",\"order\":\"little\",\"shape\":[1]},\"cryptocurrencies_clusters_left_parenthesis_k_equals_3_right_parenthesis\":[1]},\"selected\":{\"id\":\"12226\"},\"selection_policy\":{\"id\":\"12244\"}},\"id\":\"12225\",\"type\":\"ColumnDataSource\"},{\"attributes\":{},\"id\":\"12200\",\"type\":\"AllLabels\"},{\"attributes\":{},\"id\":\"11975\",\"type\":\"UnionRenderers\"},{\"attributes\":{},\"id\":\"12026\",\"type\":\"Selection\"},{\"attributes\":{\"label\":{\"value\":\"0\"},\"renderers\":[{\"id\":\"11964\"}]},\"id\":\"11977\",\"type\":\"LegendItem\"},{\"attributes\":{\"callback\":null,\"renderers\":[{\"id\":\"12210\"},{\"id\":\"12231\"},{\"id\":\"12253\"}],\"tags\":[\"hv_created\"],\"tooltips\":[[\"cryptocurrencies clusters (k=3)\",\"@{cryptocurrencies_clusters_left_parenthesis_k_equals_3_right_parenthesis}\"],[\"PC2\",\"@{PC2}\"],[\"PCI\",\"@{PCI}\"]]},\"id\":\"12165\",\"type\":\"HoverTool\"},{\"attributes\":{},\"id\":\"12048\",\"type\":\"UnionRenderers\"},{\"attributes\":{},\"id\":\"12205\",\"type\":\"Selection\"},{\"attributes\":{\"click_policy\":\"mute\",\"items\":[{\"id\":\"11977\"},{\"id\":\"11999\"},{\"id\":\"12023\"},{\"id\":\"12049\"}],\"location\":[0,0],\"title\":\"cryptocurrencies clusters (k=4)\"},\"id\":\"11976\",\"type\":\"Legend\"},{\"attributes\":{\"active_multi\":null,\"tools\":[{\"id\":\"11918\"},{\"id\":\"11939\"},{\"id\":\"11940\"},{\"id\":\"11941\"},{\"id\":\"11942\"},{\"id\":\"11943\"}]},\"id\":\"11945\",\"type\":\"Toolbar\"},{\"attributes\":{\"fill_alpha\":{\"value\":0.2},\"fill_color\":{\"value\":\"#30a2da\"},\"line_alpha\":{\"value\":0.2},\"line_color\":{\"value\":\"#30a2da\"},\"size\":{\"value\":5.477225575051661},\"x\":{\"field\":\"price_change_percentage_24h\"},\"y\":{\"field\":\"price_change_percentage_7d\"}},\"id\":\"11963\",\"type\":\"Scatter\"},{\"attributes\":{\"fill_color\":{\"value\":\"#30a2da\"},\"line_color\":{\"value\":\"#30a2da\"},\"size\":{\"value\":5.477225575051661},\"x\":{\"field\":\"PC2\"},\"y\":{\"field\":\"PCI\"}},\"id\":\"12207\",\"type\":\"Scatter\"},{\"attributes\":{\"angle\":{\"value\":0.0},\"fill_alpha\":{\"value\":1.0},\"fill_color\":{\"value\":\"#30a2da\"},\"hatch_alpha\":{\"value\":1.0},\"hatch_color\":{\"value\":\"black\"},\"hatch_scale\":{\"value\":12.0},\"hatch_weight\":{\"value\":1.0},\"line_alpha\":{\"value\":1.0},\"line_cap\":{\"value\":\"butt\"},\"line_color\":{\"value\":\"#30a2da\"},\"line_dash\":{\"value\":[]},\"line_dash_offset\":{\"value\":0},\"line_join\":{\"value\":\"bevel\"},\"line_width\":{\"value\":1},\"marker\":{\"value\":\"circle\"},\"size\":{\"value\":5.477225575051661},\"x\":{\"field\":\"price_change_percentage_24h\"},\"y\":{\"field\":\"price_change_percentage_7d\"}},\"id\":\"11978\",\"type\":\"Scatter\"},{\"attributes\":{\"label\":{\"value\":\"3\"},\"renderers\":[{\"id\":\"12031\"}]},\"id\":\"12049\",\"type\":\"LegendItem\"},{\"attributes\":{\"fill_color\":{\"value\":\"#6d904f\"},\"line_color\":{\"value\":\"#6d904f\"},\"size\":{\"value\":5.477225575051661},\"x\":{\"field\":\"price_change_percentage_24h\"},\"y\":{\"field\":\"price_change_percentage_7d\"}},\"id\":\"12028\",\"type\":\"Scatter\"},{\"attributes\":{\"angle\":{\"value\":0.0},\"fill_alpha\":{\"value\":1.0},\"fill_color\":{\"value\":\"#e5ae38\"},\"hatch_alpha\":{\"value\":1.0},\"hatch_color\":{\"value\":\"black\"},\"hatch_scale\":{\"value\":12.0},\"hatch_weight\":{\"value\":1.0},\"line_alpha\":{\"value\":1.0},\"line_cap\":{\"value\":\"butt\"},\"line_color\":{\"value\":\"#e5ae38\"},\"line_dash\":{\"value\":[]},\"line_dash_offset\":{\"value\":0},\"line_join\":{\"value\":\"bevel\"},\"line_width\":{\"value\":1},\"marker\":{\"value\":\"circle\"},\"size\":{\"value\":5.477225575051661},\"x\":{\"field\":\"PC2\"},\"y\":{\"field\":\"PCI\"}},\"id\":\"12270\",\"type\":\"Scatter\"},{\"attributes\":{\"end\":2.997678656273595,\"reset_end\":2.997678656273595,\"reset_start\":-2.107454305728652,\"start\":-2.107454305728652,\"tags\":[[[\"price_change_percentage_7d\",\"price_change_percentage_7d\",null]]]},\"id\":\"11917\",\"type\":\"Range1d\"},{\"attributes\":{\"active_multi\":null,\"tools\":[{\"id\":\"12165\"},{\"id\":\"12185\"},{\"id\":\"12186\"},{\"id\":\"12187\"},{\"id\":\"12188\"},{\"id\":\"12189\"}]},\"id\":\"12191\",\"type\":\"Toolbar\"},{\"attributes\":{},\"id\":\"11939\",\"type\":\"SaveTool\"},{\"attributes\":{},\"id\":\"11940\",\"type\":\"PanTool\"},{\"attributes\":{\"text_color\":\"black\",\"text_font_size\":\"12pt\"},\"id\":\"11923\",\"type\":\"Title\"},{\"attributes\":{\"fill_color\":{\"value\":\"#e5ae38\"},\"line_color\":{\"value\":\"#e5ae38\"},\"size\":{\"value\":5.477225575051661},\"x\":{\"field\":\"price_change_percentage_24h\"},\"y\":{\"field\":\"price_change_percentage_7d\"}},\"id\":\"12004\",\"type\":\"Scatter\"},{\"attributes\":{\"axis\":{\"id\":\"12177\"},\"grid_line_color\":null,\"ticker\":null},\"id\":\"12180\",\"type\":\"Grid\"},{\"attributes\":{},\"id\":\"11943\",\"type\":\"ResetTool\"},{\"attributes\":{\"label\":{\"value\":\"2\"},\"renderers\":[{\"id\":\"12253\"}]},\"id\":\"12269\",\"type\":\"LegendItem\"},{\"attributes\":{},\"id\":\"12268\",\"type\":\"UnionRenderers\"},{\"attributes\":{},\"id\":\"11941\",\"type\":\"WheelZoomTool\"},{\"attributes\":{\"source\":{\"id\":\"12025\"}},\"id\":\"12032\",\"type\":\"CDSView\"},{\"attributes\":{},\"id\":\"11959\",\"type\":\"Selection\"},{\"attributes\":{\"source\":{\"id\":\"11979\"}},\"id\":\"11986\",\"type\":\"CDSView\"},{\"attributes\":{\"bottom_units\":\"screen\",\"fill_alpha\":0.5,\"fill_color\":\"lightgrey\",\"left_units\":\"screen\",\"level\":\"overlay\",\"line_alpha\":1.0,\"line_color\":\"black\",\"line_dash\":[4,4],\"line_width\":2,\"right_units\":\"screen\",\"syncable\":false,\"top_units\":\"screen\"},\"id\":\"12190\",\"type\":\"BoxAnnotation\"},{\"attributes\":{\"data\":{\"PC2\":{\"__ndarray__\":\"0u29f/KuScAPiWCcFx44QM2HzLh8rV3AwzTRsi/fU8CHBaE3pdtZwNQYwfMHkyhA2Lu4qJ1fY0BQYUVllQ9UQAsNtSQd8lbAr9C8lyHpYcCeD/E0Sinsv7yCz3mltV3ADAJEsDZxWcCwooVQ1vwgQNsQBd/n5yfAYtyAXsn5X8CZljNVETNfwGIpjT4XjUjAjk4YhF93PkA/t/Oi5sZdwHUsXAVwmyHArHbMtkiLScDeweKqu6NbwPobY3BV0FXAxPWrkxGbQkANlJ+P9apdwJ5RXEYyKUHAHNz0YjlrUEAQIT6OfQM/wJW3Y3P3IIBANed+I61AXcCjRLam7AldwKIcEaQPAkfAo3qEMnH3b0AZoeFCeah1QNXnSFwn/FHAnyi0teWyXMBjIkUCo7ldwNnMWC3BM3FA\",\"dtype\":\"float64\",\"order\":\"little\",\"shape\":[39]},\"PCI\":{\"__ndarray__\":\"s5c+vtBcdcDdm891dC1vwA7EceXVKXnA8ZiK+wlsecDi5AkR4eZ3wFFN0RQAEnLAQoTercImPED9rpl2otBlwD5ZYT/QaXnA4rX8p4Rzc8BlmDz3t99FwLAwWfDTLXnAhCXnwM7jecB+j3qFMRprwBaJkcEmI3PAMfwByFUHcMAVf5E/XOhvwGdydiFTxXbA3hvEiILDcMAiVIM4YDB5wP+zQTgutWzAl/X0NsFadcCskFVqvZt3wKEeH2rG6HbAkR5dmqQxYsAMlkw7iCd5wKif9a1Wo3fA7Y3ZIkMRYMDjjm1aWu9xwFClBTz+oIBAINBVHog1ecBf7+gxP1J4wJtOR2pq/XbAKbuEl9f3ekC5KbtJxepTQDnxA2Mj6XjAgtgGi5YXbMAByrn0VyR5wG0lLNgDiFTA\",\"dtype\":\"float64\",\"order\":\"little\",\"shape\":[39]},\"cryptocurrencies_clusters_left_parenthesis_k_equals_3_right_parenthesis\":[0,0,0,0,0,0,0,0,0,0,0,0,0,0,0,0,0,0,0,0,0,0,0,0,0,0,0,0,0,0,0,0,0,0,0,0,0,0,0]},\"selected\":{\"id\":\"12205\"},\"selection_policy\":{\"id\":\"12221\"}},\"id\":\"12204\",\"type\":\"ColumnDataSource\"},{\"attributes\":{\"source\":{\"id\":\"12001\"}},\"id\":\"12008\",\"type\":\"CDSView\"},{\"attributes\":{\"overlay\":{\"id\":\"11944\"}},\"id\":\"11942\",\"type\":\"BoxZoomTool\"},{\"attributes\":{\"label\":{\"value\":\"0\"},\"renderers\":[{\"id\":\"12210\"}]},\"id\":\"12223\",\"type\":\"LegendItem\"},{\"attributes\":{\"angle\":{\"value\":0.0},\"fill_alpha\":{\"value\":1.0},\"fill_color\":{\"value\":\"#fc4f30\"},\"hatch_alpha\":{\"value\":1.0},\"hatch_color\":{\"value\":\"black\"},\"hatch_scale\":{\"value\":12.0},\"hatch_weight\":{\"value\":1.0},\"line_alpha\":{\"value\":1.0},\"line_cap\":{\"value\":\"butt\"},\"line_color\":{\"value\":\"#fc4f30\"},\"line_dash\":{\"value\":[]},\"line_dash_offset\":{\"value\":0},\"line_join\":{\"value\":\"bevel\"},\"line_width\":{\"value\":1},\"marker\":{\"value\":\"circle\"},\"size\":{\"value\":5.477225575051661},\"x\":{\"field\":\"PC2\"},\"y\":{\"field\":\"PCI\"}},\"id\":\"12246\",\"type\":\"Scatter\"},{\"attributes\":{\"data_source\":{\"id\":\"12025\"},\"glyph\":{\"id\":\"12028\"},\"hover_glyph\":null,\"muted_glyph\":{\"id\":\"12030\"},\"nonselection_glyph\":{\"id\":\"12029\"},\"selection_glyph\":{\"id\":\"12050\"},\"view\":{\"id\":\"12032\"}},\"id\":\"12031\",\"type\":\"GlyphRenderer\"},{\"attributes\":{\"fill_alpha\":{\"value\":0.2},\"fill_color\":{\"value\":\"#fc4f30\"},\"line_alpha\":{\"value\":0.2},\"line_color\":{\"value\":\"#fc4f30\"},\"size\":{\"value\":5.477225575051661},\"x\":{\"field\":\"PC2\"},\"y\":{\"field\":\"PCI\"}},\"id\":\"12230\",\"type\":\"Scatter\"},{\"attributes\":{},\"id\":\"12202\",\"type\":\"BasicTickFormatter\"},{\"attributes\":{},\"id\":\"12244\",\"type\":\"UnionRenderers\"},{\"attributes\":{\"data_source\":{\"id\":\"12001\"},\"glyph\":{\"id\":\"12004\"},\"hover_glyph\":null,\"muted_glyph\":{\"id\":\"12006\"},\"nonselection_glyph\":{\"id\":\"12005\"},\"selection_glyph\":{\"id\":\"12024\"},\"view\":{\"id\":\"12008\"}},\"id\":\"12007\",\"type\":\"GlyphRenderer\"},{\"attributes\":{},\"id\":\"11980\",\"type\":\"Selection\"},{\"attributes\":{\"children\":[[{\"id\":\"11922\"},0,0],[{\"id\":\"12168\"},0,1]]},\"id\":\"12401\",\"type\":\"GridBox\"},{\"attributes\":{\"label\":{\"value\":\"1\"},\"renderers\":[{\"id\":\"12231\"}]},\"id\":\"12245\",\"type\":\"LegendItem\"},{\"attributes\":{\"data\":{\"cryptocurrencies_clusters_left_parenthesis_k_equals_4_right_parenthesis\":[2],\"price_change_percentage_24h\":{\"__ndarray__\":\"VLqXBn668D8=\",\"dtype\":\"float64\",\"order\":\"little\",\"shape\":[1]},\"price_change_percentage_7d\":{\"__ndarray__\":\"Nv03JFjJ478=\",\"dtype\":\"float64\",\"order\":\"little\",\"shape\":[1]}},\"selected\":{\"id\":\"12002\"},\"selection_policy\":{\"id\":\"12022\"}},\"id\":\"12001\",\"type\":\"ColumnDataSource\"},{\"attributes\":{\"click_policy\":\"mute\",\"items\":[{\"id\":\"12223\"},{\"id\":\"12245\"},{\"id\":\"12269\"}],\"location\":[0,0],\"title\":\"cryptocurrencies clusters (k=3)\"},\"id\":\"12222\",\"type\":\"Legend\"},{\"attributes\":{\"data_source\":{\"id\":\"11979\"},\"glyph\":{\"id\":\"11982\"},\"hover_glyph\":null,\"muted_glyph\":{\"id\":\"11984\"},\"nonselection_glyph\":{\"id\":\"11983\"},\"selection_glyph\":{\"id\":\"12000\"},\"view\":{\"id\":\"11986\"}},\"id\":\"11985\",\"type\":\"GlyphRenderer\"},{\"attributes\":{\"data_source\":{\"id\":\"12247\"},\"glyph\":{\"id\":\"12250\"},\"hover_glyph\":null,\"muted_glyph\":{\"id\":\"12252\"},\"nonselection_glyph\":{\"id\":\"12251\"},\"selection_glyph\":{\"id\":\"12270\"},\"view\":{\"id\":\"12254\"}},\"id\":\"12253\",\"type\":\"GlyphRenderer\"},{\"attributes\":{\"angle\":{\"value\":0.0},\"fill_alpha\":{\"value\":1.0},\"fill_color\":{\"value\":\"#30a2da\"},\"hatch_alpha\":{\"value\":1.0},\"hatch_color\":{\"value\":\"black\"},\"hatch_scale\":{\"value\":12.0},\"hatch_weight\":{\"value\":1.0},\"line_alpha\":{\"value\":1.0},\"line_cap\":{\"value\":\"butt\"},\"line_color\":{\"value\":\"#30a2da\"},\"line_dash\":{\"value\":[]},\"line_dash_offset\":{\"value\":0},\"line_join\":{\"value\":\"bevel\"},\"line_width\":{\"value\":1},\"marker\":{\"value\":\"circle\"},\"size\":{\"value\":5.477225575051661},\"x\":{\"field\":\"PC2\"},\"y\":{\"field\":\"PCI\"}},\"id\":\"12224\",\"type\":\"Scatter\"},{\"attributes\":{\"children\":[{\"id\":\"12403\"},{\"id\":\"12401\"}]},\"id\":\"12404\",\"type\":\"Column\"},{\"attributes\":{\"data\":{\"PC2\":{\"__ndarray__\":\"p6iMrYm+iUA=\",\"dtype\":\"float64\",\"order\":\"little\",\"shape\":[1]},\"PCI\":{\"__ndarray__\":\"oiIlf0gnn0A=\",\"dtype\":\"float64\",\"order\":\"little\",\"shape\":[1]},\"cryptocurrencies_clusters_left_parenthesis_k_equals_3_right_parenthesis\":[2]},\"selected\":{\"id\":\"12248\"},\"selection_policy\":{\"id\":\"12268\"}},\"id\":\"12247\",\"type\":\"ColumnDataSource\"},{\"attributes\":{\"end\":2.2155632386560065,\"reset_end\":2.2155632386560065,\"reset_start\":-5.276792781891412,\"start\":-5.276792781891412,\"tags\":[[[\"price_change_percentage_24h\",\"price_change_percentage_24h\",null]]]},\"id\":\"11916\",\"type\":\"Range1d\"},{\"attributes\":{\"fill_alpha\":{\"value\":0.2},\"fill_color\":{\"value\":\"#fc4f30\"},\"line_alpha\":{\"value\":0.2},\"line_color\":{\"value\":\"#fc4f30\"},\"size\":{\"value\":5.477225575051661},\"x\":{\"field\":\"price_change_percentage_24h\"},\"y\":{\"field\":\"price_change_percentage_7d\"}},\"id\":\"11984\",\"type\":\"Scatter\"},{\"attributes\":{\"data\":{\"cryptocurrencies_clusters_left_parenthesis_k_equals_4_right_parenthesis\":[0,0,0,0,0,0,0,0,0,0,0,0,0,0,0,0,0,0,0,0,0,0,0,0,0,0],\"price_change_percentage_24h\":{\"__ndarray__\":\"mCJF1OlLlj/mJRG3Ed+kv1qZGRifu9w//rJXHrAz1T/yMTqenpahPx9kk3dK7sM/GTRehHalwD90fnl54Irtv9XPDahDw9G/+VOWQSEmxz+kpbukw1bSP6eM4M4OgKo/BcMOj9+jqr/Chq6S5ebLv2h3TIfCZ68/weEQ8QyV0D/KmZTmC7niP1YH9WGFy/m/N7JuVBEB07/EU4GAhEGyv8Ocf0hw2/a/lrPBJY23/j/IKcQzxy3av5WrmDyeito/Bf22eE/6sz9Y362Ir3rzPw==\",\"dtype\":\"float64\",\"order\":\"little\",\"shape\":[26]},\"price_change_percentage_7d\":{\"__ndarray__\":\"bZSIvk+a5r9RujxqH/Ppvw2U7adXaMi/d+r7VGbW+b9EGSx/8nTnv4rfBo4Lhe2/BEBwXEEApb8Udj8VbP/2vySelkVDp9i/7SZvVsyO5r8uu+JVH+LUvziN+gRMte2/o2qlez1D3b/CtPLKIS7rvyYjaswHnea/US6joeTvzz/dRmuCvtDvv/9TV66U6fq/ZWX+mWVCuD8GJ0pHuV/Nv8nIE2ZWH5q/TTxj/me11z+Htdvf1gXtv2Avihmzf9o/e31xtwIC5r/STlu6Y3Ljvw==\",\"dtype\":\"float64\",\"order\":\"little\",\"shape\":[26]}},\"selected\":{\"id\":\"11959\"},\"selection_policy\":{\"id\":\"11975\"}},\"id\":\"11958\",\"type\":\"ColumnDataSource\"},{\"attributes\":{},\"id\":\"12248\",\"type\":\"Selection\"},{\"attributes\":{\"fill_alpha\":{\"value\":0.1},\"fill_color\":{\"value\":\"#fc4f30\"},\"line_alpha\":{\"value\":0.1},\"line_color\":{\"value\":\"#fc4f30\"},\"size\":{\"value\":5.477225575051661},\"x\":{\"field\":\"price_change_percentage_24h\"},\"y\":{\"field\":\"price_change_percentage_7d\"}},\"id\":\"11983\",\"type\":\"Scatter\"},{\"attributes\":{\"data\":{\"cryptocurrencies_clusters_left_parenthesis_k_equals_4_right_parenthesis\":[3,3,3,3,3,3,3,3,3,3,3,3,3],\"price_change_percentage_24h\":{\"__ndarray__\":\"DdlqYN9F4D86azDosLzHPzALIwCtFvM/9w6McDSK7D/VDHOpb1eHPzMEvaFkP7o/Sds39trWsz9Epj8/c9DQP4xAeNEVZ8O/qq8st/Fh0L8FWWk3mH7gP6wo083aUMC//ACFOIMFwL8=\",\"dtype\":\"float64\",\"order\":\"little\",\"shape\":[13]},\"price_change_percentage_7d\":{\"__ndarray__\":\"U1k8q3mQ3z9yoPpI+ebtPzAB2dP2AQBAgmkOMZk89T8FNulI+JMEQCZRaSLGIPg/84wjaB1l1T8rMp3jf678P2VmURqKqeY/XK6ZksNx/T9DfMqy1o7dPyTPDB1Xu+0/srW7TleV4j8=\",\"dtype\":\"float64\",\"order\":\"little\",\"shape\":[13]}},\"selected\":{\"id\":\"12026\"},\"selection_policy\":{\"id\":\"12048\"}},\"id\":\"12025\",\"type\":\"ColumnDataSource\"},{\"attributes\":{\"fill_color\":{\"value\":\"#30a2da\"},\"line_color\":{\"value\":\"#30a2da\"},\"size\":{\"value\":5.477225575051661},\"x\":{\"field\":\"price_change_percentage_24h\"},\"y\":{\"field\":\"price_change_percentage_7d\"}},\"id\":\"11961\",\"type\":\"Scatter\"},{\"attributes\":{\"angle\":{\"value\":0.0},\"fill_alpha\":{\"value\":1.0},\"fill_color\":{\"value\":\"#6d904f\"},\"hatch_alpha\":{\"value\":1.0},\"hatch_color\":{\"value\":\"black\"},\"hatch_scale\":{\"value\":12.0},\"hatch_weight\":{\"value\":1.0},\"line_alpha\":{\"value\":1.0},\"line_cap\":{\"value\":\"butt\"},\"line_color\":{\"value\":\"#6d904f\"},\"line_dash\":{\"value\":[]},\"line_dash_offset\":{\"value\":0},\"line_join\":{\"value\":\"bevel\"},\"line_width\":{\"value\":1},\"marker\":{\"value\":\"circle\"},\"size\":{\"value\":5.477225575051661},\"x\":{\"field\":\"price_change_percentage_24h\"},\"y\":{\"field\":\"price_change_percentage_7d\"}},\"id\":\"12050\",\"type\":\"Scatter\"},{\"attributes\":{\"source\":{\"id\":\"12225\"}},\"id\":\"12232\",\"type\":\"CDSView\"},{\"attributes\":{},\"id\":\"12226\",\"type\":\"Selection\"},{\"attributes\":{\"data_source\":{\"id\":\"12225\"},\"glyph\":{\"id\":\"12228\"},\"hover_glyph\":null,\"muted_glyph\":{\"id\":\"12230\"},\"nonselection_glyph\":{\"id\":\"12229\"},\"selection_glyph\":{\"id\":\"12246\"},\"view\":{\"id\":\"12232\"}},\"id\":\"12231\",\"type\":\"GlyphRenderer\"},{\"attributes\":{},\"id\":\"12173\",\"type\":\"LinearScale\"},{\"attributes\":{\"source\":{\"id\":\"11958\"}},\"id\":\"11965\",\"type\":\"CDSView\"},{\"attributes\":{\"fill_color\":{\"value\":\"#fc4f30\"},\"line_color\":{\"value\":\"#fc4f30\"},\"size\":{\"value\":5.477225575051661},\"x\":{\"field\":\"price_change_percentage_24h\"},\"y\":{\"field\":\"price_change_percentage_7d\"}},\"id\":\"11982\",\"type\":\"Scatter\"},{\"attributes\":{\"margin\":[5,5,5,5],\"name\":\"HSpacer22764\",\"sizing_mode\":\"stretch_width\"},\"id\":\"12675\",\"type\":\"Spacer\"},{\"attributes\":{\"fill_alpha\":{\"value\":0.2},\"fill_color\":{\"value\":\"#e5ae38\"},\"line_alpha\":{\"value\":0.2},\"line_color\":{\"value\":\"#e5ae38\"},\"size\":{\"value\":5.477225575051661},\"x\":{\"field\":\"PC2\"},\"y\":{\"field\":\"PCI\"}},\"id\":\"12252\",\"type\":\"Scatter\"},{\"attributes\":{},\"id\":\"12178\",\"type\":\"BasicTicker\"},{\"attributes\":{\"data_source\":{\"id\":\"11958\"},\"glyph\":{\"id\":\"11961\"},\"hover_glyph\":null,\"muted_glyph\":{\"id\":\"11963\"},\"nonselection_glyph\":{\"id\":\"11962\"},\"selection_glyph\":{\"id\":\"11978\"},\"view\":{\"id\":\"11965\"}},\"id\":\"11964\",\"type\":\"GlyphRenderer\"},{\"attributes\":{},\"id\":\"12203\",\"type\":\"AllLabels\"},{\"attributes\":{},\"id\":\"11957\",\"type\":\"AllLabels\"},{\"attributes\":{\"toolbars\":[{\"id\":\"11945\"},{\"id\":\"12191\"}],\"tools\":[{\"id\":\"11918\"},{\"id\":\"11939\"},{\"id\":\"11940\"},{\"id\":\"11941\"},{\"id\":\"11942\"},{\"id\":\"11943\"},{\"id\":\"12165\"},{\"id\":\"12185\"},{\"id\":\"12186\"},{\"id\":\"12187\"},{\"id\":\"12188\"},{\"id\":\"12189\"}]},\"id\":\"12402\",\"type\":\"ProxyToolbar\"},{\"attributes\":{},\"id\":\"12175\",\"type\":\"LinearScale\"},{\"attributes\":{\"axis_label\":\"PCI\",\"formatter\":{\"id\":\"12202\"},\"major_label_policy\":{\"id\":\"12203\"},\"ticker\":{\"id\":\"12182\"}},\"id\":\"12181\",\"type\":\"LinearAxis\"},{\"attributes\":{},\"id\":\"11956\",\"type\":\"BasicTickFormatter\"},{\"attributes\":{\"axis_label\":\"PC2\",\"formatter\":{\"id\":\"12199\"},\"major_label_policy\":{\"id\":\"12200\"},\"ticker\":{\"id\":\"12178\"}},\"id\":\"12177\",\"type\":\"LinearAxis\"},{\"attributes\":{\"fill_color\":{\"value\":\"#fc4f30\"},\"line_color\":{\"value\":\"#fc4f30\"},\"size\":{\"value\":5.477225575051661},\"x\":{\"field\":\"PC2\"},\"y\":{\"field\":\"PCI\"}},\"id\":\"12228\",\"type\":\"Scatter\"},{\"attributes\":{\"fill_alpha\":{\"value\":0.1},\"fill_color\":{\"value\":\"#30a2da\"},\"line_alpha\":{\"value\":0.1},\"line_color\":{\"value\":\"#30a2da\"},\"size\":{\"value\":5.477225575051661},\"x\":{\"field\":\"PC2\"},\"y\":{\"field\":\"PCI\"}},\"id\":\"12208\",\"type\":\"Scatter\"},{\"attributes\":{},\"id\":\"11953\",\"type\":\"BasicTickFormatter\"},{\"attributes\":{\"source\":{\"id\":\"12247\"}},\"id\":\"12254\",\"type\":\"CDSView\"},{\"attributes\":{},\"id\":\"12182\",\"type\":\"BasicTicker\"},{\"attributes\":{\"axis\":{\"id\":\"12181\"},\"dimension\":1,\"grid_line_color\":null,\"ticker\":null},\"id\":\"12184\",\"type\":\"Grid\"},{\"attributes\":{\"fill_alpha\":{\"value\":0.1},\"fill_color\":{\"value\":\"#fc4f30\"},\"line_alpha\":{\"value\":0.1},\"line_color\":{\"value\":\"#fc4f30\"},\"size\":{\"value\":5.477225575051661},\"x\":{\"field\":\"PC2\"},\"y\":{\"field\":\"PCI\"}},\"id\":\"12229\",\"type\":\"Scatter\"},{\"attributes\":{\"fill_alpha\":{\"value\":0.1},\"fill_color\":{\"value\":\"#e5ae38\"},\"line_alpha\":{\"value\":0.1},\"line_color\":{\"value\":\"#e5ae38\"},\"size\":{\"value\":5.477225575051661},\"x\":{\"field\":\"PC2\"},\"y\":{\"field\":\"PCI\"}},\"id\":\"12251\",\"type\":\"Scatter\"},{\"attributes\":{},\"id\":\"12002\",\"type\":\"Selection\"},{\"attributes\":{},\"id\":\"11954\",\"type\":\"AllLabels\"},{\"attributes\":{\"fill_color\":{\"value\":\"#e5ae38\"},\"line_color\":{\"value\":\"#e5ae38\"},\"size\":{\"value\":5.477225575051661},\"x\":{\"field\":\"PC2\"},\"y\":{\"field\":\"PCI\"}},\"id\":\"12250\",\"type\":\"Scatter\"},{\"attributes\":{},\"id\":\"12199\",\"type\":\"BasicTickFormatter\"},{\"attributes\":{\"children\":[{\"id\":\"11915\"},{\"id\":\"12404\"},{\"id\":\"12675\"}],\"margin\":[0,0,0,0],\"name\":\"Row22759\",\"tags\":[\"embedded\"]},\"id\":\"11914\",\"type\":\"Row\"},{\"attributes\":{\"fill_alpha\":{\"value\":0.2},\"fill_color\":{\"value\":\"#30a2da\"},\"line_alpha\":{\"value\":0.2},\"line_color\":{\"value\":\"#30a2da\"},\"size\":{\"value\":5.477225575051661},\"x\":{\"field\":\"PC2\"},\"y\":{\"field\":\"PCI\"}},\"id\":\"12209\",\"type\":\"Scatter\"}],\"root_ids\":[\"11914\"]},\"title\":\"Bokeh Application\",\"version\":\"2.3.2\"}};\n",
       "    var render_items = [{\"docid\":\"36fc7af7-0eb3-47d2-a8d5-73d34629305c\",\"root_ids\":[\"11914\"],\"roots\":{\"11914\":\"7b8ad6de-7aa6-4aba-bf00-0d1d9df75074\"}}];\n",
       "    root.Bokeh.embed.embed_items_notebook(docs_json, render_items);\n",
       "  }\n",
       "  if (root.Bokeh !== undefined && root.Bokeh.Panel !== undefined) {\n",
       "    embed_document(root);\n",
       "  } else {\n",
       "    var attempts = 0;\n",
       "    var timer = setInterval(function(root) {\n",
       "      if (root.Bokeh !== undefined && root.Bokeh.Panel !== undefined) {\n",
       "        clearInterval(timer);\n",
       "        embed_document(root);\n",
       "      } else if (document.readyState == \"complete\") {\n",
       "        attempts++;\n",
       "        if (attempts > 200) {\n",
       "          clearInterval(timer);\n",
       "          console.log(\"Bokeh: ERROR: Unable to run BokehJS code because BokehJS library is missing\");\n",
       "        }\n",
       "      }\n",
       "    }, 25, root)\n",
       "  }\n",
       "})(window);</script>"
      ],
      "text/plain": [
       ":Layout\n",
       "   .NdOverlay.I  :NdOverlay   [cryptocurrencies clusters (k=4)]\n",
       "      :Scatter   [price_change_percentage_24h]   (price_change_percentage_7d)\n",
       "   .NdOverlay.II :NdOverlay   [cryptocurrencies clusters (k=3)]\n",
       "      :Scatter   [PC2]   (PCI)"
      ]
     },
     "execution_count": 125,
     "metadata": {
      "application/vnd.holoviews_exec.v0+json": {
       "id": "11914"
      }
     },
     "output_type": "execute_result"
    }
   ],
   "source": [
    "#Create a composite plot using hvPlot and the plus (+) operator to contrast the cryptocurrencies clusters using the original and the PCA data.\n",
    "plot_1 = df_market_data_scaled_predictions.hvplot.scatter(x=\"price_change_percentage_24h\", y=\"price_change_percentage_7d\", by=\"cryptocurrencies clusters (k=4)\")\n",
    "plot_2 = crypto_df.hvplot.scatter(x=\"PC2\", y=\"PCI\", by=\"cryptocurrencies clusters (k=3)\", s=30)\n",
    "plot_1 + plot_2"
   ]
  },
  {
   "cell_type": "markdown",
   "metadata": {},
   "source": [
    "#### Answer the following question: After visually analyzing the cluster analysis results, what is the impact of using fewer features to cluster the data using K-Means?\n",
    "\n",
    "  * **Question:** After visually analyzing the cluster analysis results, what is the impact of using fewer features to cluster the data using K-Means?\n",
    "\n",
    "  * **Answer:** Despite some accuracy loss because of dimensionality reduction, the plots are a little easier to visualize, as compared to the plot generated from the K-means algorithm in the first plot.Because we now have only two features. The first feature, or principal component, (PC1) runs along the y-axis, and the second feature (PC2) runs along the x-axis."
   ]
  },
  {
   "cell_type": "code",
   "execution_count": null,
   "metadata": {},
   "outputs": [],
   "source": []
  }
 ],
 "metadata": {
  "interpreter": {
   "hash": "80f9ebc1800c92535782c4c36bee69bdd3504f014f888b91cec8bbcf8ce6b835"
  },
  "kernelspec": {
   "display_name": "Python 3.7.10 64-bit ('pyviz': conda)",
   "name": "python3"
  },
  "language_info": {
   "codemirror_mode": {
    "name": "ipython",
    "version": 3
   },
   "file_extension": ".py",
   "mimetype": "text/x-python",
   "name": "python",
   "nbconvert_exporter": "python",
   "pygments_lexer": "ipython3",
   "version": "3.7.12"
  }
 },
 "nbformat": 4,
 "nbformat_minor": 4
}
